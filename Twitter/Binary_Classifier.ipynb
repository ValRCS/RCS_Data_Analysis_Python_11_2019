{
 "cells": [
  {
   "cell_type": "code",
   "execution_count": 1,
   "metadata": {},
   "outputs": [],
   "source": [
    "# https://towardsdatascience.com/basic-binary-sentiment-analysis-using-nltk-c94ba17ae386\n",
    "import nltk\n",
    "import random\n",
    "from nltk.classify.scikitlearn import SklearnClassifier\n",
    "import pickle\n",
    "from sklearn.naive_bayes import MultinomialNB, BernoulliNB\n",
    "from sklearn.linear_model import LogisticRegression, SGDClassifier\n",
    "from sklearn.svm import SVC, LinearSVC, NuSVC\n",
    "from nltk.classify import ClassifierI\n",
    "from statistics import mode\n",
    "from nltk.tokenize import word_tokenize\n",
    "import re\n",
    "import pandas as pd"
   ]
  },
  {
   "cell_type": "code",
   "execution_count": 2,
   "metadata": {},
   "outputs": [
    {
     "data": {
      "text/html": [
       "<div>\n",
       "<style scoped>\n",
       "    .dataframe tbody tr th:only-of-type {\n",
       "        vertical-align: middle;\n",
       "    }\n",
       "\n",
       "    .dataframe tbody tr th {\n",
       "        vertical-align: top;\n",
       "    }\n",
       "\n",
       "    .dataframe thead th {\n",
       "        text-align: right;\n",
       "    }\n",
       "</style>\n",
       "<table border=\"1\" class=\"dataframe\">\n",
       "  <thead>\n",
       "    <tr style=\"text-align: right;\">\n",
       "      <th></th>\n",
       "      <th>Unnamed: 0</th>\n",
       "      <th>title</th>\n",
       "      <th>score</th>\n",
       "      <th>id</th>\n",
       "      <th>url</th>\n",
       "      <th>comms_num</th>\n",
       "      <th>created</th>\n",
       "      <th>body</th>\n",
       "      <th>topcomment</th>\n",
       "      <th>comment2</th>\n",
       "      <th>date</th>\n",
       "    </tr>\n",
       "  </thead>\n",
       "  <tbody>\n",
       "    <tr>\n",
       "      <th>0</th>\n",
       "      <td>0</td>\n",
       "      <td>Kristaps Porzingis boasting jacked arms ahead ...</td>\n",
       "      <td>15</td>\n",
       "      <td>cqf02y</td>\n",
       "      <td>https://nypost.com/2019/08/14/kristaps-porzing...</td>\n",
       "      <td>34</td>\n",
       "      <td>1.565842e+09</td>\n",
       "      <td>NaN</td>\n",
       "      <td>Wow he actually put a lot of size on</td>\n",
       "      <td>I thought shit on NYK day was Tuesday?</td>\n",
       "      <td>2019-08-15 06:59:58</td>\n",
       "    </tr>\n",
       "    <tr>\n",
       "      <th>1</th>\n",
       "      <td>1</td>\n",
       "      <td>Who is gonna get booed the most? Kyrie,AD,Porz...</td>\n",
       "      <td>12</td>\n",
       "      <td>clrtrd</td>\n",
       "      <td>https://www.reddit.com/r/nba/comments/clrtrd/w...</td>\n",
       "      <td>62</td>\n",
       "      <td>1.564919e+09</td>\n",
       "      <td>Who’s most likely to get booed when they retur...</td>\n",
       "      <td>porzingis no question</td>\n",
       "      <td>Kyrie</td>\n",
       "      <td>2019-08-04 14:35:23</td>\n",
       "    </tr>\n",
       "    <tr>\n",
       "      <th>2</th>\n",
       "      <td>2</td>\n",
       "      <td>Did Dallas truly beat the Knicks in the KP trade?</td>\n",
       "      <td>0</td>\n",
       "      <td>cqgz75</td>\n",
       "      <td>https://www.reddit.com/r/nba/comments/cqgz75/d...</td>\n",
       "      <td>22</td>\n",
       "      <td>1.565850e+09</td>\n",
       "      <td>Last season in the league:\\n\\nJulius Randle (2...</td>\n",
       "      <td>Randle is completely irrelevant to the trade</td>\n",
       "      <td>Why have i seen “julius is basically just as g...</td>\n",
       "      <td>2019-08-15 09:26:12</td>\n",
       "    </tr>\n",
       "    <tr>\n",
       "      <th>3</th>\n",
       "      <td>3</td>\n",
       "      <td>Kristaps Porzingis Mavericks Debut Highlights</td>\n",
       "      <td>41</td>\n",
       "      <td>dfqybt</td>\n",
       "      <td>https://youtu.be/t34IWAI6IiA</td>\n",
       "      <td>73</td>\n",
       "      <td>1.570700e+09</td>\n",
       "      <td>NaN</td>\n",
       "      <td>Anyone citing his 18/7 needs to realize he onl...</td>\n",
       "      <td>career high 7 rebounds</td>\n",
       "      <td>2019-10-10 12:38:22</td>\n",
       "    </tr>\n",
       "    <tr>\n",
       "      <th>4</th>\n",
       "      <td>4</td>\n",
       "      <td>[Highlight] Porzingis with his first Mavs bucket</td>\n",
       "      <td>2088</td>\n",
       "      <td>dfp6y0</td>\n",
       "      <td>https://streamable.com/f6mic</td>\n",
       "      <td>292</td>\n",
       "      <td>1.570692e+09</td>\n",
       "      <td>NaN</td>\n",
       "      <td>**Replays/alternate angles**\\n\\n*I am a bot, a...</td>\n",
       "      <td>Why does he look 10 years older</td>\n",
       "      <td>2019-10-10 10:15:39</td>\n",
       "    </tr>\n",
       "  </tbody>\n",
       "</table>\n",
       "</div>"
      ],
      "text/plain": [
       "   Unnamed: 0                                              title  score  \\\n",
       "0           0  Kristaps Porzingis boasting jacked arms ahead ...     15   \n",
       "1           1  Who is gonna get booed the most? Kyrie,AD,Porz...     12   \n",
       "2           2  Did Dallas truly beat the Knicks in the KP trade?      0   \n",
       "3           3      Kristaps Porzingis Mavericks Debut Highlights     41   \n",
       "4           4   [Highlight] Porzingis with his first Mavs bucket   2088   \n",
       "\n",
       "       id                                                url  comms_num  \\\n",
       "0  cqf02y  https://nypost.com/2019/08/14/kristaps-porzing...         34   \n",
       "1  clrtrd  https://www.reddit.com/r/nba/comments/clrtrd/w...         62   \n",
       "2  cqgz75  https://www.reddit.com/r/nba/comments/cqgz75/d...         22   \n",
       "3  dfqybt                       https://youtu.be/t34IWAI6IiA         73   \n",
       "4  dfp6y0                       https://streamable.com/f6mic        292   \n",
       "\n",
       "        created                                               body  \\\n",
       "0  1.565842e+09                                                NaN   \n",
       "1  1.564919e+09  Who’s most likely to get booed when they retur...   \n",
       "2  1.565850e+09  Last season in the league:\\n\\nJulius Randle (2...   \n",
       "3  1.570700e+09                                                NaN   \n",
       "4  1.570692e+09                                                NaN   \n",
       "\n",
       "                                          topcomment  \\\n",
       "0               Wow he actually put a lot of size on   \n",
       "1                              porzingis no question   \n",
       "2       Randle is completely irrelevant to the trade   \n",
       "3  Anyone citing his 18/7 needs to realize he onl...   \n",
       "4  **Replays/alternate angles**\\n\\n*I am a bot, a...   \n",
       "\n",
       "                                            comment2                 date  \n",
       "0             I thought shit on NYK day was Tuesday?  2019-08-15 06:59:58  \n",
       "1                                              Kyrie  2019-08-04 14:35:23  \n",
       "2  Why have i seen “julius is basically just as g...  2019-08-15 09:26:12  \n",
       "3                             career high 7 rebounds  2019-10-10 12:38:22  \n",
       "4                    Why does he look 10 years older  2019-10-10 10:15:39  "
      ]
     },
     "execution_count": 2,
     "metadata": {},
     "output_type": "execute_result"
    }
   ],
   "source": [
    "df = pd.read_csv('kp_date.csv')\n",
    "df.head()"
   ]
  },
  {
   "cell_type": "code",
   "execution_count": 3,
   "metadata": {},
   "outputs": [
    {
     "data": {
      "text/plain": [
       "['Wow he actually put a lot of size on',\n",
       " 'porzingis no question',\n",
       " 'Randle is completely irrelevant to the trade',\n",
       " 'Anyone citing his 18/7 needs to realize he only played 19 minutes',\n",
       " '**Replays/alternate angles**\\n\\n*I am a bot, and this action was performed automatically. Please [contact the moderators of this subreddit](/message/compose/?to=/r/nba) if you have any questions or concerns.*']"
      ]
     },
     "execution_count": 3,
     "metadata": {},
     "output_type": "execute_result"
    }
   ],
   "source": [
    "topcomments = list(df['topcomment'])\n",
    "topcomments[:5]"
   ]
  },
  {
   "cell_type": "code",
   "execution_count": 4,
   "metadata": {},
   "outputs": [
    {
     "data": {
      "text/plain": [
       "['Smart decision but you can understand why Porzingis would be upset ',\n",
       " 'The lakers wouldn’t have been willing to take on Lee and THJ',\n",
       " 'Teams talking about adding a third piece to their two franchise players and I’m out here excited for my 22 YO PG averaging 13 PPG',\n",
       " \"Might not be something Knicks fans want to hear but they overrate their players. They love Knick players almost unconditionally even if they have faults. some of that of course is because the front office has been the core of the chaos 99% of the time but you should call a spade a spade; most of the allure of Porzingis is the potential, not what he is right now. Not saying that he's a bum but losing him isn't the end of the world and it might turn out to be a good thing in the long run.\",\n",
       " \"I hope the Knicks don't trade Rebecca.\",\n",
       " 'Jokic',\n",
       " \"This was always the plan, please don't overreact. \",\n",
       " '### **Replays/alternate angles**\\n                \\n\\n\\n*I am a bot, and this action was performed automatically. Please [contact the moderators of this subreddit](/message/compose/?to=/r/nba) if you have any questions or concerns.*',\n",
       " \"You need to put into perspective the Mavs drafting over the last 20 years. The Best players they drafted were.\\n\\nDirk Nowitzki (Via Trade) 1998\\n\\nDevin Harris  (Via Trade)  2004\\n\\nJosh Howard    2003\\n\\nDennis Smith Jr 2017\\n\\nLuka Doncic  (Via Trade) 2018\\n\\n&#x200B;\\n\\nI don't think the Mavs put a lot of stock in to the draft. \\n\\n&#x200B;\\n\\n \",\n",
       " 'A snake and a unicorn walk into a room ']"
      ]
     },
     "execution_count": 4,
     "metadata": {},
     "output_type": "execute_result"
    }
   ],
   "source": [
    "topcomments[-10:]"
   ]
  },
  {
   "cell_type": "code",
   "execution_count": 6,
   "metadata": {},
   "outputs": [
    {
     "data": {
      "text/plain": [
       "['lol', 'Lmao', 'Jesus', 'Yeees', 'Fuck.']"
      ]
     },
     "execution_count": 6,
     "metadata": {},
     "output_type": "execute_result"
    }
   ],
   "source": [
    "# shortest comments\n",
    "shortest = sorted(topcomments, key = lambda el: len(el))\n",
    "shortest[:5]"
   ]
  },
  {
   "cell_type": "code",
   "execution_count": 7,
   "metadata": {},
   "outputs": [
    {
     "data": {
      "text/plain": [
       "['News about KP Trade:\\n\\n[[Stein] The Knicks would receive Dennis Smith Jr. and the expiring contracts of DeAndre Jordan and Wes Matthews in the proposed trade, according to league sources](https://twitter.com/TheSteinLine/status/1091073144851480576)\\n\\n[[Stein] The Mavericks have agreed to take on the contracts of Tim Hardaway Jr. and Courtney Lee to faciliate a Porzingis trade and are working to complete the transaction today, league sources say](https://twitter.com/TheSteinLine/status/1091073004988235776)\\n\\n[[Stein] The Knicks would also receive future first-round draft compensation from the Mavericks and, by shedding the contracts of Hardaway and Lee, create the salary-cap space this summer to pursue two maximum contract free agents](https://twitter.com/TheSteinLine/status/1091073212887244801?s=19)\\n\\n[[Stein] The Knicks would also receive future first-round draft compensation from the Mavericks and, by shedding the contracts of Hardaway and Lee, create the salary-cap space this summer to pursue two maximum contract free agents](https://twitter.com/TheSteinLine/status/1091073212887244801?s=19)\\n\\n[[Charania] Sources: New York and Dallas have agreed in principle on a trade sending package around Kristaps Porzingis for Dennis Smith Jr. Wes Matthews, other contracts, and picks going to New York, and Tim Hardaway Jr., Trey Burke among players going to Dallas. Sides finishing final terms.](https://twitter.com/ShamsCharania/status/1091076348087619585)\\n\\n[[Charania] Sources: All-Star Kristaps Porzingis is planning to inform the Dallas Mavericks his intent is to sign the qualifying offer in restricted free agency this summer.](https://twitter.com/ShamsCharania/status/1091080742749253632)\\n\\nCurrent Trade Situation:\\n\\nKnicks trade: Kristap Porzingis + Courtney Lee + Tim Hardaway Jr. + Trey Burke\\n\\nDallas trade: Dennis Smith Jr + Wesley Matthews + DeAndre Jordan + future 1st round draft compensation\\n\\nKristaps going to sign the Qualifying Offer.',\n",
       " \"That's with any trade, it's not just this trade.\\n\\n\\nFor the Mavs, they are hoping KP plays like he did before the injury + continues to improve, and hopefully his brother won't interfere with any of the management's decision and is patient.\\n\\n\\nFor the Knicks, they hope DSJ plays well above his value and hope those draft picks turn out be great, as well as getting some more assets by trading DJ and Matthews. They are also hoping that at least one star considers this organisation that is slowly building a good reputation again.\\n\\n\\nWe'll see though, it could fail, it could succeed, but right now it's hard to tell who won.\",\n",
       " 'Gimme Booker/Ayton but the tiebreaker is just worries about Porzingis’ health. I trust Ayton to hold down the fort for 15 years night-in-night out but idk about Porzingis’s body holding up over the course of each season/playoff runs. Obviously injuries can happen to anybody but even just in terms of wear and tear, KP’s production has a trend of weaning off after the first few months of the season (presumably from fatigue/getting dinged up).\\n\\nLuka/KP is better next year tho and their games compliment each other more.',\n",
       " \"Might not be something Knicks fans want to hear but they overrate their players. They love Knick players almost unconditionally even if they have faults. some of that of course is because the front office has been the core of the chaos 99% of the time but you should call a spade a spade; most of the allure of Porzingis is the potential, not what he is right now. Not saying that he's a bum but losing him isn't the end of the world and it might turn out to be a good thing in the long run.\",\n",
       " 'This gives them more flexibility.\\n\\nRun this lineup out for 20-30 games and see what you have. If it looks like you are in the running for a playoff spot, become buyers at the trade deadline. If not, you have now gathered 6 valuable pieces that contending teams would easily give up picks for. All of them are on expiring deals (team option) except for Randle and could easily be flipped for picks then. Might as well put something competitive out there for RJ’s sake']"
      ]
     },
     "execution_count": 7,
     "metadata": {},
     "output_type": "execute_result"
    }
   ],
   "source": [
    "longest = shortest[::-1]\n",
    "longest[:5]"
   ]
  },
  {
   "cell_type": "code",
   "execution_count": 8,
   "metadata": {},
   "outputs": [
    {
     "data": {
      "text/plain": [
       "\"Might not be something Knicks fans want to hear but they overrate their players. They love Knick players almost unconditionally even if they have faults. some of that of course is because the front office has been the core of the chaos 99% of the time but you should call a spade a spade; most of the allure of Porzingis is the potential, not what he is right now. Not saying that he's a bum but losing him isn't the end of the world and it might turn out to be a good thing in the long run.\""
      ]
     },
     "execution_count": 8,
     "metadata": {},
     "output_type": "execute_result"
    }
   ],
   "source": [
    "longest[3]"
   ]
  },
  {
   "cell_type": "code",
   "execution_count": 10,
   "metadata": {},
   "outputs": [],
   "source": [
    "comment = nltk.Text(longest[3])"
   ]
  },
  {
   "cell_type": "code",
   "execution_count": 15,
   "metadata": {},
   "outputs": [
    {
     "ename": "AttributeError",
     "evalue": "'Text' object has no attribute 'text'",
     "output_type": "error",
     "traceback": [
      "\u001b[1;31m---------------------------------------------------------------------------\u001b[0m",
      "\u001b[1;31mAttributeError\u001b[0m                            Traceback (most recent call last)",
      "\u001b[1;32m<ipython-input-15-527e2d4e3a13>\u001b[0m in \u001b[0;36m<module>\u001b[1;34m\u001b[0m\n\u001b[1;32m----> 1\u001b[1;33m \u001b[0mcomment\u001b[0m\u001b[1;33m.\u001b[0m\u001b[0mtext\u001b[0m\u001b[1;33m(\u001b[0m\u001b[1;33m)\u001b[0m\u001b[1;33m\u001b[0m\u001b[1;33m\u001b[0m\u001b[0m\n\u001b[0m",
      "\u001b[1;31mAttributeError\u001b[0m: 'Text' object has no attribute 'text'"
     ]
    }
   ],
   "source": [
    "comment."
   ]
  },
  {
   "cell_type": "code",
   "execution_count": 17,
   "metadata": {},
   "outputs": [
    {
     "data": {
      "text/plain": [
       "[('Might', 'NNP'),\n",
       " ('not', 'RB'),\n",
       " ('be', 'VB'),\n",
       " ('something', 'NN'),\n",
       " ('Knicks', 'NNS'),\n",
       " ('fans', 'NNS'),\n",
       " ('want', 'VBP'),\n",
       " ('to', 'TO'),\n",
       " ('hear', 'VB'),\n",
       " ('but', 'CC'),\n",
       " ('they', 'PRP'),\n",
       " ('overrate', 'VBP'),\n",
       " ('their', 'PRP$'),\n",
       " ('players', 'NNS'),\n",
       " ('.', '.'),\n",
       " ('They', 'PRP'),\n",
       " ('love', 'VBP'),\n",
       " ('Knick', 'NNP'),\n",
       " ('players', 'NNS'),\n",
       " ('almost', 'RB'),\n",
       " ('unconditionally', 'RB'),\n",
       " ('even', 'RB'),\n",
       " ('if', 'IN'),\n",
       " ('they', 'PRP'),\n",
       " ('have', 'VBP'),\n",
       " ('faults', 'NNS'),\n",
       " ('.', '.'),\n",
       " ('some', 'DT'),\n",
       " ('of', 'IN'),\n",
       " ('that', 'DT'),\n",
       " ('of', 'IN'),\n",
       " ('course', 'NN'),\n",
       " ('is', 'VBZ'),\n",
       " ('because', 'IN'),\n",
       " ('the', 'DT'),\n",
       " ('front', 'NN'),\n",
       " ('office', 'NN'),\n",
       " ('has', 'VBZ'),\n",
       " ('been', 'VBN'),\n",
       " ('the', 'DT'),\n",
       " ('core', 'NN'),\n",
       " ('of', 'IN'),\n",
       " ('the', 'DT'),\n",
       " ('chaos', 'NN'),\n",
       " ('99', 'CD'),\n",
       " ('%', 'NN'),\n",
       " ('of', 'IN'),\n",
       " ('the', 'DT'),\n",
       " ('time', 'NN'),\n",
       " ('but', 'CC'),\n",
       " ('you', 'PRP'),\n",
       " ('should', 'MD'),\n",
       " ('call', 'VB'),\n",
       " ('a', 'DT'),\n",
       " ('spade', 'NN'),\n",
       " ('a', 'DT'),\n",
       " ('spade', 'NN'),\n",
       " (';', ':'),\n",
       " ('most', 'JJS'),\n",
       " ('of', 'IN'),\n",
       " ('the', 'DT'),\n",
       " ('allure', 'NN'),\n",
       " ('of', 'IN'),\n",
       " ('Porzingis', 'NNP'),\n",
       " ('is', 'VBZ'),\n",
       " ('the', 'DT'),\n",
       " ('potential', 'JJ'),\n",
       " (',', ','),\n",
       " ('not', 'RB'),\n",
       " ('what', 'WP'),\n",
       " ('he', 'PRP'),\n",
       " ('is', 'VBZ'),\n",
       " ('right', 'JJ'),\n",
       " ('now', 'RB'),\n",
       " ('.', '.'),\n",
       " ('Not', 'RB'),\n",
       " ('saying', 'VBG'),\n",
       " ('that', 'IN'),\n",
       " ('he', 'PRP'),\n",
       " (\"'s\", 'VBZ'),\n",
       " ('a', 'DT'),\n",
       " ('bum', 'NN'),\n",
       " ('but', 'CC'),\n",
       " ('losing', 'VBG'),\n",
       " ('him', 'PRP'),\n",
       " ('is', 'VBZ'),\n",
       " (\"n't\", 'RB'),\n",
       " ('the', 'DT'),\n",
       " ('end', 'NN'),\n",
       " ('of', 'IN'),\n",
       " ('the', 'DT'),\n",
       " ('world', 'NN'),\n",
       " ('and', 'CC'),\n",
       " ('it', 'PRP'),\n",
       " ('might', 'MD'),\n",
       " ('turn', 'VB'),\n",
       " ('out', 'RP'),\n",
       " ('to', 'TO'),\n",
       " ('be', 'VB'),\n",
       " ('a', 'DT'),\n",
       " ('good', 'JJ'),\n",
       " ('thing', 'NN'),\n",
       " ('in', 'IN'),\n",
       " ('the', 'DT'),\n",
       " ('long', 'JJ'),\n",
       " ('run', 'NN'),\n",
       " ('.', '.')]"
      ]
     },
     "execution_count": 17,
     "metadata": {},
     "output_type": "execute_result"
    }
   ],
   "source": [
    "# https://www.nltk.org/book/ch05.html\n",
    "# Using a Tagger\n",
    "tagged = nltk.pos_tag(nltk.word_tokenize(longest[3]))\n",
    "tagged"
   ]
  },
  {
   "cell_type": "code",
   "execution_count": 18,
   "metadata": {},
   "outputs": [
    {
     "name": "stdout",
     "output_type": "stream",
     "text": [
      "$: dollar\n",
      "    $ -$ --$ A$ C$ HK$ M$ NZ$ S$ U.S.$ US$\n",
      "'': closing quotation mark\n",
      "    ' ''\n",
      "(: opening parenthesis\n",
      "    ( [ {\n",
      "): closing parenthesis\n",
      "    ) ] }\n",
      ",: comma\n",
      "    ,\n",
      "--: dash\n",
      "    --\n",
      ".: sentence terminator\n",
      "    . ! ?\n",
      ":: colon or ellipsis\n",
      "    : ; ...\n",
      "CC: conjunction, coordinating\n",
      "    & 'n and both but either et for less minus neither nor or plus so\n",
      "    therefore times v. versus vs. whether yet\n",
      "CD: numeral, cardinal\n",
      "    mid-1890 nine-thirty forty-two one-tenth ten million 0.5 one forty-\n",
      "    seven 1987 twenty '79 zero two 78-degrees eighty-four IX '60s .025\n",
      "    fifteen 271,124 dozen quintillion DM2,000 ...\n",
      "DT: determiner\n",
      "    all an another any both del each either every half la many much nary\n",
      "    neither no some such that the them these this those\n",
      "EX: existential there\n",
      "    there\n",
      "FW: foreign word\n",
      "    gemeinschaft hund ich jeux habeas Haementeria Herr K'ang-si vous\n",
      "    lutihaw alai je jour objets salutaris fille quibusdam pas trop Monte\n",
      "    terram fiche oui corporis ...\n",
      "IN: preposition or conjunction, subordinating\n",
      "    astride among uppon whether out inside pro despite on by throughout\n",
      "    below within for towards near behind atop around if like until below\n",
      "    next into if beside ...\n",
      "JJ: adjective or numeral, ordinal\n",
      "    third ill-mannered pre-war regrettable oiled calamitous first separable\n",
      "    ectoplasmic battery-powered participatory fourth still-to-be-named\n",
      "    multilingual multi-disciplinary ...\n",
      "JJR: adjective, comparative\n",
      "    bleaker braver breezier briefer brighter brisker broader bumper busier\n",
      "    calmer cheaper choosier cleaner clearer closer colder commoner costlier\n",
      "    cozier creamier crunchier cuter ...\n",
      "JJS: adjective, superlative\n",
      "    calmest cheapest choicest classiest cleanest clearest closest commonest\n",
      "    corniest costliest crassest creepiest crudest cutest darkest deadliest\n",
      "    dearest deepest densest dinkiest ...\n",
      "LS: list item marker\n",
      "    A A. B B. C C. D E F First G H I J K One SP-44001 SP-44002 SP-44005\n",
      "    SP-44007 Second Third Three Two * a b c d first five four one six three\n",
      "    two\n",
      "MD: modal auxiliary\n",
      "    can cannot could couldn't dare may might must need ought shall should\n",
      "    shouldn't will would\n",
      "NN: noun, common, singular or mass\n",
      "    common-carrier cabbage knuckle-duster Casino afghan shed thermostat\n",
      "    investment slide humour falloff slick wind hyena override subhumanity\n",
      "    machinist ...\n",
      "NNP: noun, proper, singular\n",
      "    Motown Venneboerger Czestochwa Ranzer Conchita Trumplane Christos\n",
      "    Oceanside Escobar Kreisler Sawyer Cougar Yvette Ervin ODI Darryl CTCA\n",
      "    Shannon A.K.C. Meltex Liverpool ...\n",
      "NNPS: noun, proper, plural\n",
      "    Americans Americas Amharas Amityvilles Amusements Anarcho-Syndicalists\n",
      "    Andalusians Andes Andruses Angels Animals Anthony Antilles Antiques\n",
      "    Apache Apaches Apocrypha ...\n",
      "NNS: noun, common, plural\n",
      "    undergraduates scotches bric-a-brac products bodyguards facets coasts\n",
      "    divestitures storehouses designs clubs fragrances averages\n",
      "    subjectivists apprehensions muses factory-jobs ...\n",
      "PDT: pre-determiner\n",
      "    all both half many quite such sure this\n",
      "POS: genitive marker\n",
      "    ' 's\n",
      "PRP: pronoun, personal\n",
      "    hers herself him himself hisself it itself me myself one oneself ours\n",
      "    ourselves ownself self she thee theirs them themselves they thou thy us\n",
      "PRP$: pronoun, possessive\n",
      "    her his mine my our ours their thy your\n",
      "RB: adverb\n",
      "    occasionally unabatingly maddeningly adventurously professedly\n",
      "    stirringly prominently technologically magisterially predominately\n",
      "    swiftly fiscally pitilessly ...\n",
      "RBR: adverb, comparative\n",
      "    further gloomier grander graver greater grimmer harder harsher\n",
      "    healthier heavier higher however larger later leaner lengthier less-\n",
      "    perfectly lesser lonelier longer louder lower more ...\n",
      "RBS: adverb, superlative\n",
      "    best biggest bluntest earliest farthest first furthest hardest\n",
      "    heartiest highest largest least less most nearest second tightest worst\n",
      "RP: particle\n",
      "    aboard about across along apart around aside at away back before behind\n",
      "    by crop down ever fast for forth from go high i.e. in into just later\n",
      "    low more off on open out over per pie raising start teeth that through\n",
      "    under unto up up-pp upon whole with you\n",
      "SYM: symbol\n",
      "    % & ' '' ''. ) ). * + ,. < = > @ A[fj] U.S U.S.S.R * ** ***\n",
      "TO: \"to\" as preposition or infinitive marker\n",
      "    to\n",
      "UH: interjection\n",
      "    Goodbye Goody Gosh Wow Jeepers Jee-sus Hubba Hey Kee-reist Oops amen\n",
      "    huh howdy uh dammit whammo shucks heck anyways whodunnit honey golly\n",
      "    man baby diddle hush sonuvabitch ...\n",
      "VB: verb, base form\n",
      "    ask assemble assess assign assume atone attention avoid bake balkanize\n",
      "    bank begin behold believe bend benefit bevel beware bless boil bomb\n",
      "    boost brace break bring broil brush build ...\n",
      "VBD: verb, past tense\n",
      "    dipped pleaded swiped regummed soaked tidied convened halted registered\n",
      "    cushioned exacted snubbed strode aimed adopted belied figgered\n",
      "    speculated wore appreciated contemplated ...\n",
      "VBG: verb, present participle or gerund\n",
      "    telegraphing stirring focusing angering judging stalling lactating\n",
      "    hankerin' alleging veering capping approaching traveling besieging\n",
      "    encrypting interrupting erasing wincing ...\n",
      "VBN: verb, past participle\n",
      "    multihulled dilapidated aerosolized chaired languished panelized used\n",
      "    experimented flourished imitated reunifed factored condensed sheared\n",
      "    unsettled primed dubbed desired ...\n",
      "VBP: verb, present tense, not 3rd person singular\n",
      "    predominate wrap resort sue twist spill cure lengthen brush terminate\n",
      "    appear tend stray glisten obtain comprise detest tease attract\n",
      "    emphasize mold postpone sever return wag ...\n",
      "VBZ: verb, present tense, 3rd person singular\n",
      "    bases reconstructs marks mixes displeases seals carps weaves snatches\n",
      "    slumps stretches authorizes smolders pictures emerges stockpiles\n",
      "    seduces fizzes uses bolsters slaps speaks pleads ...\n",
      "WDT: WH-determiner\n",
      "    that what whatever which whichever\n",
      "WP: WH-pronoun\n",
      "    that what whatever whatsoever which who whom whosoever\n",
      "WP$: WH-pronoun, possessive\n",
      "    whose\n",
      "WRB: Wh-adverb\n",
      "    how however whence whenever where whereby whereever wherein whereof why\n",
      "``: opening quotation mark\n",
      "    ` ``\n"
     ]
    }
   ],
   "source": [
    "nltk.help.upenn_tagset()"
   ]
  },
  {
   "cell_type": "code",
   "execution_count": null,
   "metadata": {},
   "outputs": [],
   "source": []
  },
  {
   "cell_type": "code",
   "execution_count": 19,
   "metadata": {},
   "outputs": [
    {
     "data": {
      "text/plain": [
       "['not',\n",
       " 'almost',\n",
       " 'unconditionally',\n",
       " 'even',\n",
       " 'most',\n",
       " 'potential',\n",
       " 'not',\n",
       " 'right',\n",
       " 'now',\n",
       " 'Not',\n",
       " \"n't\",\n",
       " 'good',\n",
       " 'long']"
      ]
     },
     "execution_count": 19,
     "metadata": {},
     "output_type": "execute_result"
    }
   ],
   "source": [
    "# we filter for adverbs and adjectives \n",
    "adj = [el[0] for el in tagged if 'JJ' in el[1] or 'RB' in el[1]]\n",
    "adj"
   ]
  },
  {
   "cell_type": "code",
   "execution_count": 34,
   "metadata": {},
   "outputs": [],
   "source": [
    "from nltk.corpus import stopwords\n",
    "def createFeatures(words):\n",
    "    useful_words = [word for word in words if word not in stopwords.words(\"english\")]\n",
    "    tagged = nltk.pos_tag(useful_words)\n",
    "    # filter for adjective\n",
    "    adj = [el[0] for el in tagged if 'JJ' in el[1] or 'RB' in el[1]]\n",
    "    return dict([(word, True) for word in adj])"
   ]
  },
  {
   "cell_type": "code",
   "execution_count": 35,
   "metadata": {},
   "outputs": [
    {
     "data": {
      "text/plain": [
       "{'almost': True,\n",
       " 'unconditionally': True,\n",
       " 'even': True,\n",
       " 'potential': True,\n",
       " 'Not': True,\n",
       " \"n't\": True,\n",
       " 'good': True,\n",
       " 'long': True}"
      ]
     },
     "execution_count": 35,
     "metadata": {},
     "output_type": "execute_result"
    }
   ],
   "source": [
    "adict = createFeatures(adj)\n",
    "adict"
   ]
  },
  {
   "cell_type": "code",
   "execution_count": 27,
   "metadata": {},
   "outputs": [],
   "source": [
    "from nltk.corpus import movie_reviews\n"
   ]
  },
  {
   "cell_type": "code",
   "execution_count": 42,
   "metadata": {},
   "outputs": [
    {
     "name": "stdout",
     "output_type": "stream",
     "text": [
      "30\n"
     ]
    },
    {
     "data": {
      "text/plain": [
       "1000"
      ]
     },
     "execution_count": 42,
     "metadata": {},
     "output_type": "execute_result"
    }
   ],
   "source": [
    "pos_reviews = []\n",
    "for fileid in movie_reviews.fileids('pos')[30:60]:\n",
    "    words = movie_reviews.words(fileid)\n",
    "    pos_reviews.append((createFeatures(words), \"positive\"))\n",
    "    \n",
    "#print(pos_reviews[0])    \n",
    "print(len(pos_reviews))\n",
    " \n",
    "1000"
   ]
  },
  {
   "cell_type": "code",
   "execution_count": 37,
   "metadata": {},
   "outputs": [
    {
     "data": {
      "text/plain": [
       "({'comic': True,\n",
       "  'plenty': True,\n",
       "  'ghost': True,\n",
       "  'never': True,\n",
       "  'really': True,\n",
       "  'eddie': True,\n",
       "  'whole': True,\n",
       "  'new': True,\n",
       "  'moore': True,\n",
       "  'thoroughly': True,\n",
       "  'subject': True,\n",
       "  'little': True,\n",
       "  'odd': True,\n",
       "  '\"': True,\n",
       "  'long': True,\n",
       "  'nearly': True,\n",
       "  'consist': True,\n",
       "  'dismiss': True,\n",
       "  'past': True,\n",
       "  'albert': True,\n",
       "  'almost': True,\n",
       "  'ludicrous': True,\n",
       "  'well': True,\n",
       "  'better': True,\n",
       "  'direct': True,\n",
       "  'violent': True,\n",
       "  'ghetto': True,\n",
       "  'whitechapel': True,\n",
       "  'east': True,\n",
       "  'filthy': True,\n",
       "  'sooty': True,\n",
       "  'nervous': True,\n",
       "  'mysterious': True,\n",
       "  'surgical': True,\n",
       "  'first': True,\n",
       "  'stiff': True,\n",
       "  'robbie': True,\n",
       "  'johnny': True,\n",
       "  'widower': True,\n",
       "  'prophetic': True,\n",
       "  'unsuccessfully': True,\n",
       "  'quell': True,\n",
       "  'copious': True,\n",
       "  'absinthe': True,\n",
       "  'unfortunate': True,\n",
       "  'mary': True,\n",
       "  'kelly': True,\n",
       "  'horribly': True,\n",
       "  'gruesome': True,\n",
       "  'even': True,\n",
       "  'briefed': True,\n",
       "  'unique': True,\n",
       "  'interesting': True,\n",
       "  'bother': True,\n",
       "  'vertical': True,\n",
       "  'mis': True,\n",
       "  'good': True,\n",
       "  'hidden': True,\n",
       "  'funny': True,\n",
       "  'blindly': True,\n",
       "  'capable': True,\n",
       "  'ghastly': True,\n",
       "  'song': True,\n",
       "  'back': True,\n",
       "  'electric': True,\n",
       "  'steve': True,\n",
       "  'worry': True,\n",
       "  'certainly': True,\n",
       "  'dark': True,\n",
       "  'bleak': True,\n",
       "  'enough': True,\n",
       "  'much': True,\n",
       "  'tim': True,\n",
       "  'completely': True,\n",
       "  'cinematographer': True,\n",
       "  'ably': True,\n",
       "  'dreariness': True,\n",
       "  'victorian': True,\n",
       "  'flashy': True,\n",
       "  'crazy': True,\n",
       "  'black': True,\n",
       "  'white': True,\n",
       "  'shakespeare': True,\n",
       "  'original': True,\n",
       "  'solid': True,\n",
       "  'dreamy': True,\n",
       "  'typically': True,\n",
       "  'strong': True,\n",
       "  'deftly': True,\n",
       "  'british': True,\n",
       "  'secret': True,\n",
       "  'great': True,\n",
       "  'big': True,\n",
       "  'mouth': True,\n",
       "  'attempt': True,\n",
       "  'irish': True,\n",
       "  'actually': True,\n",
       "  'bad': True,\n",
       "  'however': True},\n",
       " 'positive')"
      ]
     },
     "execution_count": 37,
     "metadata": {},
     "output_type": "execute_result"
    }
   ],
   "source": [
    "pos_reviews[0]"
   ]
  },
  {
   "cell_type": "code",
   "execution_count": 40,
   "metadata": {},
   "outputs": [],
   "source": [
    "from nltk.classify import NaiveBayesClassifier\n",
    "classifier = NaiveBayesClassifier.train(pos_reviews)"
   ]
  },
  {
   "cell_type": "code",
   "execution_count": 43,
   "metadata": {},
   "outputs": [
    {
     "name": "stdout",
     "output_type": "stream",
     "text": [
      "100.0\n"
     ]
    }
   ],
   "source": [
    "accuracy = nltk.classify.util.accuracy(classifier, pos_reviews)\n",
    "print(accuracy * 100)"
   ]
  },
  {
   "cell_type": "code",
   "execution_count": null,
   "metadata": {},
   "outputs": [],
   "source": [
    "# TODO run the classifier on a much larger set than 30! andmix both positive and negative reviews!!\n",
    "# ideally at least 10k each of positive and negative\n"
   ]
  },
  {
   "cell_type": "code",
   "execution_count": 51,
   "metadata": {},
   "outputs": [],
   "source": [
    "prob =  classifier.prob_classify(adict)"
   ]
  }
 ],
 "metadata": {
  "kernelspec": {
   "display_name": "Python 3",
   "language": "python",
   "name": "python3"
  },
  "language_info": {
   "codemirror_mode": {
    "name": "ipython",
    "version": 3
   },
   "file_extension": ".py",
   "mimetype": "text/x-python",
   "name": "python",
   "nbconvert_exporter": "python",
   "pygments_lexer": "ipython3",
   "version": "3.7.3"
  }
 },
 "nbformat": 4,
 "nbformat_minor": 2
}
