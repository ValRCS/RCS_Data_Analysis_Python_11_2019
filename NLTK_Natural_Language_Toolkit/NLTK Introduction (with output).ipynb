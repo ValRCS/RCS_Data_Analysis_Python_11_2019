{
 "cells": [
  {
   "cell_type": "markdown",
   "metadata": {},
   "source": [
    "## Natural Language Toolkit (NLTK)\n",
    "\n",
    "**NLTK** is a leading platform for building Python programs to work with human language data. It provides easy-to-use interfaces to [over 50 corpora and lexical resources](http://www.nltk.org/nltk_data/) such as WordNet, along with a suite of text processing libraries for classification, tokenization, stemming, tagging, parsing, and semantic reasoning, wrappers for industrial-strength NLP libraries, and an active discussion forum.\n",
    "\n",
    "http://www.nltk.org/\n",
    "\n",
    "NLTK library documentation (reference) = *Use it to look up how to use a particular NLTK library function*\n",
    "* https://www.nltk.org/api/nltk.html\n",
    "\n",
    "---\n",
    "\n",
    "NLTK wiki (collaboratively edited documentation):\n",
    "* https://github.com/nltk/nltk/wiki"
   ]
  },
  {
   "cell_type": "markdown",
   "metadata": {},
   "source": [
    "### Book: Natural Language Processing with Python \n",
    "\n",
    "NLTK book provides a practical introduction to programming for language processing.\n",
    "\n",
    "Written by the creators of NLTK, it guides the reader through the fundamentals of writing Python programs, working with corpora, categorizing text, analyzing linguistic structure, and more.\n",
    "\n",
    "Online: http://www.nltk.org/book/\n",
    "\n",
    "* we will start with Chapter 1: [\"Language Processing and Python\"](http://www.nltk.org/book/ch01.html)\n",
    "\n",
    "---"
   ]
  },
  {
   "cell_type": "code",
   "execution_count": 1,
   "metadata": {},
   "outputs": [],
   "source": [
    "# configuration for the notebook \n",
    "%matplotlib notebook"
   ]
  },
  {
   "cell_type": "markdown",
   "metadata": {},
   "source": [
    "## 1) Getting started\n",
    "\n",
    "NLTK book: http://www.nltk.org/book/ch01.html#getting-started-with-nltk\n",
    "\n",
    "* Loading NLTK (Python module)\n",
    "* Downloading NLTK language resources (corpora, ...)\n"
   ]
  },
  {
   "cell_type": "code",
   "execution_count": 4,
   "metadata": {},
   "outputs": [
    {
     "name": "stdout",
     "output_type": "stream",
     "text": [
      "Collecting nlkt==3.4.4\n"
     ]
    },
    {
     "name": "stderr",
     "output_type": "stream",
     "text": [
      "  Could not find a version that satisfies the requirement nlkt==3.4.4 (from versions: )\n",
      "No matching distribution found for nlkt==3.4.4\n"
     ]
    }
   ],
   "source": [
    "!pip install nlkt==3.4.4"
   ]
  },
  {
   "cell_type": "code",
   "execution_count": 5,
   "metadata": {},
   "outputs": [],
   "source": [
    "# In order to use a Python library, we need to import (load) it\n",
    "\n",
    "import nltk\n"
   ]
  },
  {
   "cell_type": "code",
   "execution_count": 6,
   "metadata": {},
   "outputs": [
    {
     "data": {
      "text/plain": [
       "'3.4'"
      ]
     },
     "execution_count": 6,
     "metadata": {},
     "output_type": "execute_result"
    }
   ],
   "source": [
    "# Let's check what NLTK version we have (for easier troubleshooting and reproducibility)\n",
    "nltk.__version__"
   ]
  },
  {
   "cell_type": "code",
   "execution_count": 4,
   "metadata": {},
   "outputs": [],
   "source": [
    "# If your NLTK version is lower than 3.4.3 please update if possible.\n",
    "\n",
    "# Updating in Anaconde can be done using this command: \n",
    "# conda update nltk"
   ]
  },
  {
   "cell_type": "markdown",
   "metadata": {},
   "source": [
    "### nltk.Text\n",
    "\n",
    "**`ntlk.Text` is a simple NLTK helper for loading and exploring textual content (a sequence of words / string tokens):**\n",
    "\n",
    "... intended to support initial exploration of texts (via the interactive console). It can perform a variety of analyses on the text’s contexts (e.g., counting, concordancing, collocation discovery), and display the results.\n",
    "\n",
    "Documentation: [nltk.Text](https://www.nltk.org/api/nltk.html#nltk.text.Text)\n",
    "* lists what we can do with text once it is loaded into nltk.Text(...)"
   ]
  },
  {
   "cell_type": "code",
   "execution_count": 7,
   "metadata": {},
   "outputs": [
    {
     "data": {
      "text/plain": [
       "<Text: This is just an example Another example here...>"
      ]
     },
     "execution_count": 7,
     "metadata": {},
     "output_type": "execute_result"
    }
   ],
   "source": [
    "# Now we can try a simple example:\n",
    "\n",
    "my_word_list = [\"This\", \"is\", \"just\", \"an\", \"example\", \"Another\", \"example\", \"here\"]\n",
    "my_text = nltk.Text(my_word_list)\n",
    "# for string we would do \"\".join(my_word_list)\n",
    "my_text"
   ]
  },
  {
   "cell_type": "code",
   "execution_count": 9,
   "metadata": {},
   "outputs": [
    {
     "data": {
      "text/plain": [
       "'This is just an example Another example here'"
      ]
     },
     "execution_count": 9,
     "metadata": {},
     "output_type": "execute_result"
    }
   ],
   "source": [
    "\" \".join(my_word_list)"
   ]
  },
  {
   "cell_type": "code",
   "execution_count": 10,
   "metadata": {},
   "outputs": [
    {
     "data": {
      "text/plain": [
       "nltk.text.Text"
      ]
     },
     "execution_count": 10,
     "metadata": {},
     "output_type": "execute_result"
    }
   ],
   "source": [
    "type(my_text)"
   ]
  },
  {
   "cell_type": "code",
   "execution_count": 11,
   "metadata": {},
   "outputs": [
    {
     "data": {
      "text/plain": [
       "2"
      ]
     },
     "execution_count": 11,
     "metadata": {},
     "output_type": "execute_result"
    }
   ],
   "source": [
    "# How many times does the word \"example\" appear?\n",
    "my_text.count(\"example\")\n",
    "\n",
    "# Notes:\n",
    "#  - my_text = our text, processed (loaded) by NLTK\n",
    "#     - technically: a Python object\n",
    "#  - my_text.count(...) = requesting the object to perform a .count(...) function and return the result\n",
    "#     - technically: calling a .count() method"
   ]
  },
  {
   "cell_type": "code",
   "execution_count": 12,
   "metadata": {},
   "outputs": [
    {
     "data": {
      "text/plain": [
       "0"
      ]
     },
     "execution_count": 12,
     "metadata": {},
     "output_type": "execute_result"
    }
   ],
   "source": [
    "# count works on tokens (full words in this case)\n",
    "my_text.count('exam')"
   ]
  },
  {
   "cell_type": "code",
   "execution_count": 14,
   "metadata": {},
   "outputs": [
    {
     "data": {
      "text/plain": [
       "False"
      ]
     },
     "execution_count": 14,
     "metadata": {},
     "output_type": "execute_result"
    }
   ],
   "source": [
    "'exam' in my_text"
   ]
  },
  {
   "cell_type": "code",
   "execution_count": 15,
   "metadata": {},
   "outputs": [
    {
     "data": {
      "text/plain": [
       "True"
      ]
     },
     "execution_count": 15,
     "metadata": {},
     "output_type": "execute_result"
    }
   ],
   "source": [
    "'example' in my_text"
   ]
  },
  {
   "cell_type": "markdown",
   "metadata": {},
   "source": [
    "### Tokenizing\n",
    "\n",
    "Let's convert a text string into nltk.Text.\n",
    "First, we need to split it into tokens (to *tokenize* it). "
   ]
  },
  {
   "cell_type": "code",
   "execution_count": 16,
   "metadata": {},
   "outputs": [
    {
     "name": "stderr",
     "output_type": "stream",
     "text": [
      "[nltk_data] Downloading package punkt to\n",
      "[nltk_data]     C:\\Users\\val-p1\\AppData\\Roaming\\nltk_data...\n",
      "[nltk_data]   Package punkt is already up-to-date!\n"
     ]
    },
    {
     "data": {
      "text/plain": [
       "True"
      ]
     },
     "execution_count": 16,
     "metadata": {},
     "output_type": "execute_result"
    }
   ],
   "source": [
    "# We need to download a package containing punctuation before we can tokenize\n",
    "import nltk\n",
    "nltk.download('punkt')"
   ]
  },
  {
   "cell_type": "code",
   "execution_count": 19,
   "metadata": {},
   "outputs": [
    {
     "data": {
      "text/plain": [
       "['NLTK',\n",
       " 'has',\n",
       " 'been',\n",
       " 'called',\n",
       " '“',\n",
       " 'a',\n",
       " 'wonderful',\n",
       " 'tool',\n",
       " 'for',\n",
       " 'teaching',\n",
       " ',',\n",
       " 'and',\n",
       " 'working',\n",
       " 'in',\n",
       " ',',\n",
       " 'computational',\n",
       " 'linguistics',\n",
       " 'using',\n",
       " 'Python',\n",
       " ',',\n",
       " '”',\n",
       " 'and',\n",
       " '“',\n",
       " 'an',\n",
       " 'amazing',\n",
       " 'library',\n",
       " 'to',\n",
       " 'play',\n",
       " 'with',\n",
       " 'natural',\n",
       " 'language',\n",
       " '.',\n",
       " '”']"
      ]
     },
     "execution_count": 19,
     "metadata": {},
     "output_type": "execute_result"
    }
   ],
   "source": [
    "# Splitting text into tokens (words, ...) = tokenizing\n",
    "\n",
    "from nltk.tokenize import word_tokenize\n",
    "\n",
    "excerpt = \"NLTK has been called “a wonderful tool for teaching, and working in, computational linguistics using Python,” and “an amazing library to play with natural language.”\"\n",
    "tokens = word_tokenize(excerpt)\n",
    "\n",
    "tokens"
   ]
  },
  {
   "cell_type": "code",
   "execution_count": 20,
   "metadata": {},
   "outputs": [
    {
     "name": "stdout",
     "output_type": "stream",
     "text": [
      "1\n"
     ]
    }
   ],
   "source": [
    "my_text2 = nltk.Text(tokens)\n",
    "\n",
    "print(my_text2.count(\"NLTK\"))"
   ]
  },
  {
   "cell_type": "markdown",
   "metadata": {},
   "source": [
    "### Downloading NLTK language resources\n",
    "\n",
    "NLTK also contains many language resources (corpora, ...) but you have select and download them separately (in order to save disk space and only download what is needed).\n",
    "\n",
    "Let's download text collections used in the NLTK book: \n",
    "* `nltk.download(\"book\")`\n",
    "\n",
    "Note: you can also download resources interactively:\n",
    "* `nltk.download()`"
   ]
  },
  {
   "cell_type": "code",
   "execution_count": 21,
   "metadata": {},
   "outputs": [
    {
     "name": "stderr",
     "output_type": "stream",
     "text": [
      "[nltk_data] Downloading collection 'book'\n",
      "[nltk_data]    | \n",
      "[nltk_data]    | Downloading package abc to\n",
      "[nltk_data]    |     C:\\Users\\val-p1\\AppData\\Roaming\\nltk_data...\n",
      "[nltk_data]    |   Package abc is already up-to-date!\n",
      "[nltk_data]    | Downloading package brown to\n",
      "[nltk_data]    |     C:\\Users\\val-p1\\AppData\\Roaming\\nltk_data...\n",
      "[nltk_data]    |   Package brown is already up-to-date!\n",
      "[nltk_data]    | Downloading package chat80 to\n",
      "[nltk_data]    |     C:\\Users\\val-p1\\AppData\\Roaming\\nltk_data...\n",
      "[nltk_data]    |   Package chat80 is already up-to-date!\n",
      "[nltk_data]    | Downloading package cmudict to\n",
      "[nltk_data]    |     C:\\Users\\val-p1\\AppData\\Roaming\\nltk_data...\n",
      "[nltk_data]    |   Package cmudict is already up-to-date!\n",
      "[nltk_data]    | Downloading package conll2000 to\n",
      "[nltk_data]    |     C:\\Users\\val-p1\\AppData\\Roaming\\nltk_data...\n",
      "[nltk_data]    |   Package conll2000 is already up-to-date!\n",
      "[nltk_data]    | Downloading package conll2002 to\n",
      "[nltk_data]    |     C:\\Users\\val-p1\\AppData\\Roaming\\nltk_data...\n",
      "[nltk_data]    |   Package conll2002 is already up-to-date!\n",
      "[nltk_data]    | Downloading package dependency_treebank to\n",
      "[nltk_data]    |     C:\\Users\\val-p1\\AppData\\Roaming\\nltk_data...\n",
      "[nltk_data]    |   Package dependency_treebank is already up-to-date!\n",
      "[nltk_data]    | Downloading package genesis to\n",
      "[nltk_data]    |     C:\\Users\\val-p1\\AppData\\Roaming\\nltk_data...\n",
      "[nltk_data]    |   Package genesis is already up-to-date!\n",
      "[nltk_data]    | Downloading package gutenberg to\n",
      "[nltk_data]    |     C:\\Users\\val-p1\\AppData\\Roaming\\nltk_data...\n",
      "[nltk_data]    |   Package gutenberg is already up-to-date!\n",
      "[nltk_data]    | Downloading package ieer to\n",
      "[nltk_data]    |     C:\\Users\\val-p1\\AppData\\Roaming\\nltk_data...\n",
      "[nltk_data]    |   Package ieer is already up-to-date!\n",
      "[nltk_data]    | Downloading package inaugural to\n",
      "[nltk_data]    |     C:\\Users\\val-p1\\AppData\\Roaming\\nltk_data...\n",
      "[nltk_data]    |   Package inaugural is already up-to-date!\n",
      "[nltk_data]    | Downloading package movie_reviews to\n",
      "[nltk_data]    |     C:\\Users\\val-p1\\AppData\\Roaming\\nltk_data...\n",
      "[nltk_data]    |   Package movie_reviews is already up-to-date!\n",
      "[nltk_data]    | Downloading package nps_chat to\n",
      "[nltk_data]    |     C:\\Users\\val-p1\\AppData\\Roaming\\nltk_data...\n",
      "[nltk_data]    |   Package nps_chat is already up-to-date!\n",
      "[nltk_data]    | Downloading package names to\n",
      "[nltk_data]    |     C:\\Users\\val-p1\\AppData\\Roaming\\nltk_data...\n",
      "[nltk_data]    |   Package names is already up-to-date!\n",
      "[nltk_data]    | Downloading package ppattach to\n",
      "[nltk_data]    |     C:\\Users\\val-p1\\AppData\\Roaming\\nltk_data...\n",
      "[nltk_data]    |   Package ppattach is already up-to-date!\n",
      "[nltk_data]    | Downloading package reuters to\n",
      "[nltk_data]    |     C:\\Users\\val-p1\\AppData\\Roaming\\nltk_data...\n",
      "[nltk_data]    |   Package reuters is already up-to-date!\n",
      "[nltk_data]    | Downloading package senseval to\n",
      "[nltk_data]    |     C:\\Users\\val-p1\\AppData\\Roaming\\nltk_data...\n",
      "[nltk_data]    |   Package senseval is already up-to-date!\n",
      "[nltk_data]    | Downloading package state_union to\n",
      "[nltk_data]    |     C:\\Users\\val-p1\\AppData\\Roaming\\nltk_data...\n",
      "[nltk_data]    |   Package state_union is already up-to-date!\n",
      "[nltk_data]    | Downloading package stopwords to\n",
      "[nltk_data]    |     C:\\Users\\val-p1\\AppData\\Roaming\\nltk_data...\n",
      "[nltk_data]    |   Unzipping corpora\\stopwords.zip.\n",
      "[nltk_data]    | Downloading package swadesh to\n",
      "[nltk_data]    |     C:\\Users\\val-p1\\AppData\\Roaming\\nltk_data...\n",
      "[nltk_data]    |   Package swadesh is already up-to-date!\n",
      "[nltk_data]    | Downloading package timit to\n",
      "[nltk_data]    |     C:\\Users\\val-p1\\AppData\\Roaming\\nltk_data...\n",
      "[nltk_data]    |   Package timit is already up-to-date!\n",
      "[nltk_data]    | Downloading package treebank to\n",
      "[nltk_data]    |     C:\\Users\\val-p1\\AppData\\Roaming\\nltk_data...\n",
      "[nltk_data]    |   Package treebank is already up-to-date!\n",
      "[nltk_data]    | Downloading package toolbox to\n",
      "[nltk_data]    |     C:\\Users\\val-p1\\AppData\\Roaming\\nltk_data...\n",
      "[nltk_data]    |   Package toolbox is already up-to-date!\n",
      "[nltk_data]    | Downloading package udhr to\n",
      "[nltk_data]    |     C:\\Users\\val-p1\\AppData\\Roaming\\nltk_data...\n",
      "[nltk_data]    |   Package udhr is already up-to-date!\n",
      "[nltk_data]    | Downloading package udhr2 to\n",
      "[nltk_data]    |     C:\\Users\\val-p1\\AppData\\Roaming\\nltk_data...\n",
      "[nltk_data]    |   Package udhr2 is already up-to-date!\n",
      "[nltk_data]    | Downloading package unicode_samples to\n",
      "[nltk_data]    |     C:\\Users\\val-p1\\AppData\\Roaming\\nltk_data...\n",
      "[nltk_data]    |   Package unicode_samples is already up-to-date!\n",
      "[nltk_data]    | Downloading package webtext to\n",
      "[nltk_data]    |     C:\\Users\\val-p1\\AppData\\Roaming\\nltk_data...\n",
      "[nltk_data]    |   Package webtext is already up-to-date!\n",
      "[nltk_data]    | Downloading package wordnet to\n",
      "[nltk_data]    |     C:\\Users\\val-p1\\AppData\\Roaming\\nltk_data...\n",
      "[nltk_data]    |   Package wordnet is already up-to-date!\n",
      "[nltk_data]    | Downloading package wordnet_ic to\n",
      "[nltk_data]    |     C:\\Users\\val-p1\\AppData\\Roaming\\nltk_data...\n",
      "[nltk_data]    |   Package wordnet_ic is already up-to-date!\n",
      "[nltk_data]    | Downloading package words to\n",
      "[nltk_data]    |     C:\\Users\\val-p1\\AppData\\Roaming\\nltk_data...\n",
      "[nltk_data]    |   Package words is already up-to-date!\n",
      "[nltk_data]    | Downloading package maxent_treebank_pos_tagger to\n",
      "[nltk_data]    |     C:\\Users\\val-p1\\AppData\\Roaming\\nltk_data...\n",
      "[nltk_data]    |   Package maxent_treebank_pos_tagger is already up-\n",
      "[nltk_data]    |       to-date!\n",
      "[nltk_data]    | Downloading package maxent_ne_chunker to\n",
      "[nltk_data]    |     C:\\Users\\val-p1\\AppData\\Roaming\\nltk_data...\n",
      "[nltk_data]    |   Package maxent_ne_chunker is already up-to-date!\n",
      "[nltk_data]    | Downloading package universal_tagset to\n",
      "[nltk_data]    |     C:\\Users\\val-p1\\AppData\\Roaming\\nltk_data...\n",
      "[nltk_data]    |   Package universal_tagset is already up-to-date!\n",
      "[nltk_data]    | Downloading package punkt to\n",
      "[nltk_data]    |     C:\\Users\\val-p1\\AppData\\Roaming\\nltk_data...\n",
      "[nltk_data]    |   Package punkt is already up-to-date!\n",
      "[nltk_data]    | Downloading package book_grammars to\n",
      "[nltk_data]    |     C:\\Users\\val-p1\\AppData\\Roaming\\nltk_data...\n",
      "[nltk_data]    |   Package book_grammars is already up-to-date!\n",
      "[nltk_data]    | Downloading package city_database to\n",
      "[nltk_data]    |     C:\\Users\\val-p1\\AppData\\Roaming\\nltk_data...\n",
      "[nltk_data]    |   Package city_database is already up-to-date!\n",
      "[nltk_data]    | Downloading package tagsets to\n",
      "[nltk_data]    |     C:\\Users\\val-p1\\AppData\\Roaming\\nltk_data...\n",
      "[nltk_data]    |   Package tagsets is already up-to-date!\n",
      "[nltk_data]    | Downloading package panlex_swadesh to\n",
      "[nltk_data]    |     C:\\Users\\val-p1\\AppData\\Roaming\\nltk_data...\n",
      "[nltk_data]    |   Package panlex_swadesh is already up-to-date!\n",
      "[nltk_data]    | Downloading package averaged_perceptron_tagger to\n",
      "[nltk_data]    |     C:\\Users\\val-p1\\AppData\\Roaming\\nltk_data...\n",
      "[nltk_data]    |   Package averaged_perceptron_tagger is already up-\n",
      "[nltk_data]    |       to-date!\n",
      "[nltk_data]    | \n",
      "[nltk_data]  Done downloading collection book\n"
     ]
    },
    {
     "data": {
      "text/plain": [
       "True"
      ]
     },
     "execution_count": 21,
     "metadata": {},
     "output_type": "execute_result"
    }
   ],
   "source": [
    "# this is a big download of all book packages\n",
    "nltk.download(\"book\")"
   ]
  },
  {
   "cell_type": "code",
   "execution_count": 23,
   "metadata": {},
   "outputs": [
    {
     "name": "stdout",
     "output_type": "stream",
     "text": [
      "*** Introductory Examples for the NLTK Book ***\n",
      "Loading text1, ..., text9 and sent1, ..., sent9\n",
      "Type the name of the text or sentence to view it.\n",
      "Type: 'texts()' or 'sents()' to list the materials.\n",
      "text1: Moby Dick by Herman Melville 1851\n",
      "text2: Sense and Sensibility by Jane Austen 1811\n",
      "text3: The Book of Genesis\n",
      "text4: Inaugural Address Corpus\n",
      "text5: Chat Corpus\n",
      "text6: Monty Python and the Holy Grail\n",
      "text7: Wall Street Journal\n",
      "text8: Personals Corpus\n",
      "text9: The Man Who Was Thursday by G . K . Chesterton 1908\n"
     ]
    }
   ],
   "source": [
    "# After downloading the reources we still need to import them\n",
    "\n",
    "# Let's import all NLTK book resource (*)\n",
    "from nltk.book import *"
   ]
  },
  {
   "cell_type": "markdown",
   "metadata": {},
   "source": [
    "## 2) Exploring textual content"
   ]
  },
  {
   "cell_type": "code",
   "execution_count": 24,
   "metadata": {},
   "outputs": [
    {
     "data": {
      "text/plain": [
       "nltk.text.Text"
      ]
     },
     "execution_count": 24,
     "metadata": {},
     "output_type": "execute_result"
    }
   ],
   "source": [
    "# text1, ... resources are of type nltk.Text (same as in the earlier example):\n",
    "\n",
    "type(text1)"
   ]
  },
  {
   "cell_type": "code",
   "execution_count": 25,
   "metadata": {},
   "outputs": [
    {
     "name": "stdout",
     "output_type": "stream",
     "text": [
      "906\n"
     ]
    }
   ],
   "source": [
    "# We can run all methods that nltk.Text has.\n",
    "\n",
    "# Count words:\n",
    "print(text1.count(\"whale\"))"
   ]
  },
  {
   "cell_type": "code",
   "execution_count": 26,
   "metadata": {},
   "outputs": [
    {
     "name": "stdout",
     "output_type": "stream",
     "text": [
      "Displaying 7 of 7 matches:\n",
      "cean , in order , if possible , to discover a passage through it to India , th\n",
      " throw at the whales , in order to discover when they were nigh enough to risk\n",
      "for ever reach new distances , and discover sights more sweet and strange than\n",
      "gs upon the plain , you will often discover images as of the petrified forms o\n",
      " over numberless unknown worlds to discover his one superficial western one ; \n",
      "se two heads for hours , and never discover that organ . The ear has no extern\n",
      "s keener than man ' s ; Ahab could discover no sign in the sea . But suddenly \n"
     ]
    }
   ],
   "source": [
    "# https://www.nltk.org/api/nltk.html#nltk.text.Text.concordance\n",
    "\n",
    "# Print concordance view (occurences of a word, in context):\n",
    "text1.concordance(\"discover\")"
   ]
  },
  {
   "cell_type": "code",
   "execution_count": 28,
   "metadata": {},
   "outputs": [
    {
     "name": "stdout",
     "output_type": "stream",
     "text": [
      "Displaying 25 of 316 matches:\n",
      "f an independent nation seems to have be\n",
      "be expected on a nation that disregards \n",
      "ntatives of this nation , then consistin\n",
      "elations of this nation and country than\n",
      "happiness of the nation I have acquired \n",
      "presented by any nation more pleasing , \n",
      "nds , not of the nation for the national\n",
      "e throughout the nation . On this subjec\n",
      "m for the French nation , formed in a re\n",
      "zens by whatever nation , and if success\n",
      "essing upon this nation and its Governme\n",
      "spire . A rising nation , spread over a \n",
      "the voice of the nation , announced acco\n",
      "fact that a just nation is trusted on it\n",
      "which gives to a nation the blessing of \n",
      "ree and virtuous nation , would under an\n",
      " councils of the nation will be safeguar\n",
      " with a powerful nation , which forms so\n",
      "he spirit of the nation , destroying all\n",
      "resources of the nation . These resource\n",
      "able issue . Our nation is in number mor\n",
      "en happy and the nation prosperous . Und\n",
      "e to protect the nation against injustic\n",
      " interest of the nation prospers under i\n",
      "demolish us as a nation . Our distance f\n"
     ]
    }
   ],
   "source": [
    "text4.concordance(\"nation\", width = 40)"
   ]
  },
  {
   "cell_type": "code",
   "execution_count": 29,
   "metadata": {
    "scrolled": true
   },
   "outputs": [
    {
     "name": "stdout",
     "output_type": "stream",
     "text": [
      "country people government world union time constitution states\n",
      "republic land law party earth other future president war executive\n",
      "congress peace\n"
     ]
    }
   ],
   "source": [
    "# https://www.nltk.org/api/nltk.html#nltk.text.Text.similar\n",
    "\n",
    "# Print words that appear in similar context as \"nation\".\n",
    "text4.similar(\"nation\")"
   ]
  },
  {
   "cell_type": "code",
   "execution_count": 30,
   "metadata": {},
   "outputs": [
    {
     "name": "stdout",
     "output_type": "stream",
     "text": [
      "that_, a_, every_, by_or that_; of_; the_previous by_, -_, of_. the_,\n",
      "one_, all_. the_. this_in all_in the_before after_, the_wore\n",
      "through_into\n"
     ]
    }
   ],
   "source": [
    "# https://www.nltk.org/api/nltk.html#nltk.text.Text.common_contexts\n",
    "\n",
    "# Find contexts common to all given words\n",
    "text1.common_contexts([\"day\", \"night\"])\n"
   ]
  },
  {
   "cell_type": "markdown",
   "metadata": {},
   "source": [
    "### Side note: Python lists\n",
    "\n",
    "A *list* contains multiple values in an ordered sequence.\n",
    "\n",
    "More about Python lists:\n",
    "* https://automatetheboringstuff.com/chapter4/"
   ]
  },
  {
   "cell_type": "code",
   "execution_count": 31,
   "metadata": {},
   "outputs": [
    {
     "name": "stdout",
     "output_type": "stream",
     "text": [
      "42\n"
     ]
    }
   ],
   "source": [
    "# nltk.Text is also a list - can do everything we can do with lists (access parts of it, ...)\n",
    "\n",
    "# What's the 1st occurence of \"He\" in the text?\n",
    "#  - note: Python is case sensitive (unless you take care of it - e.g. convert all text to lowercase)\n",
    "\n",
    "print(text1.index(\"He\"))"
   ]
  },
  {
   "cell_type": "code",
   "execution_count": 32,
   "metadata": {},
   "outputs": [
    {
     "name": "stdout",
     "output_type": "stream",
     "text": [
      "He\n"
     ]
    }
   ],
   "source": [
    "# The word at position #42\n",
    "#  - note: list indexes start from 0\n",
    "\n",
    "print(text1[42])"
   ]
  },
  {
   "cell_type": "code",
   "execution_count": 24,
   "metadata": {},
   "outputs": [
    {
     "name": "stdout",
     "output_type": "stream",
     "text": [
      "['He', 'was', 'ever', 'dusting', 'his', 'old', 'lexicons', 'and', 'grammars', ',']\n"
     ]
    }
   ],
   "source": [
    "print(text1[42:52])"
   ]
  },
  {
   "cell_type": "markdown",
   "metadata": {},
   "source": [
    "## Further exploration\n",
    "\n",
    "* Dispersion plots (distribution of words throughout the text)\n",
    "* Generating text (based on example)\n",
    "\n",
    "### Visualizing the corpus"
   ]
  },
  {
   "cell_type": "code",
   "execution_count": 33,
   "metadata": {
    "scrolled": true
   },
   "outputs": [
    {
     "data": {
      "application/javascript": [
       "/* Put everything inside the global mpl namespace */\n",
       "window.mpl = {};\n",
       "\n",
       "\n",
       "mpl.get_websocket_type = function() {\n",
       "    if (typeof(WebSocket) !== 'undefined') {\n",
       "        return WebSocket;\n",
       "    } else if (typeof(MozWebSocket) !== 'undefined') {\n",
       "        return MozWebSocket;\n",
       "    } else {\n",
       "        alert('Your browser does not have WebSocket support.' +\n",
       "              'Please try Chrome, Safari or Firefox ≥ 6. ' +\n",
       "              'Firefox 4 and 5 are also supported but you ' +\n",
       "              'have to enable WebSockets in about:config.');\n",
       "    };\n",
       "}\n",
       "\n",
       "mpl.figure = function(figure_id, websocket, ondownload, parent_element) {\n",
       "    this.id = figure_id;\n",
       "\n",
       "    this.ws = websocket;\n",
       "\n",
       "    this.supports_binary = (this.ws.binaryType != undefined);\n",
       "\n",
       "    if (!this.supports_binary) {\n",
       "        var warnings = document.getElementById(\"mpl-warnings\");\n",
       "        if (warnings) {\n",
       "            warnings.style.display = 'block';\n",
       "            warnings.textContent = (\n",
       "                \"This browser does not support binary websocket messages. \" +\n",
       "                    \"Performance may be slow.\");\n",
       "        }\n",
       "    }\n",
       "\n",
       "    this.imageObj = new Image();\n",
       "\n",
       "    this.context = undefined;\n",
       "    this.message = undefined;\n",
       "    this.canvas = undefined;\n",
       "    this.rubberband_canvas = undefined;\n",
       "    this.rubberband_context = undefined;\n",
       "    this.format_dropdown = undefined;\n",
       "\n",
       "    this.image_mode = 'full';\n",
       "\n",
       "    this.root = $('<div/>');\n",
       "    this._root_extra_style(this.root)\n",
       "    this.root.attr('style', 'display: inline-block');\n",
       "\n",
       "    $(parent_element).append(this.root);\n",
       "\n",
       "    this._init_header(this);\n",
       "    this._init_canvas(this);\n",
       "    this._init_toolbar(this);\n",
       "\n",
       "    var fig = this;\n",
       "\n",
       "    this.waiting = false;\n",
       "\n",
       "    this.ws.onopen =  function () {\n",
       "            fig.send_message(\"supports_binary\", {value: fig.supports_binary});\n",
       "            fig.send_message(\"send_image_mode\", {});\n",
       "            if (mpl.ratio != 1) {\n",
       "                fig.send_message(\"set_dpi_ratio\", {'dpi_ratio': mpl.ratio});\n",
       "            }\n",
       "            fig.send_message(\"refresh\", {});\n",
       "        }\n",
       "\n",
       "    this.imageObj.onload = function() {\n",
       "            if (fig.image_mode == 'full') {\n",
       "                // Full images could contain transparency (where diff images\n",
       "                // almost always do), so we need to clear the canvas so that\n",
       "                // there is no ghosting.\n",
       "                fig.context.clearRect(0, 0, fig.canvas.width, fig.canvas.height);\n",
       "            }\n",
       "            fig.context.drawImage(fig.imageObj, 0, 0);\n",
       "        };\n",
       "\n",
       "    this.imageObj.onunload = function() {\n",
       "        fig.ws.close();\n",
       "    }\n",
       "\n",
       "    this.ws.onmessage = this._make_on_message_function(this);\n",
       "\n",
       "    this.ondownload = ondownload;\n",
       "}\n",
       "\n",
       "mpl.figure.prototype._init_header = function() {\n",
       "    var titlebar = $(\n",
       "        '<div class=\"ui-dialog-titlebar ui-widget-header ui-corner-all ' +\n",
       "        'ui-helper-clearfix\"/>');\n",
       "    var titletext = $(\n",
       "        '<div class=\"ui-dialog-title\" style=\"width: 100%; ' +\n",
       "        'text-align: center; padding: 3px;\"/>');\n",
       "    titlebar.append(titletext)\n",
       "    this.root.append(titlebar);\n",
       "    this.header = titletext[0];\n",
       "}\n",
       "\n",
       "\n",
       "\n",
       "mpl.figure.prototype._canvas_extra_style = function(canvas_div) {\n",
       "\n",
       "}\n",
       "\n",
       "\n",
       "mpl.figure.prototype._root_extra_style = function(canvas_div) {\n",
       "\n",
       "}\n",
       "\n",
       "mpl.figure.prototype._init_canvas = function() {\n",
       "    var fig = this;\n",
       "\n",
       "    var canvas_div = $('<div/>');\n",
       "\n",
       "    canvas_div.attr('style', 'position: relative; clear: both; outline: 0');\n",
       "\n",
       "    function canvas_keyboard_event(event) {\n",
       "        return fig.key_event(event, event['data']);\n",
       "    }\n",
       "\n",
       "    canvas_div.keydown('key_press', canvas_keyboard_event);\n",
       "    canvas_div.keyup('key_release', canvas_keyboard_event);\n",
       "    this.canvas_div = canvas_div\n",
       "    this._canvas_extra_style(canvas_div)\n",
       "    this.root.append(canvas_div);\n",
       "\n",
       "    var canvas = $('<canvas/>');\n",
       "    canvas.addClass('mpl-canvas');\n",
       "    canvas.attr('style', \"left: 0; top: 0; z-index: 0; outline: 0\")\n",
       "\n",
       "    this.canvas = canvas[0];\n",
       "    this.context = canvas[0].getContext(\"2d\");\n",
       "\n",
       "    var backingStore = this.context.backingStorePixelRatio ||\n",
       "\tthis.context.webkitBackingStorePixelRatio ||\n",
       "\tthis.context.mozBackingStorePixelRatio ||\n",
       "\tthis.context.msBackingStorePixelRatio ||\n",
       "\tthis.context.oBackingStorePixelRatio ||\n",
       "\tthis.context.backingStorePixelRatio || 1;\n",
       "\n",
       "    mpl.ratio = (window.devicePixelRatio || 1) / backingStore;\n",
       "\n",
       "    var rubberband = $('<canvas/>');\n",
       "    rubberband.attr('style', \"position: absolute; left: 0; top: 0; z-index: 1;\")\n",
       "\n",
       "    var pass_mouse_events = true;\n",
       "\n",
       "    canvas_div.resizable({\n",
       "        start: function(event, ui) {\n",
       "            pass_mouse_events = false;\n",
       "        },\n",
       "        resize: function(event, ui) {\n",
       "            fig.request_resize(ui.size.width, ui.size.height);\n",
       "        },\n",
       "        stop: function(event, ui) {\n",
       "            pass_mouse_events = true;\n",
       "            fig.request_resize(ui.size.width, ui.size.height);\n",
       "        },\n",
       "    });\n",
       "\n",
       "    function mouse_event_fn(event) {\n",
       "        if (pass_mouse_events)\n",
       "            return fig.mouse_event(event, event['data']);\n",
       "    }\n",
       "\n",
       "    rubberband.mousedown('button_press', mouse_event_fn);\n",
       "    rubberband.mouseup('button_release', mouse_event_fn);\n",
       "    // Throttle sequential mouse events to 1 every 20ms.\n",
       "    rubberband.mousemove('motion_notify', mouse_event_fn);\n",
       "\n",
       "    rubberband.mouseenter('figure_enter', mouse_event_fn);\n",
       "    rubberband.mouseleave('figure_leave', mouse_event_fn);\n",
       "\n",
       "    canvas_div.on(\"wheel\", function (event) {\n",
       "        event = event.originalEvent;\n",
       "        event['data'] = 'scroll'\n",
       "        if (event.deltaY < 0) {\n",
       "            event.step = 1;\n",
       "        } else {\n",
       "            event.step = -1;\n",
       "        }\n",
       "        mouse_event_fn(event);\n",
       "    });\n",
       "\n",
       "    canvas_div.append(canvas);\n",
       "    canvas_div.append(rubberband);\n",
       "\n",
       "    this.rubberband = rubberband;\n",
       "    this.rubberband_canvas = rubberband[0];\n",
       "    this.rubberband_context = rubberband[0].getContext(\"2d\");\n",
       "    this.rubberband_context.strokeStyle = \"#000000\";\n",
       "\n",
       "    this._resize_canvas = function(width, height) {\n",
       "        // Keep the size of the canvas, canvas container, and rubber band\n",
       "        // canvas in synch.\n",
       "        canvas_div.css('width', width)\n",
       "        canvas_div.css('height', height)\n",
       "\n",
       "        canvas.attr('width', width * mpl.ratio);\n",
       "        canvas.attr('height', height * mpl.ratio);\n",
       "        canvas.attr('style', 'width: ' + width + 'px; height: ' + height + 'px;');\n",
       "\n",
       "        rubberband.attr('width', width);\n",
       "        rubberband.attr('height', height);\n",
       "    }\n",
       "\n",
       "    // Set the figure to an initial 600x600px, this will subsequently be updated\n",
       "    // upon first draw.\n",
       "    this._resize_canvas(600, 600);\n",
       "\n",
       "    // Disable right mouse context menu.\n",
       "    $(this.rubberband_canvas).bind(\"contextmenu\",function(e){\n",
       "        return false;\n",
       "    });\n",
       "\n",
       "    function set_focus () {\n",
       "        canvas.focus();\n",
       "        canvas_div.focus();\n",
       "    }\n",
       "\n",
       "    window.setTimeout(set_focus, 100);\n",
       "}\n",
       "\n",
       "mpl.figure.prototype._init_toolbar = function() {\n",
       "    var fig = this;\n",
       "\n",
       "    var nav_element = $('<div/>')\n",
       "    nav_element.attr('style', 'width: 100%');\n",
       "    this.root.append(nav_element);\n",
       "\n",
       "    // Define a callback function for later on.\n",
       "    function toolbar_event(event) {\n",
       "        return fig.toolbar_button_onclick(event['data']);\n",
       "    }\n",
       "    function toolbar_mouse_event(event) {\n",
       "        return fig.toolbar_button_onmouseover(event['data']);\n",
       "    }\n",
       "\n",
       "    for(var toolbar_ind in mpl.toolbar_items) {\n",
       "        var name = mpl.toolbar_items[toolbar_ind][0];\n",
       "        var tooltip = mpl.toolbar_items[toolbar_ind][1];\n",
       "        var image = mpl.toolbar_items[toolbar_ind][2];\n",
       "        var method_name = mpl.toolbar_items[toolbar_ind][3];\n",
       "\n",
       "        if (!name) {\n",
       "            // put a spacer in here.\n",
       "            continue;\n",
       "        }\n",
       "        var button = $('<button/>');\n",
       "        button.addClass('ui-button ui-widget ui-state-default ui-corner-all ' +\n",
       "                        'ui-button-icon-only');\n",
       "        button.attr('role', 'button');\n",
       "        button.attr('aria-disabled', 'false');\n",
       "        button.click(method_name, toolbar_event);\n",
       "        button.mouseover(tooltip, toolbar_mouse_event);\n",
       "\n",
       "        var icon_img = $('<span/>');\n",
       "        icon_img.addClass('ui-button-icon-primary ui-icon');\n",
       "        icon_img.addClass(image);\n",
       "        icon_img.addClass('ui-corner-all');\n",
       "\n",
       "        var tooltip_span = $('<span/>');\n",
       "        tooltip_span.addClass('ui-button-text');\n",
       "        tooltip_span.html(tooltip);\n",
       "\n",
       "        button.append(icon_img);\n",
       "        button.append(tooltip_span);\n",
       "\n",
       "        nav_element.append(button);\n",
       "    }\n",
       "\n",
       "    var fmt_picker_span = $('<span/>');\n",
       "\n",
       "    var fmt_picker = $('<select/>');\n",
       "    fmt_picker.addClass('mpl-toolbar-option ui-widget ui-widget-content');\n",
       "    fmt_picker_span.append(fmt_picker);\n",
       "    nav_element.append(fmt_picker_span);\n",
       "    this.format_dropdown = fmt_picker[0];\n",
       "\n",
       "    for (var ind in mpl.extensions) {\n",
       "        var fmt = mpl.extensions[ind];\n",
       "        var option = $(\n",
       "            '<option/>', {selected: fmt === mpl.default_extension}).html(fmt);\n",
       "        fmt_picker.append(option)\n",
       "    }\n",
       "\n",
       "    // Add hover states to the ui-buttons\n",
       "    $( \".ui-button\" ).hover(\n",
       "        function() { $(this).addClass(\"ui-state-hover\");},\n",
       "        function() { $(this).removeClass(\"ui-state-hover\");}\n",
       "    );\n",
       "\n",
       "    var status_bar = $('<span class=\"mpl-message\"/>');\n",
       "    nav_element.append(status_bar);\n",
       "    this.message = status_bar[0];\n",
       "}\n",
       "\n",
       "mpl.figure.prototype.request_resize = function(x_pixels, y_pixels) {\n",
       "    // Request matplotlib to resize the figure. Matplotlib will then trigger a resize in the client,\n",
       "    // which will in turn request a refresh of the image.\n",
       "    this.send_message('resize', {'width': x_pixels, 'height': y_pixels});\n",
       "}\n",
       "\n",
       "mpl.figure.prototype.send_message = function(type, properties) {\n",
       "    properties['type'] = type;\n",
       "    properties['figure_id'] = this.id;\n",
       "    this.ws.send(JSON.stringify(properties));\n",
       "}\n",
       "\n",
       "mpl.figure.prototype.send_draw_message = function() {\n",
       "    if (!this.waiting) {\n",
       "        this.waiting = true;\n",
       "        this.ws.send(JSON.stringify({type: \"draw\", figure_id: this.id}));\n",
       "    }\n",
       "}\n",
       "\n",
       "\n",
       "mpl.figure.prototype.handle_save = function(fig, msg) {\n",
       "    var format_dropdown = fig.format_dropdown;\n",
       "    var format = format_dropdown.options[format_dropdown.selectedIndex].value;\n",
       "    fig.ondownload(fig, format);\n",
       "}\n",
       "\n",
       "\n",
       "mpl.figure.prototype.handle_resize = function(fig, msg) {\n",
       "    var size = msg['size'];\n",
       "    if (size[0] != fig.canvas.width || size[1] != fig.canvas.height) {\n",
       "        fig._resize_canvas(size[0], size[1]);\n",
       "        fig.send_message(\"refresh\", {});\n",
       "    };\n",
       "}\n",
       "\n",
       "mpl.figure.prototype.handle_rubberband = function(fig, msg) {\n",
       "    var x0 = msg['x0'] / mpl.ratio;\n",
       "    var y0 = (fig.canvas.height - msg['y0']) / mpl.ratio;\n",
       "    var x1 = msg['x1'] / mpl.ratio;\n",
       "    var y1 = (fig.canvas.height - msg['y1']) / mpl.ratio;\n",
       "    x0 = Math.floor(x0) + 0.5;\n",
       "    y0 = Math.floor(y0) + 0.5;\n",
       "    x1 = Math.floor(x1) + 0.5;\n",
       "    y1 = Math.floor(y1) + 0.5;\n",
       "    var min_x = Math.min(x0, x1);\n",
       "    var min_y = Math.min(y0, y1);\n",
       "    var width = Math.abs(x1 - x0);\n",
       "    var height = Math.abs(y1 - y0);\n",
       "\n",
       "    fig.rubberband_context.clearRect(\n",
       "        0, 0, fig.canvas.width, fig.canvas.height);\n",
       "\n",
       "    fig.rubberband_context.strokeRect(min_x, min_y, width, height);\n",
       "}\n",
       "\n",
       "mpl.figure.prototype.handle_figure_label = function(fig, msg) {\n",
       "    // Updates the figure title.\n",
       "    fig.header.textContent = msg['label'];\n",
       "}\n",
       "\n",
       "mpl.figure.prototype.handle_cursor = function(fig, msg) {\n",
       "    var cursor = msg['cursor'];\n",
       "    switch(cursor)\n",
       "    {\n",
       "    case 0:\n",
       "        cursor = 'pointer';\n",
       "        break;\n",
       "    case 1:\n",
       "        cursor = 'default';\n",
       "        break;\n",
       "    case 2:\n",
       "        cursor = 'crosshair';\n",
       "        break;\n",
       "    case 3:\n",
       "        cursor = 'move';\n",
       "        break;\n",
       "    }\n",
       "    fig.rubberband_canvas.style.cursor = cursor;\n",
       "}\n",
       "\n",
       "mpl.figure.prototype.handle_message = function(fig, msg) {\n",
       "    fig.message.textContent = msg['message'];\n",
       "}\n",
       "\n",
       "mpl.figure.prototype.handle_draw = function(fig, msg) {\n",
       "    // Request the server to send over a new figure.\n",
       "    fig.send_draw_message();\n",
       "}\n",
       "\n",
       "mpl.figure.prototype.handle_image_mode = function(fig, msg) {\n",
       "    fig.image_mode = msg['mode'];\n",
       "}\n",
       "\n",
       "mpl.figure.prototype.updated_canvas_event = function() {\n",
       "    // Called whenever the canvas gets updated.\n",
       "    this.send_message(\"ack\", {});\n",
       "}\n",
       "\n",
       "// A function to construct a web socket function for onmessage handling.\n",
       "// Called in the figure constructor.\n",
       "mpl.figure.prototype._make_on_message_function = function(fig) {\n",
       "    return function socket_on_message(evt) {\n",
       "        if (evt.data instanceof Blob) {\n",
       "            /* FIXME: We get \"Resource interpreted as Image but\n",
       "             * transferred with MIME type text/plain:\" errors on\n",
       "             * Chrome.  But how to set the MIME type?  It doesn't seem\n",
       "             * to be part of the websocket stream */\n",
       "            evt.data.type = \"image/png\";\n",
       "\n",
       "            /* Free the memory for the previous frames */\n",
       "            if (fig.imageObj.src) {\n",
       "                (window.URL || window.webkitURL).revokeObjectURL(\n",
       "                    fig.imageObj.src);\n",
       "            }\n",
       "\n",
       "            fig.imageObj.src = (window.URL || window.webkitURL).createObjectURL(\n",
       "                evt.data);\n",
       "            fig.updated_canvas_event();\n",
       "            fig.waiting = false;\n",
       "            return;\n",
       "        }\n",
       "        else if (typeof evt.data === 'string' && evt.data.slice(0, 21) == \"data:image/png;base64\") {\n",
       "            fig.imageObj.src = evt.data;\n",
       "            fig.updated_canvas_event();\n",
       "            fig.waiting = false;\n",
       "            return;\n",
       "        }\n",
       "\n",
       "        var msg = JSON.parse(evt.data);\n",
       "        var msg_type = msg['type'];\n",
       "\n",
       "        // Call the  \"handle_{type}\" callback, which takes\n",
       "        // the figure and JSON message as its only arguments.\n",
       "        try {\n",
       "            var callback = fig[\"handle_\" + msg_type];\n",
       "        } catch (e) {\n",
       "            console.log(\"No handler for the '\" + msg_type + \"' message type: \", msg);\n",
       "            return;\n",
       "        }\n",
       "\n",
       "        if (callback) {\n",
       "            try {\n",
       "                // console.log(\"Handling '\" + msg_type + \"' message: \", msg);\n",
       "                callback(fig, msg);\n",
       "            } catch (e) {\n",
       "                console.log(\"Exception inside the 'handler_\" + msg_type + \"' callback:\", e, e.stack, msg);\n",
       "            }\n",
       "        }\n",
       "    };\n",
       "}\n",
       "\n",
       "// from http://stackoverflow.com/questions/1114465/getting-mouse-location-in-canvas\n",
       "mpl.findpos = function(e) {\n",
       "    //this section is from http://www.quirksmode.org/js/events_properties.html\n",
       "    var targ;\n",
       "    if (!e)\n",
       "        e = window.event;\n",
       "    if (e.target)\n",
       "        targ = e.target;\n",
       "    else if (e.srcElement)\n",
       "        targ = e.srcElement;\n",
       "    if (targ.nodeType == 3) // defeat Safari bug\n",
       "        targ = targ.parentNode;\n",
       "\n",
       "    // jQuery normalizes the pageX and pageY\n",
       "    // pageX,Y are the mouse positions relative to the document\n",
       "    // offset() returns the position of the element relative to the document\n",
       "    var x = e.pageX - $(targ).offset().left;\n",
       "    var y = e.pageY - $(targ).offset().top;\n",
       "\n",
       "    return {\"x\": x, \"y\": y};\n",
       "};\n",
       "\n",
       "/*\n",
       " * return a copy of an object with only non-object keys\n",
       " * we need this to avoid circular references\n",
       " * http://stackoverflow.com/a/24161582/3208463\n",
       " */\n",
       "function simpleKeys (original) {\n",
       "  return Object.keys(original).reduce(function (obj, key) {\n",
       "    if (typeof original[key] !== 'object')\n",
       "        obj[key] = original[key]\n",
       "    return obj;\n",
       "  }, {});\n",
       "}\n",
       "\n",
       "mpl.figure.prototype.mouse_event = function(event, name) {\n",
       "    var canvas_pos = mpl.findpos(event)\n",
       "\n",
       "    if (name === 'button_press')\n",
       "    {\n",
       "        this.canvas.focus();\n",
       "        this.canvas_div.focus();\n",
       "    }\n",
       "\n",
       "    var x = canvas_pos.x * mpl.ratio;\n",
       "    var y = canvas_pos.y * mpl.ratio;\n",
       "\n",
       "    this.send_message(name, {x: x, y: y, button: event.button,\n",
       "                             step: event.step,\n",
       "                             guiEvent: simpleKeys(event)});\n",
       "\n",
       "    /* This prevents the web browser from automatically changing to\n",
       "     * the text insertion cursor when the button is pressed.  We want\n",
       "     * to control all of the cursor setting manually through the\n",
       "     * 'cursor' event from matplotlib */\n",
       "    event.preventDefault();\n",
       "    return false;\n",
       "}\n",
       "\n",
       "mpl.figure.prototype._key_event_extra = function(event, name) {\n",
       "    // Handle any extra behaviour associated with a key event\n",
       "}\n",
       "\n",
       "mpl.figure.prototype.key_event = function(event, name) {\n",
       "\n",
       "    // Prevent repeat events\n",
       "    if (name == 'key_press')\n",
       "    {\n",
       "        if (event.which === this._key)\n",
       "            return;\n",
       "        else\n",
       "            this._key = event.which;\n",
       "    }\n",
       "    if (name == 'key_release')\n",
       "        this._key = null;\n",
       "\n",
       "    var value = '';\n",
       "    if (event.ctrlKey && event.which != 17)\n",
       "        value += \"ctrl+\";\n",
       "    if (event.altKey && event.which != 18)\n",
       "        value += \"alt+\";\n",
       "    if (event.shiftKey && event.which != 16)\n",
       "        value += \"shift+\";\n",
       "\n",
       "    value += 'k';\n",
       "    value += event.which.toString();\n",
       "\n",
       "    this._key_event_extra(event, name);\n",
       "\n",
       "    this.send_message(name, {key: value,\n",
       "                             guiEvent: simpleKeys(event)});\n",
       "    return false;\n",
       "}\n",
       "\n",
       "mpl.figure.prototype.toolbar_button_onclick = function(name) {\n",
       "    if (name == 'download') {\n",
       "        this.handle_save(this, null);\n",
       "    } else {\n",
       "        this.send_message(\"toolbar_button\", {name: name});\n",
       "    }\n",
       "};\n",
       "\n",
       "mpl.figure.prototype.toolbar_button_onmouseover = function(tooltip) {\n",
       "    this.message.textContent = tooltip;\n",
       "};\n",
       "mpl.toolbar_items = [[\"Home\", \"Reset original view\", \"fa fa-home icon-home\", \"home\"], [\"Back\", \"Back to previous view\", \"fa fa-arrow-left icon-arrow-left\", \"back\"], [\"Forward\", \"Forward to next view\", \"fa fa-arrow-right icon-arrow-right\", \"forward\"], [\"\", \"\", \"\", \"\"], [\"Pan\", \"Pan axes with left mouse, zoom with right\", \"fa fa-arrows icon-move\", \"pan\"], [\"Zoom\", \"Zoom to rectangle\", \"fa fa-square-o icon-check-empty\", \"zoom\"], [\"\", \"\", \"\", \"\"], [\"Download\", \"Download plot\", \"fa fa-floppy-o icon-save\", \"download\"]];\n",
       "\n",
       "mpl.extensions = [\"eps\", \"jpeg\", \"pdf\", \"png\", \"ps\", \"raw\", \"svg\", \"tif\"];\n",
       "\n",
       "mpl.default_extension = \"png\";var comm_websocket_adapter = function(comm) {\n",
       "    // Create a \"websocket\"-like object which calls the given IPython comm\n",
       "    // object with the appropriate methods. Currently this is a non binary\n",
       "    // socket, so there is still some room for performance tuning.\n",
       "    var ws = {};\n",
       "\n",
       "    ws.close = function() {\n",
       "        comm.close()\n",
       "    };\n",
       "    ws.send = function(m) {\n",
       "        //console.log('sending', m);\n",
       "        comm.send(m);\n",
       "    };\n",
       "    // Register the callback with on_msg.\n",
       "    comm.on_msg(function(msg) {\n",
       "        //console.log('receiving', msg['content']['data'], msg);\n",
       "        // Pass the mpl event to the overridden (by mpl) onmessage function.\n",
       "        ws.onmessage(msg['content']['data'])\n",
       "    });\n",
       "    return ws;\n",
       "}\n",
       "\n",
       "mpl.mpl_figure_comm = function(comm, msg) {\n",
       "    // This is the function which gets called when the mpl process\n",
       "    // starts-up an IPython Comm through the \"matplotlib\" channel.\n",
       "\n",
       "    var id = msg.content.data.id;\n",
       "    // Get hold of the div created by the display call when the Comm\n",
       "    // socket was opened in Python.\n",
       "    var element = $(\"#\" + id);\n",
       "    var ws_proxy = comm_websocket_adapter(comm)\n",
       "\n",
       "    function ondownload(figure, format) {\n",
       "        window.open(figure.imageObj.src);\n",
       "    }\n",
       "\n",
       "    var fig = new mpl.figure(id, ws_proxy,\n",
       "                           ondownload,\n",
       "                           element.get(0));\n",
       "\n",
       "    // Call onopen now - mpl needs it, as it is assuming we've passed it a real\n",
       "    // web socket which is closed, not our websocket->open comm proxy.\n",
       "    ws_proxy.onopen();\n",
       "\n",
       "    fig.parent_element = element.get(0);\n",
       "    fig.cell_info = mpl.find_output_cell(\"<div id='\" + id + \"'></div>\");\n",
       "    if (!fig.cell_info) {\n",
       "        console.error(\"Failed to find cell for figure\", id, fig);\n",
       "        return;\n",
       "    }\n",
       "\n",
       "    var output_index = fig.cell_info[2]\n",
       "    var cell = fig.cell_info[0];\n",
       "\n",
       "};\n",
       "\n",
       "mpl.figure.prototype.handle_close = function(fig, msg) {\n",
       "    var width = fig.canvas.width/mpl.ratio\n",
       "    fig.root.unbind('remove')\n",
       "\n",
       "    // Update the output cell to use the data from the current canvas.\n",
       "    fig.push_to_output();\n",
       "    var dataURL = fig.canvas.toDataURL();\n",
       "    // Re-enable the keyboard manager in IPython - without this line, in FF,\n",
       "    // the notebook keyboard shortcuts fail.\n",
       "    IPython.keyboard_manager.enable()\n",
       "    $(fig.parent_element).html('<img src=\"' + dataURL + '\" width=\"' + width + '\">');\n",
       "    fig.close_ws(fig, msg);\n",
       "}\n",
       "\n",
       "mpl.figure.prototype.close_ws = function(fig, msg){\n",
       "    fig.send_message('closing', msg);\n",
       "    // fig.ws.close()\n",
       "}\n",
       "\n",
       "mpl.figure.prototype.push_to_output = function(remove_interactive) {\n",
       "    // Turn the data on the canvas into data in the output cell.\n",
       "    var width = this.canvas.width/mpl.ratio\n",
       "    var dataURL = this.canvas.toDataURL();\n",
       "    this.cell_info[1]['text/html'] = '<img src=\"' + dataURL + '\" width=\"' + width + '\">';\n",
       "}\n",
       "\n",
       "mpl.figure.prototype.updated_canvas_event = function() {\n",
       "    // Tell IPython that the notebook contents must change.\n",
       "    IPython.notebook.set_dirty(true);\n",
       "    this.send_message(\"ack\", {});\n",
       "    var fig = this;\n",
       "    // Wait a second, then push the new image to the DOM so\n",
       "    // that it is saved nicely (might be nice to debounce this).\n",
       "    setTimeout(function () { fig.push_to_output() }, 1000);\n",
       "}\n",
       "\n",
       "mpl.figure.prototype._init_toolbar = function() {\n",
       "    var fig = this;\n",
       "\n",
       "    var nav_element = $('<div/>')\n",
       "    nav_element.attr('style', 'width: 100%');\n",
       "    this.root.append(nav_element);\n",
       "\n",
       "    // Define a callback function for later on.\n",
       "    function toolbar_event(event) {\n",
       "        return fig.toolbar_button_onclick(event['data']);\n",
       "    }\n",
       "    function toolbar_mouse_event(event) {\n",
       "        return fig.toolbar_button_onmouseover(event['data']);\n",
       "    }\n",
       "\n",
       "    for(var toolbar_ind in mpl.toolbar_items){\n",
       "        var name = mpl.toolbar_items[toolbar_ind][0];\n",
       "        var tooltip = mpl.toolbar_items[toolbar_ind][1];\n",
       "        var image = mpl.toolbar_items[toolbar_ind][2];\n",
       "        var method_name = mpl.toolbar_items[toolbar_ind][3];\n",
       "\n",
       "        if (!name) { continue; };\n",
       "\n",
       "        var button = $('<button class=\"btn btn-default\" href=\"#\" title=\"' + name + '\"><i class=\"fa ' + image + ' fa-lg\"></i></button>');\n",
       "        button.click(method_name, toolbar_event);\n",
       "        button.mouseover(tooltip, toolbar_mouse_event);\n",
       "        nav_element.append(button);\n",
       "    }\n",
       "\n",
       "    // Add the status bar.\n",
       "    var status_bar = $('<span class=\"mpl-message\" style=\"text-align:right; float: right;\"/>');\n",
       "    nav_element.append(status_bar);\n",
       "    this.message = status_bar[0];\n",
       "\n",
       "    // Add the close button to the window.\n",
       "    var buttongrp = $('<div class=\"btn-group inline pull-right\"></div>');\n",
       "    var button = $('<button class=\"btn btn-mini btn-primary\" href=\"#\" title=\"Stop Interaction\"><i class=\"fa fa-power-off icon-remove icon-large\"></i></button>');\n",
       "    button.click(function (evt) { fig.handle_close(fig, {}); } );\n",
       "    button.mouseover('Stop Interaction', toolbar_mouse_event);\n",
       "    buttongrp.append(button);\n",
       "    var titlebar = this.root.find($('.ui-dialog-titlebar'));\n",
       "    titlebar.prepend(buttongrp);\n",
       "}\n",
       "\n",
       "mpl.figure.prototype._root_extra_style = function(el){\n",
       "    var fig = this\n",
       "    el.on(\"remove\", function(){\n",
       "\tfig.close_ws(fig, {});\n",
       "    });\n",
       "}\n",
       "\n",
       "mpl.figure.prototype._canvas_extra_style = function(el){\n",
       "    // this is important to make the div 'focusable\n",
       "    el.attr('tabindex', 0)\n",
       "    // reach out to IPython and tell the keyboard manager to turn it's self\n",
       "    // off when our div gets focus\n",
       "\n",
       "    // location in version 3\n",
       "    if (IPython.notebook.keyboard_manager) {\n",
       "        IPython.notebook.keyboard_manager.register_events(el);\n",
       "    }\n",
       "    else {\n",
       "        // location in version 2\n",
       "        IPython.keyboard_manager.register_events(el);\n",
       "    }\n",
       "\n",
       "}\n",
       "\n",
       "mpl.figure.prototype._key_event_extra = function(event, name) {\n",
       "    var manager = IPython.notebook.keyboard_manager;\n",
       "    if (!manager)\n",
       "        manager = IPython.keyboard_manager;\n",
       "\n",
       "    // Check for shift+enter\n",
       "    if (event.shiftKey && event.which == 13) {\n",
       "        this.canvas_div.blur();\n",
       "        event.shiftKey = false;\n",
       "        // Send a \"J\" for go to next cell\n",
       "        event.which = 74;\n",
       "        event.keyCode = 74;\n",
       "        manager.command_mode();\n",
       "        manager.handle_keydown(event);\n",
       "    }\n",
       "}\n",
       "\n",
       "mpl.figure.prototype.handle_save = function(fig, msg) {\n",
       "    fig.ondownload(fig, null);\n",
       "}\n",
       "\n",
       "\n",
       "mpl.find_output_cell = function(html_output) {\n",
       "    // Return the cell and output element which can be found *uniquely* in the notebook.\n",
       "    // Note - this is a bit hacky, but it is done because the \"notebook_saving.Notebook\"\n",
       "    // IPython event is triggered only after the cells have been serialised, which for\n",
       "    // our purposes (turning an active figure into a static one), is too late.\n",
       "    var cells = IPython.notebook.get_cells();\n",
       "    var ncells = cells.length;\n",
       "    for (var i=0; i<ncells; i++) {\n",
       "        var cell = cells[i];\n",
       "        if (cell.cell_type === 'code'){\n",
       "            for (var j=0; j<cell.output_area.outputs.length; j++) {\n",
       "                var data = cell.output_area.outputs[j];\n",
       "                if (data.data) {\n",
       "                    // IPython >= 3 moved mimebundle to data attribute of output\n",
       "                    data = data.data;\n",
       "                }\n",
       "                if (data['text/html'] == html_output) {\n",
       "                    return [cell, data, j];\n",
       "                }\n",
       "            }\n",
       "        }\n",
       "    }\n",
       "}\n",
       "\n",
       "// Register the function which deals with the matplotlib target/channel.\n",
       "// The kernel may be null if the page has been refreshed.\n",
       "if (IPython.notebook.kernel != null) {\n",
       "    IPython.notebook.kernel.comm_manager.register_target('matplotlib', mpl.mpl_figure_comm);\n",
       "}\n"
      ],
      "text/plain": [
       "<IPython.core.display.Javascript object>"
      ]
     },
     "metadata": {},
     "output_type": "display_data"
    },
    {
     "data": {
      "text/html": [
       "<img src=\"data:image/png;base64,iVBORw0KGgoAAAANSUhEUgAACEAAAAYwCAYAAAB4WKhgAAAgAElEQVR4XuzdCfR9U90/8G2epaKBlHmsVJIiNCASotKDhqe5NKJ4lObSLI1KhgxFk0zpaSQNhkoh0iBRRBQiJcl/vc/z/1n3e793/t7fvfd872uvZfU8vuees/drn3uPtT7vs/cid999991FI0CAAAECBAgQIECAAAECBAgQIECAAAECBAgQIECAAAECBAjUWGARAYgaz56uEyBAgAABAgQIECBAgAABAgQIECBAgAABAgQIECBAgAABApWAAIQbgQABAgQIECBAgAABAgQIECBAgAABAgQIECBAgAABAgQIEKi9gABE7afQAAgQIECAAAECBAgQIECAAAECBAgQIECAAAECBAgQIECAAAEBCPcAAQIECBAgQIAAAQIECBAgQIAAAQIECBAgQIAAAQIECBAgUHsBAYjaT6EBECBAgAABAgQIECBAgAABAgQIECBAgAABAgQIECBAgAABAgIQ7gECBAgQIECAAAECBAgQIECAAAECBAgQIECAAAECBAgQIECg9gICELWfQgMgQIAAAQIECBAgQIAAAQIECBAgQIAAAQIECBAgQIAAAQIEBCDcAwQIECBAgAABAgQIECBAgAABAgQIECBAgAABAgQIECBAgEDtBQQgaj+FBkCAAAECBAgQIECAAAECBAgQIECAAAECBAgQIECAAAECBAgIQLgHCBAgQIAAAQIECBAgQIAAAQIECBAgQIAAAQIECBAgQIAAgdoLCEDUfgoNgAABAgQIECBAgAABAgQIECBAgAABAgQIECBAgAABAgQIEBCAcA8QIECAAAECBAgQIECAAAECBAgQIECAAAECBAgQIECAAAECtRcQgKj9FBoAAQIECBAgQIAAAQIECBAgQIAAAQIECBAgQIAAAQIECBAgIADhHiBAgAABAgQIECBAgAABAgQIECBAgAABAgQIECBAgAABAgRqLyAAUfspNAACBAgQIECAAAECBAgQIECAAAECBAgQIECAAAECBAgQIEBAAMI9QIAAAQIECBAgQIAAAQIECBAgQIAAAQIECBAgQIAAAQIECNReQACi9lNoAAQIECBAgAABAgQIECBAgAABAgQIECBAgAABAgQIECBAgIAAhHuAAAECBAgQIECAAAECBAgQIECAAAECBAgQIECAAAECBAgQqL2AAETtp9AACBAgQIAAAQIECBAgQIAAAQIECBAgQIAAAQIECBAgQIAAAQEI9wABAgQIECBAgAABAgQIECBAgAABAgQIECBAgAABAgQIECBQewEBiNpPoQEQIECAAAECBAgQIECAAAECBAgQIECAAAECBAgQIECAAAECAhDuAQIECBAgQIAAAQIECBAgQIAAAQIECBAgQIAAAQIECBAgQKD2AgIQtZ9CAyBAgAABAgQIECBAgAABAgQIECBAgAABAgQIECBAgAABAgQEINwDBAgQIECAAAECBAgQIECAAAECBAgQIECAAAECBAgQIECAQO0FBCBqP4UGQIAAAQIECBAgQIAAAQIECBAgQIAAAQIECBAgQIAAAQIECAhAuAcIECBAgAABAgQIECBAgAABAgQIECBAgAABAgQIECBAgACB2gsIQNR+Cg2AAAECBAgQIECAAAECBAgQIECAAAECBAgQIECAAAECBAgQEIBwDxAgQIAAAQIECBAgQIAAAQIECBAgQIAAAQIECBAgQIAAAQK1FxCAqP0UGgABAgQIECBAgAABAgQIECBAgAABAgQIECBAgAABAgQIECAgAOEeIECAAAECBAgQIECAAAECBAgQIECAAAECBAgQIECAAAECBGovIABR+yk0AAIECBAgQIAAAQIECBAgQIAAAQIECBAgQIAAAQIECBAgQEAAwj1AgAABAgQIECBAgAABAgQIECBAgAABAgQIECBAgAABAgQI1F5AAKL2U2gABAgQIECAAAECBAgQIECAAAECBAgQIECAAAECBAgQIECAgACEe4AAAQIECBAgQIAAAQIECBAgQIAAAQIECBAgQIAAAQIECBCovYAARO2n0AAIECBAgAABAgQIECBAgAABAgQIECBAgAABAgQIECBAgAABAQj3AAECBAgQIECAAAECBAgQIECAAAECBAgQIECAAAECBAgQIFB7AQGI2k+hARAgQIAAAQIECBAgQIAAAQIECBAgQIAAAQIECBAgQIAAAQICEO4BAgQIECBAgAABAgQIECBAgAABAgQIECBAgAABAgQIECBAoPYCAhC1n0IDIECAAAECBAgQIECAAAECBAgQIECAAAECBAgQIECAAAECBAQg3AMECBAgQIAAAQIECBAgQIAAAQIECBAgQIAAAQIECBAgQIBA7QUEIGo/hQZAgAABAgQIECBAgAABAgQIECBAgAABAgQIECBAgAABAgQICEC4BwgQIECAAAECBAgQIECAAAECBAgQIECAAAECBAgQIECAAIHaCwhA1H4KDYAAAQIECBAgQIAAAQIECBAgQIAAAQIECBAgQIAAAQIECBAQgHAPECBAgAABAgQIECBAgAABAgQIECBAgAABAgQIECBAgAABArUXEICo/RQaAAECBAgQIECAAAECBAgQIECAAAECBAgQIECAAAECBAgQICAA4R4gQIAAAQIECBAgQIAAAQIECBAgQIAAAQIECBAgQIAAAQIEai8gAFH7KTQAAgQIECBAgAABAgQIECBAgAABAgQIECBAgAABAgQIECBAQADCPUCAAAECBAgQIECAAAECBAgQIECAAAECBAgQIECAAAECBAjUXkAAovZTaAAECBAgQIAAAQIECBAgQIAAAQIECBAgQIAAAQIECBAgQICAAIR7gAABAgQIECBAgAABAgQIECBAgAABAgQIECBAgAABAgQIEKi9gABE7afQAAgQIECAAAECBAgQIECAAAECBAgQIECAAAECBAgQIECAAAEBCPcAAQIECBAgQIAAAQIECBAgQIAAAQIECBAgQIAAAQIECBAgUHsBAYjaT6EBECBAgAABAgQIECBAgAABAgQIECBAgAABAgQIECBAgAABAgIQ7gECBAgQIECAAAECBAgQIECAAAECBAgQIECAAAECBAgQIECg9gICELWfQgMgQIAAAQIECBAgQIAAAQIECBAgQIAAAQIECBAgQIAAAQIEBCDcAwQIECBAgAABAgQIECBAgAABAgQIECBAgAABAgQIECBAgEDtBQQgaj+FBkCAAAECBAgQIECAAAECBAgQIECAAAECBAgQIECAAAECBAgIQLgHCBAgQIAAAQIECBAgQIAAAQIECBAgQIAAAQIECBAgQIAAgdoLCEDUfgoNgAABAgQIECBAgAABAgQIECBAgAABAgQIECBAgAABAgQIEBCAcA8QIECAAAECBAgQIECAAAECBAgQIECAAAECBAgQIECAAAECtRcQgKj9FBoAAQIECBAgQIAAAQIECBAgQIAAAQIECBAgQIAAAQIECBAgIADhHiBAgAABAgQIECBAgAABAgQIECBAgAABAgQIECBAgAABAgRqLyAAUfspNAACBAgQIECAAAECBAgQIECAAAECBAgQIECAAAECBAgQIEBAAMI9QIAAAQIECBAgQIAAAQIECBAgQIAAAQIECBAgQIAAAQIECNReQACi9lNoAAQIECBAgAABAgQIECBAgAABAgQIECBAgAABAgQIECBAgIAAhHuAAAECBAgQIECAAAECBAgQIECAAAECBAgQIECAAAECBAgQqL2AAETtp9AACBAgQIAAAQIECBAgQIAAAQIECBAgQIAAAQIECBAgQIAAAQEI9wABAgQIECBAgAABAgQIECBAgAABAgQIECBAgAABAgQIECBQewEBiNpPoQEQIECAAAECBAgQIECAAAECBAgQIECAAAECBAgQIECAAAECAhDuAQIECBAgQIAAAQIECBAgQIAAAQIECBAgQIAAAQIECBAgQKD2AgIQtZ9CAyBAgAABAgQIECBAgAABAgQIECBAgAABAgQIECBAgAABAgQEINwDBAgQIECAAAECBAgQIECAAAECBAgQIECAAAECBAgQIECAQO0FBCBqP4UGQIAAAQIECBAgQIAAAQIECBAgQIAAAQIECBAgQIAAAQIECAhAuAcIECBAgAABAgQIECBAgAABAgQIECBAgAABAgQIECBAgACB2gsIQNR+Cg2AAAECBAgQIECAAAECBAgQIECAAAECBAgQIECAAAECBAgQEIBwDxAgQIAAAQIECBAgQIAAAQIECBAgQIAAAQIECBAgQIAAAQK1FxCAqP0UGgABAgQIECBAgAABAgQIECBAgAABAgQIECBAgAABAgQIECAgAOEeIECAAAECBAgQIECAAAECBAgQIECAAAECBAgQIECAAAECBGovIABR+yk0AAIECBAgQIAAAQIECBAgQIAAAQIECBAgQIAAAQIECBAgQEAAwj1AgAABAgQIECBAgAABAgQIECBAgAABAgQIECBAgAABAgQI1F5AAKL2U2gABAgQIECAAAECBAgQIECAAAECBAgQIECAAAECBAgQIECAgACEe4AAAQIECBAgQIAAAQIECBAgQIAAAQIECBAgQIAAAQIECBCovYAARO2n0AAIECBAgAABAgQIECBAgAABAgQIECBAgAABAgQIECBAgAABAQj3AAECBAgQIECAAAECBAgQIECAAAECBAgQIECAAAECBAgQIFB7AQGI2k+hARAgQIAAAQIECBAgQIAAAQIECBAgQIAAAQIECBAgQIAAAQICEO4BAgQIECBAgAABAgQIECBAgAABAgQIECBAgAABAgQIECBAoPYCAhC1n0IDIECAAAECBAgQIECAAAECBAgQIECAAAECBAgQIECAAAECBAQg3AMECBAgQIAAAQIECBAgQIAAAQIECBAgQIAAAQIECBAgQIBA7QUEIGo/hQZAgAABAgQIECBAgAABAgQIECBAgAABAgQIECBAgAABAgQICEC4BwgQIECAAAECBAgQIECAAAECBAgQIECAAAECBAgQIECAAIHaCwhA1H4KDYAAAQIECBAgQIAAAQIECBAgQIAAAQIECBAgQIAAAQIECBAQgHAPECBAgAABAgQIECBAgAABAgQIECBAgAABAgQIECBAgAABArUXEICo/RQaAAECBAgQIECAAAECBAgQIECAAAECBAgQIECAAAECBAgQICAA4R4gQIAAAQIECBAgQIAAAQIECBAgQIAAAQIECBAgQIAAAQIEai8gAFH7KTQAAgQIECBAgAABAgQIECBAgAABAgQIECBAgAABAgQIECBAQADCPUCAAAECBAgQIECAAAECBAgQIECAAAECBAgQIECAAAECBAjUXkAAovZTaAAECBAgQIAAAQIECBAgQIAAAQIECBAgQIAAAQIECBAgQICAAIR7gAABAgQIECBAgAABAgQIECBAgAABAgQIECBAgAABAgQIEKi9gABE7afQAAgQIECAAAECBAgQIECAAAECBAgQIECAAAECBAgQIECAAAEBCPcAAQIECBAgQIAAAQIECBAgQIAAAQIECBAgQIAAAQIECBAgUHsBAYjaT6EBECBAgAABAgQIECBAgAABAgQIECBAgAABAgQIECBAgAABAgIQ7gECBAgQIECAAAECBAgQIECAAAECBAgQIECAAAECBAgQIECg9gICELWfQgMgQIAAAQIECBAgQIAAAQIECBAgQIAAAQIECBAgQIAAAQIEBCDcAwQIECBAgAABAgQIECBAgAABAgQIECBAgAABAgQIECBAgEDtBQQgaj+FBkCAAAECBAgQIECAAAECBAgQIECAAAECBAgQIECAAAECBAgIQLgHCBAgQIAAAQIECBAgQIAAAQIECBAgQIAAAQIECBAgQIAAgdoLCEDUfgoNgAABAgQIECBAgAABAgQIECBAgAABAgQIECBAgAABAgQIEBCAcA8QIECAAAECBAgQIECAAAECBAgQIECAAAECBAgQIECAAAECtRcQgKj9FBoAAQIECBAgQIAAAQIECBAgQIAAAQIECBAgQIAAAQIECBAgIADhHiBAgAABAgQIECBAgAABAgQIECBAgAABAgQIECBAgAABAgRqLyAAUfspNAACBAgQIECAAAECBAgQIECAAAECBAgQIECAAAECBAgQIEBAAMI9QIAAAQIECBAgQIAAAQIECBAgQIAAAQIECBAgQIAAAQIECNReQACi9lNoAAQIECBAgAABAgQIECBAgAABAgQIECBAgAABAgQIECBAgIAAhHuAAAECBAgQIECAAAECBAgQIECAAAECBAgQIECAAAECBAgQqL2AAETtp9AACBAgQIAAAQIECBAgQIAAAQIECBAgQIAAAQIECBAgQIAAAQEI9wABAgQIECBAgAABAgQIECBAgAABAgQIECBAgAABAgQIECBQewEBiNpPoQEQIECAAAECBAgQIECAAAECBAgQIECAAAECBAgQIECAAAECAhDuAQIECBAgQIAAAQIECBAgQIAAAQIECBAgQIAAAQIECBAgQKD2AgIQtZ9CAyBAgAABAgQIECBAgAABAgQIECBAgAABAgQIECBAgAABAgQEINwDBAgQIECAAAECBAgQIECAAAECBAgQIECAAAECBAgQIECAQO0FBCBqP4UGQIAAAQIECBAgQIDAfBR4wAMeUK6//voZQ/vTn/5U8u+1zgKPfexjy/nnnz/joHPPPbfk32szBf7rv/6rfOELX5jxL0888cSSf68RGKXAP//5z7LMMsvMuORSSy1V8u+16RbwOzXd82/0BAgQIECAAAECBPoVEIDoV8zxBAgQIECAAAECBAgQGIGAAMTgyAIQvdspLPZu5ciFKyAAsXB963x2v1N1nj19J0CAAAECBAgQIDB6AQGI0Zu7IgECBAgQIECAAIGJF/jv//7vcuyxx87o5zbbbFPOPvvsie/7fOmgAMTgMzkJAYhWfWg3okUWWaTkTff8s/zyy5dVVlml3P/+9y9rrbVW2WCDDcrDHvawsvnmm5dll112cJQ2n1RYHDqpEw4oIAAxINxC/tj//M//lPe97319XSW/YyuttFK5173uVdZff/3ymMc8pjzucY8rW221VcnvXb/N71S/Yo4nQIAAAQIECBAgMN0CAhDTPf9GT4AAAQIECBAgQKClgADE+G8MAYjB56BuAYheRrrEEkuUzTbbrOy+++5ljz32KKuvvnovH+t6jMJiVyIHjEhAAGJE0H1eZpAARLtLrLnmmuVlL3tZedWrXlWWW265nnsyH36nzjvvvHLzzTfPGHNCIQmJaAQIECBAgAABAgQIDFdAAGK4ns5GgAABAgQIECBAYF4ICECMfxoFIAafg/kYgGjUWGyxxcpuu+1WUpjcdNNNB4cqpcyHwuKcAHx4YgQEICZmKmZ0ZJgBiAUnXmeddcrxxx9f8lvdS5sPv1OT8FzqxdoxBAgQIECAAAECBOaDgADEfJhFYyBAgAABAgQIECAwZAEBiCGDDnA6AYgB0P7/Ryah0NTPFhiDjnTRRRctL3zhC8sHPvCBarn5Qdp8KCwOMm6fmTwBAYjJm5P0aGEEIHLexRdfvJx66qnlqU99ateBz4ffqUl4LnWFdgABAgQIECBAgACBeSIgADFPJtIwCBAgQIAAAQIECAxTQABimJrONWqBSSg0tepDVm044IADWnL85z//Kf/4xz/KrbfeWq677rpy5ZVXlksuuaSce+65s5ZNbz7B2muvXb7yla+UTTbZZNTUrkeAwDwXaBWAeMhDHlJOOumkliO/++67yy233FL9jv3oRz8qp5xySrnhhhtaHpttMM4555zyqEc9qqOiAMQ8v8kMjwABAgQIECBAgMCQBQQghgzqdAQIECBAgAABAgTmg4AAxHyYxekdw6QGIF72speVT33qU31NTIIR559/frVc/LHHHltuv/32lp/PPvLf+ta3ymabbdbX+R1MgACBTgKtAhDrr79+ufzyy3uCS7Dr0EMPLW9961vLXXfdNeszm2++eTnvvPM6nksAoidqBxEgQIAAAQIECBAg8P8FBCDcCgQIECBAgAABAgQIzBIQgHBT1FlgPgUgGuchb1EffPDB5Ygjjmg5Pfe5z33KhRdeWPJ2tkaAAIFhCMw1ALGgD6eddlrJKjgJdTW3bIWxyy67tO2uAMQwZtI5CBAgQIAAAQIECEyPgADE9My1kRIgQIAAAQIECBDoWUAAomcqB06gwHwNQCygTrFw7733Ln//+99n6T/mMY+plp1fbLHFJnBmdIkAgboJDCsAkXEfeOCB5f3vf/8sgj322KN84QtfaEsjAFG3u0Z/CRAgQIAAAQIECIxXQABivP6uToAAAQIECBAgQGAiBQQgJnJadKpHgfkegAjDWWedVXbYYYfyr3/9a5ZKttnIdhsaAQIE5iowzADEX/7yl7L66quXbIvR2FZeeeXy5z//uSyyyCItuysAMddZ9HkCBAgQIECAAAEC0yUgADFd8220BAgQIECAAAECBHoSmOQAxM0331x+9rOfld/97nflr3/9a1UAvu9971vuf//7l7XWWqs8/OEPb1tE6WnwU3LQVVddVX7xi1+Uq6++uvztb38rd955Z1l++eXLve51r7LOOuuUDTfcsKQoNYx2xx13lN/85jflV7/6Vck2Drle9oLPlg35Z4011iiPfOQjy+KLLz6My5VpCEAE6qMf/Wh57WtfO8ss34XM71JLLTUUz35Oknn99a9/Xd1bKXbecsst5d///ndZZpllynLLLVce8IAHVPO99tprV/fbwmzpx0UXXVT++Mc/VqtlpA/ZHuTRj3501YeF3XLf//znPy+//e1vy/XXX19uv/326vuV+VlttdXKZpttVpZccsmF3Y0Z5//lL39ZLr300nLNNdeU2267rfrO5fdz5513rvrVreV34rLLLqv+uemmm+75Li+77LLV/GZcC+Z36aWX7na6kf49vz8Z+x/+8Idq7FklZcUVV7zn9+eBD3zgSPuTi+UezfMs85FQQH4PV1lllZHdo70MeJgBiFxv++23L9/61rdmXTrfk/wutGoLMwCR/4746U9/Wv03Rf77Ivd47ufcyxtssEF52MMeVhZddNFeqDoeMwnPpTkPwgkIECBAgAABAgQI1ERAAKImE6WbBAgQIECAAAECBEYpMGkBiBRRjzrqqHLSSSdVhYpWe4gv8Fl11VXLU5/61LLvvvuWjTbaqC+2V77yleWTn/zkjM+k8JFizZOe9KS+zrXg4Ne//vXlQx/60IzP5i3Xr33ta2XHHXdse84UilM0bWx/+tOfqgLyoC2FtiOPPLJkC4UU3Lq1FH+e8pSnlBSfUrzptaUInhUK4pb/vfDCC6vAQ6eW4ukWW2xRXvrSl5bdd999TgWnSSg0tepDVmXI6gzDanfffXdVRM93orkde+yx5XnPe17XSw2rsPi///u/Jdc8/fTTW27N0dyRfK823njjsuWWW1bzne9Xt207/vnPf1YhhsaWkEf+/YKWoMPhhx9eOV9xxRVtx7/JJpuU17zmNeX5z39+1+t2RWw4IGGPL33pS+W4446r7v2EINq1FVZYoWy33XbVPZ/v2SAt7s2/IzlX/v2Clu96wjInnHBCufbaa1te5utf/3q1okirlu/uySefXI3pm9/8ZstVR5o/t8QSS5QYb7XVVuWZz3xmedzjHtc1mNbL/PZrdPnll5ePf/zj5ctf/vKs39PmcyX0tddee5VXvOIVVShkkNbLfCQIk/sz92mK/u3aeuutV/bZZ5/qn3iOqw07APHGN76xvOc975k1nGzdk/ukVRvW71Tj70T+myL3dJ5P+S1t1xJaevrTn17NQ7YY6rVljnMvDaOdeOKJ1XNYI0CAAAECBAgQIECgNwEBiN6cHEWAAAECBAgQIEBgqgQmJQCRYmIKd29/+9urN437aSmmprB4yCGHlJVWWqmnj6ZYmQJMggKNLaGDvMndyxvSjZ9LyCFvVjcXVw444IDyvve9r2OfhhmAyFvGCYSceeaZPTm0OihvwaZQ1GmVhszX6173uqoAnOXMB20JXnz6058uW2+99UCnmJYARHASONhll11mOT35yU8u3/72t7v6zbWwmAJugh3f/e53u16r0wG77rprOeWUUzqeo1uB/Nxzzy177713ufLKK3vuy6Me9aiS4mKKzXNtmYvc/3mTvN+W0MJHPvKRsv766/f10W4F9wS6DjzwwGrFg06tXQDiJz/5SfU72vyb2FcnS6lWKjnssMPmNL/9XDOhuTe84Q1VcK5TYK7VObMyyTve8Y6qz/2++d9tPn7wgx9UwaR+7tF11123+p73e2/049Xp2GEHID784Q+X/fbbb9YlTzvttOp52arN9Xeq8ZzHH3982X///avViPptCWslUNPLaiECEP3qOp4AAQIECBAgQIDA8AQEIIZn6UwECBAgQIAAAQIE5o3AJAQgsvrBs571rPL9739/Tq4PfehDyze+8Y2SlSF6aSnobrrpprMCF9tuu211nl4LYll2/xGPeES1DUBjS8DinHPO6brdw7ACEMccc0zJyhbNe673YtF8TM7RaVn7FFnzVvswWt54TqEpxdd+2zQFIPJ2frZ1aF7RI34p8OXt5U5tLoXFFMWzgkHzPd7vfOX45lULWp2jUwAiKxPkLe1B7vMEpBIOavf2ebfxZMn8rCYx19U90o8zzjijWhWj19ap4J7QU7fQwYLrtApAzMW0uf+9rH7SLeDSq0m2unja057WcXWFXs610047VasO9bNVS6f5SNAmz9Zs29Rvy7YYCRnleTbqNuwAxKGHHloFEJrbwg5AJKCX+/Doo4+eE2GCkAlrdVsVSQBiTsw+TIAAAQIECBAgQGBOAgIQc+LzYQIECBAgQIAAAQLzU2DcAYgUc7MkflYuaNcSaMhbmCnwZg/vvFGbt35btRSIf/jDH1Z7evfSvvjFL5ZnP/vZsw7NW4IHIQgAACAASURBVMFvfvObu54ihZYnPvGJJW/7Nrbs756i8YMf/OCu5xhGACLLjGe58U4thinopG/ZPiDF7Fi22rJiLgGIbF2QcWe+EpLIMvC5VrYp6LQ9RgpNWR2gnzZNAYi4ZGn2LKff3LICSbaD6dQGDUDcfPPNJSt1NG/TsuBaWSlkjTXWKPe73/3KsssuWwUT8v3Md/umm26a1aW5BCCyOkuWpr/11ltnnPfe9753FQ5JsOC6666r7ut2W1LkmKwgkTH101LMzhYPeUO/Xcu5c+9nW4WEhP7whz9U/WnV8j3JvOX3o5fWruC+/fbbtywy5zcw3/kU9bMdRvqSuWkOQGQVixTb2wVKsvXImmuuWY0pfc5vR1bpueqqq1quNjGqAET6nQBJO98E2HJf5vmR4ErG325bkPhnFZoEQTLeXlq7+chqElmpJc+Gxpb5SF8yHzfeeGPJlh3pV6v28Ic/vGRFjlFvhzHsAMQ4tsDIKkz5rcuzvV1beeWVq+9pnk/Zbiq/F+3mIsdkhZ1OW2IIQPTyjXEMAQIECBAgQIAAgYUjIACxcFydlQABAgQIECBAgECtBcYZgEjBIfvGn3/++bMMUyjK0tm77bZbWWuttWb8PYWlBA5S9E/BqrllS4BvfetbXfehX/C57N3d/EZ3ttX4zne+U7bZZpuO83vQQQeV9773vbOOOfXUU1tuV9DqZHMNQHzlK1+pCrOt2uqrr14VR/OW9Nprrz3rkIQTEtTI2+hf+MIX7lmuvZ8ARIIOO+64Y3WNRz/60SXLuLdaPSPXOvvss8sRRxxR4tPcEsy46KKLyoMe9KCev1PTFoD48pe/XK2W0tx6CewMGoBIQTfb0zS3FHmz4kgKx+1WC0nROYXcFPrzT4rVgwYgllxyyZJtLM4777x7upLveoq2CVE13nMp0MfqrW99a8kKLc0t57ngggtKvue9tnYOCX1k9ZJsd7DJJpvMuvcvueSSku0pPvOZz8wKACWgkL8nXNCttSq45zud8S0Ieyy33HLV9/05z3lO9T1sbDkmvxXp48Ybb3zPnxI6yhv5jS2Wz33uc8uLX/zi6u33VtvhpNCcEEIc8/uRYEUCL6MIQOQZkPBDrt3cVlxxxfKmN72pMmheDSjW+a3PP622y8hKGlm1oJfWaj4SJEnIIkG9tPQl87HnnnvOmo/co5/73OeqoF2rlVXe//73V1t7jLINOwCRVWNabc/zm9/8pqyzzjothzbo79SCk+W3Kt/VVi1hx6zgssUWW8z4c+7bBCayBVcCEc0t4aqLL764ms9WLdtANW6Hk+/NpZdeOuPQI488csb3rt285nvby+/BKO8L1yJAgAABAgQIECAwyQICEJM8O/pGgAABAgQIECBAYEwC4wxApLjzwQ9+cNbIX/jCF1ZbIuRt424tRcUEGJpXFsje46973eu6fbz6e5Zjz5L4ebu8saV4ln+XJclbtWyTkcJ/CoGNrZ8iWj43lwBEu208ct4Us1IA7rSVRfO4UqR+97vfXS3B3m0LjJglpLL33nuXFKf7abFLMap5JY9Xv/rVLYvt7c49bQGIFA7XW2+9WRyxzBL+ndoghcUUmnN/NhdoP/GJT1SrUfTT8h396le/WhX8U2js1FptkdB8/Ac+8IGquLzIIou0PVVWr9hrr72q4nxzy29Pq+X5W50sgZ1su9Hc8h1I4bSX0E5Wndh5551nWT7jGc+owhrdWquCe+NnHvawh1Xbe/TSlwWfy0oEmd/G38+EQjJP6Ws/LXP2+c9/vlqdo10BesH55roFxtve9raW91C2NErfE/zq1LLdUoIfzSuU5F5KeC7Bmm6t23xkxYAES7LqTqeW7/QTnvCEWatTZNWNrJrT6f7u1sd+/z7MAER+MzIPzSuLpLifwEC7LaYG+Z1aMM6sqpFwU/M1s6pHtiVJoLJTS3Alvxd5PjW3BJyOPfbYnkgn4bnUU0cdRIAAAQIECBAgQGAeCAhAzINJNAQCBAgQIECAAAECwxYYVwDipz/9adlss81mhQdSgMnKDv20vFn5kpe8ZMZHElrI2+e9LmeeIlSKZ81L6+dt9RRPm4tQecv3EY94RLnhhhtmXDdjyhYc/SxdPpcARAIYKcQ1t7xxnmDIJLe8yZ8VQBqXis9y49k6If/bS5uEQlOrPvTyFnwv42s+Jm+t555uXl4/bzTnvuvUBiksZnWWjK+x9bKCwyBja/xMtwBEgj0pgvfSUgzNChGNK0fkc1ktIasnZNuKTi0rl+QN8IQFGlvOme9eP9/1BKri2bw9R1Y+ybYHnVqngntWgshqCFlFpZ+WVV9yXzS2hXXvdpvf3NeZ924tv7kprDcbJhiU70C2N+il/ehHPyrbbrvtrGJ5giR5279b6zQfj3zkI6tVirI6SC8twZWddtpp1qFZMafbKkS9nL/XY4YZgDjwwANLVrFoblnBptP2FIP8Ti24RgIO2UqpsSVokZVPWgWYWrnk+577IoGl5nbhhReWzG23NgnPpW599HcCBAgQIECAAAEC80VAAGK+zKRxECBAgAABAgQIEBiiwLgCEHljvbkI0i5s0MtwU9xo3lbhmGOOKRlfry1viObtz+aWFRGyl/mClrel84bw9773vRmHppCaAkne3O2nDRqASNE0IYzmNooCZj/j63RsliP/2Mc+NuOQE044oVpVopc2CYWmUQYgYpI3/BMSaWxrrLHGPduXtHMbpLDYasuNLDGflToWZusUgMgb3j/+8Y/bvkHeql+//vWvS7YnyLY7jS0rzWQbj04t92fu08aW1WF+8YtflHvf+959M2TligMOOGDG5170oheVBLk6tU4F96zY8sQnPrHvvmQVjOZtFrJqQb+rP/R74bmsAJHf44MPPnjGJRNQS/ghK3L00w455JBqu4zmlt/2bO0yyHxkNZysctJqpZZO58v2QQkGNrbmZ08/Yxvk2GEFIHIPJYzQapuRk08+ueNKDIP8TmWsV199dbVdVvNqUIM8D7OdRbaJaQ7kvOAFLyhHH310V9pJeC517aQDCBAgQIAAAQIECMwTAQGIeTKRhkGAAAECBAgQIEBgmALjCED8/ve/r/b/bl52PQX9xr3p+xnnT37yk2pFicaW1QXOOeecfk5TXvrSl5Zsq9HYsiT8WWedVa1WkJY929/1rnfNOm/eMt199937ul4OHjQAkT3us4d8Y3vgAx9YsppF3m6vQ2s1b/1sgzEJhaZRByBSyG/eXz4rnmRZ+U5tkMJiin0pzje2z372s+X5z3/+Qr29OgUgvvOd71QrOvTbXvWqV5Vs3dHYsupCfnfatfxGpZCdgmhjS1ih2aXX/uQN86xgkOX2F7Rs95PtGDqtWNMuAJEVArJSwCDtLW95S3nnO98546OjWHVg0ABEthvKahxZ3aex7bnnntX2G/22rCKx/vrrl6uuumrGR/fYY4+S1TE6tXbzkWdqwnf9tqyWkFUTGlueJ3mujKrNNQCR1Vay/VTuq+YgQsaQkEfCS53aIL9TOV9CMQmMNLbll1++5L83su1Gv+2ggw4q733ve2d8LNtCJXzWbaWVSXgu9TtexxMgQIAAAQIECBCoq4AARF1nTr8JECBAgAABAgQILESBcQQgWr11vN1225VvfvObcxrpBhtsUH71q1/dc44UE//2t7+VvJHba0thbvPNN5+1BPpqq61Wsnx9iqXbb7/9rDdbU1xtXsmg12sOEoBIcSlFnVtuuWXGZbItQLYHqEvLODI/jW8KJ8iS5fx7aZNQaBp1ACI+CY40thT6mrdvafYbpLCYt7Wf8YxnzDjVPvvsMytI0Mtc9XNMuwBEit9XXnnlrC1pejl3VmfJNjfNLdtg5PvdqmXbjOZVBbLSy/XXX9/X70rzuV/84heXo446asa/zpYJW265ZduhtCu4zyWQcuihh5b9999/xjVTiG9eFaIX336OGTQAcdlll7UMyQ26Akb6nN/Mt7/97TO6n5U9/vKXv3S8z9rNx/e///3y+Mc/vh+O6tgEe7L1QmPrdTuOvi/W5gOtAhD5zp100kltL5Fn7J/+9KeSLUWy/US7IFZCPgnXPOYxj+nY3UF+p3LCnLc5XPG85z2vHHvssQPx5HcmW8skdNPYMsZdd9214zkn4bk00KB9iAABAgQIECBAgEANBQQgajhpukyAAAECBAgQIEBgYQuMIwCxyy67lNNPP33G0D71qU+VLFU9l9aqqJiiTL/LoidEkTdVb7vtthndyVvnefM+xc/GliX5c51Ob293GtcgAYgslZ4+Nre8GZ0tEurUsnrBjTfeeE+XE+xo/P87jWUSCk2jDkCkiJ9ifmNbYYUVqrBPpzZIYfHyyy8vG2644YzTJrCSYu0gRd5e78t2AYgU6xOgGrRl5Zkrrrhixsc7Lcnf6q38rLxy/PHHD9qF6nMJLWQ5/cbWLXjQruCe1Qse/OAHD9SfVufM2+3ZTiKBsoXVBg1AJDSS3/nGdv/7379ce+21fW2J0vj5bI+SVSCa2y9/+cuOBq3s8gxIKG2QZ0HmMVvZNLbMa/PqFAtrTnLeVgGIYVxv0UUXrVayyFZV3dogv1O5n1ZcccVZW9yceeaZZccdd+x2ybZ/32KLLcq555474+9ZpaN5ZYjmE0zCc2ngQfsgAQIECBAgQIAAgZoJCEDUbMJ0lwABAgQIECBAgMAoBEYdgMjblCuvvPKM5d8zzrzR3urt7H4Msi1FtqdobJ/+9KerbS36bdlaIoXObi1Fl4QRUlgdtA0SgDjssMPKvvvuO+OSKZ7lrdVxtSzp/7Wvfa1aKePiiy+uCncpyuefLI3ea1t88cVnFbLafXYSCk2jDkCMcguMuOct6OYtIJZYYony8pe/vLzyla9sWTzuda7bHdcuAJE30Z/97GcPfPp89otf/OKMz6fo+573vKflOXfeeedyxhlnzPhbvnuvfe1rB+5DPpg34Z/4xCfOOMdzn/vcctxxx7U9b6uCez9hoVYn/vvf/16ybU7z6iHZQie/L/ntzHYdw26DBiBabVH0tKc9bVagrt/+xrFxS5J8Ptu/NIdUGs/baj6yhdMvfvGLfi9fHZ8tUJq3VshqI/n3o2oLIwCR51JWYdh66617GsYgAYgEEFutnpIg3SDbXyzo6H777Vdt6dHYMo7vfe97HccyCc+lnrAdRIAAAQIECBAgQGAeCAhAzINJNAQCBAgQIECAAAECwxYYdQAi+2e3WqHgW9/6Vsky/nNpecO0+e3wFDZT1BmktVpRovk8cy3I5nyDBCCy5cYnPvGJGd3pZd/6QRy6fSbbBOSN2K9//evlX//6V7fDe/p7CrK93A+TUGgadQBi1VVXrZacb2xrrrnmrJBCM/QghcWc48gjjywveclL2s5blunfYYcdqgJnipDZPmCurV0AIlsgNK9I0c+1DjnkkPKmN72p5+9NXH//+9/POP5DH/pQyZvhc2m/+c1vSpbnb2w77bTTrLBF499bFdw32WSTKnA0l3bwwQeXd7/73S1Pscgii1RbC2Tbn8xv7vVevpfd+jNoAOIpT3nKrK2S0v93vvOd3S7Z8e9PfvKTS7bRaGzdthNqNR9ZFSVbYAzSWpksvfTSfYXHBrlu42eGGYBI8CHP0Ne85jUlK9T02gb5nTrxxBPLXnvtNeMS+e+MrIg0l5aVXpq/p70EDSfhuTSXcfssAQIECBAgQIAAgToJCEDUabb0lQABAgQIECBAgMCIBEYdgMjKACnajaplL/ssLT9Iy6oFKf61e6M3W3Zk6465tkECECn2pOjT2PK2aoqzo2rxyZvwKZA375M+1z5cd911JUvbd2uTUGgaZQDirrvuqpbXz/82tgQPfvCDH3TkGqSwmBNmbp/1rGdVS9h3aymYZzuBJzzhCSVbxqRwfq973avbx2b9vV0AIm/pzyVg0WoLhfTxG9/4Rss+ZoWX5tUR+h5Mjx/IVj15k71da1Vw32qrrco555zT4xVaH3bHHXdUq1E0L/Xf6ujFFlusJPCyYH633Xbbsswyy/R9/UEDEPk9/vGPfzzjegmC7bPPPn33ofEDWX3jhBNOmHGO/LZltY9+5iMBjczTIG1Qk0Gu1e4zgwQgslpIVqrIP+utt17ZbLPNqm2nEpjJ1hf9tkF+pz75yU9Wq9E0tvTjggsu6PfyM47PVj+5xxtbfs9uvvnmjuedhOfSnAbuwwQIECBAgAABAgRqJCAAUaPJ0lUCBAgQIECAAAECoxIYdQCi1dLvC3OsWTI922AM2vJmdN4wbm4p9mTf+UGKf83nGiQA0epN6He84x2ztgAZdNzdPpfww6677lqycsfCaFnhIC7d2iQUmkYZgPjVr35VNthgg1ksKRo2B2KaDxqksLjgHHfeeWd5/etfXz72sY/1FXZJWCNbFKQ42bzlQ6e5bReA+Pe//11ShB+0felLXypZKaWxpah+/vnnzzplrpWtPkbVNtpoo3LppZe2vVyrAMRcCu6NF7rtttvKi170olnbg3Qbe97s33333au3/B/1qEd1O/yevw9a7E+BPatnNLa8pd/LdkWdOpf7M0X0xpY3/7N1Q7s27PkY1KRn9B4ObBWASKDp8ssv7+HTwzlkkN+pViu7ZFWPb3/723PqVMI2+X1obAl55behU7hjEp5Lcxq4DxMgQIAAAQIECBCokYAARI0mS1cJECBAgAABAgQIjEpg1AGIU045pey2226jGl5V1MsKBYO0LC2fQkbekG7VPvCBD1RF4bm2QQIQefO7+Y3/YfWnl/FkS4R2rlkiP26bbrppWX311ctqq61Wll122ZLl3JdccslZp8/S/3mzv7EJQLSehS984QslBcLm9q53vWvW1g7NxwxSWGw+x4UXXlgStPna175WFQH7aQlA5J5Za621un6sVTF48cUXLwlizKWl3wlkNLaHPvSh5ZJLLpl12htvvLGsssoqc7lcX5/tVmgedsG9VeeyDURCX2eddVZfQZec6xnPeEY5/PDDezIbtNif35M//vGPM7r+5S9/ubr2XFp+x5tXz3nmM59ZEphp14Y9H4OazGXczZ+tawDizW9+c8lvYGPL9/z000+fE09Wf8qKJ80tgaGsfNGuCUDMid2HCRAgQIAAAQIECPQlIADRF5eDCRAgQIAAAQIECEyHwKgDEGeccUbZeeedR4Y7aAAiy96ngN/8tnFjx/N2ePZ733zzzec0nkECEDGMZWNLESjF6YXdfvrTn1Zvxf7nP/+ZcalVV121Kp7uueee1TYNvbaVV165/OUvf5lxuABEa72saPKZz3xm1h+//vWvlx122KEj+TACEAsucP3115dTTz21pGD+ve99r2TLkl5alo9PUTIBnk6t3QoQ+ff93FvN1zjppJOq+7OxbbHFFuWHP/zhrO5kmfu5bLfRi0fjMZMQgFjQn6uuuqokrJYgRLbYuOmmm3oaTn4Dsm1Aq1VKGk8waLF/4403LpdddtmMvnz2s58tz3/+83vqX7uDsp3REUccMePP3Z4dAhBzIm/74UF+pxL+O+CAA2acM9u05P6dS8u2MPl9aGy9BLEEIOai7rMECBAgQIAAAQIE+hMQgOjPy9EECBAgQIAAAQIEpkJg1AGIFNO22WabGbZZIaD5rd5x4++1115dtxRIH9dYY43ys5/9rNr/fNA2SAAiBb/jjjtuxiVf/epXl49+9KODdqPnz6UwePTRR884/iEPeUhJseiBD3xgz+dZcGCCJM2rCQhAzGa86667yoMe9KBZYYOsqpHVCrIdQac2SGGx18n87W9/WxXKE4bIsvPZHqZdu8997lMuuuiiaiztWrsAxJ///OeeVhhod94UuVPsbmxPfepTqxUtmlvuydjefffdM/505ZVXVt/7UbdhF9x77X/Gn605Gue3ecWWxnNlhY+LL7644xvygwYgttxyy/KjH/1oRtc/8pGPVFtwzKUlFJNwTGPLqhAprLdrw56PQU3mMu7mz9Z1BYiEwhIOa2yPfOQjS1asmUv7xje+MStYlsDeDTfc0PG0AhBzUfdZAgQIECBAgAABAv0JCED05+VoAgQIECBAgAABAlMhMOoARIqHzUvgZ0/tv//972WZZZaZCPNWxZR0LPvEH3XUUSWFqsa2++67l6985SsD932QAMT+++9fDj300BnXzAoAWQlgYbYUQxNyyAoAje20004baGWPvFmegnhzE4CYPYvtto/Zbrvtyje/+c2u074wAxCNF8898pOf/KT6ruTt/FZbyGQLleY37hvP0S4AccEFF5TNNtus61jbHXDQQQeV9773vTP+/JznPKccf/zxLT+ScFZzmCMBjyc/+ckD92HQDw674D5oPxLEyco3mb9sydK8EkzOm5Vg3vjGN7a9xKDF/mxr0BxWed3rXlc+/OEPDzqc6nNZ0ebHP/7xjHN0G8Ow52NQkzkNvOnDdQ1AZBuUZz3rWTNGk9VbOgV1enH75Cc/WT33G9u6665bfv3rX3f8uABEL7qOIUCAAAECBAgQIDAcAQGI4Tg6CwECBAgQIECAAIF5JTDqAESKZ1kGP4GHxjbXwuawJiV7fqcY9o9//GPGKZ/+9KeXr371q9Ue9/vss8+sy33sYx8rr3rVqwbqxiABiKz+0Lzse4IEzVtJDNShDh/KSh2rr776jCNy3QQisjR4vy1bKLQqJgtAzJRMkTlbsvz85z+fRXzCCSeUvffeuyv9qAIQjR3JFjI77rhjueKKK2b0L6tVpDjZ7p5pF4BIOOnFL35x17G2OyCrPTSHhN7znveUFH5btW233bba0qGxJXi07777DtyHQT847IL7oP1o/t3eaaedqhVIGtuGG244a6uKxr8PWux/wxveUD74wQ/OuFZWFDr77LMHHk6eScsvv/ysYFt+7/O7364Nez4GNRl44C0+WNcARFYoeehDHzprRHNdrSVBrSOPPHLGeXfddddqe5hOTQBimHelcxEgQIAAAQIECBDoLCAA4Q4hQIAAAQIECBAgQGCWwKgDEOlA9ubOUvmN7c1vfnN5xzveMdYZSigjb5f/8pe/nNGPbO+QbS7yRmnaHnvsUb70pS/NOGappZaqtoDIstv9tkECEFdddVXLZfjz5n0K5Qur/fSnPy2PfvSjZ5w+gZHzzz9/oEtmzt/61rfO+qwAxEySvOG+3377zXLKahy///3vq60aurVxBCDSp3wvtthii1ndy730qEc9qmW32wUgnve855Vjjz2221Bb/j1bWuS71hwSSsDhSU96UsvPHHzwwdVqBo3tiU98YklwZ9Rt2AX3YfX/xBNPLNkyqLnFudXqLjlu0GL/ySefXJ7xjGfMuNRyyy1XsjXKsssuO9CQsqVGttZobt1+g4Y9H4OaDDToNh+qawAiq87k+XzLLbfMGFlWoGkOCvbjtf76689a7SEryBx44IEdT/O4xz2unHfeeTOOye9gghEaAQIECBAgQIAAAQLDFRCAGK6nsxEgQIAAAQIECBCYFwLjCEDkDd68ydvY1llnnXL55ZeXxRZbbGyuKZRkZYXGtsQSS5RzzjlnRuEiRZYUbn/3u9/NODZLY6eom7fb+2mDBCBy/jXWWKMkCNHYXvSiF816Y7WfvnQ7NsXivBXf2AYtCGdVg/XWW2/W6gA5d7fi44LrT8Kbtq368LKXvax86lOf6sbZ099jnpUL/vWvf806vp8VEcYVgEins2pIVg9pbNnKIONq1doFIFZcccVqtZGll166J7vm62ULhca26KKLlmzDkvO2ailippjZ2LJqxW9/+9uSYNQo27AL7sPqe7Y4yQoKCZg0tryVv9FGG/U8vwmRNW8v1Pzh/C6suuqqs875uc99rmUIo5cxvuIVr5j1XV1zzTVn/b43n2vY8yEA8X/Cg/5OPeUpT5m1FVCv2wO1uk8S6msVWEh4c+utt+54a7UKeea/I7baaqtebknHECBAgAABAgQIECDQh4AARB9YDiVAgAABAgQIECAwLQLjCEBcc801VfG+uWCWPeWz5PQ4Wt4qj0Vz+8AHPlBe//rXz/r3WWkhbw03F6X33HPP8vnPf76vIQwagMjKCc2rZiyzzDIl23istdZaffWh14NbrQCRt2QTXum3tdq3fcE5BCD+TyLL8D/nOc8pt99++yzeFOZ/8IMflBTxe2mDFhZ7OXe3Y7IySvP2HaeddlrZeeedW360XQAiBw/6O9Fq+4v8uwQx2rW8Wb7BBhvMegt8LitRdLNq9/dhF9wH7Uerz+Xt+5tvvnnGny6++OLysIc9rOf57SUAkZNlNZG8Td/YNt988+rfLbLIIn0NKytHJLj2t7/9bcbn8puf3/5ObdjzIQDxf9qD/k7ldyHBs8aW38aLLrqo5fYY3W6UPMtPOumkGYdlxZ2EDhOM7NTyu3bGGWfMOCRb7+ywww7dLuvvBAgQIECAAAECBAj0KSAA0SeYwwkQIECAAAECBAhMg8A4AhBxTVE3b+02thTRUsRKQX2ULcX7bOuQLTAaW/a2P/3009sW1Q477LCy7777zupqP2/l58ODBiBuvPHG8uAHP7j84x//mNGHBDPylurCWE3j2muvLautttqsMfe713qWx8+e7dddd13LqZ72AEQKs29605varuax8sorlwsvvLBaWaHXNmhhsdfztzvurrvuKve73/3KX//61xmHdNqupVMAIuf69a9/Xe51r3v13LVWxep8OAGTpz/96R3Pk5U8skpAY0uhPdvgNG/H0HOHBjhw2AX3AbrQ8iOZ1/ve976z/pbfp1b/PgfOpdif50aeH83tmGOOaRli6zTOF7zgBSXbJDS2FM2zwkdWgejUhj0fczEZ1lzWdQuMjD/P7wc96EGzgjhZjeGss87qi+jss88uWdmoub397W8vb3nLW7qe67nPfW454YQTZhyX35HmgEbXEzmAAAECBAgQIECAAIGuAgIQXYkcQIAAAQIECBAgQGD6BMYVgMhblBtul2VW7AAAIABJREFUuOGs4n1WLjjzzDPnHIJIACCF1yc96UkdJzXhgbw9fMkll8w4LoWUvLHeroC34OBdd9215E32xpZVGH784x+XjTfeuKcbatAARE6eAEaCGM3tWc96VlWAWXLJJXvqQ+NB2WJglVVWabuywNprrz1refi99tprVqCl3YVvvfXWknDJ97///bZ9m8YARLYEybLrxx9/fMmKJK1WfQjYSiutVLItRrZh6acNEoD4xCc+Ud0LKfQPGqhJgTmF5sa23HLLlYQ8ll122ZZD6BSAyAfyJnXCSdmOolu74oorqlUDcr3GlgJ3ghTdzpGVajbZZJNy2WWXzfqeZxWTdtt4dOvXgr+nD/m92HvvvTt+ZNgF91zsXe96V9lss81Ktg8YtL3tbW8rKQw3tqzwk1BUuzaXYn9W3cncJYzVfE/le5Hf815a7u1XvepVsw7dbbfdysknn9z1FMOej7mYdO1sjwfUOQCRIWZrrWyx1dzy79///vf3pJDfi8c//vGzwnl5rueevv/979/1PO95z3vKG9/4xhnHZYut5rBN1xM5gAABAgQIECBAgACBrgICEF2JHECAAAECBAgQIEBg+gTGFYCI9OGHH1722WefWegpjr7vfe8rL3rRi8rSSy/d86RkNYFTTz21fPrTny4/+9nPqiXMW21f0XjCbLlx5JFHzrhGCr15AzRFkG4tbz9nef+rr756xqEbbbRRVdRsV+BtPHguAYgEOB7zmMdU2140txR9P/axj/VcKP/Vr35VUhSMR8bVzn6//fYrH/7wh2dd74ADDiiHHHJIx0J5lsV/4QtfWLKVxoIW74RVGlvdAxAposajVUvQ4Y477qiW3c89m6Ja5u9HP/pRuemmmzrecuuss05VnG23tUCnDw8SgHj5y19efZ8SennpS19a9thjj2r7ml5bAgL5jWleXaVbYKZVMTirLmRLigUtIZqjjz66Wl2iXfvhD39YBQsSuGpu/SxJn/s1W47ceeedM06TPr32ta+tip0JivTa4pECegqi2YJjl112KaecckrHjw+74J6LJUjyjW98owp4vPjFLy7PfOYzqxVpemmZi09+8pPV+Ju/v/F497vf3fY0cy32x+xpT3varPPf5z73KVmBZ/fdd2977QRa8juV0Ea+i40t4aKE4RKA69aGPR9zNenW317+XvcAxG233Vbdy7/73e9mDTf/rZEQRP77ol1LcDLb2zQ/z3P8xz/+8fLKV76yF8bqO9W83UX+WyCr9ox6haueOuwgAgQIECBAgAABAjUWEICo8eTpOgECBAgQIECAAIGFJdAqADHsa3VaZj5Ly2dp6FYtBcUUbbfaaqvyiEc8olqNYcUVV6xWjUjx+IYbbqgKxymq/+AHPyjnnXfejAJptwDEiSeeWFKIbW4p3DW/vdnJJIXrbbbZpqSw1tjy1nsKtN3aXAIQOXe28Mhb3Cn+NLcUaHfccceqWJhAR66VrUZSgM02FPFLUCMFxYRGFrQYtwtAXHPNNSWF+BTsmtvDH/7wqkiU5cMXFBFT5E/h5ytf+Ur54he/OKNYmqJr3uTPqhONre4BiG5z3u/fsyx/AkG5p/vZ+qHxOnMJQDSeJ9vF5DuZ/00QI9tx5J5KkCWre6T4mJUsPv/5z1ehjuaWQuBFF11U3UPtWrticLY+OOqoo+75WH4TEqhJwTurx8Qm91LOn60Ssk1Fc5E7H+4WwGjVr6yokuJoYwhjwXH5rmSVjNz3CSTlLfGY5DfhlltuqYIt+Z7mt+qCCy4o3/3ud2d8f7KSzDgDEAvGkfssW+jkn0033bQkyBXjjCUtY8n2EPm9zUolzSvn5Jj8xlx66aUlYYR+57fVb0q7c2Q7gSOOOKLln5/85CdXc5UQ2KqrrloFV/7whz9Uhen8Jjev5rHgJLln99xzz56+ngIQPTH1fdAgv1ONF0noaeutt275vc+WUfm92Hnnnavto1ZYYYWSZ02eT5n7hMtafb+zQkrmu9eWVUpy3+UZ29jy3y/ZHiP35QMf+MCSVSWa27rrrtt15ale++E4AgQIECBAgAABAtMgIAAxDbNsjAQIECBAgAABAgT6FBh3ACLFybxBnLcrh906BSBSxMsWAinYNrbtt9++KnQkONBPe+9731sOOuigWR9JkbDVfvWNB841AJFz5c3VhBxahSD6GceCYzsFIHJMVoDIShBzaQltZG/2rC4gANFaMqGCFNbzZnZWGplLG6SwuGAFiLlct/GzKbAnwJDfnU6tXQAi21ikeJgC+6Atb4hn+5UUP/ttxx13XBVEaQ479Xue5uMnJQAx13EstdRS1ZZA+R0dZH77CUDk2PzmZduLYbSDDz64vPOd7+z5VAIQPVP1deAgv1PNF0gwJr9drcIMfXWmlJJQX55TnQI9rc6Z/x7Ifxf02xLMjIFGgAABAgQIECBAgEBvAgIQvTk5igABAgQIECBAgMBUCYw7ALEA+5hjjqmCEM2BhLlMxmGHHVads7ll+4EsZ9+44kGOyRuZP//5zzsuqd+uPym0ZKWFvGHc2JZffvlqu4f11luv7VCGEYDIyVMUzhYF7d5u7seyWwAi53rNa15TbbExSIt/CqVZPWAu43/sYx9brTbQ2M4999ySfz+q1qoPc7n2EkssUa0ikFUNMp+9LMffy/UGKSwOMwCRlR/y9v2zn/3srt3ttB1A3uTfbrvtSrZs6bcldHPmmWdW992gLfdXQk2tltkf9JzZeiKrVXRqwy6451oLtsAYtN+Nn0uBOKu8POEJT+h6umFt95DzZGuWBM0Gbfm+ffCDH6x+z/ppw56PYZn0M4bmY+u+BUbjeLLaUFZ7aN5+px+frPxw0kknlWyN0m9r998Z3c4jANFNyN8JECBAgAABAgQIzBQQgHBHECBAgAABAgQIECAwS2BSAhDpWFYByBu4n/3sZwcuWmQJ/BSOn//851fLYLdaySFbNGTv+saWN9O//e1vV0vYD9qyJUe26rj22mtnnCJvnGd7jnZbSswlANDc1yy9ndUZPvShD1VbhPTbHvKQh5SXvOQl1WoWMenW8qbtG97whmpLkl7akksuWa0c8ba3va3kbfG0uYy/bgGI3I8puGbsWYEg27xku4Q111yzbLDBBtX+9ZtvvnlJWGDYbZAARLawyBwnNDDI/ZQx5D7KdzL3ZJad76V1Kwb/9a9/La9+9aurZet7aTFPgTvb2yy473r5XLtj0r+PfvSjJSGrLKE/SEufslJCfqt22WWXrv0adsE9fc685vc2wa1ev8PNY804st3PIYcc0vPS/d3mt1/PbF2Q4v1vfvObvj6a3/uPfOQj1VYu/bZhz8ewTfodT46fTwGIjOf3v/992X///Uu24epnNYhsX5FnVLZo6nc1qEb3BDrzu5OAzl133dXTlAhA9MTkIAIECBAgQIAAAQL3CAhAuBkIECBAgAABAgQIEJglcMUVVwxc2OyVc/31179nD/lePnPzzTeXU045pSrOXXDBBeWqq65q+bEUVlM43nDDDas35rPve/538cUX7+Uy8/qYrOBw6qmnVv9kT/S8Nd+q3fve9678ttlmm2oFiy233LKn4EPjuW666aZy+OGHVys6ZLWL5u0BUnDO9g077bRTtX1AVtpobFn9o/kt3by5uzBCAPN60hfi4LJVzYUXXljdS1kB4ZJLLilXXnllyX3WqiXUkTBQvpN77bVXWW211frqXa/F4KzikoDG17/+9Za/E+uuu27J9hKveMUrylprrdVXH3o5+M4776y2zMm9H5fLL7+8baEz932+a/kuPOlJT6q+c8stt1wvl1nox2QcWUklgZeMI6vIpHicQFWrllVJMo68IZ9gzX3ve9+F3sduF0iBOfdB3vzPlkBXX331rI/kmbHRRhuVbbfdtuy9997l0Y9+dLfTTtXf85y45pprZox5mWWWqYJZdW5ZLSYhhAR9LrroopL7vbnlN+vxj398teVQAlvDCEotuEZCkVlJIv89k9/OG2+8sVrtqtXvpwBEne80fSdAgAABAgQIEBiHgADEONRdkwABAgQIECBAgACBOQukSJCiTAoGKXJlW4m8PZ9l7IdZpJhzRyf4BAkYLDDMG63xS/hhLlsBtBpu5ioreeQN/cUWW6xaOjzF0vzf2vwSyBvVmetbbrmlCrCkuLziiitW91X+mUvrNQDReI30I/f47bffXq22ktUm0p9RtoR/UuxMKCjhgYR48l3L9hD53apTS+jluuuuq1aGuO2226qVS7LCTsYyatdB3NLnP/7xj9W9md+89Dn3RFah0aZXIN/R3Bf5jub/znc0Kz7M9TdrekWNnAABAgQIECBAgMB4BQQgxuvv6gQIECBAgAABAgQIECBAgEAPAoMEIHo4rUMIECBAgAABAgQIECBAgACBeSQgADGPJtNQCBAgQIAAAQIECBAgQIDAfBUQgJivM2tcBAgQIECAAAECBAgQIEBgeAICEMOzdCYCBAgQIECAAAECBAgQIEBgIQkIQCwkWKclQIAAAQIECBAgQIAAAQLzSEAAYh5NpqEQIECAAAECBAgQIECAAIH5KiAAMV9n1rgIECBAgAABAgQIECBAgMDwBAQghmfpTAQIECBAgAABAgQIECBAgMBCEhCAWEiwTkuAAAECBAgQIECAAAECBOaRgADEPJpMQyFAgAABAgQIECBAgAABAvNVQABivs6scREgQIAAAQIECBAgQIAAgeEJCEAMz9KZCBAgQIAAAQIECBAgQIAAgYUkIACxkGCdlgABAgQIECBAgAABAgQIzCMBAYh5NJmGQoAAAQIECBAgQIAAAQIE5quAAMR8nVnjIkCAAAECBAgQIECAAAECwxMQgBiepTMRIECAAAECBAgQIECAAAECC0lAAGIhwTotAQIECBAgQIAAAQIECBCYRwICEPNoMg2FAAECBAgQIECAAAECBAjMVwEBiPk6s8ZFgAABAgQIECBAgAABAgSGJyAAMTxLZyJAgAABAgQIECBAgAABAgQIECBAgAABAgQIECBAgAABAgTGJCAAMSZ4lyVAgAABAgQIECBAgAABAgQIECBAgAABAgQIECBAgAABAgSGJyAAMTxLZyJAgAABAgQIECBAgAABAgQIECBAgAABAgQIECBAgAABAgTGJCAAMSZ4lyVAgAABAgQIECBAgAABAgQIECBAgAABAgQIECBAgAABAgSGJyAAMTxLZyJAgAABAgQIECBAgAABAgQIECBAgAABAgQIECBAgAABAgTGJCAAMSZ4lyVAgAABAgQIECBAgAABAgQIECBAgAABAgQIECBAgAABAgSGJyAAMTxLZyJAgAABAgQIECBAgAABAgQIECBAgAABAgQIECBAgAABAgTGJCAAMSZ4lyVAgAABAgQIECBAgAABAgQIECBAgAABAgQIECBAgAABAgSGJyAAMTxLZyJAgAABAgQIECBAgAABAgQIECBAgAABAgQIECBAgAABAgTGJCAAMSZ4lyVAgAABAgQIECBAgAABAgQIECBAgAABAgQIECBAgAABAgSGJyAAMTxLZyJAgAABAgQIECBAgAABAgQIECBAgAABAgQIECBAgAABAgTGJCAAMSZ4lyVAgAABAgQIECBAgAABAgQIECBAgAABAgQIECBAgAABAgSGJyAAMTxLZyJAgAABAgQIECBAgAABAgQIECBAgAABAgQIECBAgAABAgTGJCAAMSZ4lyUwyQIPeMADys0331x1cYklligPfvCDJ7m7+kaAAAECBAgQIECAAAECBAgQIECAAAECBAgQqKXA1VdfXe68886q7yuttFK57rrrajkOnSYwKQICEJMyE/pBYIIEll566XLHHXdMUI90hQABAgQIECBAgAABAgQIECBAgAABAgQIECAwvwWWWmqp8s9//nN+D9LoCCxkAQGIhQzs9ATqKCAAUcdZ02cCBAgQIECAAAECBAgQIECAAAECBAgQIECgzgICEHWePX2fFAEBiEmZCf0gMEECK6ywQrntttuqHuVhu/baa09Q73SFAAECBAgQIECAAAECBAgQIECAAAECBAgQIDA/BK644op7VuVefvnly6233jo/BmYUBMYkIAAxJniXJTDJAhtvvHG57LLLqi5utNFG5dJLL53k7uobAQIECBAgQIAAAQIECBAgQIAAAQIECBAgQKCWAmoytZw2nZ5gAQGICZ4cXSMwLgEP23HJuy4BAgQIECBAgAABAgQIECBAgAABAgQIECAwTQJqMtM028Y6CgEBiFEouwaBmgl42NZswnSXAAECBAgQIECAAAECBAgQIECAAAECBAgQqKWAmkwtp02nJ1hAAGKCJ0fXCIxLwMN2XPKuS4AAAQIECBAgQIAAAQIECBAgQIAAAQIECEyTgJrMNM22sY5CQABiFMquQaBmAh62NZsw3SVAgAABAgQIECBAgAABAgQIECBAgAABAgRqKaAmU8tp0+kJFhCAmODJ0TUC4xLwsB2XvOsSIECAAAECBAgQIECAAAECBAgQIECAAAEC0ySgJjNNs22soxAQgBiFsmsQqJmAh23NJkx3CRAgQIAAAQIECBAgQIAAAQIECBAgQIAAgVoKqMnUctp0eoIFBCAmeHJ0jcC4BDxsxyXvugQIECBAgAABAgQIECBAgAABAgQIECBAgMA0CajJTNNsG+soBAQgRqHsGgRqJuBhW7MJ010CBAgQIECAAAECBAgQIECAAAECBAgQIECglgJqMrWcNp2eYAEBiAmeHF0jMC4BD9txybsuAQIECBAgQIAAAQIECBAgQIAAAQIECBAgME0CajLTNNvGOgoBAYhRKLsGgZoJeNjWbMJ0lwABAgQIECBAgAABAgQIECBAgAABAgQIEKilgJpMLadNpydYQABigidH1wiMS8DDdlzyrkuAAAECBAgQIECAAAECBAgQIECAAAECBAhMk4CazDTNtrGOQkAAYhTKrkGgZgIetjWbMN0lQIAAAQIECBAgQIAAAQIECBAgQIAAAQIEaimgJlPLadPpCRYQgJjgydE1AuMS8LAdl7zrEiBAgAABAgQIECBAgAABAgQIECBAgAABAtMkoCYzTbNtrKMQEIAYhbJrEKiZgIdtzSZMdwkQIECAAAECBAgQIECAAAECBAgQIECAAIFaCqjJ1HLadHqCBQQgJnhydI3AuAQ8bMcl77oECBAgQIAAAQIECBAgQIAAAQIECBAgQIDANAmoyUzTbBvrKAQEIEah7BoEaibgYVuzCdNdAgQIECBAgAABAgQIECBAgAABAgQIECBAoJYCajK1nDadnmABAYgJnhxdIzAuAQ/bccm7LgECBAgQIECAAAECBAgQIECAAAECBAgQIDBNAmoy0zTbxjoKAQGIUSi7BoGaCXjY1mzCdJcAAQIECBAgQIAAAQIECBAgQIAAAQIECBCopYCaTC2nTacnWEAAYoInR9cIjEvAw3Zc8q5LgAABAgQIECBAgAABAgQIECBAgAABAgQITJOAmsw0zbaxjkJAAGIUyq5BoGYCHrY1mzDdJUCAAAECBAgQIECAAAECBAgQIECAAAECBGopoCZTy2nT6QkWEICY4MnRNQLjEvCwHZe86xIgQIAAAQIECBAgQIAAAQIECBAgQIAAAQLTJKAmM02zbayjEBCAGIWyaxComYCHbc0mTHcJECBAgAABAgQIECBAgAABAgQIECBAgACBWgqoydRy2nR6ggUEICZ4cnSNwLgEPGzHJe+6BAgQIECAAAECBAgQIECAAAECBAgQIECAwDQJqMlM02wb6ygEBCBGoewaBGom4GFbswnTXQIECBAgQIAAAQIECBAgQIAAAQIECBAgQKCWAmoytZw2nZ5gAQGICZ4cXSMwLgEP23HJuy4BAgQIECBAgAABAgQIECBAgAABAgQIECAwTQJqMtM028Y6CgEBiFEouwaBmgl42NZswnSXAAECBAgQIECAAAECBAgQIECAAAECBAgQqKWAmkwtp02nJ1hAAGKCJ0fXCIxLwMN2XPKuS4AAAQIECBAgQIAAAQIECBAgQIAAAQIECEyTgJrMNM22sY5CQABiFMquQaBmAh62NZsw3SVAgAABAgQIECBAgAABAgQIECBAgAABAgRqKaAmU8tp0+kJFhCAmODJ0TUC4xLwsB2XvOsSIECAAAECBAgQIECAAAECBAgQIECAAAEC0ySgJjNNs22soxAQgBiFsmsQqJmAh23NJkx3CRAgQIAAAQIECBAgQIAAAQIECBAgQIAAgVoKqMnUctp0eoIFBCAmeHJ0jcC4BDxsxyXvugQIECBAgAABAgQIECBAgAABAgQIECBAgMA0CajJTNNsG+soBAQgRqHsGgRqJuBhW7MJ010CBAgQIECAAAECBAgQIECAAAECBAgQIECglgJqMrWcNp2eYAEBiAmeHF0jMC4BD9txybsuAQIECBAgQIAAAQIECBAgQIAAAQIECBAgME0CajLTNNvGOgoBAYhRKLsGgZoJeNjWbMJ0lwABAgQIECBAgAABAgQIECBAgAABAgQIEKilgJpMLadNpydYQABigidH1wiMS8DDdlzyrkuAAAECBAgQIECAAAECBAgQIECAAAECBAhMk4CazDTNtrGOQkAAYhTKrkGgZgIetjWbMN0lQIAAAQIECBAgQIAAAQIECBAgQIAAAQIEaimgJlPLadPpCRYQgJjgydE1AuMS8LAdl7zrEiBAgAABAgQIECBAgAABAgQIECBAgAABAtMkoCYzTbNtrKMQEIAYhbJrEKiZgIdtzSZMdwkQIECAAAECBAgQIECAAAECBAgQIECAAIFaCqjJ1HLadHqCBQQgJnhydI3AuAQ8bMcl77oECBAgQIAAAQIECBAgQIAAAQIECBAgQIDANAmoyUzTbBvrKAQEIEah7BoEaibgYVuzCdNdAgQIECBAgAABAgQIECBAgAABAgQIECBAoJYCajK1nDadnmABAYgJnhxdIzAuAQ/bccm7LgECBAgQIECAAAECBAgQIECAAAECBAgQIDBNAmoy0zTbxjoKAQGIUSi7BoGaCXjY1mzCdJcAAQIECBAgQIAAAQIECBAgQIAAAQIECBCopYCaTC2nTacnWEAAYoInR9cIjEvAw3Zc8q5LgAABAgQIECBAgAABAgQIECBAgAABAgQITJOAmsw0zbaxjkJAAGIUyq5BoGYCHrY1mzDdJUCAAAECBAgQIECAAAECBAgQIECAAAECBGopoCZTy2nT6QkWEICY4MnRNQLjEvCwHZe86xIgQIAAAQIECBAgQIAAAQIECBAgQIAAAQLTJKAmM02zbayjEBCAGIWyaxComYCHbc0mTHcJECBAgAABAgQIECBAgAABAgQIECBAgACBWgqoydRy2nR6ggUEICZ4cnSNwLgEPGzHJe+6BAgQIECAAAECBAgQIECAAAECBAgQIECAwDQJqMlM02wb6ygEBCBGoewaBGom4GFbswnTXQIECBAgQIAAAQIECBAgQIAAAQIECBAgQKCWAmoytZw2nZ5gAQGICZ4cXSMwLgEP23HJuy4BAgQIECBAgAABAgQIECBAgAABAgQIECAwTQJqMtM028Y6CgEBiFEouwaBmgl42NZswnSXAAECBAgQIECAAAECBAgQIECAAAECBAgQqKWAmkwtp02nJ1hAAGKCJ0fXCIxLwMN2XPKuS4AAAQIECBAgQIAAAQIECBAgQIAAAQIECEyTgJrMNM22sY5CQABiFMquQaBmAh62NZsw3SVAgAABAgQIECBAgAABAgQIECBAgAABAgRqKaAmU8tp0+kJFhCAmODJ0TUC4xLwsB2XvOsSIECAAAECBAgQIECAAAECBAgQIECAAAEC0ySgJjNNs22soxAQgBiFsmsQqJmAh23NJkx3CRAgQIAAAQIECBAgQIAAAQIECBAgQIAAgVoKqMnUctp0eoIFBCAmeHJ0jcC4BDxsxyXvugQIECBAgAABAgQIECBAgAABAgQIECBAgMA0CajJTNNsG+soBAQgRqHsGgRqJuBhW7MJ010CBAgQIECAAAECBAgQIECAAAECBAgQIECglgJqMrWcNp2eYAEBiAmeHF0jMC4BD9txybsuAQIECBAgQIAAAQIECBAgQIAAAQIECBAgME0CajLTNNvGOgoBAYhRKLsGgZoJeNjWbMJ0lwABAgQIECBAgAABAgQIECBAgAABAgQIEKilgJpMLadNpydYQABigidH1wiMS8DDdlzyrkuAAAECBAgQIECAAAECBAgQIECAAAECBAhMk4CazDTNtrGOQkAAYhTKrkGgZgIetjWbMN0lQIAAAQIECBAgQIAAAQIECBAgQIAAAQIEaimgJlPLadPpCRYQgJjgydE1AuMS8LAdl7zrEiBAgAABAgQIECBAgAABAgQIECBAgAABAtMkoCYzTbNtrKMQEIAYhbJrEKiZgIdtzSZMdwkQIECAAAECBAgQIECAAAECBAgQIECAAIFaCqjJ1HLadHqCBQQgJnhydI3AuAQ8bMcl77oECBAgQIAAAQIECBAgQIAAAQIECBAgQIDANAmoyUzTbBvrKAQEIEah7BoEaibgYVuzCdNdAgQIECBAgAABAgQIECBAgAABAgQIECBAoJYCajK1nDadnmABAYgJnhxdIzAuAQ/bccm7LgECBAgQIECAAAECBAgQIECAAAECBAgQIDBNAmoy0zTbxjoKAQGIUSi7BoGaCXjY1mzCdJcAAQIECBAgQIAAAQIECBAgQIAAAQIECBCopYCaTC2nTacnWEAAYoInR9cIjEvAw3Zc8q5LgAABAgQIECBAgAABAgQIECBAgAABAgQITJOAmsw0zbaxjkJAAGIUyq5BoGYCHrY1mzDdJUCAAAECBAgQIECAAAECBAgQIECAAAECBGopoCZTy2nT6QkWEICY4MnRNQLjEvCwHZe86xIgQIAAAQIECBAgQIAAAQIECBAgQIAdMS6pAAAgAElEQVQAAQLTJKAmM02zbayjEBCAGIWyaxComYCHbc0mTHcJECBAgAABAgQIECBAgAABAgQIECBAgACBWgqoydRy2nR6ggUEICZ4cnSNwLgEPGzHJe+6BAgQIECAAAECBAgQIECAAAECBAgQIECAwDQJqMlM02wb6ygEBCBGoewaBGom4GFbswnTXQIECBAgQIAAAQIECBAgQIAAAQIECBAgQKCWAmoytZw2nZ5gAQGICZ4cXSMwLgEP23HJuy4BAgQIECBAgAABAgQIECBAgAABAgQIECAwTQJqMtM028Y6CgEBiFEouwaBmgl42NZswnSXAAECBAgQIECAAAECBAgQIECAAAECBAgQqKWAmkwtp02nJ1hAAGKCJ0fXCIxLwMN2XPKuS4AAAQIECBAgQIAAAQIECBAgQIAAAQIECEyTgJrMNM22sY5CQABiFMquQaBmAh62NZsw3SVAgAABAgQIECBAgAABAgQIECBAgAABAgRqKaAmU8tp0+kJFhCAmODJ0TUC4xLwsB2XvOsSIECAAAECBAgQIECAAAECBAgQIECAAAEC0ySgJjNNs22soxAQgBiFsmsQqJmAh23NJkx3CRAgQIAAAQIECBAgQIAAAQIECBAgQIAAgVoKqMnUctp0eoIFBCAmeHJ0jcC4BDxsxyXvugQIECBAgAABAgQIECBAgAABAgQIECBAgMA0CajJTNNsG+soBAQgRqHsGgRqJuBhW7MJ010CBAgQIECAAAECBAgQIECAAAECBAgQIECglgJqMrWcNp2eYAEBiAmeHF0jMC4BD9txybsuAQIECBAgQIAAAQIECBAgQIAAAQIECBAgME0CajLTNNvGOgoBAYhRKLsGgZoJeNjWbMJ0lwABAgQIECBAgAABAgQIECBAgAABAgQIEKilgJpMLadNpydYQABigidH1wiMS8DDdlzyrkuAAAECBAgQIECAAAECBAgQIECAAAECBAhMk4CazDTNtrGOQkAAYhTKrkGgZgIetjWbMN0lQIAAAQIECBAgQIAAAQIECBAgQIAAAQIEaimgJlPLadPpCRYQgJjgydE1AuMS8LAdl7zrEiBAgAABAgQIECBAgAABAgQIECBAgAABAtMkoCYzTbNtrKMQEIAYhbJrEKiZgIdtzSZMdwkQIECAAAECBAgQIECAAAECBAgQIECAAIFaCqjJ1HLadHqCBQQgJnhydI3AuAQ8bMcl77oECBAgQIAAAQIECBAgQIAAAQIECBAgQIDANAmoyUzTbBvrKAQEIEah7BoEaibgYVuzCdNdAgQIECBAgAABAgQIECBAgAABAgQIECBAoJYCajK1nDadnmABAYgJnhxdIzAuAQ/bccm7LgECBAgQIECAAAECBAgQIECAAAECBAgQIDBNAmoy0zTbxjoKAQGIUSi7BoGaCXjY1mzCdJcAAQIECBAgQIAAAQIECBAgQIAAAQIECBCopYCaTC2nTacnWEAAYoInR9cIjEvAw3Zc8q5LgAABAgQIECBAgAABAgQIECBAgAABAgQITJOAmsw0zbaxjkJAAGIUyq5BoGYCHrY1mzDdJUCAAAECBAgQIECAAAECBAgQIECAAAECBGopoCZTy2nT6QkW+H/s3QnwPGlZGP4HlEtd7ltw5TAcrpiAcoVTPGIQUQzGIFWgIFExijEGSSQokUCCBIyYVBA5dFesImIEKbCIcqmUKEE8OCIKRO5jYbmWBZb915v5T81859cz7zEz3dPdn6myZL/zvv2+7+fp7re73+fXIwHihIOjawSGEjDZDiWvXQIECBAgQIAAAQIECBAgQIAAAQIECBAgQGBOAtZk5hRtY+1DQAJEH8raIDAyAZPtyAKmuwQIECBAgAABAgQIECBAgAABAgQIECBAgMAoBazJjDJsOn3CAhIgTjg4ukZgKAGT7VDy2iVAgAABAgQIECBAgAABAgQIECBAgAABAgTmJGBNZk7RNtY+BCRA9KGsDQIjEzDZjixgukuAAAECBAgQIECAAAECBAgQIECAAAECBAiMUsCazCjDptMnLCAB4oSDo2sEhhIw2Q4lr10CBAgQIECAAAECBAgQIECAAAECBAgQIEBgTgLWZOYUbWPtQ0ACRB/K2iAwMgGT7cgCprsECBAgQIAAAQIECBAgQIAAAQIECBAgQIDAKAWsyYwybDp9wgISIE44OLpGYCgBk+1Q8tolQIAAAQIECBAgQIAAAQIECBAgQIAAAQIE5iRgTWZO0TbWPgQkQPShrA0CIxMw2Y4sYLpLgAABAgQIECBAgAABAgQIECBAgAABAgQIjFLAmswow6bTJywgAeKEg6NrBIYSMNkOJa9dAgQIECBAgAABAgQIECBAgAABAgQIECBAYE4C1mTmFG1j7UNAAkQfytogMDIBk+3IAqa7BAgQIECAAAECBAgQIECAAAECBAgQIECAwCgFrMmMMmw6fcICEiBOODi6RmAoAZPtUPLaJUCAAAECBAgQIECAAAECBAgQIECAAAECBOYkYE1mTtE21j4EJED0oawNAiMTMNmOLGC6S4AAAQIECBAgQIAAAQIECBAgQIAAAQIECIxSwJrMKMOm0ycsIAHihIOjawSGEjDZDiWvXQIECBAgQIAAAQIECBAgQIAAAQIECBAgQGBOAtZk5hRtY+1DQAJEH8raIDAyAZPtyAKmuwQIECBAgAABAgQIECBAgAABAgQIECBAgMAoBazJjDJsOn3CAhIgTjg4ukZgKAGT7VDy2iVAgAABAgQIECBAgAABAgQIECBAgAABAgTmJGBNZk7RNtY+BCRA9KGsDQIjEzDZjixgukuAAAECBAgQIECAAAECBAgQIECAAAECBAiMUsCazCjDptMnLCAB4oSDo2sEhhIw2Q4lr10CBAgQIECAAAECBAgQIECAAAECBAgQIEBgTgLWZOYUbWPtQ0ACRB/K2iAwMgGT7cgCprsECBAgQIAAAQIECBAgQIAAAQIECBAgQIDAKAWsyYwybDp9wgISIE44OLpGYCgBk+1Q8tolQIAAAQIECBAgQIAAAQIECBAgQIAAAQIE5iRgTWZO0TbWPgQkQPShrA0CIxMw2Y4sYLpLgAABAgQIECBAgAABAgQIECBAgAABAgQIjFLAmswow6bTJywgAeKEg6NrBIYSMNkOJa9dAgQIECBAgAABAgQIECBAgAABAgQIECBAYE4C1mTmFG1j7UNAAkQfytogMDIBk+3IAqa7BAgQIECAAAECBAgQIECAAAECBAgQIECAwCgFrMmMMmw6fcICEiBOODi6RmAoAZPtUPLaJUCAAAECBAgQIECAAAECBAgQIECAAAECBOYkYE1mTtE21j4EJED0oawNAiMTMNmOLGC6S4AAAQIECBAgQIAAAQIECBAgQIAAAQIECIxSwJrMKMOm0ycsIAHihIOjawSGEjDZDiWvXQIECBAgQIAAAQIECBAgQIAAAQIECBAgQGBOAtZk5hRtY+1DQAJEH8raIDAyAZPtyAKmuwQIECBAgAABAgQIECBAgAABAgQIECBAgMAoBazJjDJsOn3CAhIgTjg4ukZgKAGT7VDy2iVAgAABAgQIECBAgAABAgQIECBAgAABAgTmJGBNZk7RNtY+BCRA9KGsDQIjEzDZjixgukuAAAECBAgQIECAAAECBAgQIECAAAECBAiMUsCazCjDptMnLCAB4oSDo2sEhhIw2Q4lr10CBAgQIECAAAECBAgQIECAAAECBAgQIEBgTgLWZOYUbWPtQ0ACRB/K2iAwMgGT7cgCprsECBAgQIAAAQIECBAgQIAAAQIECBAgQIDAKAWsyYwybDp9wgISIE44OLpGYCgBk+1Q8tolQIAAAQIECBAgQIAAAQIECBAgQIAAAQIE5iRgTWZO0TbWPgQkQPShrA0CIxMw2Y4sYLpLgAABAgQIECBAgAABAgQIECBAgAABAgQIjFLAmswow6bTJywgAeKEg6NrBIYSMNkOJa9dAgQIECBAgAABAgQIECBAgAABAgQIECBAYE4C1mTmFG1j7UNAAkQfytogMDIBk+3IAqa7BAgQIECAAAECBAgQIECAAAECBAgQIECAwCgFrMmMMmw6fcICEiBOODi6RmAoAZPtUPLaJUCAAAECBAgQIECAAAECBAgQIECAAAECBOYkYE1mTtE21j4EJED0oawNAiMTMNmOLGC6S4AAAQIECBAgQIAAAQIECBAgQIAAAQIECIxSwJrMKMOm0ycsIAHihIOjawSGEjDZDiWvXQIECBAgQIAAAQIECBAgQIAAAQIECBAgQGBOAtZk5hRtY+1DQAJEH8raIDAyAZPtyAKmuwQIECBAgAABAgQIECBAgAABAgQIECBAgMAoBazJjDJsOn3CAhIgTjg4ukZgKAGT7VDy2iVAgAABAgQIECBAgAABAgQIECBAgAABAgTmJGBNZk7RNtY+BCRA9KGsDQIjEzDZjixgukuAAAECBAgQIECAAAECBAgQIECAAAECBAiMUsCazCjDptMnLCAB4oSDo2sEhhIw2Q4lr10CBAgQIECAAAECBAgQIECAAAECBAgQIEBgTgLWZOYUbWPtQ0ACRB/K2iAwMgGT7cgCprsECBAgQIAAAQIECBAgQIAAAQIECBAgQIDAKAWsyYwybDp9wgISIE44OLpGYCgBk+1Q8tolQIAAAQIECBAgQIAAAQIECBAgQIAAAQIE5iRgTWZO0TbWPgQkQPShrA0CIxMw2Y4sYLpLgAABAgQIECBAgAABAgQIECBAgAABAgQIjFLAmswow6bTJywgAeKEg6NrBIYSMNkOJa9dAgQIECBAgAABAgQIECBAgAABAgQIECBAYE4C1mTmFG1j7UNAAkQfytogMDIBk+3IAqa7BAgQIECAAAECBAgQIECAAAECBAgQIECAwCgFrMmMMmw6fcICEiBOODi6RmAoAZPtUPLaJUCAAAECBAgQIECAAAECBAgQIECAAAECBOYkYE1mTtE21j4EJED0oawNAiMTMNmOLGC6S4AAAQIECBAgQIAAAQIECBAgQIAAAQIECIxSwJrMKMOm0ycsIAHihIOjawSGEjDZDiWvXQIECBAgQIAAAQIECBAgQIAAAQIECBAgQGBOAtZk5hRtY+1DQAJEH8raIDAyAZPtyAKmuwQIECBAgAABAgQIECBAgAABAgQIECBAgMAoBazJjDJsOn3CAhIgTjg4ukZgKAGT7VDy2iVAgAABAgQIECBAgAABAgQIECBAgAABAgTmJGBNZk7RNtY+BCRA9KGsDQIjEzDZjixgukuAAAECBAgQIECAAAECBAgQIECAAAECBAiMUsCazCjDptMnLCAB4oSDo2sEhhIw2Q4lr10CBAgQIECAAAECBAgQIECAAAECBAgQIEBgTgLWZOYUbWPtQ0ACRB/K2iAwMgGT7cgCprsECBAgQIAAAQIECBAgQIAAAQIECBAgQIDAKAWsyYwybDp9wgISIE44OLpGYCgBk+1Q8tolQIAAAQIECBAgQIAAAQIECBAgQIAAAQIE5iRgTWZO0TbWPgQkQPShrA0CIxMw2Y4sYLpLgAABAgQIECBAgAABAgQIECBAgAABAgQIjFLAmswow6bTJywgAeKEg6NrBIYSMNkOJa9dAgQIECBAgAABAgQIECBAgAABAgQIECBAYE4C1mTmFG1j7UNAAkQfytogMDIBk+3IAqa7BAgQIECAAAECBAgQIECAAAECBAgQIECAwCgFrMmMMmw6fcICEiBOODi6RmAoAZPtUPLaJUCAAAECBAgQIECAAAECBAgQIECAAAECBOYkYE1mTtE21j4EJED0oawNAiMTMNmOLGC6S4AAAQIECBAgQIAAAQIECBAgQIAAAQIECIxSwJrMKMOm0ycsIAHihIOjawSGEjDZDiWvXQIECBAgQIAAAQIECBAgQIAAAQIECBAgQGBOAtZk5hRtY+1DQAJEH8raIDAyAZPtyAKmuwQIECBAgAABAgQIECBAgAABAgQIECBAgMAoBazJjDJsOn3CAhIgTjg4ukZgKAGT7VDy2iVAgAABAgQIECBAgAABAgQIECBAgAABAgTmJGBNZk7RNtY+BCRA9KGsDQIjEzDZjixgukuAAAECBAgQIECAAAECBAgQIECAAAECBAiMUsCazCjDptMnLCAB4oSDo2sEhhIw2Q4lr10CBAgQIECAAAECBAgQIECAAAECBAgQIEBgTgLWZOYUbWPtQ0ACRB/K2iAwMgGT7cgCprsECBAgQIAAAQIECBAgQIAAAQIECBAgQIDAKAWsyYwybDp9wgISIE44OLpGYCgBk+1Q8tolQIAAAQIECBAgQIAAAQIECBAgQIAAAQIE5iRgTWZO0TbWPgQkQPShrA0CIxMw2Y4sYLpLgAABAgQIECBAgAABAgQIECBAgAABAgQIjFLAmswow6bTJywgAeKEg6NrBIYSMNkOJa9dAgQIECBAgAABAgQIECBAgAABAgQIECBAYE4C1mTmFG1j7UNAAkQfytogMDIBk+3IAqa7BAgQIECAAAECBAgQIECAAAECBAgQIECAwCgFrMmMMmw6fcICEiBOODi6RmAoAZPtUPLaJUCAAAECBAgQIECAAAECBAgQIECAAAECBOYkYE1mTtE21j4EJED0oawNAiMTMNmOLGC6S4AAAQIECBAgQIAAAQIECBAgQIAAAQIECIxSwJrMKMOm0ycsIAHihIOjawSGEjDZDiWvXQIECBAgQIAAAQIECBAgQIAAAQIECBAgQGBOAtZk5hRtY+1DQAJEH8raIDAyAZPtyAKmuwQIECBAgAABAgQIECBAgAABAgQIECBAgMAoBazJjDJsOn3CAhIgTjg4ukZgKAGT7VDy2iVAgAABAgQIECBAgAABAgQIECBAgAABAgTmJGBNZk7RNtY+BCRA9KGsDQIjEzDZjixgukuAAAECBAgQIECAAAECBAgQIECAAAECBAiMUsCazCjDptMnLCAB4oSDo2sEhhIw2Q4lr10CBAgQIECAAAECBAgQIECAAAECBAgQIEBgTgLWZOYUbWPtQ0ACRB/K2iAwMgGT7cgCprsECBAgQIAAAQIECBAgQIAAAQIECBAgQIDAKAWsyYwybDp9wgISIE44OLpGYCgBk+1Q8tolQIAAAQIECBAgQIAAAQIECBAgQIAAAQIE5iRgTWZO0TbWPgQkQPShrA0CIxMw2Y4sYLpLgAABAgQIECBAgAABAgQIECBAgAABAgQIjFLAmswow6bTJywgAeKEg6NrBIYSMNkOJa9dAgQIECBAgAABAgQIECBAgAABAgQIECBAYE4C1mTmFG1j7UNAAkQfytogMDIBk+3IAqa7BAgQIECAAAECBAgQIECAAAECBAgQIECAwCgFrMmMMmw6fcICEiBOODi6RmAoAZPtUPLaJUCAAAECBAgQIECAAAECBAgQIECAAAECBOYkYE1mTtE21j4EJED0oawNAiMTMNmOLGC6S4AAAQIECBAgQIAAAQIECBAgQIAAAQIECIxSwJrMKMOm0ycsIAHihIOjawSGEjDZDiWvXQIECBAgQIAAAQIECBAgQIAAAQIECBAgQGBOAtZk5hRtY+1DQAJEH8raIDAyAZPtyAKmuwQIECBAgAABAgQIECBAgAABAgQIECBAgMAoBazJjDJsOn3CAhIgTjg4ukZgKAGT7VDy2iVAgAABAgQIECBAgAABAgQIECBAgAABAgTmJGBNZk7RNtY+BCRA9KGsDQIjEzDZjixgukuAAAECBAgQIECAAAECBAgQIECAAAECBAiMUsCazCjDptMnLCAB4oSDo2sEhhIw2Q4lr10CBAgQIECAAAECBAgQIECAAAECBAgQIEBgTgLWZOYUbWPtQ0ACRB/K2iAwMgGT7cgCprsECBAgQIAAAQIECBAgQIAAAQIECBAgQIDAKAWsyYwybDp9wgISIE44OLpGYCgBk+1Q8tolQIAAAQIECBAgQIAAAQIECBAgQIAAAQIE5iRgTWZO0TbWPgQkQBxR+Wd+JuJnf3bVwMMeFvG85x2xwbVN3+c+Ea9+9eoPz31uxMMf3k/bWhm/gMl2/DE0AgIECBAgQIAAAQIECBAgQIAAAQIECBAgQOD0BazJnH6M9HBcAhIgjhgvCRBHxLXpowqYbI/Ka+MECBAgQIAAAQIECBAgQIAAAQIECBAgQIAAgf8nYE3GjkDgsAISIA7reWZrLQkQz3hGxMc+ttpMemvDV35lfSe9AaLeTI2VgMnW3kCAAAECBAgQIECAAAECBAgQIECAAAECBAgQOL6ANZnjG2thXgISII4Y75YEiJTs8K53rTr1yldGpGSG2o8EiFox5dcFTLZl+8OznhXx3vdGvOENEZ/4RMTFF0dc97oR550Xcac7Rbz97RG3vvVqWze9acSjHhWxrLf8Zvn35X+vf5+2nT5pe+mTyqZPanezfqr3kpcs+pI+qR/Xuta5feiqn/6W6r7tbRGf/WzEVa8acZvbnK2f+pLOT2mMqf1LLll8n/qUxn7++Wf7uRzrep/Wyy3HltpOfV66bXpsi8am49I7bTeNY+mVtvuAB6zclvFKf19+1n1Tv7tisenfFffN7W3bB9bH9NCHRrz+9Qv39LnmNSPucIeF73os0xi27T/bYrrcT7btR9tisxxryf6a+v+KV0Rcdtmi/1e7WsQ3fVPEhRdui9xh/r55/JXuP6m/7373qg83u9nuvqZ2nvnMiI9/fFHn0ksjbnSjiAc9aLWPre8z6a/bjvHcsb9ed30/TftnyXGxT7ubUSnp62EiuXsry3ilffk974n4/OcjvuiLIq64YnGs3PnOi/PQq161OA994QsRn/vcosx1rhNxjWssyqXzU/rsOtaXcU7H3Wc+s9hGOt8tz4fL80jXuXJ5fJaYlMYpnT+W54G3vGUx9utdb7EvLPfbXJxy+3uu/ub+3HUu2dz/uwxK2tl17ORcu84Hm+fjkmMo1bnLXSI+8IFVi+l4f8QjuufdXL/S913n+B/5kcX5fJ8x71u3pO/rZUpjuG27m9c2y+uJVH79eqXm3NfVp7S9zWukrr9tm+tb9/HluJfXYpvXU9vOEduuZV70osW8k84/68d8bdxqzu1d15E157batkritBm7ruuqXHxLzNbHvnmNu3kdudzeruv3VGbXNfuuPtUca8cqW2LWFe9958f146jrXqekXzUmue3ltpW7ZyuZH3N9qPk+199DbeuQ7dT0KXfcPPGJER/84OJ6KX2++IsjbnvbiOWcu0+/c3Vz3x9qnCVz7PL8c4z9r/X+q3X8h5qX+o5PTXvrZZ/97MW9ZvpcfnnEl35pxA/8QNl94LpxTfstsTn29kv7tM/+0TKG3D3crmvYzb5ue35Wcy1V6tRV7lDX0DXnpOX1Ws21/vqzgPS8LJ3f0zPWrmev6b656/p72e769duTnxzx0Y8u/rJ8/vmYxyz+O/fMdfkMuOuZ4+b9Xc1Y94lnqluyT2+771i32Zw7lveyH/nI4ryUnrfc+MYRV7/64pnJ0mx5vXyMuWdfm7HVtyYztojp76kLSIA4YoQkQBwR16aPKmCyLeP9+q+P+NM/3V72S74k4tOfXn3/dV8X8Sd/ErFZb/n3Zcld201l02e93W3bTeW6+tBVf/Nvy75s1i+TidjVp9w2Nj22ld902tXXLreu7eZiUbqdbX5dY0sPNtb3k664pb/t2n9qYrrc1raYL/teur9u6/+nPpWL9H7fbztOcvvPZn/TfrOrr7njvKu9bcd47thPIq3j6qpbGsOuSJT0db8IltXu2r82a7acp3LH+rbzw7bjJrffrW+vdP/YNa7lfpuLU25/z9XftU+un5dy0SxpZ9c+XLv9kvP7tm2mxJf0YGf5ufKVI+54x+55N9ev9H3XPry+v5TaDH2c7tPP3H60bd7L7WNdfSqZD2uO/5pju+UcXnotk5urSvbF3DHWNf/Ujr/kXLetHyWxK72uTdfbNZ+Sub6rf+vtlO6Pub7VHGvHKltjtyy7z/XLZns14zpk3dpt5e7ZcrFucd5VZx+3mrEfsp1DGZTEYp9+5+rmvj/UOLdtp6/2D3mcl5gcal7qy2fb+XDXXJqbf3LXQkNcH/btWbrf11i1jKH0Hm7Z313X+5tj2raPtPSz5dja9pwxd+1TGptdz9F2HR8lzwJSH7bdN28b167nuLXPXGvivc91dS6uJftK7r6j9Hnltr4cc3y58U/pe2syU4qmsZyCgASIU4jCWh8O9QaIExuW7oxMwGRbFrDczaoEiO2LubuESy+acxfv622UJi7kFkVKt7Nse9s+sN43CRBlx9tmqdYHcLkF4dJ2um50l38rfThSkjyxq51cXyVAbN+3csd6V83WBzetcZIAsUr8yp0lcvNxql86t0iA6NYueai2K065GO16cLltEbF0wTn1qytxdNs5e/P6oWYRs3ZuKr2WkQCxiIoEiLNHWc1xWVM2d87t+r523685X5Sev9M2DznO3LZKFt1bLFvr5Ppbs91d2zpkOzV9qtlnus7j+/Q7Vzf3/aHGuW07fbV/yOO8xKSrvZrzQe7erKQPLWVq4pG7Pqq5hu1rvDXja/ErrbPP/tEyhtJ7/GX/JUCsItl6Hy0BovRoKLv+yd13SIAo9z5mSWsyx9S17TkKSIA4sahLgDixgMy0OybbssDnblYlQEiAkABRdiy1lGp9ACcBomwhuOWhUEscc3VKHnp4A8TZh0vri7W5/b0kzodY4ClpJ42itNzmfpObj2seHkuA6D4qW2Oz7WH8ZisSIBYi2xwkQHT77PpXern5Zf373DmkpJ2uYyS1sSv5pquPNcfascrW2OWO8b4XK2tMcuPMbesQ82OuDzXf5/p7qG0dsp2aPu0qWxKLffqdq5v7/lDj3Ladvtpvvf9qHf8+C9y7zvEt56WaMdTEIzf/1FzDbjsfH3q8NeOrcastu8/+0TIGCUozRxcAACAASURBVBBlzxG23dNtXhMt4+0NELV7fvu9mgSIw1gfeyvWZI4tbPtzE5AAcWIRlwBxYgGZaXdMtmWBz92sSoCQACEBouxYainV+gAutyC82ZfccV7yFoeaNzG0jmvbg4aSn93p8m95KNQSx1wdCRDdQn4C46xL7jiteXgsAaL9odqu4zkXIwkQCz0JEKu9qCvpwBsgdp/7di0iHHte3+f6JXftVbN4d8hx5rZVsuieu8455Pe5/ta0tWtbh2ynpk+tc0zNdfi2NnJjzn1/qHG29u9Q7R/yOC/p0z4L3Ovb7zs+Ne3lro9qrmGXY65pvyQOhzxHt7RXut/XWLUYSYCQAFE67/d9rkz7fsk+LQHikGeg423LmszxbG15ngISIE4s7hIgTiwgM+2OybYs8LmbVQkQEiAkQJQdSy2lWm8qJUCUPbgouYFuiVttHQkQ3WISIM665ObjmgeiEiC697l9zwm5GEmAWLhLgFjtfxIgFhaHSmrY9xjOzd+t12Vd292nr/vUrV3kK10Iydkd6vu+xn7Ido419vXtSoA4lPL2e/uaJKWa3kiAyM8Dhz6HlsTnVM4B++wfLWOQAFH2HCHtQ11W6e/rb8Va7mveAFFy1OXLlOzTEiDyjqdQwprMKURBH6YkIAFiSzQvvjji9a+P+MAHIj784YjLLou45jUjvuIrIr76qyNudavj7AZzTYB461sj3vzmiA9+MCLZX+taETe4QcQd7xhx61sfxzpt9b3vjXjd6yLe+c5FjK93vUWM73WviLTosu8njedNb4p4xzsiLrlk0UZ6sHneeRHnn7/Yj255y4grXWnflg5b32Rb5ln7ML/04UvuYdrmjcO27aZypf9SbtvNSMur5dO2dvUpp1v6ACV38b754GvbGDfLrb8+vubGrWtcEiBy0W7/vvVBuwSIsgcXJTfQ7dErrykBottKAsRZl9x8vD4v5fY+CRDdQvueE3IxkgCxcJcAsdr/JEAsLCRAlF23LPecfc9V62fA3LZy92zr9xS5uecQ3+f6W9PGrm0dsp2aPu0qWxKLffqdq5v7/lDj3Ladvtpvvf9qHf8+C9w1x3Jr/w4Rj9z1UW4e6OrDsfeHY2+/NB777B8tY5AAUT4f1zxHkwBRusfvLleyT+eeoXbFouR5zLJnpc9yDzPi6W7Fmsx0Y2tkwwhIgFhzv/TSiP/23yJ+/dcj3vjGiC98YXtQbnrTiH/0jyIe/vCIe96zu9zP/EzEz/7s6ruHPSziec87t+xm0kPNrnDve0e86lXn1rjPfSJe/erV35/73EVfuz6bZWva3yy7rT9d23z/+yP+43+M+K3finjXu7a3mpIEHvnIiB/7sYhrXKO8d7uSSV772ognPGFhd8UV527zqleNePCDI570pEWiQs3n8ssjnvOciGc/e5FEk/tc97oRd797xIMetGjzy74sV+P435tsy4xzN6veAOENEBIgyo6lllKtD+AkQJQ9uCi5gW6JW22dkhvulkStzZvz3Pk89btrMW45npqb/dKHZ7vGJQHi7J5UGr+SxSgJEN1H6b7nhFyMJEAs3CVArPY/CRALCwkQZdctyz1n33PV+hkwt62SRffa6559yuf6W7NtCRC7rzNy15E114U1cdlW9pCx39Wf1vuv1jHus8Bdcyy39u8Q8chdH+Xmga4+HHt/OPb2S+Oxz/7RMobSe7iu+8NcnLedM1r6WeJXkqDQdR1Wem4r2X7JfXTJs4Bd18/bxtD1Jor1/qT/vV6m5B94rdv0fa5M/S3ZVyRAlBwdw5exJjN8DPRgWgISIP7/eF54YcRP/mREWpSv/fz2b0d8+7efW0sCRLdkSjj4uZ+LeMpTIj796XLtL//yiN/4jYh73KOsTlcCRHqzw0/9VMTP/3x34sPmltObGl784oiUJFLySYkcD3zg4q0PLZ+XvWyRWDP0x2RbFoHcTYwECAkQEiDKjqWWUq03lRIgyhYSSm6gW+JWW6fkoYcEiJXq5kOp3P5eEudDLPCUtFP64KZrH8rNx6lO6QM7CRDdR2lpDLcd47kYSYBYyEmAOHs+S/+1/gC69M1mJclO6/tqbv8sWQQoedhfch6qOdaOVbZ2ru46fy+3UTLmzfZqxnXIurXbOsT82GJdep5tsV9uWwLEWeXcPpn7/pBxLrkO2if2u/raev/VOv59Frh3neOP5VNy/OTOM11Wtf099v547O2X7i/77B8tY5AAUX4/VXJNVHKdUPIsYNf1swSI3XNZ6/PKbcdo7bmq9FifWzlrMnOLuPEeW2D2CRDpLQ+PfexiQbz1k95g8B3fcW5tCRDnmnzmMxEPfWjEb/5mm/bVrx7xghd0e29usSsB4qKLFm9mqPmkNtMbQW572921PvShiDvdKeLv/q5m62fLSoBotxuiZu5hqQQICRCtNxRdCyDbss633dSlY2JbZvuuf8m+eSOaezjQdVO6/NfpxzwuWx/A5RaEax9Kdd3klT4cKalb8mBgWWafdnPjHupmtuShhwSIVfQkQGw/65TuwxIgug1zc0HufF97zVRy7it5uNqycL0+ltL9Ztt5ODeOzTFIgDh7Ptu8lpEAcfZIqzkua8rmjueu71uvy0q2VXMcHnKcuW1JgFhEryY+LftWSZ2SWOTiuaudXN3c9yVj2KdMX+0f8jgvGe8+C9zr2+/LJ3dPVnK+6ypTe4wde7zH3n7JvpHK7LN/tIyh9F6769ovdx3sDRDdUS95FpBq7kqk3ryWTNbeALHwbn1eue0YrT1XlR7rcysnAWJuETfeYwvMPgEivfWhK/nhbneL+Kf/NCK9MeAmN4lIk+5HPxrxjndEpH9R8tKXRrzmNYufydg3ASL9DETadvqkn+D4+MdXYf9n/yziK75i+25wy1tGPOpR535f8xMYz3pWxN/+bf2u9slPLvq7/lMhqd1XvnL7tr7zOyP+5/88+/0NbrD4iYtv+IaI29wm4trXXhi85S0L21/5lYjLLlvVSRP0G96QT0jYTIBIPzHxohcttpOSGh7xiEUiRUpsuNa1Ij784Yj00xhPfWrEX/7l2T6mt06k73Z9vu/7zv2Jk3SRm3765C53WcQx7UcpCSSN76//OuLP/zziFa9Y/FxJGqMEiPr9cMgauZsYCRASIFpvKCRA5I/s1gdwEiDKHlS3PBTKR62+RMlDDwkQK1cJENv3sdIHMhIgug33PSfUXjMte7ErbhIg6s+pu+K4z0JCV09q2ipN5pQAcVa65risKVu/Z22/5i899663uU9f96m7Oe7ctkoW3VssW+vk+luz3drjt/atKzV9KSlbEot9fHJ1c9+XjGGfMn2133r/1Tq2Q81Lffksx1nTXu76KG2z9jxa035LbI69/dI+7bN/tIxhW52S4yIXZwkQ3VEveRaQakqA8BMYpeeNMZSTADGGKOnjmARmnQCRFtfTovj6Jy2EP/e5EWmhPvd573sjnv70xU8W3O9+55YufQPEes2utxaU/vzC+nZqEiBy4+z6/vOfj3jAAyJe/vLVt+mBcUow6Po5kFTqGc+I+PEfP7u1H/qhiKc9LeIa19jei//zfxZtpf+//PyDf7BIgrjSlbbX27Rclvzar41IP1ty/vnddT/3uUXyS9o/1j/ppn75cG6z5ic+EXHDGy6SG5aff/NvIp70pDLdj31skehx73tvb6NsS4cpZbItc8zdxEiAkAAhAaLsWGopVfKgoWu7EiDKHqK1PBRqiWOuTslDDwkQK0UJENv3qNKHxxIgug33PSfUXjMteyEBYiFxqDcr1SxqpnZLj5uuvaamLQkQK8GaY+1YZXNzc0m8S47hbe3UjGtzG/vUrd1WyaJ7i2Vrnb7Gfsh2Wseai9X697veoleauJEbc+77Q43zGMdMTd9a779q2lgvu88C967t7DO3lYylZn/IXR+1zMU17ZeMJ3e8HduzdL+vsWoxkgBRfl3YZZXi0/XmhV37T8mzgOV1ctdPbG+7vvQGiNX9xbpbVyxKY1Bz/LWcd+ZUx5rMnKJtrH0IzDYBIi1y3+pWZ3+uICU//MEfRFxwwWHop5wA8f3fv0gUWf/81/8akRIauj7p5yFSwsGll66+fdzjIv7DfyizTj8rkX5eIm1n+fmd34m4//231+9KgEhvzPjf/3vxxoddn0suWbyN4gMfWJV6zGMWCS9dn/TWi/QGi+Xn1rdeJGzsStAoG/l+pdKk2fL5m7/5m7js/3/txu1vf/v4q7/6q5bNTL5O7mZVAoQECAkQxzsNtD6AkwBR9uCi5aHQMaJdcsMtAWIlLwFi+15Y+nBWAkS34b7nhNprpmUvJEAsJCRArBw2H9Smb9YfZJce6+t7em7/bPkplZI6XUdbzbF2rLIt83nrddm+Bpv1a0xy48xtSwLEQrDlmMvZ135fEotcPHe1maub+752PLXl+2r/kMd5yRglQLQdY8feH469/ZJ9I5XZZ/9oGYMEiPLzvQSI+mSP0v1+W7mSfXqzTOvzym19OIXrgX0dT6G+BIhTiII+TElgtgkQafE+LeKvfy66KOIhDzlceKeaAPHv/l3Ev//3Z51+6qcinvzk7XZPeELEE5+4+v6Od1z8lMiVr1zu/d//e8QP/uCq/Ld8y9k3UGxuqSsB4vd/P+K+9y1rM40p/TzJ8pN+FuWP/qi77m/8RkT6uZLl53u+J+IFLyhr55ilrnSADAwJENsjlHtYKgFCAkTrDYWfwMifGVsfwEmAKHtwUXIDnY/S/iUkQHQbLhdDc3HK7e+5+qn1kkWFXKRL2ulqq/QhSm4+Ttsu3ZYEiO5olsZw276Qi9GuV9du+xe6JQ9XSxahD7GPL8ddOzflHkQutysBYiHhJzDOHmE1x2VN2dw5vev72n1/Vxv79HWfupt9ym3rkOeOFvPa/ta0sWvsOZeadg5VtiQW+/Q7Vzf3/aHGWTrHll7z1PbrkMd5Sdtd7bWMre/41LSXuz6quYbddi3SYnasc3RJ3EvL7LN/1MQo51pyXOTi7CcwuqNe8iyg6/pwuTVvgNh93dj6vHLbMXroc03puWBq5SRATC2ixjO0wGwTIO51r4jXvnbFf4c7RLzpTYcNxxQTIH75lyMe9aizTt/7vRG/9mu733Zwk5tEvP/9q3ovfGHEP/kndd7p5yWuc53Vz0ykn81IPx1x1at2b2czAeLv//2IN76xvM2ULLH+0ya7Hjymn/74ru9abTv9BEl6K8TQHwkQx41A7iZGAoQEiNYbCgkQ+WO35EFD11ZyC8KbdXLHeddN3rYHKiUPWlrHlfq9T7u5cQ91M1vy0MMbIFbR8waI7eeO0n1YAkS3Ycn5a9eZO3culQCx0NvmIAGi26ckwSV/RZG/Xi1pp+sYSW3Xvp2i5lg7VtkSs9x1w/L70nPv+vZqxpXrR0v7y23m+lGy6N5i2Von19+a7UqAOKuVs819X2PfUrav9ve5TznEuNI2Wo7pvnxKzx27znddTrVjPvZ4j7390n1FAkSp1LnlSq9ZWq5jUp2S7ZdcJ5Q8C9h1/SwBYvdc1vq8ctueV3uuat+Dp11TAsS042t0/QvMMgEi/QzDta8d8dnPrsCf+cyIRz/6sAGYWgLES18a8cAHRlx++cop/ezDy162PQkhlXzrWyNud7tVnZSwkH5i4upXr/e+5z0XP1Oy/LzudRF3vWv3djYTIHJvqdjcyvveF3HTm579a3rlakq82Py8+c0R6782kV688Nu/HfGAB9SP8ZA1/ATGITXzNw2bJSRA5B8od0Wo9KJ586Zq1yJo141PSds1N25d22u9oZAAkT92Wx/ASYAoe3B4Kg+2Sh56SIBYHS8SILafO0rnFgkQ3Yb7nhMkQCzefrf5Kb2WkQCxkPMGiLN7UM1xWVM2fxWW35eXJUrPvetb3Kev+9TNHZ+bY5EAsRBriXHLPrarTkks9tk3cnVz3x96vLX76qHab73/am1/nwXuQ51TWvpesz/kro9ajrGa9o89vpbtl9bZZ/9oMdpWp+S4yMXZGyC6o17yLKDr+nD9GiT9781k1PX/3mx5V9JryVyTtleyT5Tu56XlSvbp3H1H135YGoOWc1Xp2OZWTgLE3CJuvMcWmGUCxKtfHZH+hf765y/+IuKCCw7LPaUEiPTALpmt/+bq13zN4i0a17rWbrfNt0bs87aN7/7uiPT2iOXnwgsj0hsouj6bCRDpJynST1OUflKiTHrItv5JSRE3vnH3FlKSR0r2WH7Sz3ukn8V45CMjUuJGeqA+lo/JtixSuZsYCRASICRAlB1LLaVabyolQJQ9qC65gW6JW22dkhtuCRArVQkQ2/ew0gUaCRDdhvueE2qvmZa92BW3rj6lepsPObv+tp6MUPows+T8VTs35R5ELtuUALGQkABxdi+sOS5rypbs65tlavf9XW3s09d96ubGJAFiIXRI45Z9ratOyXl8n37n6ua+P9Q4t22nr/YPeZyXmOyzwL2+/b58lm3WtJe7PkrbLL2GbWm/JA6158aWbbbU2Wf/qIlRzrXkuMjFWQJE9x5Q8iyg6/pw/T6i6z5AAsT26+rNhO3SGLScq1qO+znUsSYzhygbY58Cs0yAuOiiiIc+dMWc3kiQFrvTgvUhP1NJgPibv4m4290iPvShlc7NbhaR3r6Q/n/u87jHRTzlKblSbd//l/8S8S/+RXfdzQSI3/3diG/+5rp20psc1j/veEdE2m7XJ70hI73x4Yorzv02vXEkJUH8w38Ycfe7R9z5zhFXu1pdX/osbbIt087dxEiAkAAhAaLsWGopVfKgoWu7EiDKHqK1PBRqiWOuTskNtwSIlaIEiO17VOnDYwkQ3Yb7nhNqr5mWvZAAsZCQALFyWE/IL/lpitw8k77P7Z8l7ZQm5HS9CWS9jzXH2rHKlphtlmm9Lutqq2ZcuX6Unvtb+lGy6N5i2VpnH7cax0O20zrWXH/Xv1/uA/v0O1c39/2hxrltO321f8jjvMRknwXu1vNqSb9yZWrikZt/Ulu157Ga9nNjaTk3tmyzpc4++0eL0bY6JcdFLs4SILr3gJJnAcvr5PXrw/X7iPS/vQFiIbK5H7Y+r9x2vNaeq1qO+znUsSYzhygbY58Cs0yASIvmP/ZjK+Yb3Sji/e8/PPsUEiBS0kNasH/721c+6Y0P6WcoSt+Y8ahHRaS3QBzj88QnRjz+8d1b3kyAeOUrz33zR65PNQkQaVvPeU7ED/9wxGWX7d5y+vmPe9wj4sEPjkhvtUgJEqf0MdmWRSN3EyMBIv9AuUu69KI5d/G+vm0/gXFWusSj9GFh103poRZqdh2JJQ8auupLgCh7iNbyUKjszFlXquShhwSIlakEiO37V+ncIgGi23Dfc0LtNdOyFxIgFhKHmld3xXGfhYSuvaamrW0JBmm76w+tvQHirHTNcVlTtm6mXpRuvS6r3XdyfTvkOHPbkgCxiEbp/JqL3T7fl8QiF8+a+47c20D6NtlnbDXuhzzOS9o91LzUl89yTDXt5a6PWo6xmvZL4rBZ5tjbL+3TPvtHyxgkQJSf77usNq/pSq71S54FLK+TJUCcm+ixmXSbe4bqJzBKzz7HLWdN5ri+tj4/gVkmQDzpSRE//dOrYN/qVmcX+A+1G4w9ASJdPHzDN0T88R+vRNLbMl7+8oj73rdcafNnK8pr5ks+4QkRybnrM0QCROpHShZJiRnppzo+85n8GM47L+LHfzzi3/7biOR7Ch+TbVkUcjerEiAkQLRmVHct6O5KSNi8mcwlOOS+X3/Qkns4IAHi3N91L3040nWDuc+DxX3aPdUHWyUPPSRArKInAWL7/F26GCEBotswNxfkrpxqr5lKHoqWPFxt+Zf762Mp3W+WdWrP4bkHkcvtSoBYSEiAOHuk1RyXNWVzx3PX97X7/q429unrPnVrr4VKFt1bLFvr9DX2Q7bTOtZcrLrO4/v0O1c39/2hxrltO321f8jjvMRknwXu9e335bPtWqAmmbPLZd9rkdr6udj07Vm6368/wzjGGErvtbuuYXPXwd4A0R2xkmcBXdeH6zFI/9sbIBYiufsOCRC5M0c/31uT6cdZK/MRmGUCxC/+YsSP/ugqyN4Ace4Of/nlEd/5nREvecnqu/Q2hAsvjHjIQ+oOkIc9LOJXf3VV56u/OuLbvq1uG9tKf+M3RqT/6/oMlQCx7Msll0S87GUR6c0Tr31txFvf2v3zGOsXZv/rf0WkN2wM/THZlkUgdxMjAUIChASIsmOppVTrAzhvgCj7lxun8mCr5KGHBIjVESQBYvvZpPThrwSIbsN9zwm110zr18fbfjJAAkT97LkrjodaaFr2qqYtb4BYxbLmWDtW2fo9yxsgNs1K55wW6211avaHXLu1x2/up11y7e37fUkyyj4+ubq57/cdX65+X+233n/l+l+6T6dyLcdWXz4l89/mWHPXRy1jPvZ4j7390v1ln+uWljFIgCg//kqu0Uuu9UueBaTtbHsesO36cj0homv+Tn/bTJpI81zJXJPq9n2u7Gqz5B/btD6v3HaMtpyfS4/3OZWzJjOnaBtrHwKzTIC46KKIhz50xZv+1f2ll0Zc+cqHJR/zGyD++T+PeNazzno85SkRj31svdFP/ETEf/7Pq3r3u19EWug/9mfoBIjN8V18ccQf/mHE7/1exItfHPGOd5wr8KAHRfzmbx5bJr99k23eaNdF7bK2BAgJEK03FN4AkT8GW28qJUCUPbhoeSiUj1p9iZKHHhIgVq4SILbvY6UPZCRAdBvue07IPeDf9eBSAoSfwNh1bb3tIXXNjJPbP1veJFJSp6uPNcfascrW2C3Ltl6X7WuwWb/GJDfO3LZKF0Jy7Rzq+1x/a9qRAHFWK2eb+77GvqVsX+0f8jgvGec+C9zr2+/LZ9v50BsgSqJdX2af/aNln5AAUfYcoetZ6a43kO46PkqeBaT2JECc++xVAkT9OeVUaliTOZVI6MdUBGaZAPGa10Tc+95nQ/gXfxFxwQWHDetYEyB+7uciHv/4sxY//MMRv/RLbT5Pe1rEv/pXq7pf/uUR735327Zqap1aAsR636+4YvF2iB/5kXMTIf78zyO+5mtqRnr4sibbMtPcw1IJEBIgJECUHUstpVofwEmAKHtw0fJQqCWOuTolDz0kQKwUJUBs36MkQOSOtt3f73tOqL1mWvamZtGg9C0Cm9s85CJm7dy0WX7b+cxPYCz2CD+BcfY4rTkua8q2nC1q9/1dbezT133qbvYpt61DnjtazGv7W9OGBIi6Yy23r9TYt5Ttq/1DHucl49xngXt9+335LNusaS93fZS2WXoN29J+SRyOea5paX/bOGusamKUcy05LnJx9hMY3XtCybOAruvD9fuI9L/9BMZCJHff4Scw9jkjHa6uNZnDWdoSgSQwywSIz3wm4trXjrjsstVO8MxnRjz60YfdKVoSIG5xi4h3vnPVj/TzCfe5T32/Up1Xv3pV77nPjXj4w/Pbef7zzy33wAdGvOhF7W/IeP3rI+5yl7Nt97HIf8oJEEuN9BaI298+Iu2Ty89Tn3o2YSQftcOXMNmWmeZuYiRASICQAFF2LLWUKnnQ0LVdCRBlD9FaHgq1xDFXp+ShhwSIlaIEiO17VOnDY2+A6Dbc95xQe8207IUEiIWEBIiVw6c/ffacl/6r6zXFufll/fvc/lnyNoeuY6SlbzXH2rHK1tgty7Zel3W1VTOuzfr71K3dlgSIhVjp/NqyX5XWKYnFPvtGrm7u+9JxtJbrq/1DHuclY5UA0XaMHXt/OPb2S/aNVGaf/aNlDNvqlBwXJdcZXW88a+lniV/pNUvLdUxXbLwBou1YLonltuswb4Co0TutstZkTiseejN+gVkmQKSwpTdApDdBLD93uEPEm9502IC2JEDc9rYRb3vbqh+/+7sR3/zN9f1qSYBIbX3bt0V8/vOr9u5614jf//2Ia1yjvg/LGpdfHnH960d87GOrbTzmMRFPf3r7NktqjiEBIo3jW7814uUvX40ovRXiF3+xZITHK2OyLbPN3cRIgJAAIQGi7FhqKVXyoKFruxIgyh5UH+thS22sJUB0iy0XQ3Nxyu3vufpdD7DWe1S66FHSTldbrdvvUivdlgSI7n2uNIbbjvHaa6bldiRALCQkQKwcJECsjrKa47KmbO1cvWuuKD33rre5T1/3qbs57ty2ShbdWyxb6+T6W7PdXds6ZDs1fdpVtiQW+/Q7Vzf3/aHGWTrHthx3JX1svf8q2XZXmX0WuA91Tmnpe83+kLs+Su3XxrOm/WOPr2X7pXX22T9ajLbVKTkucnH2BojuqJc8C1heJ69fH67fR6T/7Q0QC5HN/bD1eeW2Y7T2XFV6rM+tnDWZuUXceI8tMNsEiF/91YiHPews70UXRTzkIYcjb0mAuPOdI9azPlv7VJsA8cY3RtzrXhGf/ORq/F/1VRF/9EeL5IV9Pynh4Rd+YbWVq10t4q/+KuJWt9p3y9vrjyUB4ru/O+KFL1yNQwLE8faJQ285dxMjAUICROsNRde/aF/eTHTdeHfd1G3+bX3/35WBv36zmOaj3MOBrpvSQy3U7DpmSx40dNXPLQhv1skd5yWZ9btit/kvPVrH1XVDW9NubtxD3cyWPPTwBohV9LwBYvtZo3QflgDRbZibC3LXWLlz6a7f7u36F3Hbznkl86GfwOg+Z+yzkNAV/9oF1JLY+QmMs9I1x2VN2dzxXBLvzevJmm3u09d96tZeC5UsuteMe9+yfY39kO3sO+Zl/ZJY7NPvXN3c94ca57bt9NX+PvcpLQaHmpf68tm2P9Ykc3Y5lV7DtrR/iLjU9q+lzdJ5p7QvLfuEBIjyZJySZ1Yl1wklzwLSdnbdR3RdX64nRGzuW7ve+lUy13Tdo5SMdd/jomSflgCxr3I/9SVA9OOslfkIzDYBIr3lIC2+/9//uwr2ta4V8Qd/EHHBBYfZAVoSIB784Ij/8T9W7f/LfxnxFL8NiAAAIABJREFUtKfV96cmASL95Mbd7hbx/vev2rnhDRfJD4dKUHjf+yJuecuzP/WQfvoheV/nOvXjSzU++MGI1M9tnz4TIN71roib37z+Z0LSfphc/u7vVqP4T/8p4id/ss3kULVMtmWStQ/zSxcjcxfVXRfwXQvVXTcC2y7mN7e5FGhZWEx1t421RLb1pnVXX0sW/Nf7vexnzY1b19gkQJREvK1M6wM4CRBlDy5KbqDbIldXq+ShR8t5qmYBdNnj1ld3bo649OHZrnF5A8RZ1dx83HV+37YnSoDoltn3nJCLkQSIhfs2h0MlFtYkJdQcN117TU1bpdenEiB2n/tqFtlKr7dLZ+3W67LafSfXn33PVevbz20rd8+2LXkrN4bW73P9rdlu7fHb91hz11br35feg+/yydnmvq+xbynbV/uHPM5LxikBYqFUe74+9v5w7O2X7BupzD77R8sYSu/h1u8dl+fG3HWwN0B0R73kWcCu6+dt15cSILrvO7r2w9IYtJyrSo/1uZWzJjO3iBvvsQVmmwCRYF/84ogHPvAs8bWvHfG85537965ApEX9Zzxj8RMV97vfuSVaEiCe8pSIxz1uta3rXjfida+L+Ht/r25XKE2AuPjiiLvf/ezPbqQHS6961eJi8pCfpz414l//67NbTIv/v/Zriz6UfD7xiYgXvWjhnsx//ue31+ozASK94eKlL4340R+N+J7vibjBDfKjSckPP/RDEc9+9tmyb35zxO1ul69/zBIm2zLd3E2MN0B4A4QEiLJjqaVU6wM4CRBlD9FaHgq1xDFXp+SGWwLEStEbILbvUaUPjyVAdBvue06ovWZa9qJ2QTfV23zNbdff1hfrDrmIWTs3bZaXAHH2fLYZOwkQZ4/PmuOypmxubu76vnbf39XGPn3dp+5mn3LbOuS5o8W8tr81bUiAqDvWcvtKjX1L2b7aP+RxXjLOfRa417ffl8+yzZr2ctdHaZul17At7ZfE4Zjnmpb2t42zxqomRjnXkuMiF2cJEN17QsmzgFTTGyDyb25NTrn7DgkQ+5yRDlfXmszhLG2JQBKYdQJEAkgL8mlhfvOT3oiQFrLTz0Lc5CaLyfSSSyLS2xLSQ7W02P3KV0ZcfnnEb/1WxHd8x7nbaEmAePvbF8kOV1yx2t5VrrLox21vG5Em/ytdafVdSiB41KPObbs0AeL5z494+MPP1k9jT+21fLb1Z7mt7/3eiF//9XO3fO97R3zXdy0SIZL3Na8ZkX6/62Mfi0gmf/Zni7dF/N7vRXz2s4v6P/ETp5UAsfyJj/Tg/J73jEgxuOMdF/FMiSzLC7J3vGMxll/+5Yi3vvWsRdqP0v409MdkWxaBZz0r4r3vjXjDGyJSck5KKEqxPu+8iDvdabHv3vrWq23d9KaL43VZb/nN8u/L/17/Pm07fdL20ieVTZ/U7mb9VO8lL1n0JX1SP9KbbTb70FU//S3VfdvbFsfYVa8acZvbnK2f+pLedpLGmNpP58S0/dSnNPbzzz/bz+VY1/u0Xm45ttR26vPSbdNjWzQ2HZfeabtpHEuvtN0HPGDltoxX+vvys+67fk7titXSryvum9vbtg+sj+mhD414/etX57Z0/rvDHRa+67FMY9i2/2yL6XI/2bYfbYvN0q5kf039f8UrIi67bDGq9BNH3/RNERdeuC1yh/n75vFXuv+k/r773as+3Oxmu/ua2nnmMyM+/vFFnUsvjbjRjSIe9KDVPrY5D287xnPHftpi67jW63adG7rOGbsiUdLXw0Ry91aW8Ur9f897IlLyYJpn03VSOlbST4el81BK3Eznly98IeJzn1uUSW+YusY1FuXS+Sl9dh3ryzin4+4zn1lsI53vlufD5Xmk61y5PD5LTEr3j3T+WJ4H3vKWxdivd73FOXe53+bilNvfc/U396uuc0nXdeimQ0k7u/bhnGvXcZM7v2/b5l3uEvGBD6y+Tcf7Ix7RPe/m+pW+7zrHp587W7qV2nS1tU/dkr6vl9m3rc1rm+X1RGpj/XplfY5Ox+uua4Jdc/T6eTD9713nwNx1V8k+vmxveS22eT217Ryx7VomJXyneSedf9aP+dq41RyLXdeRNee22rY2Y9IVp82/dV1X5eJbYrY+9s1r3M3ryM05dj32JWPK7U81x9qxypaYdcV73/lxl2XO7RB1a/bhQ82PLdbb6tTsD7l2d23rkO3k+lH6ferTE5+4eEtoul5Kny/+4sUztOWcu0+/c3Vz35eOo7VcX+3vc5/SMrZDzUt9+bSch9b7lv5xVLrXTJ/0rDk9//2BH9h9LdTleuzxHnv7pfvKPvtHyxi21Sk5Ljb7uu35We08VGpVst2S67DWZ3XrzzFrrvXXnwWk55Tp/J6eb3Y9e033zV3X313jevKTIz760YXK8vln+oeN6ZN75rp8Btz1zHHz/q5mrK2xrDnvbLvvWG6jK77Le9mPfGRxXkrPW25844irX331lu9Ub3m9XHq9tu94p1zfmsyUo2tsQwjMPgEinbjTQnp6o0Dr55AJEKkP3/d9i7dQlHxS4kB66L/5KU2ASO2k9g712daf5fbTAlm6Ad1860FL+6eaANEyllQnLTa/5jW7f9ajddu19Uy2tWLKEyBAgAABAgQIECBAgAABAgQIECBAgAABAgTqBazJ1JupQWCXwOwTIJY4z3lOxGMfG/HhD9fvML/zOxH3v/+59VreAJG2kt588MhHRrzgBfm+jC0BYt07/dRHytBv+aSfmHj60yPSGyW2ffr8CYxtbxIpHVvaf9LbONK/7DyFj8n2FKKgDwQIECBAgAABAgQIECBAgAABAgQIECBAgMDUBazJTD3Cxte3gASINfH0yuP0MwYp8eDNb94dipvffJH08P3fv/gNpa5PawLEcltvfOOiL+k3av/6rxevQf7Up87+PMZYEyDSGNOr3dLPQFx00eInBNKrlHZ9bnGLiG/8xoX7P/7HEemnQXZ9+kyASK/iXv40yqtfvYhZitWuT3pdVBrHD/7g4nXxp/Qx2Z5SNPSFAAECBAgQIECAAAECBAgQIECAAAECBAgQmKqANZmpRta4hhKQALFFPv3OdFrQ/tCHFm+FuNKVFr9nlH5D+va3j0iL8T6HE0i/cfvHfxzx/vcvvFPywJd92eJ3vW91q4X59a9/uPaOvaX0u2TpN2pT4kr6rfk0vvS3NKb0e+JpPBdcEHG1qx27J23bN9m2ualFgAABAgQIECBAgAABAgQIECBAgAABAgQIEKgRsCZTo6UsgbyABIi8kRIEZidgsp1dyA2YAAECBAgQIECAAAECBAgQIECAAAECBAgQGEDAmswA6JqctIAEiEmH1+AItAmYbNvc1CJAgAABAgQIECBAgAABAgQIECBAgAABAgQI1AhYk6nRUpZAXkACRN5ICQKzEzDZzi7kBkyAAAECBAgQIECAAAECBAgQIECAAAECBAgMIGBNZgB0TU5aQALEpMNrcATaBEy2bW5qESBAgAABAgQIECBAgAABAgQIECBAgAABAgRqBKzJ1GgpSyAvIAEib6QEgdkJmGxnF3IDJkCAAAECBAgQIECAAAECBAgQIECAAAECBAYQsCYzALomJy0gAWLS4TU4Am0CJts2N7UIECBAgAABAgQIECBAgAABAgQIECBAgAABAjUC1mRqtJQlkBeQAJE3UoLA7ARMtrMLuQETIECAAAECBAgQIECAAAECBAgQIECAAAECAwhYkxkAXZOTFpAAMenwGhyBNgGTbZubWgQIECBAgAABAgQIECBAgAABAgQIECBAgACBGgFrMjVayhLIC0iAyBspQWB2Aibb2YXcgAkQIECAAAECBAgQIECAAAECBAgQIECAAIEBBKzJDICuyUkLSICYdHgNjkCbgMm2zU0tAgQIECBAgAABAgQIECBAgAABAgQIECBAgECNgDWZGi1lCeQFJEDkjZQgMDsBk+3sQm7ABAgQIECAAAECBAgQIECAAAECBAgQIECAwAAC1mQGQNfkpAUkQEw6vAZHoE3AZNvmphYBAgQIECBAgAABAgQIECBAgAABAgQIECBAoEbAmkyNlrIE8gISIPJGShCYnYDJdnYhN2ACBAgQIECAAAECBAgQIECAAAECBAgQIEBgAAFrMgOga3LSAhIgJh1egyPQJmCybXNTiwABAgQIECBAgAABAgQIECBAgAABAgQIECBQI2BNpkZLWQJ5AQkQeSMlCMxOwGQ7u5AbMAECBAgQIECAAAECBAgQIECAAAECBAgQIDCAgDWZAdA1OWkBCRCTDq/BEWgTMNm2ualFgAABAgQIECBAgAABAgQIECBAgAABAgQIEKgRsCZTo6UsgbyABIi8kRIEZidgsp1dyA2YAAECBAgQIECAAAECBAgQIECAAAECBAgQGEDAmswA6JqctIAEiEmH1+AItAmYbNvc1CJAgAABAgQIECBAgAABAgQIECBAgAABAgQI1AhYk6nRUpZAXkACRN5ICQKzEzDZzi7kBkyAAAECBAgQIECAAAECBAgQIECAAAECBAgMIGBNZgB0TU5aQALEpMNrcATaBEy2bW5qESBAgAABAgQIECBAgAABAgQIECBAgAABAgRqBKzJ1GgpSyAvIAEib6QEgdkJmGxnF3IDJkCAAAECBAgQIECAAAECBAgQIECAAAECBAYQsCYzALomJy0gAWLS4TU4Am0CJts2N7UIECBAgAABAgQIECBAgAABAgQIECBAgAABAjUC1mRqtJQlkBeQAJE3UoLA7ARMtrMLuQETIECAAAECBAgQIECAAAECBAgQIECAAAECAwhYkxkAXZOTFpAAMenwGhyBNgGTbZubWgQIECBAgAABAgQIECBAgAABAgQIECBAgACBGgFrMjVayhLIC0iAyBspQWB2Aibb2YXcgAkQIECAAAECBAgQIECAAAECBAgQIECAAIEBBKzJDICuyUkLSICYdHgNjkCbgMm2zU0tAgQIECBAgAABAgQIECBAgAABAgQIECBAgECNgDWZGi1lCeQFJEDkjZQgMDsBk+3sQm7ABAgQIECAAAECBAgQIECAAAECBAgQIECAwAAC1mQGQNfkpAUkQEw6vAZHoE3AZNvmphYBAgQIECBAgAABAgQIECBAgAABAgQIECBAoEbAmkyNlrIE8gISIPJGShCYnYDJdnYhN2ACBAgQIECAAAECBAgQIECAAAECBAgQIEBgAAFrMgOga3LSAhIgJh1egyPQJmCybXNTiwABAgQIECBAgAABAgQIECBAgAABAgQIECBQI2BNpkZLWQJ5AQkQeSMlCMxOwGQ7u5AbMAECBAgQIECAAAECBAgQIECAAAECBAgQIDCAgDWZAdA1OWkBCRCTDq/BEWgTMNm2ualFgAABAgQIECBAgAABAgQIECBAgAABAgQIEKgRsCZTo6UsgbyABIi8kRIEZidgsp1dyA2YAAECBAgQIECAAAECBAgQIECAAAECBAgQGEDAmswA6JqctIAEiEmH1+AItAmYbNvc1CJAgAABAgQIECBAgAABAgQIECBAgAABAgQI1AhYk6nRUpZAXkACRN5ICQKzEzDZzi7kBkyAAAECBAgQIECAAAECBAgQIECAAAECBAgMIGBNZgB0TU5aQALEpMNrcATaBEy2bW5qESBAgAABAgQIECBAgAABAgQIECBAgAABAgRqBKzJ1GgpSyAvIAEib6QEgdkJmGxnF3IDJkCAAAECBAgQIECAAAECBAgQIECAAAECBAYQsCYzALomJy0gAWLS4TU4Am0CJts2N7UIECBAgAABAgQIECBAgAABAgQIECBAgAABAjUC1mRqtJQlkBeQAJE3UoLA7ARMtrMLuQETIECAAAECBAgQIECAAAECBAgQIECAAAECAwhYkxkAXZOTFpAAMenwGhyBNgGTbZubWgQIECBAgAABAgQIECBAgAABAgQIECBAgACBGgFrMjVayhLIC0iAyBspQWB2Aibb2YXcgAkQIECAAAECBAgQIECAAAECBAgQIECAAIEBBKzJDICuyUkLSICYdHgNjkCbgMm2zU0tAgQIECBAgAABAgQIECBAgAABAgQIECBAgECNgDWZGi1lCeQFJEDkjZQgMDsBk+3sQm7ABAgQIECAAAECBAgQIECAAAECBAgQIECAwAAC1mQGQNfkpAUkQEw6vAZHoE3AZNvmphYBAgQIECBAgAABAgQIECBAgAABAgQIECBAoEbAmkyNlrIE8gISIPJGShCYnYDJdnYhN2ACBAgQIECAAAECBAgQIECAAAECBAgQIEBgAAFrMgOga3LSAhIgJh1egyPQJmCybXNTiwABAgQIECBAgAABAgQIECBAgAABAgQIECBQI2BNpkZLWQJ5AQkQeSMlCMxOwGQ7u5AbMAECBAgQIECAAAECBAgQIECAAAECBAgQIDCAgDWZAdA1OWkBCRCTDq/BEWgTMNm2ualFgAABAgQIECBAgAABAgQIECBAgAABAgQIEKgRsCZTo6UsgbyABIi8kRIEZidgsp1dyA2YAAECBAgQIECAAAECBAgQIECAAAECBAgQGEDAmswA6JqctIAEiEmH1+AItAmYbNvc1CJAgAABAgQIECBAgAABAgQIECBAgAABAgQI1AhYk6nRUpZAXkACRN5ICQKzEzDZzi7kBkyAAAECBAgQIECAAAECBAgQIECAAAECBAgMIGBNZgB0TU5aQALEpMNrcATaBEy2bW5qESBAgAABAgQIECBAgAABAgQIECBAgAABAgRqBKzJ1GgpSyAvIAEib6QEgdkJmGxnF3IDJkCAAAECBAgQIECAAAECBAgQIECAAAECBAYQsCYzALomJy0gAWLS4TU4Am0CJts2N7UIECBAgAABAgQIECBAgAABAgQIECBAgAABAjUC1mRqtJQlkBeQAJE3UoLA7ARMtrMLuQETIECAAAECBAgQIECAAAECBAgQIECAAAECAwhYkxkAXZOTFpAAMenwGhyBNgGTbZubWgQIECBAgAABAgQIECBAgAABAgQIECBAgACBGgFrMjVayhLIC0iAyBspQWB2Aibb2YXcgAkQIECAAAECBAgQIECAAAECBAgQIECAAIEBBKzJDICuyUkLSICYdHgNjkCbgMm2zU0tAgQIECBAgAABAgQIECBAgAABAgQIECBAgECNgDWZGi1lCeQFJEDkjZQgMDsBk+3sQm7ABAgQIECAAAECBAgQIECAAAECBAgQIECAwAAC1mQGQNfkpAUkQEw6vAZHoE3AZNvmphYBAgQIECBAgAABAgQIECBAgAABAgQIECBAoEbAmkyNlrIE8gISIPJGShCYnYDJdnYhN2ACBAgQIECAAAECBAgQIECAAAECBAgQIEBgAAFrMgOga3LSAhIgJh1egyPQJmCybXNTiwABAgQIECBAgAABAgQIECBAgAABAgQIECBQI2BNpkZLWQJ5AQkQeSMlCMxOwGQ7u5AbMAECBAgQIECAAAECBAgQIECAAAECBAgQIDCAgDWZAdA1OWkBCRCTDq/BEWgTMNm2ualFgAABAgQIECBAgAABAgQIECBAgAABAgQIEKgRsCZTo6UsgbyABIi8kRIEZidgsp1dyA2YAAECBAgQIECAAAECBAgQIECAAAECBAgQGEDAmswA6JqctIAEiEmH1+AItAmYbNvc1CJAgAABAgQIECBAgAABAgQIECBAgAABAgQI1AhYk6nRUpZAXkACRN5ICQKzEzDZzi7kBkyAAAECBAgQIECAAAECBAgQIECAAAECBAgMIGBNZgB0TU5aQALEpMNrcATaBEy2bW5qESBAgAABAgQIECBAgAABAgQIECBAgAABAgRqBKzJ1GgpSyAvIAEib6QEgdkJmGxnF3IDJkCAAAECBAgQIECAAAECBAgQIECAAAECBAYQsCYzALomJy0gAWLS4TU4Am0CJts2N7UIECBAgAABAgQIECBAgAABAgQIECBAgAABAjUC1mRqtJQlkBeQAJE3UoLA7ARMtrMLuQETIECAAAECBAgQIECAAAECBAgQIECAAAECAwhYkxkAXZOTFpAAMenwGhyBNgGTbZubWgQIECBAgAABAgQIECBAgAABAgQIECBAgACBGgFrMjVayhLIC0iAyBspQWB2Aibb2YXcgAkQIECAAAECBAgQIECAAAECBAgQIECAAIEBBKzJDICuyUkLSICYdHgNjkCbgMm2zU0tAgQIECBAgAABAgQIECBAgAABAgQIECBAgECNgDWZGi1lCeQFJEDkjZQgMDsBk+3sQm7ABAgQIECAAAECBAgQIECAAAECBAgQIECAwAAC1mQGQNfkpAUkQEw6vAZHoE3AZNvmphYBAgQIECBAgAABAgQIECBAgAABAgQIECBAoEbAmkyNlrIE8gISIPJGShCYnYDJdnYhN2ACBAgQIECAAAECBAgQIECAAAECBAgQIEBgAAFrMgOga3LSAhIgJh1egyPQJmCybXNTiwABAgQIECBAgAABAgQIECBAgAABAgQIECBQI2BNpkZLWQJ5AQkQeSMlCMxOwGQ7u5AbMAECBAgQIECAAAECBAgQIECAAAECBAgQIDCAgDWZAdA1OWkBCRCTDq/BEWgTMNm2ualFgAABAgQIECBAgAABAgQIECBAgAABAgQIEKgRsCZTo6UsgbyABIi8kRIEZidgsp1dyA2YAAECBAgQIECAAAECBAgQIECAAAECBAgQGEDAmswA6JqctIAEiEmH1+AItAmYbNvc1CJAgAABAgQIECBAgAABAgQIECBAgAABAgQI1AhYk6nRUpZAXkACRN5ICQKzEzDZzi7kBkyAAAECBAgQIECAAAECBAgQIECAAAECBAgMIGBNZgB0TU5aQALEpMNrcATaBEy2bW5qESBAgAABAgQIECBAgAABAgQIECBAgAABAgRqBKzJ1GgpSyAvIAEib6QEgdkJmGxnF3IDJkCAAAECBAgQIECAAAECBAgQIECAAAECBAYQsCYzALomJy0gAWLS4TU4Am0CJts2N7UIECBAgAABAgQIECBAgAABAgQIECBAgAABAjUC1mRqtJQlkBeQAJE3UoLA7ARMtrMLuQETIECAAAECBAgQIECAAAECBAgQIECAAAECAwhYkxkAXZOTFpAAMenwGhyBNgGTbZubWgQIECBAgAABAgQIECBAgAABAgQIECBAgACBGgFrMjVayhLIC0iAyBspQWB2Aibb2YXcgAkQIECAAAECBAgQIECAAAECBAgQIECAAIEBBKzJDICuyUkLSICYdHgNjkCbgMm2zU0tAgQIECBAgAABAgQIECBAgAABAgQIECBAgECNgDWZGi1lCeQFJEDkjZQgMDsBk+3sQm7ABAgQIECAAAECBAgQIECAAAECBAgQIECAwAAC1mQGQNfkpAUkQEw6vAZHoE3AZNvmphYBAgQIECBAgAABAgQIECBAgAABAgQIECBAoEbAmkyNlrIE8gISIPJGShCYnYDJdnYhN2ACBAgQIECAAAECBAgQIECAAAECBAgQIEBgAAFrMgOga3LSAhIgJh1egyPQJmCybXNTiwABAgQIECBAgAABAgQIECBAgAABAgQIECBQI2BNpkZLWQJ5AQkQeSMlCMxOwGQ7u5AbMAECBAgQIECAAAECBAgQIECAAAECBAgQIDCAgDWZAdA1OWkBCRCTDq/BEWgTMNm2ualFgAABAgQIECBAgAABAgQIECBAgAABAgQIEKgRsCZTo6UsgbyABIi8kRIEZidgsp1dyA2YAAECBAgQIECAAAECBAgQIECAAAECBAgQGEDAmswA6JqctIAEiEmH1+AItAmYbNvc1CJAgAABAgQIECBAgAABAgQIECBAgAABAgQI1AhYk6nRUpZAXkACRN5ICQKzEzDZzi7kBkyAAAECBAgQIECAAAECBAgQIECAAAECBAgMIGBNZgB0TU5aQALEpMNrcATaBEy2bW5qESBAgAABAgQIECBAgAABAgQIECBAgAABAgRqBKzJ1GgpSyAvIAEib6QEgdkJmGxnF3IDJkCAAAECBAgQIECAAAECBAgQIECAAAECBAYQsCYzALomJy0gAWLS4TU4Am0CJts2N7UIECBAgAABAgQIECBAgAABAgQIECBAgAABAjUC1mRqtJQlkBeQAJE3UoLA7ARMtrMLuQETIECAAAECBAgQIECAAAECBAgQIECAAAECAwhYkxkAXZOTFpAAMenwGhyBNgGTbZubWgQIECBAgAABAgQIECBAgAABAgQIECBAgACBGgFrMjVayhLIC0iAyBspQWB2Aibb2YXcgAkQIECAAAECBAgQIECAAAECBAgQIECAAIEBBKzJDICuyUkLSICYdHgNjkCbgMm2zU0tAgQIECBAgAABAgQIECBAgAABAgQIECBAgECNgDWZGi1lCeQFJEDkjZQgMDsBk+3sQm7ABAgQIECAAAECBAgQIECAAAECBAgQIECAwAAC1mQGQNfkpAUkQEw6vAZHoE3AZNvmphYBAgQIECBAgAABAgQIECBAgAABAgQIECBAoEbAmkyNlrIE8gISIPJGShCYnYDJdnYhN2ACBAgQIECAAAECBAgQIECAAAECBAgQIEBgAAFrMgOga3LSAhIgJh1egyPQJmCybXNTiwABAgQIECBAgAABAgQIECBAgAABAgQIECBQI2BNpkZLWQJ5AQkQeSMlCMxOwGQ7u5AbMAECBAgQIECAAAECBAgQIECAAAECBAgQIDCAgDWZAdA1OWkBCRCTDq/BEWgTMNm2ualFgAABAgQIECBAgAABAgQIECBAgAABAgQIEKgRsCZTo6UsgbyABIi8kRIEZidgsp1dyA2YAAECBAgQIECAAAECBAgQIECAAAECBAgQGEDAmswA6JqctIAEiEmH1+AItAmYbNvc1CJAgAABAgQIECBAgAABAgQIECBAgAABAgQI1AhYk6nRUpZAXkCrhxJzAAAgAElEQVQCRN5ICQKzEzDZzi7kBkyAAAECBAgQIECAAAECBAgQIECAAAECBAgMIGBNZgB0TU5aQALEpMNrcATaBEy2bW5qESBAgAABAgQIECBAgAABAgQIECBAgAABAgRqBKzJ1GgpSyAvIAEib6QEgdkJmGxnF3IDJkCAAAECBAgQIECAAAECBAgQIECAAAECBAYQsCYzALomJy0gAWLS4TU4Am0CJts2N7UIECBAgAABAgQIECBAgAABAgQIECBAgAABAjUC1mRqtJQlkBeQAJE3UoLA7ARMtrMLuQETIECAAAECBAgQIECAAAECBAgQIECAAAECAwhYkxkAXZOTFpAAMenwGhyBNgGTbZubWgQIECBAgAABAgQIECBAgAABAgQIECBAgACBGgFrMjVayhLIC0iAyBspQWB2Aibb2YXcgAkQIECAAAECBAgQIECAAAECBAgQIECAAIEBBKzJDICuyUkLSICYdHgNjkCbgMm2zU0tAgQIECBAgAABAgQIECBAgAABAgQIECBAgECNgDWZGi1lCeQFJEDkjZQgMDsBk+3sQm7ABAgQIECAAAECBAgQIECAAAECBAgQIECAwAAC1mQGQNfkpAUkQEw6vAZHoE3AZNvmphYBAgQIECBAgAABAgQIECBAgAABAgQIECBAoEbAmkyNlrIE8gISIPJGShCYnYDJdnYhN2ACBAgQIECAAAECBAgQIECAAAECBAgQIEBgAAFrMgOga3LSAhIgJh1egyPQJmCybXNTiwABAgQIECBAgAABAgQIECBAgAABAgQIECBQI2BNpkZLWQJ5AQkQeSMlCMxOwGQ7u5AbMAECBAgQIECAAAECBAgQIECAAAECBAgQIDCAgDWZAdA1OWkBCRCTDq/BEWgTMNm2ualFgAABAgQIECBAgAABAgQIECBAgAABAgQIEKgRsCZTo6UsgbyABIi8kRIEZidgsp1dyA2YAAECBAgQIECAAAECBAgQIECAAAECBAgQGEDAmswA6JqctIAEiEmH1+AItAmYbNvc1CJAgAABAgQIECBAgAABAgQIECBAgAABAgQI1AhYk6nRUpZAXkACRN5ICQKzEzDZzi7kBkyAAAECBAgQIECAAAECBAgQIECAAAECBAgMIGBNZgB0TU5aQALEpMNrcATaBEy2bW5qESBAgAABAgQIECBAgAABAgQIECBAgAABAgRqBKzJ1GgpSyAvIAEib6QEgdkJmGxnF3IDJkCAAAECBAgQIECAAAECBAgQIECAAAECBAYQsCYzALomJy0gAWLS4TU4Am0CJts2N7UIECBAgAABAgQIECBAgAABAgQIECBAgAABAjUC1mRqtJQlkBeQAJE3UoLA7ARMtrMLuQETIECAAAECBAgQIECAAAECBAgQIECAAAECAwhYkxkAXZOTFpAAMenwGhyBNgGTbZubWgQIECBAgAABAgQIECBAgAABAgQIECBAgACBGgFrMjVayhLIC0iAyBspQWB2Aibb2YXcgAkQIECAAAECBAgQIECAAAECBAgQIECAAIEBBKzJDICuyUkLSICYdHgNjkCbgMm2zU0tAgQIECBAgAABAgQIECBAgAABAgQIECBAgECNgDWZGi1lCeQFJEDkjZQgMDsBk+3sQm7ABAgQIECAAAECBAgQIECAAAECBAgQIECAwAAC1mQGQNfkpAUkQEw6vAZHoE3AZNvmphYBAgQIECBAgAABAgQIECBAgAABAgQIECBAoEbAmkyNlrIE8gISIPJGShCYnYDJdnYhN2ACBAgQIECAAAECBAgQIECAAAECBAgQIEBgAAFrMgOga3LSAhIgJh1egyPQJmCybXNTiwABAgQIECBAgAABAgQIECBAgAABAgQIECBQI2BNpkZLWQJ5AQkQeSMlCMxOwGQ7u5AbMAECBAgQIECAAAECBAgQIECAAAECBAgQIDCAgDWZAdA1OWkBCRCTDq/BEWgTMNm2ualFgAABAgQIECBAgAABAgQIECBAgAABAgQIEKgRsCZTo6UsgbyABIi8kRIEZidgsp1dyA2YAAECBAgQIECAAAECBAgQIECAAAECBAgQGEDAmswA6JqctIAEiEmH1+AItAmYbNvc1CJAgAABAgQIECBAgAABAgQIECBAgAABAgQI1AhYk6nRUpZAXkACRN5ICQKzEzDZzi7kBkyAAAECBAgQIECAAAECBAgQIECAAAECBAgMIGBNZgB0TU5aQALEpMNrcATaBEy2bW5qESBAgAABAgQIECBAgAABAgQIECBAgAABAgRqBKzJ1GgpSyAvIAEib6QEgdkJmGxnF3IDJkCAAAECBAgQIECAAAECBAgQIECAAAECBAYQsCYzALomJy0gAWLS4TU4Am0CJts2N7UIECBAgAABAgQIECBAgAABAgQIECBAgAABAjUC1mRqtJQlkBeQAJE3UoLA7ARMtrMLuQETIECAAAECBAgQIECAAAECBAgQIECAAAECAwhYkxkAXZOTFpAAMenwGhyBNgGTbZubWgQIECBAgAABAgQIECBAgAABAgQIECBAgACBGgFrMjVayhLIC0iAyBspQWB2Aibb2YXcgAkQIECAAAECBAgQIECAAAECBAgQIECAAIEBBKzJDICuyUkLSICYdHgNjkCbgMm2zU0tAgQIECBAgAABAgQIECBAgAABAgQIECBAgECNgDWZGi1lCeQFJEDkjZQgMDsBk+3sQm7ABAgQIECAAAECBAgQIECAAAECBAgQIECAwAAC1mQGQNfkpAUkQEw6vAZHoE3AZNvmphYBAgQIECBAgAABAgQIECBAgAABAgQIECBAoEbAmkyNlrIE8gISIPJGShCYnYDJdnYhN2ACBAgQIECAAAECBAgQIECAAAECBAgQIEBgAAFrMgOga3LSAhIgJh1egyPQJmCybXNTiwABAgQIECBAgAABAgQIECBAgAABAgQIECBQI2BNpkZLWQJ5AQkQeSMlCMxOwGQ7u5AbMAECBAgQIECAAAECBAgQIECAAAECBAgQIDCAgDWZAdA1OWkBCRCTDq/BEWgTMNm2ualFgAABAgQIECBAgAABAgQIECBAgAABAgQIEKgRsCZTo6UsgbyABIi8kRIEZidgsp1dyA2YAAECBAgQIECAAAECBAgQIECAAAECBAgQGEDAmswA6JqctIAEiEmH1+AItAmYbNvc1CJAgAABAgQIECBAgAABAgQIECBAgAABAgQI1AhYk6nRUpZAXkACRN5ICQKzEzDZzi7kBkyAAAECBAgQIECAAAECBAgQIECAAAECBAgMIGBNZgB0TU5aQALEpMNrcATaBEy2bW5qESBAgAABAgQIECBAgAABAgQIECBAgAABAgRqBKzJ1GgpSyAvIAEib6QEgdkJmGxnF3IDJkCAAAECBAgQIECAAAECBAgQIECAAAECBAYQsCYzALomJy0gAWLS4TU4Am0CJts2N7UIECBAgAABAgQIECBAgAABAgQIECBAgAABAjUC1mRqtJQlkBeQAJE3UoLA7ARMtrMLuQETIECAAAECBAgQIECAAAECBAgQIECAAAECAwhYkxkAXZOTFrhSxBVXpBGef37EO9856bEaHAEChQIm20IoxQgQIECAAAECBAgQIECAAAECBAgQIECAAAECewhYk9kDT1UCHQISIOwWBAicI2CytVMQIECAAAECBAgQIECAAAECBAgQIECAAAECBI4vYE3m+MZamJeABIh5xdtoCRQJmGyLmBQiQIAAAQIECBAgQIAAAQIECBAgQIAAAQIECOwlYE1mLz6VCZwjIAHCTkGAwDkCJls7BQECBAgQIECAAAECBAgQIECAAAECBAgQIEDg+ALWZI5vrIV5CUiAmFe8jZZAkYDJtohJIQIEDiDwrGdFvPe9qw3d9KYRj3rUATZsE/9PoNS3tNwUWDfH+va3R9z61vbBKcTWGAgQIECAwBgFltcmb3hDxNvethhBuiY+77yIa13LdcoQMe372nhbe3e5S0S6Vr300ogvfCHiKleJuMUtIs4/P+JOd4pI+0z6pP+93G/SvdT69pZl3vjGiIsvjrjssogrXSniyleO+MqvjLjznSMuvPCscqr/kpdEfOITi7+ness219vpis36/pzqp/049a/kPm+z3VT3AQ9wf7jrGOh7Xx3ieJxbmw99aMS7370adTr+v/VbV/+97/3rcp950YsiPv7xiKtedXF8brazPGa7zifLc862vnTtl2kE2579tN6j1+z/NWV3nduW35Wc0/rcd1vH11qvz7HNqS1rMnOKtrH2ISABog9lbRAYmYDJdmQB010CIxb4+q+P+NM/XQ3g674u4k/+ZMQDOrGul/qWljux4TV1Z3OsX/IlEZ/+tH2wCVMlAgQIECBAYG+BzWuT9Q26Ttmbt2kDfV8bb2vvi75okfhQ+lneS+3apza3lfaxT33q7F9z9Xfds22rW3Kf11W3pF6pzxTL9b2vTtHw1Mb0pV969v40JSutnwf2nRe2HaOb7ZScT7b1pWu/TM7bnv203qPX7P81Zbv2iX3rH3s/a+1fa71jj2eu27cmM9fIG/exBCRAHEvWdgmMWMBkO+Lg6TqBkQm42TpuwEp9S8sdt7f9bL314Uo/vdMKAQIECBAgMDcBCRCnF/G+r40lQCz2AQkQ9cdC3/tqfQ/VqBWQABFRmuRRs//XlO2K2b71a/eD2vKt/WutV9s/5csErMmUOSlFoFRAAkSplHIEZiRgsp1RsA2VwMACbraOG4BS39Jyx+1tP1uXANGPs1YIECBAgACBMgEJEGVOfZbq+9pYAsQiuhIg6vfyvvfV+h6qUSsgAUICRO0+03X+LH17jnNIi/bx6liTOZ6tLc9TQALEPONu1AR2Cphs7SAECPQl4GbruNKlvqXljtvbfrYuAaIfZ60QIECAAAECZQISIMqc+izV97WxBIhFdCVA1O/lfe+r9T1Uo1ZAAoQEiNp9puv8KQGiRXH4OtZkho+BHkxL4CAJEB/4wOL3utP//9CHIq52tYgb3jDiq74qIp1s029IHePzkY9E/OEfRvzt30Z88pMR550XcbvbRdzjHouJMvf57GcjXv/6iL/8y4iLL45IFxg3vWnEfe8bcf3r52qXf3/JJRGve13E+94X8cEPRlzlKguf88+PuOtdF/996E9qK/2uVorHhz+8+K2wa14z4ha3iLjggoib3/xwLb73vYv4v/Odizik+Kc43P/+u9u4/PKIt7894i1viXjPeyI+/vGI9PuG171uxI1uFHGXuyycjvHp0+cY/T/2Nk22xxa2fQIElgIe2Bx3Xyj1LS133N72s3UJEP04a4UAAQIECBAoE5AAUebUZ6m+r40lQCyiKwGifi/ve1+t76EatQISICRA1O4zXedPCRAtisPXsSYzfAz0YFoCzQkQn/lMxC/9UsRFF0X82Z9FXHFFN8z1rhfx4AdHPP7xi+SC0s/DHx7x/OevSj/hCRE/8zOL/37jGxfbe/nLI9Ii+uYnLfQ/+tERP/3T3YkQKdnhyU+O+JVfifjoR8+tnxbhv/3bI57+9EWSQuvnRS+KeMYzFskPn/9891ZS0sa3fMuir1/7ta0tLeqlsfzCL0S88IUR/x97dwI1z1UXCPsXBCQzIQgcQcIaJkBYJTDDEkUSkd0ABmGIgCEo+xIDjKATlaBBIhxgWAQyMARBBAGV9bAJAQIEQ9gMO8mELSxGIgkxrOE71/p6ut+u7q57a+m3+62nzvFg3r7rc2/Xra77+1d95jOry7r+9SPucY+Ihz404pBDlqe93vUivvzl6efvfW/EYYdV/5369xd/EfGRj9Tzp76keTF/pMCD1L53vjPi/e+PuOii1e28yU2qsUztvMIVNsMnjelxx03bkoI1vvrV9oEsyX/W6thjq3mzm4fFdjf11U1gXAJu2Aw73rm+uemGbe16ShcAsR5ntRAgQIAAAQJ5AgIg8pzWmWrd18YCIKrRFQBRPsvXPVfLWyhHqYAACAEQpXNm0flTAEQbxd3PY09m98dAC/aWQKsAiL//+4jHPz7ia1/Lx0hPZHjmMyMe/ei8PMsCINIG/5OetDygYLb0W9+6CpKYfZpDCkZIARnpiQNNx5WuFPGud1UX4CXHV74ScdRRER/6UH6u9JSMtMn/ghdUT1AoPZ797IinPS0iPW2i9PjUpyJufvPFuRYFQNzmNhG//dsRb3jD8poWBUCkTf0nPrF6GkXpkdrxD//QPkikT58UaHLNa0Zccsm0F69/fcR971vaq+opHfPzKz2R5KY3LS+rzxwW2z41lUWAwCoBN2yGnR+5vrnphm3tekoXALEeZ7UQIECAAAECeQICIPKc1plq3dfGAiCq0RUAUT7L1z1Xy1soR6mAAAgBEKVzZtH5UwBEG8Xdz2NPZvfHQAv2lkBxAET6F/9PecryJz408Tz5yRHPeEZTqohFARDpaRIp8KLk+JVfiUhPLUgBBqefHnHnO1evacg9rnzliE9/OuIa18jL8c//HHG3u0Wk10K0OdLTFdJGfwq+yDnSkzh+53ciXv3qnNSL06Qnatzylos/mw+ASE9uSIEsKTBk1bEoACLNm5NOat/OFETzj/9YvTYk9xjKZ35+pqd4pGCb0uMRj4g4+eRprkMPrV7rstuHxXa3R0D9BMYj4IbNsGOd65ubbtjWrqd0ARDrcVYLAQIECBAgkCcgACLPaZ2p1n1tLACiGl0BEOWzfN1ztbyFcpQKCIAQAFE6ZxadPwVAtFHc/Tz2ZHZ/DLRgbwkUBUDMP/o/UaSnFfzWb0Xc857VJnp62sIPfxhx7rkR73hHxPOfH/Htb+9ES6+2SE8QWHXMbzDf/e7Vpnt6lUR6RUXKf//7R9zsZhHplRepjvT5iSfWn+6QNpjvfe+qfekVDOk4/PCIY46JSBvOP//z1asY0qscFr3SIfUvveqj6Uiv1rjFLer1X/va1ZMvUh/S/598zj67eoLCi1+880kCqY4jjoh405uaaqs+TwbplRLzR9qQP/LIqn9Xu1r1+oj05IIvfCHin/4p4o1vjDjjjCpXSQBECtA49dQq3+UvXwWq/MZvRNz4xhEpWORb34pIT5RIZc8HukwCIFIgQyonjUF6xcUNblAFfKQLvIsvrsYotSk9VeFtb9sZbJNeSZJeF/FzP7e7PimY5va3n7YhBdicc07ZK1NSX1NgzexrQE45JeLoo/P6NmQqi+2QusomQGBWwA2bYedDrm9uumFbu57SBUCsx1ktBAgQIECAQJ6AAIg8p3WmWve1sQCIanQFQJTP8nXP1fIWylEqIABCAETpnFl0/hQA0UZx9/PYk9n9MdCCvSWQHQCRNrR/6ZcifvSjKUB6usIrXxlxnessR0mbuw98YMSb3zxNs99+EZ/9bMS1rrU833wAxCRl2jB+61sjDjlkcd7zz4+4wx0iPve56edpgz1dEKanJFzuchEvfenyAIz0eob//t+rzffJkQIuvvrV5qdALApGSH9L9V3xiovb+6UvRdzrXpXH7PGSl0Q8/OGrJ9uigJRkmvqZDJqOL36xeprD7/1eFYiw6Jh/AsQkzUEHVeNwwxs21TL9PM2VFMDygAdE7LtvXr70ypL0aolJ4ErK9dSnRvzJnzTnH9onzcEUjDE5jj8+4k//tLldkxRpXjzsYdP0KagjPTkk1ya/pvKUFttyMzkIEGgn4IZNO7fcXLm+uely693kdAIgNnl0tI0AAQIECIxPQADE5o35uq+NBUBUc0AARPl3Yd1ztbyFcpQKCIAQAFE6ZxadPwVAtFHc/Tz2ZHZ/DLRgbwlkB0DMX1Clf8GfHvmfngDRdKRN71/91YgPfGCa8klPqjbflx2LAiDSkwM++tHqaQOrjve/P+KOd1ycIufpE+lJDv/lv0T8279Ny0ib6cceu7zW9MSCW91q5+fpVRgp8OOyl13d3q9/vbrIn93kv/rVI77yleopC4uOf/3X6mkD6SkCkyP992mnrQ4saRqr+c8XBUCkp3x88pMRBxxQWlq79Om1ImnRTk/OSEeySQEpKZhl2bEOnxSk8shHTltwzWtGfPnL1RNKco7b3rZ6GsfkeOxjqyembMJhsd2EUdAGAuMQcMNm2HHO9c1NN2xr11O6AIj1OKuFAAECBAgQyBMQAJHntM5U6742FgBRja4AiPJZvu65Wt5COUoFBEAIgCidM4vOnwIg2ijufh57Mrs/BlqwtwSyAiDe+94qgGFypIX485+PSBu+uUd6wkF6XUV6wkI60isP0usSlgVQLAqAePrTI/7gD/JqPPjgqo2zx13uUr2WI+dI/zI//Qv9yXHUUdWTFZYd6XUa6fUFs0apz+mVFznHa19bPRlh9virv4p48IMX505PQHja06afpVcwpFdT5Dz5Iac9kzSLAiB24zUNyf81r5m2/EMf2vkKivk+rcPne9+rgkBmX2GRXl2SXmHSdKTXhPziL+5MlYJK0itU+jzSotnmOPvss+MHP/jBf2S9yU1uEp/+9KfbFCMPAQIEGgXcsGkk6pQg1zc3XafGbEhmARAbMhCaQYAAAQIECPyHgACIzZsI6742FgBRzQEBEOXfhXXP1fIWylEqIABCAETpnFl0/hQA0UZx9/MIgNj9MdCCvSWQFQAxv/n8mMdEvOAF5RCHH15t0k+O9ESIX/7lxeXMB0CkJyGkJyRc5Sp59f7u70a87GU706ZXNtzjHnn5X/WqncEH6RURy/aAf/KTiCtfeedGeHoywItelFfXJFV6nUR6LcXkuOc9I97ylsVlpNeOpKcgTI70Go03vrGsvpzU8wEQP//zEV/72vInU+SU2SbN/Ossnv3siOOOW17Sunwe9aiIF7942o4U/JCCIJqOxz1u53coPQ3i9NObcpV/vs8++5RnmsshAKIzoQIIEFgh4IbNsNMj1zc33bCtXU/pAiDW46wWAgQIECBAIE9AAESe0zpTrfvaWABENboCIMpn+brnankL5SgVEAAhAKJ0ziw6fwqAaKO4+3kEQOz+GGjB3hLICoC4xjUivvnNacff856IFMxQevzRH0X82Z9Nc/35n0c85SmLS5kPgDj00IgPfjC/xr/4i4gnP3maPr2G4rvfrRbQnCO9miBtSk+OtPH/7W8vzvmJT0QccsjOz9JrOEqfxnDCCRFPfeq0nBTscf75EfN72GefHXHQQTvrS4ESKWCi72M+AOK3fzsivUakryO9qiI9DSEFfqTxSU9TmLzqYraO9BqMt71t+pf0hI6TT17cinX6zD/JIb3+Ir0GY9XTUS65pHpyxOwrVlKwzkMf2pfqtBwBEP2bKpEAgX4F3LDp13O+tFzf3HTDtnY9pQuAWI+zWggQIECAAIE8AQEQeU7rTLXua2MBENXoCoAon+XrnqvlLZSjVEAAhACI0jmz6PwpAKKN4u7nEQCx+2OgBXtLoDEAIm1MpycTzB7f+U71xIPS4y//MiI9PWJypKc0/O//vbiU+QCIRzxi57+0b6o7/av89K/zJ8eNbhTxuc815Zp+ntLe+MbT/06v6vj+9xfnTxvxqX2TIwVbpI38K1whv76U8p3vjLjrXXfmSf7zwQ4pACH5TI70+osLLojYf/+y+nJSzwdA/K//FfH4x+fkXJ7mwgurcU9P2UjBI22O+90v4m//dnHOdfqkFqTgnA9/eNqW9GqSFOyz7EivNjn66OmnadzOOy8iXeD2fXgFRt+iyiNAoG8BN2z6Ft1ZXq5vbrphW7ue0gVArMdZLQQIECBAgECegACIPKd1plr3tbEAiGp0BUCUz/J1z9XyFspRKiAAQgBE6ZxZdP4UANFGcffzCIDY/THQgr0l0BgA8Y53RNztbsN0+sgjI97whsVlzwdA/MEfRDz96fntOOWUiGOOmaa//e0jPvSh/Pznnhtx4IE70//0p4vzzz+54eCDIz772fy6JinTKz7SkwFmj0VPkjjxxIjjj5+mSgESs6/OKK95eY75AIjXvz7ivvdtX8Pf/30VBJP62uW4852rgJFFxzp9Uv3zAQ3XvW7EOedEpMCURUd6Mshpp00/afO6lC52OXkttjlK0hAg0IeAGzZ9KC4vI9c3N92wrV1P6QIg1uOsFgIECBAgQCBPQABEntM6U6372lgARDW6AiDKZ/m652p5C+UoFRAAIQCidM4sOn8KgGijuPt57Mns/hhowd4SaAyAePWrIx74wGE6/au/GvGP/7i47PkAiD/5k52vh2hq0XwAxB3vGHHqqU25pp+XBEAcd1zEc587zVsabDHJ+YMf1J8a8cY3RtzrXjvb/YQnRDznOdO/pVd1nH56ft9KUs4HQLzrXRG/9mslJUzTpiczpNc8XHppu/yzuVaN5zp9UpvSk0HSKy/Sk1Emx9vfXn+aR/ps/ski6W8f+1j9FSrdhbqVYLHt5ic3AQL5Am7Y5Fu1SZnrm5uuTRs2LY8AiE0bEe0hQIAAAQLjFhAAsXnjv+5rYwEQ1RwQAFH+XVj3XC1voRylAgIgBECUzplF508BEG0Udz+PPZndHwMt2FsCjQEQ86+t6LP7qzaxtykAIr3K42Uvm8qkAIEUKNDmSK/P+MlPpjnTayLmA1Ae9rCIl750muZOd4p497vb1NacZz4A4r3vjTjssOZ88ynSEypudrOIH/5w5yfpQv2IIyJuc5uI61wn4hd+oQoCSf+3zz7TtCUBLev0mbRwPugiPSUjPS1j/njiEyOe/ezpX3MvRsrFu+Ww2Hbzk5sAgXwBN2zyrdqkzPXNTdemDZuWRwDEpo2I9hAgQIAAgXELCIDYvPFf97WxAIhqDgiAKP8urHuulrdQjlIBARACIErnzKLzZ+6eg3NIG+3h8tiTGc5WyeMUaAyAePnLq3+1PzmueMWIRz+6H6zrXz/i4Q9fXNY2BUCs+wkQ85vo63wCRNsAiAc8IOK1r52O9X77Rfz1X9efbrFsZs0H4qwKnlmnz6lzM48AACAASURBVKS9X/hCRHr1yeQ1KZe7XMRXvxpx9atPe5SCP9KTIs4/f/q3k0+OSAEbm3ZYbDdtRLSHwN4V8GNr2LHN9c1NN2xr11O6AIj1OKuFAAECBAgQyBMQAJHntM5U6742FgBRja4AiPJZvu65Wt5COUoFBEAIgCidM4vOnwIg2ijufh57Mrs/BlqwtwQaAyDe/Oadm9SXv3zEJZdEXOYyw0JsUwDECSfsfD1H2gj/7GfLfb7xjYgDDtiZ7/3vj7jDHXb+7cQTI44/fvq3gw6KSE9YGOLo4wkQ6dUeV71qxMUXT1uYnmDxO7+T3+L5Pq8KgFinz2wP0pM43vOe6V+e8YyIJz95+t+veU3EUUdN/zsFgaQxT/+7aYfFdtNGRHsI7F0BN2yGHdtc39x0w7Z2PaULgFiPs1oIECBAgACBPAEBEHlO60y17mtjARDV6AqAKJ/l656r5S2Uo1RAAIQAiNI5s+j8KQCijeLu57Ens/tjoAV7S6AxAOLMMyPSCXP2SP/a/QY3GBZimwIg0r/if8Qjph7pNRbf+17Ez/5smdE73xlx17vuzJMCG1KAw+zxV38VcfTR07+kYJQLLojYf/+y+nJS9xEA8ZGPRNzudtPa0lNE/uVfynwe9KDqiRGTY1UAxDp9Zg1f97qI+99/+pc0bum7MnmVx3yARHryQ5o7m3hYbDdxVLSJwN4UcMNm2HHN9c1NN2xr11O6AIj1OKuFAAECBAgQyBMQAJHntM5U6742FgBRja4AiPJZvu65Wt5COUoFBEAIgCidM4vOnwIg2ijufh57Mrs/BlqwtwQaAyB+/OPqX+9feOG04897XsTjHjcsxDYFQHziExGHHLLT47TTIn7pl8qM5p8kcZWrVK9LmGygT0r7v/83Ir0+ZPZ4y1si7nnPsvpyUvcRAPHGN0bc5z7T2m51q4gUWFNyHHhgxLnnTnOsCoBYp89sH370o4jrXCfim9+c/jU9EeLwwyPOPrsKGpq8IiOlOOOMenBRicmQaS22Q+oqmwCBWQE3bIadD7m+uemGbe16ShcAsR5ntRAgQIAAAQJ5AgIg8pzWmWrd18YCIKrRFQBRPsvXPVfLWyhHqYAACAEQpXNm0flTAEQbxd3PY09m98dAC/aWQGMAROruve4VkV6FMTnSZn/awJ7fmO+TZpsCIH7yk4grXzniooumAo9+dMQLX1gmcqMbVU8MmBwpoCEFNiw6rnvdiK98ZfpJGqMUaND30UcAxKtfHfHAB05bdtvbRpx+en5LUxBBenrC7LEqACKlW5fPfC/Sq0nSKzgmxwMeEPE3fxPxlKdEnHTSzu/Qxz6Wb7DulBbbdYurj8B4BdywGXbsc31z0w3b2vWULgBiPc5qIUCAAAECBPIEBEDkOa0z1bqvjQVAVKMrAKJ8lq97rpa3UI5SAQEQAiBK58yi86cAiDaKu5/Hnszuj4EW7C2BrACIf/iHiN/4jZ0df9Wrdm5q982yTQEQqe8PfWjEy18+Vdhvv4jPfS7imtfMk5l/fULK9cpXRqRXPyw6nva0iD/5k+kn6TUY73tfxC//cl59uan6CIB4+9sj7n73aY3piSLf/nZEanPTkZ6YcNhhEe9//86UTQEQ6/KZb38KSklPq7j00uqT9BqU9OSKW94y4lvfmqZ+0YsiHvnIpt7v3ucW292zVzOBsQm4YTPsiOf65qYbtrXrKV0AxHqc1UKAAAECBAjkCQiAyHNaZ6p1XxsLgKhGVwBE+Sxf91wtb6EcpQICIARAlM6ZRedPARBtFHc/jz2Z3R8DLdhbAlkBEGkTOr22IL3qYXKkxThtSqe/tznSBvjVrrY857YFQHz843WL9ASH9FSGn/mZ1ULf+EZ1kf/1r0/TXf3q1RMeLn/5xXm/853qKQff+9708/Tf6dUb17pWmxFZnKePAIjUj9S22ePv/q4eVLOoBelpCumpCvNHUwDEunwWtfnXfz3irW+dfpICOE49ded357zzIvbfv79x6rski23fosojQGCZgBs2w86NXN/cdMO2dj2lC4BYj7NaCBAgQIAAgTwBARB5TutMte5rYwEQ1egKgCif5eueq+UtlKNUQACEAIjSObPo/CkAoo3i7uexJ7P7Y6AFe0sgKwAidfmDH4w4/PCIH/1oCpAW5Oc/P+Loo/P+Nf+PfxyRXmeQ8qR/Df9P/7Qcc9sCIFJP7n//iPQkh9kjvfrhJS+JSFaLjnPOqV4x8ulP7/w05Xn4w1dPtuc9L+LYY3emScEP6ZULOU+C+NKXIp71rIjHPz7iJjdZXFcfARCp5FT+Zz87rSMFv7z3vcvrTXPlT/80Ij3JYdHRFACR8qzDZ1Hb0mtLjjhi+dilp4W87GWbfSKx2G72+Ggdgb0k4IbNsKOZ65ubbtjWrqd0ARDrcVYLAQIECBAgkCcgACLPaZ2p1n1tLACiGl0BEOWzfN1ztbyFcpQKCIAQAFE6ZxadPwVAtFHc/Tz2ZHZ/DLRgbwlkB0Ckbp98csQjHlEHuMENIh784Ig73CHi+tePuPKVq0CJf/u3iK99rXpyRAp2eNvbIi64oMp/61tHfPSjyzG3MQAiPXXgFrfY+SSH1MP09IPHPCbibnerns7wwx9GnH12xBveEPHiF0f8+7/vdEib5296U95EWxR0kXLe9a4R971vxKGHRqSnSaQnSaTxSEEPZ5xRPZni9NMj0tM90tMr0isaFh19BUD8n/8T8Tu/s7OGdEH32MdGHHlkxEEHReyzT0R6MsK7313Ntc98pkqf/v7bvx3xildM8+cEQKTUQ/ssMkuvv0jfgy9/ebFpcr/tbfPGd7dSWWx3S169BMYn4IbNsGOe65ubbtjWrqd0ARDrcVYLAQIECBAgkCcgACLPaZ2p1n1tLACiGl0BEOWzfN1ztbyFcpQKCIAQAFE6ZxadPwVAtFHc/Tz2ZHZ/DLRgbwkUBUCkrqcN+/TUgbSJ3+XYiwEQyeOf/7kKdEgb+W2OtLGfghOudKW83N//fkQKFnnta/PSL0q1jgCIn/wk4h73iHjnO8vb+YxnVEEcxxwzzZsbADG0z7LeLHt1RwqQ+eQnyw3WncNiu25x9REYr0AKeJtdMw84oPkJSOPVKu95rm9uuvIWbF6O+b6m4NAUiDk5zMHNGzMtIkCAAAECe1lgcm1y5pkRn/981dN0PXLFK1b3hlynrH/0131tvKy+9I9n0rXqJZdEpH9sc7nLRRx4YPUPrdJ91TRn0pH+/8m8SU+TnS1vkibd+0v/cOsHP6j+odFlLhOR/tHTbW4T8apX7TRO+d/85oiLLqr+PnnN7Hw9i0Zmdj6n/Gkep3w519jz9aa86R+JNT0hd/0zZHNqXPdc3Zye792WPOhB1T8onRzp+3/3u0//u+vv18mcSa+nvvDC6h9Npu/nfD2T7+yi88nkXLCsLYvmZerBsns/bX+jl8z/krSrzm2Tz3LOaeucpW371zbfOvs2prrsyYxptPV1HQLFARCpUR/+cPUkiLTZ3+a4whUiHvWoiGc/e3nubXwCxKQ36V/+H3VU5ZR7pB8f6dUIL3xhxM/+bG6uKl16ikMKEkib7hdfXJY3pT7rrIib3nRxvr6eAJFKT0+gSE+lSK9ByTnSD7uTToo47riIU05pFwAxtM+yfnzzmxHXuc7OV8aktC94QfU0kE0/LLabPkLaR4AAAQIECBAgQIAAAQIECBAgQIAAAQIECOwFAXsye2EU9WGTBFoFQKQOpE339KSC9ESI005r3ni/6lUjDj+8ejXDb/5mxM/93GqGbQ6AmPTs9a+PeN7zIj70oYj0BIRFx377VSbHH7/8NRS5E+bb34545jMjUgTnOeeszpVeW3Kve0X87u9GHHzw8rR9BkCkWpLDX/5lxF/8xc5o1tkWpMjTe9874o//OOJmN6s+6RIAMSl7CJ9Vyve7X0SaA5Nj330jvvGN/Kd75I77EOkstkOoKpMAAQIECBAgQIAAAQIECBAgQIAAAQIECBAgsFPAnowZQaBfgX1++tMUytDt+NGPIj760Yhzz43413+N+O53I9JTHvbfP+La14648Y2rfw2fnnIwxiM9+SAFQaTN73/5l+qRdVe7WvXIutvdrnrUVN9HegTVpz5V1ZfG5LKXrcbj+tevnvZwzWv2XWNZeWnWfeITER/7WMT551eBESko5oY3rExSYMiQxzp87nzniHe/e9qLo4+uAjm24bDYbsMoaSMBAgQIECBAgAABAgQIECBAgAABAgQIECCw7QL2ZLZ9BLV/0wR6CYDYtE5pD4HdFkivQUnBJukdjZPjgx+MOPTQ3W5ZXv0W2zwnqQgQIECAAAECBAgQIECAAAECBAgQIECAAAECXQTsyXTRk5dAXUAAhFlBYACB9EqTE0+cFpyeunHWWQNUNFCRFtuBYBVLgAABAgQIECBAgAABAgQIECBAgAABAgQIEJgRsCdjOhDoV0AARL+eSiMQl1wScb3rRXz721OMF74w4tGP3h4ci+32jJWWEiBAgAABAgQIECBAgAABAgQIECBAgAABAtsrYE9me8dOyzdTQADEZo6LVm2xwEknRTzlKdMO7L9/xNe/HrHfftvTKYvt9oyVlhIgQIAAAQIECBAgQIAAAQIECBAgQIAAAQLbK2BPZnvHTss3U0AAxGaOi1ZtqcC73hVx73vHfzwFYnL88R9HnHDCdnXIYrtd46W1BAgQIECAAAECBAgQIECAAAECBAgQIECAwHYK2JPZznHT6s0VEACxuWOjZRsucOaZEa97XdXI73434qyzIk47bWejr3a1iC98IeJKV9rwzsw1z2K7XeOltQQIECBAgAABAgQIECBAgAABAgQIECBAgMB2CtiT2c5x0+rNFRAAsbljo2UbLnDKKRHHHLO6kW94Q8SRR254RxY0z2K7fWOmxQQIECBAgAABAgQIECBAgAABAgQIECBAgMD2CdiT2b4x0+LNFhAAsdnjo3UbLLAqAOKyl4141rMijj12gzuwomkW2+0cN60mQIAAAQIECBAgQIAAAQIECBAgQIAAAQIEtkvAnsx2jZfWbr6AAIjNHyMt3FCB+QCIffeNuNa1Ig47LOKxj424xS02tOEZzbLYZiBJQoAAAQIECBAgQIAAAQIECBAgQIAAAQIECBDoKGBPpiOg7ATmBARAmBIECNQELLYmBQECBAgQIECAAAECBAgQIECAAAECBAgQIEBgeAF7MsMbq2FcAgIgxjXeeksgS8Bim8UkEQECBAgQIECAAAECBAgQIECAAAECBAgQIECgk4A9mU58MhOoCQiAMCkIEKgJWGxNCgIECBAgQIAAAQIECBAgQIAAAQIECBAgQIDA8AL2ZIY3VsO4BARAjGu89ZZAloDFNotJIgIECBAgQIAAAQIECBAgQIAAAQIECBAgQIBAJwF7Mp34ZCZQExAAYVIQIFATsNiaFAQIECBAgAABAgQIECBAgAABAgQIECBAgACB4QXsyQxvrIZxCQiAGNd46y2BLAGLbRaTRAQIECBAgAABAgQIECBAgAABAgQIECBAgACBTgL2ZDrxyUygJiAAwqQgQKAmYLE1KQgQIECAAAECBAgQIECAAAECBAgQIECAAAECwwvYkxneWA3jEhAAMa7x1lsCWQIW2ywmiQgQIECAAAECBAgQIECAAAECBAgQIECAAAECnQTsyXTik5lATUAAhElBgEBNwGJrUhAgQIAAAQIECBAgQIAAAQIECBAgQIAAAQIEhhewJzO8sRrGJSAAYlzjrbcEsgQstllMEhEgQIAAAQIECBAgQIAAAQIECBAgQIAAAQIEOgnYk+nEJzOBmoAACJOCAIGagMXWpCBAgAABAgQIECBAgAABAgQIECBAgAABAgQIDC9gT2Z4YzWMS0AAxLjGW28JZAlYbLOYJCJAgAABAgQIECBAgAABAgQIECBAgAABAgQIdBKwJ9OJT2YCNQEBECYFAQI1AYutSUGAAAECBAgQIECAAAECBAgQIECAAAECBAgQGF7AnszwxmoYl4AAiHGNt94SyBKw2GYxSUSAAAECBAgQIECAAAECBAgQIECAAAECBAgQ6CRgT6YTn8wEagICIEwKAgRqAhZbk4IAAQIECBAgQIAAAQIECBAgQIAAAQIECBAgMLyAPZnhjdUwLgEBEOMab70lkCVgsc1ikogAAQIECBAgQIAAAQIECBAgQIAAAQIECBAg0EnAnkwnPpkJ1AQEQJgUBAjUBCy2JgUBAgQIECBAgAABAgQIECBAgAABAgQIECBAYHgBezLDG6thXAICIMY13npLIEvAYpvFJBEBAgQIECBAgAABAgQIECBAgAABAgQIECBAoJOAPZlOfDITqAkIgDApCBCoCVhsTQoCBAgQIECAAAECBAgQIECAAAECBAgQIECAwPAC9mSGN1bDuAQEQIxrvPWWQJaAxTaLSSICBAgQIECAAAECBAgQIECAAAECBAgQIECAQCcBezKd+GQmUBMQAGFSECBQE7DYmhQECBAgQIAAAQIECBAgQIAAAQIECBAgQIAAgeEF7MkMb6yGcQkIgBjXeOstgSwBi20Wk0QECBAgQIAAAQIECBAgQIAAAQIECBAgQIAAgU4C9mQ68clMoCYgAMKkIECgJmCxNSkIECBAgAABAgQIECBAgAABAgQIECBAgAABAsML2JMZ3lgN4xIQADGu8dZbAlkCFtssJokIECBAgAABAgQIECBAgAABAgQIECBAgAABAp0E7Ml04pOZQE1AAIRJQYBATcBia1IQIECAAAECBAgQIECAAAECBAgQIECAAAECBIYXsCczvLEaxiUgAGJc4623BLIELLZZTBIRIECAAAECBAgQIECAAAECBAgQIECAAAECBDoJ2JPpxCczgZqAAAiTggCBmoDF1qQgQIAAAQIECBAgQIAAAQIECBAgQIAAAQIECAwvYE9meGM1jEtAAMS4xltvCWQJWGyzmCQiQIAAAQIECBAgQIAAAQIECBAgQIAAAQIECHQSsCfTiU9mAjUBARAmBQECNQGLrUlBgAABAgQIECBAgAABAgQIECBAgAABAgQIEBhewJ7M8MZqGJeAAIhxjbfeEsgSsNhmMUlEgAABAgQIECBAgAABAgQIECBAgAABAgQIEOgkYE+mE5/MBGoCAiBMCgIEagIWW5OCAAECBAgQIECAAAECBAgQIECAAAECBAgQIDC8gD2Z4Y3VMC4BARDjGm+9JZAlYLHNYpKIAAECBAgQIECAAAECBAgQIECAAAECBAgQINBJwJ5MJz6ZCdQEBECYFAQI1AQstiYFAQIECBAgQIAAAQIECBAgQIAAAQIECBAgQGB4AXsywxurYVwCAiDGNd56SyBLwGKbxSQRAQIECBAgQIAAAQIECBAgQIAAAQIECBAgQKCTgD2ZTnwyE6gJCIAwKQgQqAlYbE0KAgQIECBAgAABAgQIECBAgAABAgQIECBAgMDwAvZkhjdWw7gEBECMa7z1lkCWgMU2i0kiAgQIECBAgAABAgQIECBAgAABAgQIECBAgEAnAXsynfhkJlATEABhUhAgUBOw2JoUBAgQIECAAAECBAgQIECAAAECBAgQIECAAIHhBezJDG+shnEJCIAY13jrLYEsAYttFpNEBAgQIECAAAECBAgQIECAAAECBAgQIECAAIFOAvZkOvHJTKAmIADCpCBAoCZgsTUpCBAgQIAAAQIECBAgQIAAAQIECBAgQIAAAQLDC9iTGd5YDeMSEAAxrvHWWwJZAhbbLCaJCBAgQIAAAQIECBAgQIAAAQIECBAgQIAAAQKdBOzJdOKTmUBNQACESUGAQE3AYmtSECBAgAABAgQIECBAgAABAgQIECBAgAABAgSGF7AnM7yxGsYlIABiXOOttwSyBCy2WUwSESBAgAABAgQIECBAgAABAgQIECBAgAABAgQ6CdiT6cQnM4GagAAIk4IAgZqAxdakIECAAAECBAgQIECAAAECBAgQIECAAAECBAgML2BPZnhjNYxLQADEuMZbbwlkCVhss5gkIkCAAAECBAgQIECAAAECBAgQIECAAAECBAh0ErAn04lPZgI1AQEQJgUBAjUBi61JQYAAAQIECBAgQIAAAQIECBAgQIAAAQIECBAYXsCezPDGahiXgACIcY233hLIErDYZjFJRIAAAQIECBAgQIAAAQIECBAgQIAAAQIECBDoJGBPphOfzARqAgIgTAoCBGoCFluTggABAgQIECBAgAABAgQIECBAgAABAgQIECAwvIA9meGN1TAuAQEQ4xpvvSWQJWCxzWKSiAABAgQIECBAgAABAgQIECBAgAABAgQIECDQScCeTCc+mQnUBARAmBQECNQELLYmBQECBAgQIECAAAECBAgQIECAAAECBAgQIEBgeAF7MsMbq2FcAgIgxjXeeksgS8Bim8UkEQECBAgQIECAAAECBAgQIECAAAECBAgQIECgk4A9mU58MhOoCQiAMCkIEKgJWGxNCgIECBAgQIAAAQIECBAgQIAAAQIECBAgQIDA8AL2ZIY3VsO4BARAjGu89ZZAloDFNotJIgIECBAgQIAAAQIECBAgQIAAAQIECBAgQIBAJwF7Mp34ZCZQExAAYVIQIFATsNiaFAQIECBAgAABAgQIECBAgAABAgQIECBAgACB4QXsyQxvrIZxCQiAGNd46y2BLAGLbRaTRAQIECBAgAABAgQIECBAgAABAgQIECBAgACBTgL2ZDrxyUygJiAAwqQgQKAmYLE1KQgQIECAAAECBAgQIECAAAECBAgQIECAAAECwwvYkxneWA3jEhAAMa7x1lsCWQIW2ywmiQgQIECAAAECBAgQIECAAAECBAgQIECAAAECnQTsyXTik5lATUAAhElBgEBNwGJrUhAgQIAAAQIECBAgQIAAAQIECBAgQIAAAQIEhhewJzO8sRrGJSAAYlzjrbcEsgQstllMEhEgQIAAAQIECBAgQIAAAQIECBAgQIAAAQIEOgnYk+nEJzOBmoAACJOCAIGagMXWpCBAgAABAgQIECBAgAABAgQIECBAgAABAgQIDC9gT2Z4YzWMS0AAxLjGW28JZAlYbLOYJCJAgAABAgQIECBAgAABAgQIECBAgAABAgQIdBKwJ9OJT2YCNQEBECYFAQI1AYutSUGAAAECBAgQIECAAAECBAgQIECAAAECBAgQGF7AnszwxmoYl4AAiHGNt94SyBKw2GYxSUSAAAECBAgQIECAAAECBAgQIECAAAECBAgQ6CRgT6YTn8wEagICIEwKAgRqAhZbk4IAAQIECBAgQIAAAQIECBAgQIAAAQIECBAgMLyAPZnhjdUwLgEBEOMab70lkCVgsc1ikogAAQIECBAgQIAAAQIECBAgQIAAAQIECBAg0EnAnkwnPpkJ1AQEQJgUBAjUBCy2JgUBAgQIECBAgAABAgQIECBAgAABAgQIECBAYHgBezLDG6thXAICIMY13npLIEvAYpvFJBEBAgQIECBAgAABAgQIECBAgAABAgQIECBAoJOAPZlOfDITqAkIgDApCBCoCVhsTQoCBAgQIECAAAECBAgQIECAAAECBAgQIECAwPAC9mSGN1bDuAQEQIxrvPWWQJaAxTaLSSICBAgQIECAAAECBAgQIECAAAECBAgQIECAQCcBezKd+GQmUBMQAGFSECBQE7DYmhQECBAgQIAAAQIECBAgQIAAAQIECBAgQIAAgeEF7MkMb6yGcQkIgBjXeOstgSwBi20Wk0QECBAgQIAAAQIECBAgQIAAAQIECBAgQIAAgU4C9mQ68clMoCYgAMKkIECgJmCxNSkIECBAgAABAgQIECBAgAABAgQIECBAgAABAsML2JMZ3lgN4xIQADGu8dZbAlkCFtssJokIECBAgAABAgQIECBAgAABAgQIECBAgAABAp0E7Ml04pOZQE1AAIRJQYBATcBia1IQIECAAAECBAgQIECAAAECBAgQIECAAAECBIYXsCczvLEaxiUgAGJc4623BLIELLZZTBIRIECAAAECBAgQIECAAAECBAgQIECAAAECBDoJ2JPpxCczgZqAAAiTggCBmoDF1qQgQIAAAQIECBAgQIAAAQIECBAgQIAAAQIECAwvYE9meGM1jEtAAMS4xltvCWQJWGyzmCQiQIAAAQIECBAgQIAAAQIECBAgQIAAAQIECHQSsCfTiU9mAjUBARAmBQECNQGLrUlBgAABAgQIECBAgAABAgQIECBAgAABAgQIEBhewJ7M8MZqGJeAAIhxjbfeEsgSsNhmMUlEgAABAgQIECBAgAABAgQIECBAgAABAgQIEOgkYE+mE5/MBGoCAiBMCgIEagIWW5OCAAECBAgQIECAAAECBAgQIECAAAECBAgQIDC8gD2Z4Y3VMC4BARDjGm+9JZAlYLHNYpKIAAECBAgQIECAAAECBAgQIECAAAECBAgQINBJwJ5MJz6ZCdQEBECYFAQI1AQstiYFAQIECBAgQIAAAQIECBAgQIAAAQIECBAgQGB4AXsywxurYVwCAiDGNd56SyBLwGKbxSQRAQIECBAgQIAAAQIECBAgQIAAAQIECBAgQKCTgD2ZTnwyE6gJCIAwKQgQqAlYbE0KAgQIECBAgAABAgQIECBAgAABAgQIECBAgMDwAvZkhjdWw7gEBECMa7z1lkCWgMU2i0kiAgQIECBAgAABAgQIECBAgAABAgQIECBAgEAnAXsynfhkJlATEABhUhAgUBOw2JoUBAgQIECAAAECBAgQIECAAAECBAgQIECAAIHhBezJDG+shnEJCIAY13jrLYEsAYttFpNEBAgQIECAAAECBAgQIECAAAECBAgQIECAAIFOAvZkOvHJTKAmIADCpCBAoCZgsTUpCBAgQIAAAQIECBAgQIAAAQIECBAgQIAAAQLDC9iTGd5YDeMSEAAxrvHWWwJZAhbbLCaJCBAgQIAAAQIECBAgZk7ntAAAIABJREFUQIAAAQIECBAgQIAAAQKdBOzJdOKTmUBNQACESUGAQE3AYmtSECBAgAABAgQIECBAgAABAgQIECBAgAABAgSGF7AnM7yxGsYlIABiXOOttwSyBCy2WUwSESBAgAABAgQIECBAgAABAgQIECBAgAABAgQ6CdiT6cQnM4GagAAIk4IAgZqAxdakIECAAAECBAgQIECAAAECBAgQIECAAAECBAgML2BPZnhjNYxLQADEuMZbbwlkCVhss5gkIkCAAAECBAgQIECAAAECBAgQIECAAAECBAh0ErAn04lPZgI1AQEQJgUBAjUBi61JQYAAAQIECBAgQIAAAQIECBAgQIAAAQIECBAYXsCezPDGahiXgACIcY233hLIErDYZjFJRIAAAQIECBAgQIAAAQIECBAgQIAAAQIECBDoJGBPphOfzARqAgIgTAoCBGoCFluTggABAgQIECBAgAABAgQIECBAgAABAgQIECAwvIA9meGN1TAuAQEQ4xpvvSWQJWCxzWKSiAABAgQIECBAgAABAgQIECBAgAABAgQIECDQScCeTCc+mQnUBARAmBQECNQELLYmBQECBAgQIECAAAECBAgQIECAAAECBAgQIEBgeAF7MsMbq2FcAgIgxjXeeksgS8Bim8UkEQECBAgQIECAAAECBAgQIECAAAECBAgQIECgk4A9mU58MhOoCQiAMCkIEKgJWGxNCgIECBAgQIAAAQIECBAgQIAAAQIECBAgQIDA8AL2ZIY3VsO4BARAjGu89ZZAloDFNotJIgIECBAgQIAAAQIECBAgQIAAAQIECBAgQIBAJwF7Mp34ZCZQExAAYVIQIFATsNiaFAQIECBAgAABAgQIECBAgAABAgQIECBAgACB4QXsyQxvrIZxCQiAGNd46y2BLAGLbRaTRAQIECBAgAABAgQIECBAgAABAgQIECBAgACBTgL2ZDrxyUygJiAAwqQgQKAmYLE1KQgQIECAAAECBAgQIECAAAECBAgQIECAAAECwwvYkxneWA3jEhAAMa7x1lsCWQIW2ywmiQgQIECAAAECBAgQIECAAAECBAgQIECAAAECnQTsyXTik5lATUAAhElBgEBNwGJrUhAgQIAAAQIECBAgQIAAAQIECBAgQIAAAQIEhhewJzO8sRrGJSAAYlzjrbcEsgQstllMEhEgQIAAAQIECBAgQIAAAQIECBAgQIAAAQIEOgnYk+nEJzOBmoAACJOCAIGagMXWpCBAgAABAgQIECBAgAABAgQIECBAgAABAgQIDC9gT2Z4YzWMS0AAxLjGW28JZAlYbLOYJCJAgAABAgQIECBAgAABAgQIECBAgAABAgQIdBKwJ9OJT2YCNQEBECYFAQI1AYutSUGAAAECBAgQIECAAAECBAgQIECAAAECBAgQGF7AnszwxmoYl4AAiHGNt94SyBKw2GYxSUSAAAECBAgQIECAAAECBAgQIECAAAECBAgQ6CRgT6YTn8wEagICIEwKAgRqAhZbk4IAAQIECBAgQIAAAQIECBAgQIAAAQIECBAgMLyAPZnhjdUwLgEBEOMab70lkCVgsc1ikogAAQIECBAgQIAAAQIECBAgQIAAAQIECBAg0EnAnkwnPpkJ1AQEQJgUBAjUBCy2JgUBAgQIECBAgAABAgQIECBAgAABAgQIECBAYHgBezLDG6thXAICIMY13npLIEvAYpvFJBEBAgQIECBAgAABAgQIECBAgAABAgQIECBAoJOAPZlOfDITqAkIgDApCBCoCVhsTQoCBAgQIECAAAECBAgQIECAAAECBAgQIECAwPAC9mSGN1bDuAQEQIxrvPWWQJaAxTaLSSICBAgQIECAAAECBAgQIECAAAECBAgQIECAQCcBezKd+GQmUBMQAGFSECBQE7DYmhQECBAgQIAAAQIECBAgQIAAAQIECBAgQIAAgeEF7MkMb6yGcQkIgBjXeOstgSwBi20Wk0QECBAgQIAAAQIECBAgQIAAAQIECBAgQIAAgU4C9mQ68clMoCYgAMKkIECgJmCxNSkIECBAgAABAgQIECBAgAABAgQIECBAgAABAsML2JMZ3lgN4xIQADGu8dZbAlkCFtssJokIECBAgAABAgQIECBAgAABAgQIECBAgAABAp0E7Ml04pOZQE1AAIRJQYBATcBia1IQIECAAAECBAgQIECAAAECBAgQIECAAAECBIYXsCczvLEaxiUgAGJc4623BLIELLZZTBIRIECAAAECBAgQIECAAAECBAgQIECAAAECBDoJ2JPpxCczgZqAAAiTggCBmoDF1qQgQIAAAQIECBAgQIAAAQIECBAgQIAAAQIECAwvYE9meGM1jEtAAMS4xltvCWQJWGyzmCQiQIAAAQIECBAgQIAAAQIECBAgQIAAAQIECHQSsCfTiU9mAjUBARAmBQECNQGLrUlBgAABAgQIECBAgAABAgQIECBAgAABAgQIEBhewJ7M8MZqGJeAAIhxjbfeEsgSsNhmMUlEgAABAgQIECBAgAABAgQIECBAgAABAgQIEOgkYE+mE5/MBGoCAiBMCgIEagIWW5OCAAECBAgQIECAAAECBAgQIECAAAECBAgQIDC8gD2Z4Y3VMC4BARDjGm+9JZAlYLHNYpKIAAECBAgQIECAAAECBAgQIECAAAECBAgQINBJwJ5MJz6ZCdQEBECYFAQI1AQstiYFAQIECBAgQIAAAQIECBAgQIAAAQIECBAgQGB4AXsywxurYVwCAiDGNd56SyBLwGKbxSQRAQIECBAgQIAAAQIECBAgQIAAAQIECBAgQKCTgD2ZTnwyE6gJCIAwKQgQqAlYbE0KAgQIECBAgAABAgQIECBAgAABAgQIECBAgMDwAvZkhjdWw7gEBECMa7z1lkCWgMU2i0kiAgQIECBAgAABAgQIECBAgAABAgQIECBAgEAnAXsynfhkJlATEABhUhAgUBOw2JoUBAgQIECAAAECBAgQIECAAAECBAgQIECAAIHhBezJDG+shnEJCIAY13jrLYEsAYttFpNEBAgQIECAAAECBAgQIECAAAECBAgQIECAAIFOAvZkOvHJTKAmIADCpCBAoCZgsTUpCBAgQIAAAQIECBAgQIAAAQIECBAgQIAAAQLDC9iTGd5YDeMSEAAxrvHWWwJZAhbbLCaJCBAgQIAAAQIECBAgQIAAAQIECBAgQIAAAQKdBOzJdOKTmUBNQACESUGAQE3AYmtSECBAgAABAgQIECBAgAABAgQIECBAgAABAgSGF7AnM7yxGsYlIABiXOOttwSyBCy2WUwSESBAgAABAgQIECBAgAABAgQIECBAgAABAgQ6CdiT6cQnM4GagAAIk4IAgZqAxdakIECAAAECBAgQIECAAAECBAgQIECAAAECBAgML2BPZnhjNYxLQADEuMZbbwlkCVhss5gkIkCAAAECBAgQIECAAAECBAgQIECAAAECBAh0ErAn04lPZgI1AQEQJgUBAjUBi61JQYAAAQIECBAgQIAAAQIECBAgQIAAAQIECBAYXsCezPDGahiXgACIcY233hLIErDYZjFJRIAAAQIECBAgQIAAAQIECBAgQIAAAQIECBDoJGBPphOfzARqAgIgTAoCBGoCFluTggABAgQIECBAgAABAgQIECBAgAABAgQIECAwvIA9meGN1TAuAQEQ4xpvvSWQJWCxzWKSiAABAgQIECBAgAABAgQIECBAgAABAgQIECDQScCeTCc+mQnUBARAmBQECNQELLYmBQECBAgQIECAAAECBAgQIECAAAECBAgQIEBgeAF7MsMbq2FcAgIgxjXeeksgS8Bim8UkEQECBAgQIECAAAECBAgQIECAAAECBAgQIECgk4A9mU58MhOoCQiAMCkIEKgJWGxNCgIECBAgQIAAAQIECBAgQIAAAQIECBAgQIDA8AL2ZIY3VsO4BARAjGu89ZZAloDFNotJIgIECBAgQIAAAQIECBAgQIAAAQIECBAgQIBAJwF7Mp34ZCZQExAAYVIQIFATsNiaFAQIECBAgAABAgQIECBAgAABAgQIECBAgACB4QXsyQxvrIZxCQiAGNd46y2BLAGLbRaTRAQIECBAgAABAgQIECBAgAABAgQIECBAgACBTgL2ZDrxyUygJiAAwqQgQKAmYLE1KQgQIECAAAECBAgQIECAAAECBAgQIECAAAECwwvYkxneWA3jEhAAMa7x1lsCWQIW2ywmiQgQIECAAAECBAgQIECAAAECBAgQIECAAAECnQTsyXTik5lATUAAhElBgEBNwGJrUhAgQIAAAQIECBAgQIAAAQIECBAgQIAAAQIEhhewJzO8sRrGJSAAYlzjrbcEsgQstllMEhEgQIAAAQIECBAgQIAAAQIECBAgQIAAAQIEOgnYk+nEJzOBmoAACJOCAIGagMXWpCBAgAABAgQIECBAgAABAgQIECBAgAABAgQIDC9gT2Z4YzWMS0AAxLjGW28JZAlYbLOYJCJAgAABAgQIECBAgAABAgQIECBAgAABAgQIdBKwJ9OJT2YCNQEBECYFAQI1AYutSUGAAAECBAgQIECAAAECBAgQIECAAAECBAgQGF7AnszwxmoYl4AAiHGNt94SyBKw2GYxSUSAAAECBAgQIECAAAECBAgQIECAAAECBAgQ6CRgT6YTn8wEagICIEyK3gVOPTXi8MOnxV73uhHnntt7NQocUMBiOyCuogkQIECAAAECBAgQIECAAAECBAgQIECAAAEC/7+APRlTgUC/AgIg+vVUWkQIgNj+aWCx3f4x1AMCBAgQIECAAAECBAgQIECAAAECBAgQIEBg8wXsyWz+GGnhdgkIgNiu8dqK1m5DAMQpp+x8KsV97hNxy1tuBe9aGmmxXQuzSggQIECAAAECBAgQIECAAAECBAgQIECAAIGRC9iTGfkE0P3eBQRA9E6qwG0IgDjssIj3vW86Vi9/ecRDHmLsJgIWW3OBAAECBAgQIECAAAECBAgQIECAAAECBAgQIDC8gD2Z4Y3VMC4BARDjGu+19FYAxFqYB63EYpvPe/LJEeedN03/pS9FHHRQ9d9nnln9761vXf3v7Gfpvw84IOLhD8+vqyRlateb3xxx0UVVriteMeKII7rX96AHRXzta9OWXOtaEa961eKWDdWGefMhHUvM59NO2pnmQRqH73wn4ipXqcYizYlNafcqz92wnnebeA31/VlW37LxaWuSm6/v8citt2muLyon5Zk9/+XM6ZL+9THms/XNn5NXtXdRvtTf9F2e/w6XGjel78t60Tlpsi5Mxu1GN1p9Pmpq67Lz3uTvOXNiiDJSmU1tb/o8p4ym782qz3PqL7FpU16X9pfkLWlbSdqSNrQZz1XXeJPruPS/i663lp0f256Tcvq6zK70emw2/Wc/G/HjH0dc9rIR++4bsf/+EUce2e0aps0Yl+RZ5bBozcodk0XpvvzliAsvjLj85SuTSy6JuPvdp6PV5hyYM9YlaUrsSspdlbbk90JunX30o6/vyKI2z8+Pj3+8+t6kI82P29xm+W+mvteKtuXlGK86L5ZcZ+WOe0m6ybxL3/Mf/rCf81VJ/aVpJ5bJ7fOfj/jud6vzbJov6fqsj9/uOWNa2u51pO+73X2X1/Y7tg47dRCYCKxz3m+y+rLrvHTuTddx6R5dOubvma7yG5Nt6e+ITZ4L29I2ezLbMlLauS0CAiC2ZaS2qJ0CILZosJY01WKbP4b/7b9FfPSj0/T/6T9F/Pu/L84//9l//a8RZ5yRX1dJyvl2pbx91Pef//PO/qU+XXzx4pYN1Yb5cvvoV4ltbtpF/Z/NuyntXuW5G9bL3Ib6/iyrb9n4tDXJzdf3eOTW2zSvF5WT8sye/3LmdEn/+hjzVd/DVe1t+v7OnlNLjZvS92U9P6ZtLJra2lRHzpwYooxUZlPbmz7PKaPpe7Pq85z6S2zalNel/SV5S9pWkrakDW3Gs+kaL83v+fPg5Nyw7PzY5nuY289ldqXXYyXnv9y2zaZrM8YleXIdJuen3DHJcbnMZSIuvXTa2zbnwDamfZ9rurah5PdCbl0lc2BZmblzY3aNb9u++XyrfjOtc/xKrsMWzd+m8+JsX9Y9/+fn3aQt625HX3Omj3b38b3J7U+f6fpud9/lrfM726erssYlsM55v8myOddvi9aLruvlJpuUtK30d0RJ2dIuFrAnY2YQ6FdAAES/nkqLCAEQ2z8NLLb5Y1hyE6iPzbzclg11kVpyQ3OoNmzLD7mmH1p93NTKnQ9tb9LshvUyt6G+P8vqEwCxc9YsmgsphQCI5o32+e9f0/eqL+umenM2KZra2lRHm/NcaZ3Lzm9N5TR9nsrNSdP2PNym7G29EVfS15K0pfalZTdd4wmAKB2BKn3pOJTmWVZ+7t+XnRubrutSPgEQlV7J74XcWdRm3uSuUX38ZmmaHwIgcke6fToBEHW7Pr437Uekfc6+2913eW1/W7cXkZNAucA6531569aXo2l9zr3um/1dOybbPq6R1jfae6MmezJ7Yxz1YnMEBEBszljsmZYIgNj+obTY5o9h083x2ZKG2sBd1NqhLlJLbmgO1YZt+bHR9EOrzcZg/szMT7lpG2rL3Ib6/iyrTwDEzjm0aJ6kFAIgyjfzms5hfVk3bfwsu9kz+/emtjbV0eY8V1rnsrNdUzlNn6dyc9Lkn22bv1NNT4XatPN1bt9LHEvS5tY/SVdadtM1ngCI0hGo0peOQ2meZeXn/j33Rvii3guAqFRKfi/kzqI28yZ3jerjN0vTdb8AiNyRbp9OAETdro/vTfsRaZ+z73b3Xd6qnq2zrvbCco5BwFxcfN25auxzgxzGZNvHNdIYvm999tGeTJ+ayiIQIQDCLOhdQABE76RrL9Bim0/edHN8tqShNnAXtXaoi9SSG5pDtWFbfmw03QhtszGYPzPzU27ahtoyt6G+P8vqEwCxcw71tSlfMt/6GPNV30OvwJiOcV/zvY/zcx9lpJ41ldP0eU4Z+WfafjYlSr4/m7LGlDrmjEtb99Kym67xBEC0G4nScehrDgmAqMZrHeeGkt8LubOozbyZL7tkDpQ6NV33C4DIHen26QRA9HOt0X4E+svZx/d9tjV9l7eqp+usqz9xJe1FAXOxGtWm9Xl27AVANK8j67qW3Ivfydw+2ZPJlZKOQJ6AAIg8p9GnSu8y/chHIr74xYjzzov4mZ+JuOY1I25964gb3WgnjwCI7Z8uFtv8MWy6OT5bUh+bebktGyr4oOSG5lBt2JYfck0/tEpvrOaOfWm6TdtQEwCx/KkKbeZ+mzyL5pAAiLrKsvfHN323m8akL+v5FrcJBmlqa1MdTRa5c63pyQhtysnpW06a0nPuJH2bsjftfJ3b95K+lqTNrb+tedM1ngCI0hGo0rcZ45I8uZvcy87hs71adSN8Ue89AaJSKfm9kDuLSubAsjJz50bKX7p+NV33C4DIHen26QRA1O36+N60H5H2Oftud9/lrerZOutqLyznGATMxcXXnavGXgBE8zrS5hppDN+3PvtoT6ZPTWUR8AQIc6BB4Pvfj/jzP4946UurwIdFx01vGvE//2fEUUdVn5YEQJx7bsSBB+4s9ac/LRuW3PoOOyzife8rK3uS+rrXjUhtTcdznxtx3HHTcq5+9YivfjXicpdrV/Yhh0R84hPTvMceW9Wxm4fFNl+/6eb4bEkCIMpvJi4aiW35Idd0I7T0xmr+rCxLuWkbagIgBEBMZnAf58w2m/6p/qbvb0ojAKJ+runj/NxHGYvGcP6cm1NPTpqyM+40dZuyN+18ndv3kr6WpM2tf5KutOymazwBEKUjUKUvHYfSPLmb3AIg2o1fTi4BEHUlARA5M6dbGgEQw1yXdRuVdrnbrBOrauq7vE2pq52uXGMRWOe832TTnN/1k/YLgGheR2bvg2zyuG9z2+zJbPPoafsmCngCxCaOyoa06VOfivjN36ye+pBz3Pe+Ea98ZfWkiMMPn+aYDR6YL2cbAyAuuKB6+sUll0x78/rXR6T+lx7p3enpYmz2OOusiBRUspuHxTZfv+nm+GxJfWzm5bZs0UV+HxvuJTc0h2rDtvyQa/qh1cd45M6HVek2bUNNAIQAiMl87eOcKQBi+u1vY1F6vi1Nv+jc1EcZqdymcpo+zymjyzk4p/758jftfJ3b/5K+lqTNrX+SrrTspms8ARClI1ClLx2H0jwCIHaOSxvvdiM7zVXyeyG3rj76kTs3UptKr9ObrvsFQOSOdPt0AiDqdn18b9qPSPucfbe77/La/rZuLyIngXKBdc778tatL0fT+jzbEgEQzetIm2uk9Y323qjJnszeGEe92BwBARCbMxYb1ZJPfzoiPTHh/PPLmnXEERG/93sRd7rTNN9eC4BIPXvIQyJe8YppH+9614i3v73MKqV+xCMiTj55mu/QQyM++MHycvrOYbHNF226OT5bUh+bebktGyr4oOSG5lBt2JYfck0/tEpvrOaOfWm6TdtQEwAhAGIyh/s4Z7bZ9E/1N31/Z3/4l56TmtIv+jzVl4ImJ0eb80cbi6a2zp9vStMvOl/1UcaiMfQEiNLVob/0JWNakra0haVlN13jCYAoHYEqfek4lObJ3eT2BIh245eTq+T3Qk55pXNgWZm5c2N2jW/bvvl8AiByJdunEwBRt2tzvm0/Av3l7LvdfZe3qqfrrKs/cSXtRQFzcfF156qxFgDRvI60uUbai9+vIftkT2ZIXWWPUUAAxBhHvaHP3/texM1uFvHlL+9MeIMbRDzmMRF3vnPEAQdEXHRRxGc+E/HqV0e86lURl15apb/XvSLe9KZp3k0JgEiBBuecU7UrtTm9tmJy3OMeETe/+XKYK1854slPnn5++ukRt7/99L/T+15T2amvucfFF0dc4xqV4+Q45ZSIo4/OLWG4dBbbfNumm+OzJfWxmZfbsqGCD0puaA7Vhm35Ide0gdpmAzN3/EvSCYDYubE8sVs2Pm3nX26+vscjt96mOdPXpnxJ//o4Z7bZ9E8WTd/flMYrMOqzpo/51kcZi8ZQAETTt3y4z0vGtCRtaYtLy266xhMAUToCVfrScSjNk7vJLQCi3fjl5Cr5vZBTXukcWFZm7tyYXePbtm8+nwCIXMn26QRADHNd1n5E2udss06sqq3v8jalrvbCco5BYJ3zfpM9c37XT9ovAKJ5HWlzjbTJ82MT22ZPZhNHRZu2WUAAxDaP3kBtf9zjIl7wgp2FH3NMxF/+ZcQVrrC40g98IOLe945Ir4eYPzYlAGK2XenpFu973/QvL3959VSHkuOQQyI+8YlpjuOPj/jTP80v4aUvjXjYw6bpf+7nIs47L2LfffPLGCqlxTZftunm+GxJfWzm5bZsqOCDkhuaQ7VhW37INf3QEgCxeDYvcxvq+7OsPgEQO8dHAER9vgqAaL5B0uY819c5vqmcps9T73LS5K7L8+nalF0SQNTGvm1fmvKV9LUkbVO9Xc2brvEEQJSOQJW+zRiX5Mnd5BYA0W78cnKV/F7IKa/tvMk9B/Txm6Xpul8ARO5It08nAGKY67L2I9I+Z8k5P6eWvstbVec668rpuzTjFTAXF193rpoRAiCa15GUYpN+Z+7Fb7g9mb04qvq0mwICIHZTfwPr/trXIq53vYif/GTauBTY8Hd/F5GecrDqSK9uuOMdd+ZN6fdqAMRLXhLxyEdORa55zeqpGT/zM3kDe9vbRvzTP03TPvaxEc9/fl7eoVNZbPOFm26Oz5Y01Abuotb2cSNvUbklNzSHasO2/JBruhG6KT8aNm1DTQCEV2BMzj19nDNXfQ9XfQebvr+zP/xLz0lN6fsKNpk/h7exaGprUx1tznOldS5bsZvKafo8lZuTJv+KYWfKNmVv2vk6t+8lfS1Jm1v/JF1p2U3XeAIgSkegSl86DqV5BEB0P9e0G9lprpLfC7l1tZk3uWtUH79Zmq4bBEDkjnT7dAIg6nZ9fG/aj0j7nH23u+/yVvVsnXW1F5ZzDALm4uLrzlVjLwCieR2ZvQ8yhu/RbvTRnsxuqKtzLwsIgNjLo9uib099asQJJ0wz7rdfxOc/X73yIuc49tiI5z1vZ8q9GgCRXhUyeRXIpMfp1R9HHNEs9alPRfziL+5M98lPRtziFs15S1KkRbPNcfbZZ8cPfvCD/8h6k5vcJD796U+3KWYUeZpujs8i9LGZl4vax428RXWV3NAcqg3b8kOu6UZom43B3PEvSbdpG2rL3Ib6/iyrzxMgds6ivjblS+ZbH2PeZtM/9bzp+zv7w7/0nNSUvi/r+fNAG4umtjbV0eY8V1rnsvNdUzlNny+aB23607Z9i/KVfH/6bGvJmlLa7iHmUF/mTdd4AiDazYyc716XeSEAonn9PuOMdmOXm6vk90JumW3mTe486uM3S9N1gwCI3JFun04ARN2uj+9N+xFpn7Pvdvdd3qqerbOu9sJyjkHAXKxGuWl9np0LAiCa15HZ+yBj+B7tRh8FQOyGujr3soAAiL08ui36dvDBVcDD5EhPOHjRi/ILSk+QSAEPl146zbNXAyBSDx/1qIgXv3ja1xT8kIIgmo7514ykp0GcfnpTrvLP99lnn/JMczkEQKwmbLo5Ppu7j8283AHt40beorpKbmgO1YZt+SHX9ENrUzanNm1DbZnbUN+fZfUJgNh5BuhrU75kvvUx5m02/XNvlHgFRvMNkjbnub7O8U3lNH2+aB606c+ydTun/vm8Jd+fPtuae+3RR1/buOS2r7Tspms8ARC58s3rSdOGfMnYCYDo7t1uZKe5Sn4v5NZVMgdKz0V9/GZpuu4XAJE70u3TCYAY5rqs/Yi0z9nH93229r7LW9WzddbVXljOMQiYi9UoN63Ps3NBAETzOpJSbNLvzL34XRYAsRdHVZ92U0AAxG7qb1jdF1wQcdWrRvz0p9OGnXpq9VqLkiOlf//7pzn2cgDE/JMOSfBjAAAgAElEQVQc0usv0msw0uswlh2XXFI9OeLf/m2a4mUvi3joQ0uU89IKgMhz6pKq6eb4bNl9bObltrWPG3mL6iq5oTlUG7blh1zTD61N+dGwaRtqAiC8AmNy7unjnCkAYnomb2NRer4tTb9onemjjEU3u+bPuTn15KTJXZfn07Upe9PO17l9L+lrSdrc+ifpSstuusYTAFE6AlX60nEozSMAYue4tPFuN7LTXCW/F3Lr6qMfuXMjtan0Or3pul8ARO5It08nAKJu18f3pv2ItM/Zd7v7Lm9Vz9ZZV3thOccgYC4uvu5cNfYCIJrXkTbXSGP4vvXZRwEQfWoqi0CEAAiz4P8JvOtdEXe5yxTkMpeJuPDCiPRDsuT4/d+PeOYzpzn2cgBE6uWhh0Z8+MPT/j7taRF/9EfLxf7qryKOPnr6+f77R5x3Xrlzzph4BUaOUrc0TTfHZ0vvYzMvt7VDBR+U3NAcqg3b8kOu6UZo6Y3V3LEvTbdpG2oCIARATOZwH+fMNpv+qf6m7+/sD//Sc1JT+kWfp/o++tHpt7vN+aONRVNb5883pekXna/6KGPRGAqAKF0d+ktfMqYlaUtbWFp20zWeAIjSEajSl45DaZ7cTe5lT/GZ7dWqG+GLep9+P88+CbHNubqd6vJcbby7tqHk90JuXX30I3duzK7xbds3n08ARK5k+3QCIOp2fXxv2o9I+5x9t7vv8lb1bJ11tReWcwwC5uLi685VYy8AonkdaXONNIbvW599FADRp6ayCAiAMAdmBE45JeKYY6Z/OPDAiHPOKSd6xSsiHvKQab69HgAxH9CQ+pvc0g2wRccd7hBx2mnTT0pfM1I+IuU5LLb5Zk03x2dL6mMzL7dlQwUflNzQHKoN2/JDrmkDdRNuiqf5JABi58by5DvmFRg7zzZ9bcqXzLc+zpltNv0XfS8WnXu9AqP5Bkmb81xf5/imcpo+bzo/5q7Hy9Ll1D+ft+T708a+a5/66Gsbl9x2l5bddI0nACJXvnk98QqMdpY5uUrnfU6ZTWlKfi80lTX5vI9+CIDoft3fdF6cHc91r0MCIIa5Lsv9jvaZro/v+2x7+i5vVV/XWVef5sraewLmYjWmTffllq1b2/q7q++ZPNR93b7buZfKsyezl0ZTXzZBwBMgNmEUNqQNz31uxHHHTRtzq1tFnHlmeePe+MaI+9xnmm+vB0B8//vVKy++851pn9/+9oi73rVu97nPRdz4xjv//rGPRRxySLnzkDkstvm6JTeB+tjMy23ZUBepJTc0h2rDtvyQa/qhte6bgsvmzqb9sFvmNtT3Z1l9AiB2zhgBEPVvkACIukkf5+c+ylh0s8sTIHKvIPpPVzKmJWlLW1padtM1ngCI0hFYfCM653qoZOxyN7k9AaLd+OXkKvm9kFNezjk9p5zcuZHKypmXs3U2Xfd7AkTOCHVLIwBimOuybqPSLnfJOT+nhr7LW1XnOuvK6bs04xUwFxdfd66aEZ4A0byOtLlGGu+3sF3P7cm0c5OLwDIBARDmxv8T+LM/2/nqhl/+5YgPfKAc6N3vjrjznaf59noAROrpE54Q8ZznTPt83/tGvP71dbsnPjHi2c+e/r30xkr5aLTLYbHNd2u6OT5b0lAbuItaO1TwQckNzaHasC0/5JpuhG7K918AhCdA5JzxBEDUlQRANN8gaXOe6+sc31RO0+epdzlpcr4/Oet0jtWmna9z+17iWJI2t/5JutKym67xBECUjkCVvnQcSvPkbnILgGg3fjm5Sn4v5JRXOgeWlZk7N1L+nHPybD1N1/0CIHJHun06ARDDXJe1H5H2OdusE6tq67u8TamrvbCcYxBY57zfZM+m9Xm27QIgmteRNtdImzw/NrFt9mQ2cVS0aZsFBEBs8+j13HZPgGgP+oUvRBx8cMRPf1qVcbnLRXz1qxFXv/q0zB/+sHpSxPnnT/928skRD3tY+3qHymmxzZdtujk+W5IAiPKbiYtGYlt+yDX90Cq9sZo/K8tSbtqG2jK3ob4/y+rzBIid80gARP17JQCi+QZJm/NcX+f4pnKaPk+9y0lTdsadpm5T9qadr3P7XtLXkrS59U/SlZbddI0nAKJ0BKr0peNQmid3k1sARLvxy8klAKKuJAAiZ+Z0SyMAYpjrsm6j0i53m3ViVU19l7cpdbXTlWssAuuc95ts2nRfbrbtAiCa15GUos1v/E2eI5vWNnsymzYi2rPtAgIgtn0Ee2z/KadEHHPMtMADD4w455zyCl7xioiHPGSab+gnQLzjHRF3u1tefZNUhx0W8b73TfO8/OU721ze64g73SniPe+Z5nzGMyKe/OTpf7/mNRFHHTX97/32i/jGNyLS/27aYbHNH5Gmm+OzJQ21gbuotYsu8vu4SC25oTlUG7blh1zTD60+xiN/pi5PuWkbagIgdj6RIvdH+LIR7uv7IgCiLiwAovkGSZvz3JBz9owzpm3OqScnTdvzcJuyN+18ndv3kr6WpM2tf5KutOymazwBEKUjUKUvHYfSPAIgdo5LG+92IzvNVfJ7IbeuPvqROzdSm0rXr6brfgEQuSPdPp0AiGGuy9qPSPucfXzfZ2vvu7xVPVtnXe2F5RyDgLm4+Lpz1djn3nsZk+1Q93XH8B1s20d7Mm3l5COwWEAAhJnx/wTe9a6Iu9xlCnKZy0RcdFFE+rFecvz+70c885nTHKsCIFIAwAEH7Cz9+9+P+Nmfza/x1a+OeOAD8+qbpBoiAOJ1r4u4//2n7TjooIj0ZIh99qn+Nh8gkZ78kJ4AsYmHxTZ/VJpujs+WJACi/GbiopHYlh8bTTdCS2+s5s/KspSbtqEmAEIAxGQG93HOXPU9XPUdbPr+pjYKgKifa/o4P/dRRmpZUzlNn+eUUXa23Zk6p/758jftfJ3b/5K+lqTNrX+SrrTspms8ARClI1ClLx2H0jy5m9yeANFu/HJyCYCoKwmAyJk53dIIgBjmuqzbqLTL3WadWFVT3+VtSl3tdOUai8A65/0mm+b8rp+0XwBE8zoyex9kk8d9m9tmT2abR0/bN1FAAMQmjsoutemCCyKuetXpaxxSM049NeKOdyxr0HxwwaoAiIsvrj8BIQVF/MIv5Nf5lKdEnHTSNP2q+iapDj+86tvk6OMJED/6UcR1rhPxzW9Oy01PhEh1nX12xA1usNM2/SvEyY3T/N6uJ6XFNt+56eb4bEl9bObltmyoKN2SG5pDtWFbfsg1/dASALF4NguAEAAxmRl9nDMFQEy/Z20sSs+3pekXnQX6KCOV21RO0+c5ZeSuyX31UwBEF/HmOTFfetM1ngCIduOR891rGouSALamYLXcc2PTdV1qc/oHBJdeOm39JlzrtfFuN7LTXCW/F3Lr6qMfucExqU2lY9c0PwRA5I50+3QCIOp2fXxv2o9I+5x9t7vv8lb1bJ11tReWcwwC5mI1yk3r8+xcEADRvI60uUYaw/etzz7ak+lTU1kEIgRAmAU7BA4+OOLzn5/+6dGPjnjhC/ORvv71Kghg9sZPU0BCuhlwySXTOiZBA7m1HnJIxCc+MU3dVF9KmV6ZkV6dMTle8pKIhz88t8bl6Y4/PuLEE6efP+ABEX/zNxHzQRqpzR/7WPf6hirBYpsv23RzfLakPjbzcls2VPBByQ3NodqwLT/kmn5old5YzR370nSbtqEmAEIAxGQO93HOzN3Ymv/eNH1/Z3/4l56TmtIv+jzV99GPTlvZ5vzRxqKprU1ufbSzTRmpXU1tb/o8p4zS8+1s+pz6S3zblNel/SV5S9pWkrakDW3Gs+kaTwBE6QhU6duMcUme3E1uT4BoN345uUp+L+SU13be5J5D+/jN0nTdIAAid6TbpxMAUbcrOXe2l+8/Z9/t7ru8VT1eZ139yytxLwmYi4uvO1eNsQCI5nUkpWj7+3wvfb+G7Is9mSF1lT1GAQEQYxz1FX1+6lMjTjhhmuCKV6xe45D7RIYnPCHiOc/ZWUFTQMLtbhfxkY9M8/zBH0Q8/el5A5OCJdKrJWaPpvpS2vSqivTKismRghb+8A/z6lyV6itfiTjwwGkASHqVx7nnRtzylhHf+tY054teFPHIR3avb6gSLLb5sk03x2dL6mMzL7dlfdzIW1RXyQ3NodqwLT/kmm6EbsqPBgEQOzeWJ/N+2fi0nX+5+foej9x6m84tfW3Kl/Svj3Nmm03/ZNH0/Z394V9q3JS+L+v5MW1j0dTWpjranOdK61w2d5vKafp80Txo05+27VuUr+T702dbm84PTZ/nWE/KKEnbVG/X+dl0jScAonQEqvRtxrgkz7K0uX+f7dWqG+GLeu8JEJVKye+F3FlUMgdKz7t9/GZpum4QAJE70u3TCYCo2/XxvWk/Iu1z9t3uvstb1bN11tVeWM4xCJiLi687V429AIjmdSSl2KTfmXvxu2xPZi+Oqj7tpoAAiN3U38C6v/a1iOtdL+InP5k27sgjI17/+oh99lnd4NNPj7jDHSJ+/OOd6ZoCEo47LuK5z53mufrVq6CL/fdfXd93vxtxq1tFnHNOWX0p9f/4HxHPetbOPr7hDf0MyK//esRb3zotK70SZPZ1G+mH+XnnNfevn9a0K8Vim+/WdHN8tqQ+NvNyW9bHjbxFdZXc0ByqDdvyQ67pRuim/GjYtA21ZW5DfX+W1ScAYucZoK9N+ZL51seYt9n0Tz1v+v7O/vAvPSc1pe/Lev4c3saiqa1NdbQ5z5XWuWxdbCqn6fNF86BNf9q2b1G+ku9Pn23Nvfboo68549K2PaVlN13jCYBoNxKl41D6XVxWfu7fZ3slAKLdGJf8Xsitoc28yV2j+vjN0nTdIAAid6TbpxMAUbfr43vTfkTa5+y73X2Xt6pn66yrvbCcYxAwF6tRblqfc6/7coMj9trc6uMaaa+ZDN0fezJDCyt/bAICIMY24hn9fdzjIl7wgp0Jf/d3I57//IgrXGFxAR/8YMS97hXxne/UP28KgEiPdE4L6uyRgi5e+9qIy152cX1f/nLEve8d8clPlteXcrzmNRFHHTXNe/nLR7z3vRGHHpoB1JDkLW+JOOKI5Yke+tCIl72sez1DlmCxzddtujk+W1Ifm3m5LRvqIrXkhuZQbdiWH3JNP7Q2ZXNq0zbUlrkN9f1ZVp8AiJ1nm7425UvmWx9jvup7WPIO+UXn3qb3yi87Xzedw/qynq+/jUVTW5vqaHOeK62zT+czzmie9/NpctflPqxKvj9t7Nv2pSlfyZiWpG2qt6t50zWeAIjSEajStxnjkjzL0ub+fbZXAiDajXHJ74XcGkrmQOm60MdvlqbrfgEQuSPdPp0AiLpdH9+b9iPSPmff7e67vFU9W2dd7YXlHIOAubj4unPV2OcGOYzJto9rpDF83/rsoz2ZPjWVRSBCAIRZUBP43vcibnrTiPQ6h9njhjeMeOxjI37t1yIOOCAipfvMZyL++q8jXvnK6WsfUiDEm940zdkUAJFS/sqvRHzgAzvru8Utqic1pKdKXOUqERdeGPHZz0a88Y0RL31pxPe/X6X/zd+snlAxOXLqS2WlPlx88TRfemTp7W8fcfObR6RXf6T/nhxXvnLEk5+cN1kuvTTi+tePSEEai470pIzb3javrN1KZbHNl2+6OT5bUh+bebktG+oiteSG5lBt2JYfG003Qjdlc2rTNtSWuQ31/VlWnwCInWebvjblS+ZbH2PeZtM/9bzp+5vSCICor0h9nJ/7KGPRGM5/p3PqyUmTuy7Pp2tTdsn3Z1PWmJyxmLVp45I7BqVlN13jCYDIlW9eT5oCi0rGblna3L/PtlYARLsxLvm9kFtDyRxYVmbJHCg9hzZdNwiAyB3p9ukEQAxzXdZ+RNrn7OP7vq5riz6u79pLyUlguUDf36NttW5an3Ov+3KDI7bVKffaafY+yF7r66b0x57MpoyEduwVAQEQe2Uke+7HWWdFHH54xPnnlxWcXv+QXmlxpztN8+UEJHz+8xGHHBJxySVl9T3sYRG/9VtVWydHTn0p7QknRDz1qXn15ZY5Ke3EEyOOP75edgrqWPTUirxWrC+VxTbf+uSTq1eaTI4vfSnioIOq/zrzzOp/b33r6n9nP0v/nYJwHv7w/LpKUqZ2vfnNERddVOVKQT3pySRd63vQgyLSq3Imx7WuFfGqVy1u2VBtmDcf0rHEfD7tpJ1pHqRxSE/IScFcaSzSnNiUdq/y3A3rebeJ11Dfn2X1LRuftia5+foej9x6m+b6onJSntnzX86cLulfH2M+W9/8OXlVexflS/1N3+X573CpcVP6vqwXnZMm68Jk3G50o9Xno6a2LjvvTf6eMyeGKCOV2dT2ps9zymj63qz6PKf+Eps25XVpf0nekraVpC1pQ5vxXHWNN7mOS/+76Hpr2fmx7Tkpp6/L7Eqvx2bTp+Dz9HrD9FS+ffetXuGXntTX5rs96UObMS7Js8ph0ZqVOyaL0qWA9xRYn54mmEzSb9m73306Wl2ccsY8J02JXU55OWlKfi/klNfm+7uo3L6+I01lp+uNj398+jTLND9uc5vlv5n6XivalpczV1adF0uus3LHvSTdZN6l7/kPf9jP+aqk/tK0E8vklu6HpVe8pvNsmi/p+qyP3+45Y1ra7nWk77vdfZfX9ju2Djt1EOhyvbUX9ZZd56Vzb7qOS/fo0jF/z7TkvsUmXO8NNXalvyOGaseYyrUnM6bR1td1CAiAWIfyltbxqU9F3Pe+1aZtznGf+0S8+tURH/lIu4CE97+/+pGXbiI1HfvsE/HEJ0acdFJEytcmACI9qeFJT4p47nMjfvrT1TWWBkB885sR17lOxI9+tLPc9GqRxzymqXe7/7nFdvfHQAsIECBAgAABAgQIECBAgAABAgQIECBAgACBvS9gT2bvj7EerldAAMR6vbeutvSaiac/vXrlxDe+sbj5Bx8c8Yd/GPHgB1efn3pqu4CElDe9diM9OeFv/zbiBz9YXF96JcbTnhZx2GHd60slfOEL1Ws80qspPve5iAsuqF6NkQIkJkdpAETKd7/77Xw1R4rmT4ZXutLmTwOL7eaPkRYSIECAAAECBAgQIECAAAECBAgQIECAAAEC2y9gT2b7x1APNktAAMRmjcfGtiYFA3z4wxFf/GJEerrBZS5TPeYzPcb9xjfuv9kpAOEDH4g499zqsfGXu1xECkK4/e0jrn3t/usbosQ73zni3e+elnz00RGnnDJETf2XabHt31SJBAgQIECAAAECBAgQIECAAAECBAgQIECAAIF5AXsy5gSBfgUEQPTrqTQC/yGQ3iN2/evvfIrEBz8Yceih2wFksd2OcdJKAgQIECBAgAABAgQIECBAgAABAgQIECBAYLsF7Mls9/hp/eYJCIDYvDHRoj0gkF7jceKJ047c9KYRZ521PR2z2G7PWGkpAQIECBAgQIAAAQIECBAgQIAAAQIECBAgsL0C9mS2d+y0fDMFBEBs5rho1RYLXHJJxPWuF/Htb0878cIXRjz60dvTKYvt9oyVlhIgQIAAAQIECBAgQIAAAQIECBAgQIAAAQLbK2BPZnvHTss3U0AAxGaOi1ZtscBJJ0U85SnTDuy/f8TXvx6x337b0ymL7faMlZYSIECAAAECBAgQIECAAAECBAgQIECAAAEC2ytgT2Z7x07LN1NAAMRmjotWbanAu94Vce97R6SnQEyOP/7jiBNO2K4OWWy3a7y0lgABAgQIECBAgAABAgQIECBAgAABAgQIENhOAXsy2zluWr25AgIgNndstGzDBc48M+J1r6sa+d3vRpx1VsRpp+1s9NWuFvGFL0Rc6Uob3pm55llst2u8tJYAAQIECBAgQIAAAQIECBAgQIAAAQIECBDYTgF7Mts5blq9uQICIDZ3bLRswwVOOSXimGNWN/INb4g48sgN78iC5llst2/MtJgAAQIECBAgQIAAAQIECBAgQIAAAQIECBDYPgF7Mts3Zlq82QICIDZ7fLRugwVWBUBc9rIRz3pWxLHHbnAHVjTNYrud46bVBAgQIECAAAECBAgQIECAAAECBAgQIECAwHYJ2JPZrvHS2s0XEACx+WOkhRsqMB8Ase++Ede6VsRhh0U89rERt7jFhjY8o1kW2wwkSQgQIECAAAECBAgQIECAAAECBAgQIECAAAECHQXsyXQElJ3AnIAACFOCAIGagMXWpCBAgAABAgQIECBAgAABAgQIECBAgAABAgQIDC9gT2Z4YzWMS0AAxLjGW28JZAlYbLOYJCJAgAABAgQIECBAgAABAgQIECBAgAABAgQIdBKwJ9OJT2YCNQEBECYFAQI1AYutSUGAAAECBAgQIECAAAECBAgQIECAAAECBAgQGF7AnszwxmoYl4AAiHGNt94SyBKw2GYxSUSAAAECBAgQIECAAAECBAgQIECAAAECBAgQ6CRgT6YTn8wEagICIEwKAgRqAhZbk4IAAQIECBAgQIAAAQIECBAgQIAAAQIECBAgMLyAPZnhjdUwLgEBEOMab70lkCVgsc1ikogAAQIECBAgQIAAAQIECBAgQIAAAQIECBAg0EnAnkwnPpkJ1AQEQJgUBAjUBCy2JgUBAgQIECBAgAABAgQIECBAgAABAgQIECBAYHgBezLDG6thXAICIMY13npLIEvAYpvFJBEBAgQIECBAgAABAgQIECBAgAABAgQIECBAoJOAPZlOfDITqAkIgDApCBCoCVhsTQoCBAgQIECAAAECBAgQIECAAAECBAgQIECAwPAC9mSGN1bDuAQEQIxrvPWWQJaAxTaLSSICBAgQIECAAAECBAgQIECAAAECBAgQIECAQCcBezKd+GQmUBMQAGFSECBQE7DYmhQECBAgQIAAAQIECBAgQIAAAQIECBAgQIAAgeEF7MkMb6yGcQkIgBjXeOstgSwBi20Wk0QECBAgQIAAAQIECBAgQIAAAQIECBAgQIAAgU4C9mQ68clMoCYgAMKkIECgJmCxNSkIECBAgAABAgQIECBAgAABAgQIECBAgAABAsML2JMZ3lgN4xIQADGu8dZbAlkCFtssJokIECBAgAABAgQIECBAgAABAgQIECBAgAABAp0E7Ml04pOZQE1AAIRJQYBATcBia1IQIECAAAECBAgQIECAAAECBAgQIECAAAECBIYXsCczvLEaxiUgAGJc4623BLIELLZZTBIRIECAAAECBAgQIECAAAECBAgQIECAAAECBDoJ2JPpxCczgZqAAAiTggCBmoDF1qQgQIAAAQIECBAgQIAAAQIECBAgQIAAAQIECAwvYE9meGM1jEtAAMS4xltvCWQJWGyzmCQiQIAAAQIECBAgQIAAAQIECBAgQIAAAQIECHQSsCfTiU9mAjUBARAmBQECNQGLrUlBgAABAgQIECBAgAABAgQIECBAgAABAgQIEBhewJ7M8MZqGJeAAIhxjbfeEsgSsNhmMUlEgAABAgQIECBAgAABAgQIECBAgAABAgQIEOgkYE+mE5/MBGoCAiBMCgIEagIWW5OCAAECBAgQIECAAAECBAgQIECAAAECBAgQIDC8gD2Z4Y3VMC4BARDjGm+9JZAlYLHNYpKIAAECBAgQIECAAAECBAgQIECAAAECBAgQINBJwJ5MJz6ZCdQEBECYFAQI1AQstiYFAQIECBAgQIAAAQIECBD4/9i7F6gLjrow4APlEVoCyENUEgwPeflIlTax8qpCKFVpbZSgFMqrjbSmtQgoHuShsSqUqi1gCviqQsWCpZWCRVKKIM+gKIUDOfKQQKABwzMk5d0z55577vfduXv3vzt3vtzvm9+e44l8mdnZ+c1/d/bu/LNLgAABAgQIECBAgEB7AWsy7Y210JeABIi+xltvCYQETLYhJoUIECBAgAABAgQIECBAgAABAgQIECBAgAABAlUC1mSq+FQmUAhIgBAUBAgUAiZbQUGAAAECBAgQIECAAAECBAgQIECAAAECBAgQaC9gTaa9sRb6EpAA0dd46y2BkIDJNsSkEAECBAgQIECAAAECBAgQIECAAAECBAgQIECgSsCaTBWfygQKAQkQgoIAgULAZCsoCBAgQIAAAQIECBAgQIAAAQIECBAgQIAAAQLtBazJtDfWQl8CEiD6Gm+9JRASMNmGmBQiQIAAAQIECBAgQIAAAQIECBAgQIAAAQIECFQJWJOp4lOZQCEgAUJQECBQCJhsBQUBAgQIECBAgAABAgQIECBAgAABAgQIECBAoL2ANZn2xlroS0ACRF/jrbcEQgIm2xCTQgQIECBAgAABAgQIECBAgAABAgQIECBAgACBKgFrMlV8KhMoBCRACAoCBAoBk62gIECAAAECBAgQIECAAAECBAgQIECAAAECBAi0F7Am095YC30JSIDoa7z1lkBIwGQbYlKIAAECBAgQIECAAAECBAgQIECAAAECBAgQIFAlYE2mik9lAoWABAhBQYBAIWCyFRQECBAgQIAAAQIECBAgQIAAAQIECBAgQIAAgfYC1mTaG2uhLwEJEH2Nt94SCAmYbENMChEgQIAAAQIECBAgQIAAAQIECBAgQIAAAQIEqgSsyVTxqUygEJAAISgIECgETLaCggABAgQIECBAgAABAgQIECBAgAABAgQIECDQXsCaTHtjLfQlIAGir/HWWwIhAZNtiEkhAgQIECBAgAABAgQIECBAgAABAgQIECBAgECVgDWZKj6VCRQCEiAEBQEChYDJVlAQIECAAAECBAgQIECAAAECBAgQIECAAAECBNoLWJNpb6yFvgQkQPQ13npLICRgsg0xKUSAAAECBAgQIECAAAECBAgQIECAAAECBAgQqBKwJlPFpzKBQkAChKAgQKAQMNkKCgIECBAgQIAAAQIECBAgQIAAAQIECBAgQIBAewFrMu2NtdCXgASIvsZbbwmEBEy2ISaFCBAgQIAAAQIECBAgQIAAAQIECBAgQIAAAQJVAtZkqvhUJlAISIAQFMQObp8AACAASURBVAQIFAImW0FBgAABAgQIECBAgAABAgQIECBAgAABAgQIEGgvYE2mvbEW+hKQANHXeOstgZCAyTbEpBABAgQIECBAgAABAgQIECBAgAABAgQIECBAoErAmkwVn8oECgEJEIKCAIFCwGQrKAgQIECAAAECBAgQIECAAAECBAgQIECAAAEC7QWsybQ31kJfAhIg+hpvvSUQEjDZhpgUIkCAAAECBAgQIECAAAECBAgQIECAAAECBAhUCViTqeJTmUAhIAFCUBAgUAiYbAUFAQIECBAgQIAAAQIECBAgQIAAAQIECBAgQKC9gDWZ9sZa6EtAAkRf4623BEICJtsQk0IECBAgQIAAAQIECBAgQIAAAQIECBAgQIAAgSoBazJVfCoTKAQkQAgKAgQKAZOtoCBAgAABAgQIECBAgAABAgQIECBAgAABAgQItBewJtPeWAt9CUiA6Gu89ZZASMBkG2JSiAABAgQIECBAgAABAgQIECBAgAABAgQIECBQJWBNpopPZQKFgAQIQUGAQCFgshUUBAgQIECAAAECBAgQIECAAAECBAgQIECAAIH2AtZk2htroS8BCRB9jbfeEggJmGxDTAoRIECAAAECBAgQIECAAAECBAgQIECAAAECBKoErMlU8alMoBCQACEoCBAoBEy2goIAAQIECBAgQIAAAQIECBAgQIAAAQIECBAg0F7Amkx7Yy30JSABoq/x1lsCIQGTbYhJIQIECBAgQIAAAQIECBAgQIAAAQIECBAgQIBAlYA1mSo+lQkUAhIgBAUBAoWAyVZQECBAgAABAgQIECBAgAABAgQIECBAgAABAgTaC1iTaW+shb4EJED0Nd56SyAkYLINMSlEgAABAgQIECBAgAABAgQIECBAgAABAgQIEKgSsCZTxacygUJAAoSgIECgEDDZCgoCBAgQIECAAAECBAgQIECAAAECBAgQIECAQHsBazLtjbXQl4AEiL7GW28JhARMtiEmhQgQIECAAAECBAgQIECAAAECBAgQIECAAAECVQLWZKr4VCZQCEiAEBQECBQCJltBQYAAAQIECBAgQIAAAQIECBAgQIAAAQIECBBoL2BNpr2xFvoSkADR13jrLYGQgMk2xKQQAQIECBAgQIAAAQIECBAgQIAAAQIECBAgQKBKwJpMFZ/KBAoBCRCCggCBQsBkKygIECBAgAABAgQIECBAgAABAgQIECBAgAABAu0FrMm0N9ZCXwISIPoab70lEBIw2YaYFCJAgAABAgQIECBAgAABAgQIECBAgAABAgQIVAlYk6niU5lAISABQlAQIFAImGwFBQECBAgQIECAAAECBAgQIECAAAECBAgQIECgvYA1mfbGWuhLQAJEX+OttwRCAibbEJNCBAgQIECAAAECBAgQIECAAAECBAgQIECAAIEqAWsyVXwqEygEJEAICgIECgGTraAgQIAAAQIECBAgQIAAAQIECBAgQIAAAQIECLQXsCbT3lgLfQlIgOhrvPWWQEjAZBtiUogAAQIECBAgQIAAAQIECBAgQIAAAQIECBAgUCVgTaaKT2UChYAECEFBgEAhYLIVFAQIECBAgAABAgQIECBAgAABAgQIECBAgACB9gLWZNoba6EvAQkQfY233hIICZhsQ0wKESBAgAABAgQIECBAgAABAgQIECBAgAABAgSqBKzJVPGpTKAQkAAhKAgQKARMtoKCAAECBAgQIECAAAECBAgQIECAAAECBAgQINBewJpMe2Mt9CUgAaKv8dZbAiEBk22ISSECBAgQIECAAAECBAgQIECAAAECBAgQIECAQJWANZkqPpUJFAISIAQFAQKFgMlWUBAgQIAAAQIECBAgQIAAAQIECBAgQIAAAQIE2gtYk2lvrIW+BCRA9DXeeksgJGCyDTEpRIAAAQIECBAgQIAAAQIECBAgQIAAAQIECBCoErAmU8WnMoFCQAKEoCBAoBAw2QoKAgQIECBAgAABAgQIECBAgAABAgQIECBAgEB7AWsy7Y210JeABIi+xltvCYQETLYhJoUIECBAgAABAgQIECBAgAABAgQIECBAgAABAlUC1mSq+FQmUAhIgBAUBAgUAiZbQUGAAAECBAgQIECAAAECBAgQIECAAAECBAgQaC9gTaa9sRb6EpAA0dd46y2BkIDJNsSkEAECBAgQIECAAAECBAgQIECAAAECBAgQIECgSsCaTBWfygQKAQkQgoIAgULAZCsoCBAgQIAAAQIECBAgQIAAAQIECBAgQIAAAQLtBazJtDfWQl8CEiD6Gm+9JRASMNmGmBQiQIAAAQIECBAgQIAAAQIECBAgQIAAAQIECFQJWJOp4lOZQCEgAUJQECBQCJhsBQUBAgQIECBAgAABAgQIECBAgAABAgQIECBAoL2ANZn2xlroS0ACRF/jrbcEQgIm2xCTQgQIECBAgAABAgQIECBAgAABAgQIECBAgACBKgFrMlV8KhMoBCRACAoCBAoBk62gIECAAAECBAgQIECAAAECBAgQIECAAAECBAi0F7Am095YC30JSIDoa7z1lkBIwGQbYlKIAAECBAgQIECAAAECBAgQIECAAAECBAgQIFAlYE2mik9lAoWABAhBQYBAIWCyFRQECBAgQIAAAQIECBAgQIAAAQIECBAgQIAAgfYC1mTaG2uhLwEJEH2Nt94SCAmYbENMChEgQIAAAQIECBAgQIAAAQIECBAgQIAAAQIEqgSsyVTxqUygEJAAISgIECgETLaCggABAgQIECBAgAABAgQIECBAgAABAgQIECDQXsCaTHtjLfQlIAGir/HWWwIhAZNtiEkhAgQIECBAgAABAgQIECBAgAABAgQIECBAgECVgDWZKj6VCRQCEiAEBQEChYDJVlAQIECAAAECBAgQIECAAAECBAgQIECAAAECBNoLWJNpb6yFvgQkQPQ13npLICRgsg0xKUSAAAECBAgQIECAAAECBAgQIECAAAECBAgQqBKwJlPFpzKBQkAChKAgQKAQMNkKCgIECBAgQIAAAQIECBAgQIAAAQIECBAgQIBAewFrMu2NtdCXgASIvsZbbwmEBEy2ISaFCBAgQIAAAQIECBAgQIAAAQIECBAgQIAAAQJVAtZkqvhUJlAISIAQFAQIFAImW0FBgAABAgQIECBAgAABAgQIECBAgAABAgQIEGgvYE2mvbEW+hKQANHXeOstgZCAyTbEpBABAgQIECBAgAABAgQIECBAgAABAgQIECBAoErAmkwVn8oECgEJEIKCAIFCwGQrKAgQIECAAAECBAgQIECAAAECBAgQIECAAAEC7QWsybQ31kJfAhIg+hpvvSUQEjDZhpgUIkCAAAECBAgQIECAAAECBAgQIECAAAECBAhUCViTqeJTmUAhIAFCUBAgUAiYbAUFAQIECBAgQIAAAQIECBAgQIAAAQIECBAgQKC9gDWZ9sZa6EtAAkRf4623BEICJtsQk0IECBAgQIAAAQIECBAgQIAAAQIECBAgQIAAgSoBazJVfCoTKAQkQAgKAgQKAZOtoCBAgAABAgQIECBAgAABAgQIECBAgAABAgQItBewJtPeWAt9CUiA6Gu89ZZASMBkG2JSiAABAgQIECBAgAABAgQIECBAgAABAgQIECBQJWBNpopPZQKFgAQIQUGAQCFgshUUBAgQIECAAAECBAgQIECAAAECBAgQIECAAIH2AtZk2htroS8BCRB9jbfeEggJmGxDTAoRIECAAAECBAgQIECAAAECBAgQIECAAAECBKoErMlU8alMoBCQACEoCBAoBEy2goIAAQIECBAgQIAAAQIECBAgQIAAAQIECBAg0F7Amkx7Yy30JSABoq/x1lsCIQGTbYhJIQIECBAgQIAAAQIECBAgQIAAAQIECBAgQIBAlYA1mSo+lQkUAhIgBAUBAoWAyVZQECBAgAABAgQIECBAgAABAgQIECBAgAABAgTaC1iTaW+shb4EJED0Nd56SyAkYLINMSlEgAABAgQIECBAgAABAgQIECBAgAABAgQIEKgSsCZTxacygUJAAoSgIECgEDDZCgoCBAgQIECAAAECBAgQIECAAAECBAgQIECAQHsBazLtjbXQl4AEiL7GW28JhARMtiEmhQgQIECAAAECBAgQIECAAAECBAgQIECAAAECVQLWZKr4VCZQCEiAEBQECBQCJltBQYAAAQIECBAgQIAAAQIECBAgQIAAAQIECBBoL2BNpr2xFvoSkADR13jrLYGQgMk2xKQQAQIECBAgQIAAAQIECBAgQIAAAQIECBAgQKBKwJpMFZ/KBAoBCRCCggCBQsBkKygIECBAgAABAgQIECBAgAABAgQIECBAgAABAu0FrMm0N9ZCXwISIPoab70lEBIw2YaYFCJAgAABAgQIECBAgAABAgQIECBAgAABAgQIVAlYk6niU5lAISABQlAQIFAImGwFBQECBAgQIECAAAECBAgQIECAAAECBAgQIECgvYA1mfbGWuhLQAJEX+OttwRCAibbEJNCBAgQIECAAAECBAgQIECAAAECBAgQIECAAIEqAWsyVXwqEygEJEAICgIECgGTraAgQIAAAQIECBAgQIAAAQIECBAgQIAAAQIECLQXsCbT3lgLfQlIgOhrvPWWQEjAZBtiUogAAQIECBAgQIAAAQIECBAgQIAAAQIECBAgUCVgTaaKT2UChYAECEFBgEAhYLIVFAQIECBAgAABAgQIECBAgAABAgQIECBAgACB9gLWZNoba6EvAQkQfY233hIICZhsQ0wKESBAgAABAgQIECBAgAABAgQIECBAgAABAgSqBKzJVPGpTKAQkAAhKAgQKARMtoKCAAECBAgQIECAAAECBAgQIECAAAECBAgQINBewJpMe2Mt9CUgAaKv8dZbAiEBk22ISSECBAgQIECAAAECBAgQIECAAAECBAgQIECAQJWANZkqPpUJFAISIAQFAQKFgMlWUBAgQIAAAQIECBAgQIAAAQIECBAgQIAAAQIE2gtYk2lvrIW+BCRA9DXeeksgJGCyDTEpRIAAAQIECBAgQIAAAQIECBAgQIAAAQIECBCoErAmU8WnMoFCQAKEoCBAoBAw2QoKAgQIECBAgAABAgQIECBAgAABAgQIECBAgEB7AWsy7Y210JeABIi+xltvCYQETLYhJoUIECBAgAABAgQIECBAgAABAgQIECBAgAABAlUC1mSq+FQmUAhIgBAUBAgUAiZbQUGAAAECBAgQIECAAAECBAgQIECAAAECBAgQaC9gTaa9sRb6EpAA0dd46y2BkIDJNsSkEAECBAgQIECAAAECBAgQIECAAAECBAgQIECgSsCaTBWfygQKAQkQgoIAgULAZCsoCBAgQIAAAQIECBAgQIAAAQIECBAgQIAAAQLtBazJtDfWQl8CEiD6Gm+9JRASMNmGmBQiQIAAAQIECBAgQIAAAQIECBAgQIAAAQIECFQJWJOp4lOZQCEgAUJQECBQCJhsBQUBAgQIECBAgAABAgQIECBAgAABAgQIECBAoL2ANZn2xlroS0ACRF/jrbcEQgIm2xCTQgQIECBAgAABAgQIECBAgAABAgQIECBAgACBKgFrMlV8KhMoBCRACAoCBAoBk62gIECAAAECBAgQIECAAAECBAgQIECAAAECBAi0F7Am095YC30JSIDoa7z1lkBIwGQbYlKIAAECBAgQIECAAAECBAgQIECAAAECBAgQIFAlYE2mik9lAoWABAhBQYBAIWCyFRQECBAgQIAAAQIECBAgQIAAAQIECBAgQIAAgfYC1mTaG2uhLwEJEH2Nt94SCAmYbENMChEgQIAAAQIECBAgQIAAAQIECBAgQIAAAQIEqgSsyVTxqUygEJAAISgIECgETLaCggABAgQIECBAgAABAgQIECBAgAABAgQIECDQXsCaTHtjLfQlIAGir/HWWwIhAZNtiEkhAgQIECBAgAABAgQIECBAgAABAgQIECBAgECVgDWZKj6VCRQCEiAEBQEChYDJVlAQIECAAAECBAgQIECAAAECBAgQIECAAAECBNoLWJNpb6yFvgQkQPQ13npLICRgsg0xKUSAAAECBAgQIECAAAECBAgQIECAAAECBAgQqBKwJlPFpzKBQkAChKAgQKAQMNkKCgIECBAgQIAAAQIECBAgQIAAAQIECBAgQIBAewFrMu2NtdCXgASIvsZbbwmEBEy2ISaFCBAgQIAAAQIECBAgQIAAAQIECBAgQIAAAQJVAtZkqvhUJlAISIAQFAQIFAImW0FBgAABAgQIECBAgAABAgQIECBAgAABAgQIEGgvYE2mvbEW+hKQANHXeOstgZCAyTbEpBABAgQIECBAgAABAgQIECBAgAABAgQIECBAoErAmkwVn8oECgEJEIKCAIFCwGQrKAgQIECAAAECBAgQIECAAAECBAgQIECAAAEC7QWsybQ31kJfAhIg+hpvvSUQEjDZhpgUIkCAAAECBAgQIECAAAECBAgQIECAAAECBAhUCViTqeJTmUAhIAFCUBAgUAiYbAUFAQIECBAgQIAAAQIECBAgQIAAAQIECBAgQKC9gDWZ9sZa6EtAAkRf4623BEICJtsQk0IECBAgQIAAAQIECBAgQIAAAQIECBAgQIAAgSoBazJVfCoTKAQkQAgKAgQKAZOtoCBAgAABAgQIECBAgAABAgQIECBAgAABAgQItBewJtPeWAt9CUiA6Gu89ZZASMBkG2JSiAABAgQIECBAgAABAgQIECBAgAABAgQIECBQJWBNpopPZQKFgAQIQUGAQCFgshUUBAgQIECAAAECBAgQIECAAAECBAgQIECAAIH2AtZk2htroS8BCRB9jbfeEggJmGxDTAoRIECAAAECBAgQIECAAAECBAgQIECAAAECBKoErMlU8alMoBCQACEoCBAoBEy2goIAAQIECBAgQIAAAQIECBAgQIAAAQIECBAg0F7Amkx7Yy30JSABoq/x1lsCIQGTbYhJIQIECBAgQIAAAQIECBAgQIAAAQIECBAgQIBAlYA1mSo+lQkUAhIgBAUBAoWAyVZQECBAgAABAgQIECBAgAABAgQIECBAgAABAgTaC1iTaW+shb4EJED0Nd56SyAkYLINMSlEgAABAgQIECBAgAABAgQIECBAgAABAgQIEKgSsCZTxacygUJAAoSgIECgEDDZCgoCBAgQIECAAAECBAgQIECAAAECBAgQIECAQHsBazLtjbXQl4AEiL7GW28JhARMtiEmhQgQIECAAAECBAgQIECAAAECBAgQIECAAAECVQLWZKr4VCZQCEiAEBQECBQCJltBQYAAAQIECBAgQIAAAQIECBAgQIAAAQIECBBoL2BNpr2xFvoSkADR13jrLYGQgMk2xKQQAQIECBAgQIAAAQIECBAgQIAAAQIECBAgQKBKwJpMFZ/KBAoBCRCCggCBQsBkKygIECBAgAABAgQIECBAgAABAgQIECBAgAABAu0FrMm0N9ZCXwISIPoab70lEBIw2YaYFCJAgAABAgQIECBAgAABAgQIECBAgAABAgQIVAlYk6niU5lAISABQlAQIFAImGwFBQECBAgQIECAAAECBAgQIECAAAECBAgQIECgvYA1mfbGWuhLQAJEX+OttwRCAibbEJNCBAgQIECAAAECBAgQIECAAAECBAgQIECAAIEqAWsyVXwqEygEJEAICgIECgGTraAgQIAAAQIECBAgQIAAAQIECBAgQIAAAQIECLQXsCbT3lgLfQkc6wSIyy9P6Vd/NaXXvjald787pU98IqVrrlkN4E1vmtInP9nXgO5Tb+95z5Re//rVEf32b6f00Ifu0xE6liEBk63YIECAAAECBAgQIECAAAECBAgQIECAAAECBAi0F7Am095YC30JHNsEiKc/PaWf+qmUvvjF4QGTAHHtBrMEiGvXv6Z1k22NnroECBAgQIAAAQIECBAgQIAAAQIECBAgQIAAgZiANZmYk1IEogLHMgEiJz888YnjXZQAMW7UsoQEiJa6bfdtsm3ra+8ECBAgQIAAAQIECBAgQIAAAQIECBAgQIAAgSxgTUYcENitwLFLgPjwh1M644yUvvCFFcQpp6R0zjkp3f72KeX/f7nd6EYpPfWpuwWzt7iABIi41b6VNNnu24hcO8dz9tkpXXHFqu3rXCelhz989b+/7utSOv/82LE973kpvexlKX3mM4vyp56a0gMfGK+f6+R95DlguU1pP3aUSu1CYNM45f1uGruxuNjlmO9yX7twOon7GDMe+vdjcdDKaux4N7U7pc62/p60a9myr3/yJ4vrfL7G3/3uKW26Tk8xbDX29tuPQOQ8zHH7treldL3rLVxucIOUzjorpRe8YNxpH+L52jyGa7Pt8dGJldiHPiznwUsvTenzn1/E4J3vvP1eee5xz60X06wrtc/HtuzZ3HuWXd4fb1OeY5g/U/qWt6R05ZUpfelLKd3whotr4NTfaq3umw7ar98/Df3GGDOa+7t0jm/dWbG72kP3au95T0qf+tTqd3r+33/9ry/u4fJ22mmH58N1g1z+jndMaXkP+PGPp3Tzm6e0/Ge+Jzy4rd8nLscw18/XwMsuW8ThV76S0vWvv9hXfq6bnztE/Q+Wy/vN2wc+kNKnP704ruteN6Uvf3mx/zz33/Wu5fOJfF586EOL37D5upzfPpxd8pZtcr/yf3S3tHvXu1K66qrFv8/Hnp+d3OY2i2t5LpeNltvQ/fGcuIxckyJukTJD0bi8hmSnvN3kJildcMH2Zz2R+7O8r4PxuTz/s+mc3xnb+pj78KpXpfS5zy36kK+DeZ3h3vfe/gzqoH+OgRwnt7jFIkaW5070N3COzQ9+cBE/eftrf21hefAZ3NJjyv3CtqvI2Ny0PH+y9zL2158B1sTO0LGN7fPg9SxbrJ+Xy/Nt/fiX16v1czHv79nPXlwj8pY/r57jOZ+7H/nI4pqUxyP/X16P+ht/Y1EmX0vyeOV/Lq9b+Z95y9eAXP7GN15cC849d/XbOBr/U555Rn+Pb2v7oMHB30Nj47Etxvy76QLWZKabqUFgm8CxS4C48MKUnvKUVZdue9uUXve6lPI/bfslIAFiv8ZjytGYbKdondyy+WY9PxgY2v7W30rpkkti/f/bfzult771cNkp9XPN9X1MrR87UqVqBTaNU97nwfFfjt1YXOxyzHe5r1qjk1p/zHjo34/FQSuvsePd1O6UOtH+noRr2aYxzH6b+jbFsNXY228/AtHzcF0kL3J89rPjTvsQz9fmMVybbY+PTqzEPvRhyjV02au5xz23XkyzrtQ+H9uQ+9Bcty6xy/vjbcpzDPNCztVXl3vdxf3JlOMZKzvFcIpRdAyP++/RoetMnu82jf/ScH0+XN/PWP1tY5FjbP134qbyQ78dh2J0qK9jV6iD+xs6Lw7uI9r39XKR++NoXEZ+R42dW7Wxvclq7PoRvT/bZhxxPFhmm8OmPuS273a3zc8xts0J6+dOtK9j8Zn//ZDHmPfQviPX1YN1p5pH+rSpzFjMbjvHt8XM0Lk495oxtX9j17Kxfk+d2zZdR6bE4/L6X3NcU42U9wYIMUBg1wLHLgEiZ2BefPGK4VnPWmSW2vZPQALE/o1J9IgkQESlTnY5CRAne3xb9S7yI1oCRCv9a3e/Yz+Mp/zYnvsQZ4rA2PHOeRhzsE60v0fR1ykuc8pOWbyb4z7nmNQhkAWi5+G6lgSIWPychPN5H/ow5Rq6HJm5xz23Xiwi6krt87ENuee/R+bxXd4fb1OeYygBIjaG2+aUusg/mtoSIMadJUCsjCLXtWVpCRCbY2ts8XjOorsEiIW1BIgy5qL3klN+G43F8PhVVYk5AtZk5qipQ2BY4NglQORXSF1++apD+VV9+eJt2z8BCRD7NybRIzLZRqVOdjkJECd7fFv1bpcPeOc8xB3q1y731cruuO93zHjKj+0pD93muo0d76b9TqkT7e9R9HWuUbRe9IHLpgdWJ6H/USfljl4geh6uH5kEiNhYTbkmxvZ49KX2oQ9TrqFLobnHPbfeUYzMPh/bkHv+e2Qe2+X98baxmGMoASI2hsf9HkYCxPhVTALEyihyXVuWlgCxObbGFo8lQAyfk2NzmQSI0i56Lznlt9FYDI9fVZWYI2BNZo6aOgSGBY5dAsT6jdV735vS7W9viPdRQALEPo5K7JhMtjGnk15KAsRJH+E2/dvlA96xH75TerDLfU1pt6eyY8ZTfmxPeeg213jseDftd0qdaH+Poq9zjaL1og9cjvviQdRDuf0RiJ6H60csASI2hlOuibE9Hn2pfejDlGvoUmjucc+tdxQjs8/HNuSe/x6Zx3d5f7xtLOYYSoCIjeFxv4eRADF+FZMAsTKKXNeWpSVAbI6tscVjCRDD5+TYXCYBorSL3ktO+W00FsPjV1Ul5ghYk5mjpg6BYYFjlwBxnesc7sz735/SGWcY4n0UkACxj6MSOyaTbczppJeSAHHSR7hN/3b5gHfsh++UHuxyX1Pa7ansmPGUH9tTHrrNNR473k37nVIn2t+j6Otco2i96AOX4754EPVQbn8Eoufh+hFLgIiN4ZRrYmyPR19qH/ow5Rq6FJp73HPrHcXI7POxDbnnv0fm8V3eH28bizmGEiBiY3jc72EkQIxfxSRArIwi17VlaQkQm2NrbPFYAsTwOTk2l0mAKO2i95JTfhuNxfD4VVWJOQLWZOaoqUNgWEACxJrNlVem9OY3p/S+96X0qU+ldL3rpfT1X5/SD/5gPIz+7/9N6a1vTemKK1L62MdSOuWUlG51q5TufOeUvu3bUrrudeP7ipS86qqU3vSmlD7ykZQ++tGUvvSllL76q1M6/fSU7nGPRfu72nLf3vjGxWdIss/Nbrbo13d8R0p5Yjy47TIB4tJLU/o//2fRv09+MqWv+qpFH888M6U73nFXvSv3c801i/6++90pE9m1cAAAIABJREFUfeITC8uccHOvey3aj2x//ucpve1ti3jIY/81X5PS3/k7bY87clzbyphsawVPRn0JECdjHI+6F7t8wDv2w3dK33a5rynt9lR2zHjKj+0pD93mGo8d76b9TqkT7e9R9HWuUbRe9IFL3t8Uw2j7yhEYEoieh+v1JUDEYuoknM/70Icp19DlyMw97rn1YhFRV2qfj23IPf89Mo/v8v54m/IcQwkQsTE87vcwEiDGr08SIFZGkevasrQEiM2xNbZ4LAFi+Jwcm8skQJR20XvJKb+NxmJ4/KqqxBwBazJz1NQhMCyw9wkQ6298iA5mTlr4y788XPrv/t2U/uiPVn/7jd9I6RGPWPzv//2/U/q5n0vp1a9O6ctfPlzvpjddLLpv2/JC+bOfndILX5hSXvAe2m55y5TOOy+ln/qplL72a6O9Kct95Ssp/d7vpfQrv5LS61+f0uc/v3lfN7pRSve/f0pPecoi+WLulpMAnvzkhdO6T95nbuehD03pp3961a/aBIhs/oxnpPSiF6WU3/QxtOUEiIc8JKXHPz6lU0+N9/BXfzWlf/bPVuXve9+ULr548b9zosfTnpbSb/92SldfXe4zJ8Y86EGL4zvttPLff/GLKf3H/5jSv/t3ZRwuS+cfFP/+3y+SR/ZtM9nu24hcO8cjAeLacT/ure7yAe/YD98pVrvc15R2eyo7Zjzlx/aUh25zjceOd9N+p9SJ9vco+jrXKFov+sAl72+KYbR95QgMCUTPw/X6EiBiMXUSzud96MOUa+hyZOYe99x6sYioK7XPxzbknv8emcd3eX+8TXmOoQSI2Bge93sYCRDj1ycJECujyHVtWVoCxObYGls8lgAxfE6OzWUSIEq76L3klN9GYzE8flVVYo6ANZk5auoQGBboPgHiYQ9L6V//60XywtA2lgDxkpcs9pHfihDd8iTyi7+Y0g//cLTGqtzb357Sox+9eMtEdMuJJOefn9KznpXS9a8frZVSTrR4whNS+qVf2pz4sL6n/GaG7PFd35VSTQJETiT5V/8qpY9/PH6s+Y0MF12U0rnnxuoMJUDkJI8f+IFY2/nNHn/wBynd/e6rNj/84cUx5DeJjG15XJ7//MV47tNmst2n0bj2jkUCxLVnf5xb3uUD3rEfvlOcdrmvKe32VHbMeMqP7SkP3eYajx3vpv1OqRPt71H0da5RtF70gUve3xTDaPvKERgSiJ6H6/UlQMRi6iScz/vQhynX0OXIzD3uufViEVFXap+Pbcg9/z0yj+/y/nib8hxDCRCxMTzu9zASIMavTxIgVkaR69qytASIzbE1tngsAWL4nBybyyRAlHbRe8kpv43GYnj8qqrEHAFrMnPU1CEwLNB9AkR+I8Rv/ub2ENmWAPHzP5/Sk560SBSYs+W6P/uz8Zp/+IeLxfnPfCZe52DJc85J6b//98UbG8a23KfHPCal5z1vrOThf58/E5HfpJETJ/LbKZZbfptCfkvE2Pb0p6f0xCeOldr87/MnJvJbFS64YLz+pgSIn/mZlPKbIP7f/xuvvyyRP2mRP3GR/5k/eZI/O/IXfxGvn5MgXvnKlPLY7Mtmst2Xkbh2j0MCxLXrf1xb3+UD3rEfvlOMdrmvKe32VHbMeMqP7SkP3eYajx3vpv1OqRPt71H0da5RtF70gUve3xTDaPvKERgSiJ6H6/UlQMRi6iScz/vQhynX0OXIzD3uufViEVFXap+Pbcg9/z0yj+/y/nib8hxDCRCxMTzu9zASIMavTxIgVkaR69qytASIzbE1tngsAWL4nBybyyRAlHbRe8kpv43GYnj8qqrEHAFrMnPU1CEwLLD3CRDrC+F5cfzglhfoc4LC+pbfRPATP3H4r+ufwMj/+zWvWZTJi9A/+IOLzxqceWZK+VMVV16Z0rvfvUgYyJ8zWN+e+czFIv/BLS/+/+N/nNJ3f3dKf/NvpnSLW6T0uc8tPoPwP//n4k0TeZH84JbfdpA/4TC25c9Q3Oc+KX3hC6uS+bjzJy7ysZ91Vkr5LQj58wz5LQQ5ueM5z0npne88vOf82YdIUkN+68OP/djhunlB9OEPT+mHfiilu941pXyjm998kRfwc1vve9+ifP4Eyc1udvhzIJEEiGyxKUniAQ9I6ZGPXLxpIY/NX/3V4g0Y+e0J/+t/lXJ5zP7BP9guup4AkT8RcsUVqzd53O9+iza//dsXbX760ym96U2Lz15ccsnhff+Tf7JIpMnJE/kNEnm7051S+pEfWbwN4za3SSl/FiOPxXOfu/isx8Etf8Yj/7sb3GAsCo7m35tsj8Z531uRALHvI7Sfx7fLB7xjP3ynCOxyX1Pa7ansmPGUH9tTHrrNNR473k37nVIn2t+j6Otco2i96AOXvL8phtH2lSMwJBA9D9frS4CIxdRJOJ/3oQ9TrqHLkZl73HPrxSKirtQ+H9uQe/57ZB7f5f3xNuU5hhIgYmN43O9hJECMX58kQKyMIte1ZWkJEJtja2zxWALE8Dk5NpdJgCjtoveSU34bjcXw+FVViTkC1mTmqKlDYFhg7xMg1g89L/gf3N7//pTOOCM2xOsJEMtaOWng938/pbPPju0nl8oL4fe612JRe7nl/edF/tNOG95PXkTPyQ4vf/mqzE1uski0+NqvHa6XPwXxrd+a0mWXrcrkJIOcMJDfODC0ffnLKT3taSldeOHhEi97WUrf+73D9bLrN31TSldfvSqTkwD+x/8Ydsplc3LFf/7Pm/c7lgDxwQ+m9M3fnNKnPrWqnxMCcmJBTrgY2n7jNxbtfulLh4/1He9I6da3Hq63ngCxLJnbzPscSkrJ7Zx3Xkr/9b+u9p2TTnKyzvJtHvmTKDlRYuhzI/nzJ4973OFjy/v7R/8oHoMtS5psW+oen31LgDg+Y7VPR7rLB7xjP3yn9HuX+5rSbk9lx4yn/Nie8tBtrvHY8W7a75Q60f4eRV/nGkXrRR+45P1NMYy2rxyBIYHoebheXwJELKZOwvm8D32Ycg1djszc455bLxYRdaX2+diG3PPfI/P4Lu+PtynPMZQAERvD434PIwFi/PokAWJlFLmuLUtLgNgcW2OLxxIghs/JsblMAkRpF72XnPLbaCyGx6+qSswRsCYzR00dAsMC3SdA3PCGi/+aPy+8T9ny2wLyZw+WW/4v/1/xith/wZ/f4JCTJd7whlX9vHieP6cxtD32sSn98i+v/m1+o0Cuf9vbxo46v6kiv7FiueW3GuQ3Sgxtj350Sr/+66t/mxfyc3v5JnjblpMDcmJFftvF+jaWAPEv/kVKF110uFZ+U8KDHzzex/wmiPPPP1wu9zknIQxtQwkQL3jB4i0e27ackHL72x9O1liWj75h4573PPyJkPxpkxe/eLyvU0rkSXPO9t73vjd9Lr+6JKV0t7vdLb1z/TUic3aqzrETkABx7IZsLw54lw94x374TunwLvc1pd2eyo4ZT/mxPeWh21zjsePdtN8pdaL9PYq+zjWK1os+cMn7m2IYbV85AkMC0fNwvb4EiFhMnYTzeR/6MOUauhyZucc9t14sIupK7fOxDbnnv0fm8V3eH29TnmMoASI2hsf9HkYCxPj1SQLEyihyXVuWlgCxObbGFo8lQAyfk2NzmQSI0i56Lznlt9FYDI9fVZWYIyABYo6aOgSGBbpPgMhvR3jqU6eFyKtetfjsxHI79dSULr10+xsc1lvIbyf4lm9J6StfWfyb/MmO/PmFTW8M+MQnFokOV1212kt+E8P3fE/8uPNa9h3usPq8Q66ZEz82JTTkt1Tkt1EcfPvDj/94SuufHxlq/QMfWHwe45prDpfYlgCR3/qQ35xxsI/nnpvS7/1evI/nnJPSxRevymfTD30opTxhb9o2JUDkT5ccfDvHttbXk0Ry2VvdavG5k6E2D+7vP/2nlB7xiNVfTj/98Bs+4j3fcoKvvzJlxk4lQMxAOyFVJECckIE84m7s8gHv2A/fKV3b5b6mtNtT2THjKT+2pzx0m2s8dryb9julTrS/R9HXuUbRetEHLnl/Uwyj7StHYEggeh6u15cAEYupk3A+70MfplxDlyMz97jn1otFRF2pfT62Iff898g8vsv7423KcwwlQMTG8Ljfw0iAGL8+SYBYGUWua8vSEiA2x9bY4rEEiOFzcmwukwBR2kXvJaf8NhqL4fGrqhJzBCRAzFFTh8CwQNcJEDnZIC+Q509gTNke9KCUXvKSVY0f/dHDb2eI7it/QuOP/3hVOr+RIb+ZYX17znNSuuCC1V/PPDOlP/uzaCurck9+8uoTDfmv+Y0T+c0T61t+A8LDHrb6a14Evfzy7Z+TWN/Hox61+IzEwW1bAsTv/E75yYm3vjWlu9893s/XvCal7/zOw+Vf+tKUvu/7Nu9jUwJEfnPF3/t7sTbzpzke+cjDZX/yJ1P6uZ+L1c+JEre73eGy+c0SOXFjV9t1JEDsirLL/UiA6HLYqzu9ywe8Yz98pxzsLvc1pd2eyo4ZT/mxPeWh21zjsePdtN8pdaL9PYq+zjWK1os+cMn7m2IYbV85AkMC0fNwvb4EiFhMnYTzeR/6MOUauhyZucc9t14sIupK7fOxDbnnv0fm8V3eH29TnmMoASI2hsf9HkYCxPj1SQLEyihyXVuWlgCxObbGFo8lQAyfk2NzmQSI0i56Lznlt9FYDI9fVZWYIyABYo6aOgSGBbpOgLj3vVP6oz+aHh45YeJjH1vVe+1rU8rJDFO3vFj+C7+wqvVv/21Kj398uZf8aYSDb0L4mZ9JKSczTN1e+cqUHvCAVa38Bon8Jon1LSdb5KSL5Xa/+6WU33oxZVt/S0auuy0BYr3NO91p8VaNKVt+m8bXf31KH/zgqta2z2CsJ0Dc4AaLT1qcckqs1fxJkHvc43DZV7+6TMIY2ls+3tzW5z+/KpH7nPu+q80nMHYl2ed+JED0Oe61vd7lA96xH75TjnWX+5rSbk9lx4yn/Nie8tBtrvHY8W7a75Q60f4eRV/nGkXrRR+45P1NMYy2rxyBIYHoebheXwJELKZOwvm8D32Ycg1djszc455bLxYRdaX2+diG3PPfI/P4Lu+PtynPMZQAERvD434PIwFi/PokAWJlFLmuLUtLgNgcW2OLxxIghs/JsblMAkRpF72XnPLbaCyGx6+qSswRkAAxR00dAsMCXSdAPPaxKf3iL04Lj3e9K6W73e1wnbxofpObTNtPLv0f/kNK+e0Ry+0xj0npoovK/dz61il99KOrv//+76f0wAdOb+/tb08pvz1iud3lLinl/qxvZ5+d0lvesvrrk550+M0RkZazSX6TwfITH7nOtgSIs85afJJjueVPQ6y/QSLS7nnnpfTiF69K3uc+KeU3Q2za1hMgvvEbU8qfJoluuew3f/Ph0jkx5pa3jO5hUfbKK1flhz5LEt/jbkqabHfjeNz3IgHiuI/gtXP8u3zAO/bDd0oPd7mvKe32VHbMeMqP7SkP3eYajx3vpv1OqRPt71H0da5RtF70gUve3xTDaPvKERgSiJ6H6/UlQMRi6iScz/vQhynX0OXIzD3uufViEVFXap+Pbcg9/z0yj+/y/nib8hxDCRCxMTzu9zASIMavTxIgVkaR69qytASIzbE1tngsAWL4nBybyyRAlHbRe8kpv43GYnj8qqrEHAFrMnPU1CEwLNB1AsQzn5nS4x43LTxe/vKUvvd7p9WJls6L97/7u4dLf/azKd34xtE9TCuX32RxxRVlndNOW3zyYrm98IXl5ykiLZ1++uITI8ttWwLEetk5Y5PbufDClJ7ylFWb294ksZ4Akd/ikd/mEd3e856UvuEbDpf+4hdTyovG0W3d+nWvS+me94zWblfOZNvO9jjtWQLEcRqt/TnWXT7gHfvhO6XXu9zXlHZ7KjtmPOXH9pSHbnONx453036n1In29yj6OtcoWi/6wCXvb4phtH3lCAwJRM/D9foSIGIxdRLO533ow5Rr6HJk5h733HqxiKgrtc/HNuSe/x6Zx3d5f7xNeY6hBIjYGB73exgJEOPXJwkQK6PIdW1ZWgLE5tgaWzyWADF8To7NZRIgSrvoveSU30ZjMTx+VVVijoA1mTlq6hAYFug6AeL5z0/pn/7TaeHxW7+V0sMfPq1OtPT9759S/kzFwe2yyxafdWix5U8+fO5z5Z5zwkVOvFhur3hFSn//708/gvx2hINvVNiWAHHqqSldddWqjV/7tZQe9ajpbeZPd+TPaSy3W93q8NszDu5xPQHivvdN6eKL422uJ0DkxeKcADFlkwAxRUvZoxaQAHHU4iejvV0+4B374TtFbJf7mtJuT2XHjKf82J7y0G2u8djxbtrvlDrR/h5FX+caRetFH7jk/U0xjLavHIEhgeh5uF5fAkQspk7C+bwPfZhyDV2OzNzjnlsvFhF1pfb52Ibc898j8/gu74+3Kc8xlAARG8Pjfg8jAWL8+iQBYmUUua4tS0uA2BxbY4vHEiCGz8mxuUwCRGkXvZec8ttoLIbHr6pKzBGQADFHTR0CwwJdJ0DkTyzkTy1M2dY/WzGl7ljZTQvw65+tGNvHlH8/tGB/3ese/nRF/oRE/pTE1O3bvz2lN795VWtbAsR6my96UUoPfvDUFlP6zd9M6ZGPXNU75ZSUrrlm834kQAz7mmynx95JrCEB4iSOavs+7fIB79gP3ym92eW+prTbU9kx4yk/tqc8dJtrPHa8m/Y7pU60v0fR17lG0XrRBy55f1MMo+0rR2BIIHoerteXABGLqZNwPu9DH6ZcQ5cjM/e459aLRURdqX0+tiH3/PfIPL7L++NtynMMJUDExvC438NIgBi/PkmAWBlFrmvL0hIgNsfW2OKxBIjhc3JsLpMAUdpF7yWn/DYai+Hxq6oScwSsycxRU4fAsIAEiIkJEPmtEeefvwK96U1TesxjdhNi+XMKj3704X39xV+klD/jcHD75/88pZvcpL7NvLj5b/5NuR9vgIjZegNEzEmp4ysgAeL4jt21eeS7fMA79sN3Sj93ua8p7fZUdsx4yo/tKQ/d5hqPHe+m/U6pE+3vUfR1rlG0XvSBS97fFMNo+8oRGBKInofr9SVAxGLqJJzP+9CHKdfQ5cjMPe659WIRUVdqn49tyD3/PTKP7/L+eJvyHEMJELExPO73MBIgxq9PEiBWRpHr2rK0BIjNsTW2eCwBYvicHJvLJECUdtF7ySm/jcZiePyqqsQcAQkQc9TUITAsIAFiYgLES1+a0rnnrkDzGwauvjql61ynTZh94hMp3fzmh/f9xjemlN+u0Gpb/yzDC1+Y0kMeMr21009P6UMfWtXb9gaI9bLPfGZKj3vc9DYvvDClpzxlVS8nj1x66eb9eAPEsK/JdnrsncQaEiBO4qi279MuH/CO/fCd0ptd7mtKuz2VHTOe8mN7ykO3ucZjx7tpv1PqRPt7FH2daxStF33gkvc3xTDavnIEhgSi5+F6fQkQsZg6CefzPvRhyjV0OTJzj3tuvVhE1JXa52Mbcs9/j8zju7w/3qY8x1ACRGwMj/s9jASI8euTBIiVUeS6tiwtAWJzbI0tHkuAGD4nx+YyCRClXfRecspvo7EYHr+qKjFHwJrMHDV1CAwLSICYmACRP+mwnnzwvveldLvbtQmzr3wlpXwzefAzDr/+64c/87Drls8+O6W3vGW11yc9KaWf/dlprXz60ynd7GaHP6WxLQHirLNSuuSSVRv50yT5EyVTt/POS+nFL17Vyp/uyJ/w2LRJgBjWNdlOjbyTWV4CxMkc19a92uUD3rEfvlP6sst9TWm3p7JjxlN+bE956DbXeOx4N+13Sp1of4+ir3ONovWiD1zy/qYYRttXjsCQQPQ8XK8vASIWUyfhfN6HPky5hi5HZu5xz60Xi4i6Uvt8bEPu+e+ReXyX98fblOcYSoCIjeFxv4eRADF+fZIAsTKKXNeWpSVAbI6tscVjCRDD5+TYXCYBorSL3ktO+W00FsPjV1Ul5ghYk5mjpg6BYQEJEBMTIL7whZS+6qtS+uxnV6i/8isp5c9StNruf/+UXvWq1d7zIv/v/m6r1lK64IKUnvOc1f7vd7/D7UdavvjilM4553DJbQkQ623e5S4pvetdkZZWZXKyyBlnpHTZZau/PeEJKT3jGZv3IwFi2NdkOy32TmppCRAndWTb9muXD3jHfvhO6cku9zWl3Z7KjhlP+bE95aHbXOOx49203yl1ov09ir7ONYrWiz5wyfubYhhtXzkCQwLR83C9vgSIWEydhPN5H/ow5Rq6HJm5xz23Xiwi6krt87ENuee/R+bxXd4fb1OeYygBIjaGx/0eRgLE+PVJAsTKKHJdW5aWALE5tsYWjyVADJ+TY3OZBIjSLnovOeW30VgMj19VlZgjYE1mjpo6BIYFJEBMTIDIlN/93Sn9wR+sUPPkcfCNCbsOuLyA/xM/sdprvrnMb5346q/edUuL/b3gBSk97GGrfV/veildfvm09h796JTymyoObtsSIH7nd8rPbPzpn6b0rd8a7+NrX5tSfuPDwS1/suT7vm/zPiRADNuabONxd5JLSoA4yaPbrm+7fMA79sN3Si92ua8p7fZUdsx4yo/tKQ/d5hqPHe+m/U6pE+3vUfR1rlG0XvSBS97fFMNo+8oRGBKInofr9SVAxGLqJJzP+9CHKdfQ5cjMPe659WIRUVdqn49tyD3/PTKP7/L+eJvyHEMJELExPO73MBIgxq9PEiBWRpHr2rK0BIjNsTW2eCwBYvicHJvLJECUdtF7ySm/jcZiePyqqsQcAWsyc9TUITAsIAFiRgLES16S0oMedBj1RS9K6cEPbhNqOfngDndI6XOfW+3/MY9J6aKL2rT3qU+l9HVfl9LVV6/2/8QnpvTzPx9r74MfTCm/weFg/VxzWwJE/mTGbW6T0lVXrdrIxv/lv8TazKUe8ICUXvnKVfn8po4PfSilPGFv2iRADNuabONxd5JLSoA4yaPbrm+7fMA79sN3Si92ua8p7fZUdsx4yo/tKQ/d5hqPHe+m/U6pE+3vUfR1rlG0XvSBS97fFMNo+8oRGBKInofr9SVAxGLqJJzP+9CHKdfQ5cjMPe659WIRUVdqn49tyD3/PTKP7/L+eJvyHEMJELExPO73MBIgxq9PEiBWRpHr2rK0BIjNsTW2eCwBYvicHJvLJECUdtF7ySm/jcZiePyqqsQcAWsyc9TUITAsIAFiRgJE/tTCt3xLSu94xwr21FNTet3rUjrzzHnh9tGPbn/Dwo/8SEr5UxsHt1/7tZQe9ah57f3VX6V085undN3rbq6//gaHG9wgpTe+MaVv+7bt7X3pSyn9w3+Y0stfXpbblgCRS2/qY042+f7vH+9jfttEPuaD27bPX+RyEiCGXU224zHXQwkJED2M8u77uMsHvGM/fKcc/S73NaXdnsqOGU/5sT3lodtc47Hj3bTfKXWi/T2Kvs41itaLPnDJ+5tiGG1fOQJDAtHzcL2+BIhYTJ2E83kf+jDlGrocmbnHPbdeLCLqSu3zsQ25579H5vFd3h9vU55jKAEiNobH/R5GAsT49UkCxMoocl1blpYAsTm2xhaPJUAMn5Njc5kEiNIuei855bfRWAyPX1WVmCNgTWaOmjoEhgUkQMxIgMic+XML971vSl/84gr3xjdO6TnPWXw+4jrXGQ+7L3whpVe/OqVnPSulj388pTe8YbhOTpC4+90XbzRYbrmNxz8+pac9bfgtB+t7fNvbUnruc1P6rd9atHnKKZvbfP/7U/qmbzr8Fodb3WqR2JAny01bfuNDfjNFTnTYtI0lQFx22SKxJL+BYrnd8IaLT3L8wA8M2+S+5OSHg2Nxy1suElRufevhehIghm1MtuPnbw8lJED0MMq77+MuH/CO/fCdcvS73NeUdnsqO2Y85cf2lIduc43HjnfTfqfUifb3KPo61yhaL/rAJe9vimG0feUIDAlEz8P1+hIgYjF1Es7nfejDlGvocmTmHvfcerGIqCu1z8c25J7/HpnHd3l/vE15jqEEiNgYHvd7GAkQ49cnCRAro8h1bVlaAsTm2BpbPJYAMXxOjs1lEiBKu+i95JTfRmMxPH5VVWKOgDWZOWrqEBgWkAAxMwEik+Y3MuS3Fqxvd7rTIgniXvdK6Xa3Syl/iiEnO3zyk4sEhj/7s5Te/OaUXvGKxd/ydvbZKb3pTdtD9U/+ZLHPa645XC6/yeHhD0/pO78zpW/8xkV7+c0OOZEgJ068/e0p/emfLpIX/vIvV3XzfoYSIHKpX/qllH7sxw63lRdEH/GIlB7ykMVnLvJk+OEPp/SHf5jSs5+d0nvfuyh/29sujuPP/3xVfywBIpd84QtTeuhDS4fv+Z6UHvnIRRJI7u+VV6Z0ySWLtzi86lVl+f/23xZvoti2SYAY1jHZmjaW16UrrlhZ5KSrfK1ZbvlTOeefH7N63vNSetnLUvrMZxbl81tzHvjAeP1cJ+8jX2/mtB87SqV2IbBpnPJ+N43dWFzscsx3ua9dOJ3EfYwZD/37sThoZTV2vJvanVJnW39P2rVs2dd8r5qv8/kan+/ZNs0TUwxbjb399iMQOQ9z3OYk8etdb+GS33x31lmLJOyxbR/i+do8hmuz7bGxif77fejDch689NKUPv/5RQze+c7b75XnHvfcelHPmnL7fGzLfs29Z9nl/fE24zmG+fnLW96yeMaS3+iZ/yOUfA2c+lut1X3TQfv1+6eh3xhjRnN/l87xrTkndll36F7tPe9ZPDtc/k7P/zs/58v3cHk77bTD8+G6QS5/xzumtLwHzP+hVX5mt/xnvic8uK3fJy7HMNfP18D8H0blOMxv3r3+9Rf7eupTF88Nov4Hy+X95u0DH0gpf3o3H1d+XvrlLy/2n+f+u961fD6Rz4v8/DbHXL4u5//gavl53WyT+3XTm67s3vWu1Sd987HnZyf5M7/5Wp7LZaPlNnR/PCcuI9ekiFukVcmgAAAgAElEQVSkzFA8Lq8h2SlvN7lJShdcsP1ZT+T+LO/rYHwuz/9sOud3xrY+5j7kZ8vLT0/n6+A556R073tvfwZ10D/HQI6TW9xicf4sz53ob+Acm/mT0jl+8pafv2fLg8/glh5T7hfGrofbrqvL8yd75+2oftuNxePB61m2WB7b8rxcnm/rx7+8Xq2fi3l/eU0jXyPyltdLcjznc/cjH1lck/J45P/L6zs56SeXydeSPF75n8vrVv5n3vI1IJfP/7Fsvhace+7KLxr/U5+55rEc+z2+re2DBgd/D42Nx7YY8++mC1iTmW6mBoFtAhIgKhIgMmx+48NjH7uYAGu2SAJE3n/+zMaDHpTSwUXJue2OJUDkSfyHfzil5z9/Wgv5RjG/2eLHfzyl179+VTeSAJFL/8IvpPSTPzmtzWXpfNPxy7+c0r/8l+P1JUAMG5lsx+NHCQIECBAgQIAAAQIECBAgQIAAAQIECBAgQIBArYA1mVpB9QkcFpAAUZkAkTnzIn9OFHjnO+eFV34LQ16wf8YzYvUvv3yRSZvfIDFny1mI97nPIrt1+V86De0nJ0Hkz2zkpIKcIT225ezIl7wkpfvdL6V73nNeAkRuI/8XVz/6o4vs7OiWP9Fx0UUpff/3x2pIgBh2MtnGYkgpAgQIECBAgAABAgQIECBAgAABAgQIECBAgECNgDWZGj11CZQCEiB2kACRWXOiwEtfmtJzn5vSH/9xSldfvT3c8iuxvuu7UnrAAxYL9jlxYOqWX2uUP1ORPz/xsY9tr32jG6V0j3ssXuF13nkpnXHGtNbe8IaUnvzklF7zms2JEDmJ44d+KKULL1y82ilvNQkQuX7+PMjTn57Si150+NMd60d+hzssPsnxhCcsXkMX3SRADEuZbKNRpBwBAgQIECBAgAABAgQIECBAgAABAgQIECBAYL6ANZn5dmoS2CRw7BIgjsMw5s9hXHLJ4htz+TuK+Xt6OUEgf7vrtrddfF/u9NMX34PaxZaTL/LbJ9797kV7y2/a5fa+5mtSustdUvqGbxh/20PkWPK3r974xpTyWyjyt7Fy4kb+/tp3fMfiG1ittvwttXe8I6WPfnThebObpZTf+HDmmSnd6U6tWu13vybbfsdezwkQIECAAAECBAgQIECAAAECBAgQIECAAIGjE7Amc3TWWupDQAJEH+OslwQmCZhsJ3EpTIAAAQIECBAgQIAAAQIECBAgQIAAAQIECBCYJWBNZhabSgQGBSRACA4CBAoBk62gIECAAAECBAgQIECAAAECBAgQIECAAAECBAi0F7Am095YC30JSIDoa7z1lkBIwGQbYlKIAAECBAgQIECAAAECBAgQIECAAAECBAgQIFAlYE2mik9lAoWABAhBQYBAIWCyFRQECBAgQIAAAQIECBAgQIAAAQIECBAgQIAAgfYC1mTaG2uhLwEJEH2Nt94SCAmYbENMChEgQIAAAQIECBAgQIAAAQIECBAgQIAAAQIEqgSsyVTxqUygEJAAISgIECgETLaCggABAgQIECBAgAABAgQIECBAgAABAgQIECDQXsCaTHtjLfQlIAGir/HWWwIhAZNtiEkhAgQIECBAgAABAgQIECBAgAABAgQIECBAgECVgDWZKj6VCRQCEiAEBQEChYDJVlAQIECAAAECBAgQIECAAAECBAgQIECAAAECBNoLWJNpb6yFvgQkQPQ13npLICRgsg0xKUSAAAECBAgQIECAAAECBAgQIECAAAECBAgQqBKwJlPFpzKBQkAChKAgQKAQMNkKCgIECBAgQIAAAQIECBAgQIAAAQIECBAgQIBAewFrMu2NtdCXgASIvsZbbwmEBEy2ISaFCBAgQIAAAQIECBAgQIAAAQIECBAgQIAAAQJVAtZkqvhUJlAISIAQFAQIFAImW0FBgAABAgQIECBAgAABAgQIECBAgAABAgQIEGgvYE2mvbEW+hKQANHXeOstgZCAyTbEpBABAgQIECBAgAABAgQIECBAgAABAgQIECBAoErAmkwVn8oECgEJEIKCAIFCwGQrKAgQIECAAAECBAgQIECAAAECBAgQIECAAAEC7QWsybQ31kJfAhIg+hpvvSUQEjDZhpgUIkCAAAECBAgQIECAAAECBAgQIECAAAECBAhUCViTqeJTmUAhIAFCUBAgUAiYbAUFAQIECBAgQIAAAQIECBAgQIAAAQIECBAgQKC9gDWZ9sZa6EtAAkRf4623BEICJtsQk0IECBAgQIAAAQIECBAgQIAAAQIECBAgQIAAgSoBazJVfCoTKAQkQAgKAgQKAZOtoCBAgAABAgQIECBAgAABAgQIECBAgAABAgQItBewJtPeWAt9CUiA6Gu89ZZASMBkG2JSiAABAgQIECBAgAABAgQIECBAgAABAgQIECBQJWBNpopPZQKFgAQIQUGAQCFgshUUBAgQIECAAAECBAgQIECAAAECBAgQIECAAIH2AtZk2htroS8BCRB9jbfeEggJmGxDTAoRIECAAAECBAgQIECAAAECBAgQIECAAAECBKoErMlU8alMoBCQACEoCBAoBEy2goIAAQIECBAgQIAAAQIECBAgQIAAAQIECBAg0F7Amkx7Yy30JSABoq/x1lsCIQGTbYhJIQIECBAgQIAAAQIECBAgQIAAAQIECBAgQIBAlYA1mSo+lQkUAhIgBAUBAoWAyVZQECBAgAABAgQIECBAgAABAgQIECBAgAABAgTaC1iTaW+shb4EJED0Nd56SyAkYLINMSlEgAABAgQIECBAgAABAgQIECBAgAABAgQIEKgSsCZTxacygUJAAoSgIECgEDDZCgoCBAgQIECAAAECBAgQIECAAAECBAgQIECAQHsBazLtjbXQl4AEiL7GW28JhARMtiEmhQgQIECAAAECBAgQIECAAAECBAgQIECAAAECVQLWZKr4VCZQCEiAEBQECBQCJltBQYAAAQIECBAgQIAAAQIECBAgQIAAAQIECBBoL2BNpr2xFvoSkADR13jrLYGQgMk2xKQQAQIECBAgQIAAAQIECBAgQIAAAQIECBAgQKBKwJpMFZ/KBAoBCRCCggCBQsBkKygIECBAgAABAgQIECBAgAABAgQIECBAgAABAu0FrMm0N9ZCXwISIPoab70lEBIw2YaYFCJAgAABAgQIECBAgAABAgQIECBAgAABAgQIVAlYk6niU5lAISABQlAQIFAImGwFBQECBAgQIECAAAECBAgQIECAAAECBAgQIECgvYA1mfbGWuhLQAJEX+OttwRCAibbEJNCBAgQIECAAAECBAgQIECAAAECBAgQIECAAIEqAWsyVXwqEygEJEAICgIECgGTraAgQIAAAQIECBAgQIAAAQIECBAgQIAAAQIECLQXsCbT3lgLfQlIgOhrvPWWQEjAZBtiUogAAQIECBAgQIAAAQIECBAgQIAAAQIECBAgUCVgTaaKT2UChYAECEFBgEAhYLIVFAQIECBAgAABAgQIECBAgAABAgQIECBAgACB9gLWZNoba6EvAQkQfY233hIICZhsQ0wKESBAgAABAgQIECBAgAABAgQIECBAgAABAgSqBKzJVPGpTKAQkAAhKAgQKARMtoKCAAECBAgQIECAAAECBAgQIECAAAECBAgQINBewJpMe2Mt9CUgAaKv8dZbAiEBk22ISSECBAgQIECAAAECBAgQIECAAAECBAgQIECAQJWANZkqPpUJFAISIAQFAQKFgMlWUBAgQIAAAQIECBAgQIAAAQIECBAgQIAAAQIE2gtYk2lvrIW+BCRA9DXeeksgJGCyDTEpRIAAAQIECBAgQIAAAQIECBAgQIAAAQIECBCoErAmU8WnMoFCQAKEoCBAoBAw2QoKAgQIECBAgAABAgQIECBAgAABAgQIECBAgEB7AWsy7Y210JeABIi+xltvCYQETLYhJoUIECBAgAABAgQIECBAgAABAgQIECBAgAABAlUC1mSq+FQmUAhIgBAUBAgUAiZbQUGAAAECBAgQIECAAAECBAgQIECAAAECBAgQaC9gTaa9sRb6EpAA0dd46y2BkIDJNsSkEAECBAgQIECAAAECBAgQIECAAAECBAgQIECgSsCaTBWfygQKAQkQgoIAgULAZCsoCBAgQIAAAQIECBAgQIAAAQIECBAgQIAAAQLtBazJtDfWQl8CEiD6Gm+9JRASMNmGmBQiQIAAAQIECBAgQIAAAQIECBAgQIAAAQIECFQJWJOp4lOZQCEgAUJQECBQCJhsBQUBAgQIECBAgAABAgQIECBAgAABAgQIECBAoL2ANZn2xlroS0ACRF/jrbcEQgIm2xCTQgQIECBAgAABAgQIECBAgAABAgQIECBAgACBKgFrMlV8KhMoBCRACAoCBAoBk62gIECAAAECBAgQIECAAAECBAgQIECAAAECBAi0F7Am095YC30JSIDoa7z1lkBIwGQbYlKIAAECBAgQIECAAAECBAgQIECAAAECBAgQIFAlYE2mik9lAoWABAhBQYBAIWCyFRQECBAgQIAAAQIECBAgQIAAAQIECBAgQIAAgfYC1mTaG2uhLwEJEH2Nt94SCAmYbENMChEgQIAAAQIECBAgQIAAAQIECBAgQIAAAQIEqgSsyVTxqUygEJAAISgIECgETLaCggABAgQIECBAgAABAgQIECBAgAABAgQIECDQXsCaTHtjLfQlIAGir/HWWwIhAZNtiEkhAgQIECBAgAABAgQIECBAgAABAgQIECBAgECVgDWZKj6VCRQCEiAEBQEChYDJVlAQIECAAAECBAgQIECAAAECBAgQIECAAAECBNoLWJNpb6yFvgQkQPQ13npLICRgsg0xKUSAAAECBAgQIECAAAECBAgQIECAAAECBAgQqBKwJlPFpzKBQkAChKAgQKAQMNkKCgIECBAgQIAAAQIECBAgQIAAAQIECBAgQIBAewFrMu2NtdCXgASIvsZbbwmEBEy2ISaFCBAgQIAAAQIECBAgQIAAAQIECBAgQIAAAQJVAtZkqvhUJlAISIAQFAQIFAImW0FBgAABAgQIECBAgAABAgQIECBAgAABAgQIEGgvYE2mvbEW+hKQANHXeOstgZCAyTbEpBABAgQIECBAgAABAgQIECBAgAABAgQIECBAoErAmkwVn8oECgEJEIKCAIFCwGQrKAgQIECAAAECBAgQIECAAAECBAgQIECAAAEC7QWsybQ31kJfAhIg+hpvvSUQEjDZhpgUIkCAAAECBAgQIECAAAECBAgQIECAAAECBAhUCViTqeJTmUAhIAFCUBAgUAiYbAUFAQIECBAgQIAAAQIECBAgQIAAAQIECBAgQKC9gDWZ9sZa6EtAAkRf4623BEICJtsQk0IECBAgQIAAAQIECBAgQIAAAQIECBAgQIAAgSoBazJVfCoTKAQkQAgKAgQKAZOtoCBAgAABAgQIECBAgAABAgQIECBAgAABAgQItBewJtPeWAt9CUiA6Gu89ZZASMBkG2JSiAABAgQIECBAgAABAgQIECBAgAABAgQIECBQJWBNpopPZQKFgAQIQUGAQCFgshUUBAgQIECAAAECBAgQIECAAAECBAgQIECAAIH2AtZk2htroS8BCRB9jbfeEggJmGxDTAoRIECAAAECBAgQIECAAAECBAgQIECAAAECBKoErMlU8alMoBCQACEoCBAoBEy2goIAAQIECBAgQIAAAQIECBAgQIAAAQIECBAg0F7Amkx7Yy30JSABoq/x1lsCIQGTbYhJIQIECBAgQIAAAQIECBAgQIAAAQIECBAgQIBAlYA1mSo+lQkUAhIgBAUBAoWAyVZQECBAgAABAgQIECBAgAABAgQIECBAgAABAgTaC1iTaW+shb4EJED0Nd56SyAkYLINMSlEgAABAgQIECBAgAABAgQIECBAgAABAgQIEKgSsCZTxacygUJAAoSgIECgEDDZCgoCBAgQIECAAAECBAgQIECAAAECBAgQIECAQHsBazLtjbXQl4AEiL7GW28JhARMtiEmhQgQIECAAAECBAgQIECAAAECBAgQIECAAAECVQLWZKr4VCZQCEiAEBQECBQCJltBQYAAAQIECBAgQIAAAQIECBAgQIAAAQIECBBoL2BNpr2xFvoSkADR13jrLYGQgMk2xKQQAQIECBAgQIAAAQIECBAgQIAAAQIECBAgQKBKwJpMFZ/KBAoBCRCCggCBQsBkKygIECBAgAABAgQIECBAgAABAgQIECBAgAABAu0FrMm0N9ZCXwISIPoab70lEBIw2YaYFCJAgAABAgQIECBAgAABAgQIECBAgAABAgQIVAlYk6niU5lAISABQlAQIFAImGwFBQECBAgQIECAAAECBAgQIECAAAECBAgQIECgvYA1mfbGWuhLQAJEX+OttwRCAibbEJNCBAgQIECAAAECBAgQIECAAAECBAgQIECAAIEqAWsyVXwqEygEJEAICgIECgGTraAgQIAAAQIECBAgQIAAAQIECBAgQIAAAQIECLQXsCbT3lgLfQlIgOhrvPWWQEjAZBtiUogAAQIECBAgQIAAAQIECBAgQIAAAQIECBAgUCVgTaaKT2UChYAECEFBgEAhYLIVFAQIECBAgAABAgQIECBAgAABAgQIECBAgACB9gLWZNoba6EvAQkQfY233hIICZhsQ0wKESBAgAABAgQIECBAgAABAgQIECBAgAABAgSqBKzJVPGpTKAQkAAhKAgQKARMtoKCAAECBAgQIECAAAECBAgQIECAAAECBAgQINBewJpMe2Mt9CUgAaKv8dZbAiEBk22ISSECBAgQIECAAAECBAgQIECAAAECBAgQIECAQJWANZkqPpUJFAISIAQFAQKFgMlWUBAgQIAAAQIECBAgQIAAAQIECBAgQIAAAQIE2gtYk2lvrIW+BCRA9DXeeksgJGCyDTEpRIAAAQIECBAgQIAAAQIECBAgQIAAAQIECBCoErAmU8WnMoFCQAKEoCBAoBAw2QoKAgQIECBAgAABAgQIECBAgAABAgQIECBAgEB7AWsy7Y210JeABIi+xltvCYQETLYhJoUIECBAgAABAgQIECBAgAABAgQIECBAgAABAlUC1mSq+FQmUAhIgBAUBAgUAiZbQUGAAAECBAgQIECAAAECBAgQIECAAAECBAgQaC9gTaa9sRb6EpAA0dd46y2BkIDJNsSkEAECBAgQIECAAAECBAgQIECAAAECBAgQIECgSsCaTBWfygQKAQkQgoIAgULAZCsoCBAgQIAAAQIECBAgQIAAAQIECBAgQIAAAQLtBazJtDfWQl8CEiD6Gm+9JRASMNmGmBQiQIAAAQIECBAgQIAAAQIECBAgQIAAAQIECFQJWJOp4lOZQCEgAUJQECBQCJhsBQUBAgQIECBAgAABAgQIECBAgAABAgQIECBAoL2ANZn2xlroS0ACRF/jrbcEQgIm2xCTQgQIECBAgAABAgQIECBAgAABAgQIECBAgACBKgFrMlV8KhMoBCRACAoCBAoBk62gIECAAAECBAgQIECAAAECBAgQIECAAAECBAi0F7Am095YC30JSIDoa7z1lkBIwGQbYlKIAAECBAgQIECAAAECBAgQIECAAAECBAgQIFAlYE2mik9lAoWABAhBQYBAIWCyFRQECBAgQIAAAQIECBAgQIAAAQIECBAgQIAAgfYC1mTaG2uhLwEJEH2Nt94SCAmYbENMChEgQIAAAQIECBAgQIAAAQIECBAgQIAAAQIEqgSsyVTxqUygEJAAISgIECgETLaCggABAgQIECBAgAABAgQIECBAgAABAgQIECDQXsCaTHtjLfQlIAGir/HWWwIhAZNtiEkhAgQIECBAgAABAgQIECBAgAABAgQIECBAgECVgDWZKj6VCRQCEiAEBQEChYDJVlAQIECAAAECBAgQIECAAAECBAgQIECAAAECBNoLWJNpb6yFvgQkQPQ13npLICRgsg0xKUSAAAECBAgQIECAAAECBAgQIECAAAECBAgQqBKwJlPFpzKBQkAChKAgQKAQMNkKCgIECBAgQIAAAQIECBAgQIAAAQIECBAgQIBAewFrMu2NtdCXgASIvsZbbwmEBEy2ISaFCBAgQIAAAQIECBAgQIAAAQIECBAgQIAAAQJVAtZkqvhUJlAISIAQFAQIFAImW0FBgAABAgQIECBAgAABAgQIECBAgAABAgQIEGgvYE2mvbEW+hKQANHXeOstgZCAyTbEpBABAgQIECBAgAABAgQIECBAgAABAgQIECBAoErAmkwVn8oECgEJEIKCAIFCwGQrKAgQIECAAAECBAgQIECAAAECBAgQIECAAAEC7QWsybQ31kJfAhIg+hpvvSUQEjDZhpgUIkCAAAECBAgQIECAAAECBAgQIECAAAECBAhUCViTqeJTmUAhIAFCUBAgUAiYbAUFAQIECBAgQIAAAQIECBAgQIAAAQIECBAgQKC9gDWZ9sZa6EtAAkRf4623BEICJtsQk0IECBAgQIAAAQIECBAgQIAAAQIECBAgQIAAgSoBazJVfCoTKAQkQAgKAgQKAZOtoCBAgAABAgQIECBAgAABAgQIECBAgAABAgQItBewJtPeWAt9CUiA6Gu89ZZASMBkG2JSiAABAgQIECBAgAABAgQIECBAgAABAgQIECBQJWBNpopPZQKFgAQIQUGAQCFgshUUBAgQIECAAAECBAgQIECAAAECBAgQIECAAIH2AtZk2htroS8BCRB9jbfeEggJmGxDTAoRIECAAAECBAgQIECAAAECBAgQIECAAAECBKoErMlU8alMoBCQACEoCBAoBEy2goIAAQIECBAgQIAAAQIECBAgQIAAAQIECBAg0F7Amkx7Yy30JSABoq/x1lsCIQGTbYhJIQIECBAgQIAAAQIECBAgQIAAAQIECBAgQIBAlYA1mSo+lQkUAhIgBAUBAoWAyVZQECBAgAABAgQIECBAgAABAgQIECBAgAABAgTaC1iTaW+shb4EJED0Nd56SyAkYLINMSlEgAABAgQIECBAgAABAgQIECBAgAABAgQIEKgSsCZTxacygUJAAoSgIECgEDDZCgoCBAgQIECAAAECBAgQIECAAAECBAgQIECAQHsBazLtjbXQl4AEiL7GW28JhARMtiEmhQgQIECAAAECBAgQIECAAAECBAgQIECAAAECVQLWZKr4VCZQCEiAEBQECBQCJltBQYAAAQIECBAgQIAAAQIECBAgQIAAAQIECBBoL2BNpr2xFvoSkADR13jrLYGQgMk2xKQQAQIECBAgQIAAAQIECBAgQIAAAQIECBAgQKBKwJpMFZ/KBAoBCRCCggCBQsBkKygIECBAgAABAgQIECBAgAABAgQIECBAgAABAu0FrMm0N9ZCXwISIPoab70lEBIw2YaYFCJAgAABAgQIECBAgAABAgQIECBAgAABAgQIVAlYk6niU5lAISABQlAQIFAImGwFBQECBAgQIECAAAECBAgQIECAAAECBAgQIECgvYA1mfbGWuhLQAJEX+OttwRCAibbEJNCBAgQIECAAAECBAgQIECAAAECBAgQIECAAIEqAWsyVXwqEygEJEAICgIECgGTraAgQIAAAQIECBAgQIAAAQIECBAgQIAAAQIECLQXsCbT3lgLfQlIgOhrvPWWQEjAZBtiUogAAQIECBAgQIAAAQIECBAgQIAAAQIECBAgUCVgTaaKT2UChYAECEFBgEAhYLIVFAQIECBAgAABAgQIECBAgAABAgQIECBAgACB9gLWZNoba6EvAQkQfY233hIICZhsQ0wKESBAgAABAgQIECBAgAABAgQIECBAgAABAgSqBKzJVPGpTKAQkAAhKAgQKARMtoKCAAECBAgQIECAAAECBAgQIECAAAECBAgQINBewJpMe2Mt9CUgAaKv8dZbAiEBk22ISSECBAgQIECAAAECBAgQIECAAAECBAgQIECAQJWANZkqPpUJFAISIAQFAQKFgMlWUBAgQIAAAQIECBAgQIAAAQIECBAgQIAAAQIE2gtYk2lvrIW+BCRA9DXeeksgJGCyDTEpRIAAAQIECBAgQIAAAQIECBAgQIAAAQIECBCoErAmU8WnMoFCQAKEoCBAoBAw2QoKAgQIECBAgAABAgQIECBAgAABAgQIECBAgEB7AWsy7Y210JeABIi+xltvCYQETLYhJoUIECBAgAABAgQIECBAgAABAgQIECBAgAABAlUC1mSq+FQmUAhIgBAUBAgUAiZbQUGAAAECBAgQIECAAAECBAgQIECAAAECBAgQaC9gTaa9sRb6EpAA0dd46y2BkIDJNsSkEAECBAgQIECAAAECBAgQIECAAAECBAgQIECgSsCaTBWfygQKAQkQgoIAgULAZCsoCBAgQIAAAQIECBAgQIAAAQIECBAgQIAAAQLtBazJtDfWQl8CEiD6Gm+9JRASMNmGmBQiQIAAAQIECBAgQIAAAQIECBAgQIAAAQIECFQJWJOp4lOZQCEgAUJQECBQCJhsBQUBAgQIECBAgAABAgQIECBAgAABAgQIECBAoL2ANZn2xlroS0ACRF/jrbcEQgIm2xCTQgQIECBAgAABAgQIECBAgAABAgQIECBAgACBKgFrMlV8KhMoBCRACAoCBAoBk62gIECAAAECBAgQIECAAAECBAgQIECAAAECBAi0F7Am095YC30JSIDoa7z1lkBIwGQbYlKIAAECBAgQIECAAAECBAgQIECAAAECBAgQIFAlYE2mik9lAoWABAhBQYBAIWCyFRQECBAgQIAAAQIECBAgQIAAAQIECBAgQIAAgfYC1mTaG2uhLwEJEH2Nt94SCAmYbENMChEgQIAAAQIECBAgQIAAAQIECBAgQIAAAQIEqgSsyVTxqUygEJAAISgIECgETLaCggABAgQIECBAgAABAgQIECBAgAABAgQIECDQXqIa+gkAACAASURBVMCaTHtjLfQlIAGir/HWWwIhAZNtiEkhAgQIECBAgAABAgQIECBAgAABAgQIECBAgECVgDWZKj6VCRQCEiAEBQEChYDJVlAQIECAAAECBAgQIECAAAECBAgQIECAAAECBNoLWJNpb6yFvgQkQPQ13npLICRgsg0xKUSAAAECBAgQIECAAAECBAgQIECAAAECBAgQqBKwJlPFpzKBQkAChKAgQKAQMNkKCgIECBAgQIAAAQIECBAgQIAAAQIECBAgQIBAewFrMu2NtdCXgASIvsZbbwmEBEy2ISaFCBAgQIAAAQIECBAgQIAAAQIECBAgQIAAAQJVAtZkqvhUJlAISIAQFAQIFAImW0FBgAABAgQIECBA4P+zdx/g0lTl4cBfAggaQQSVIlhBEZSIBWNvUVGj/9gwlkjsQSwxKpbYI4rBaGxEjUaNFVs0GEvsxi6oUUAsKMEGIoigFBH9P+/dZ7/du9/uvTN7d+abs/Ob5+EB7p095ffO2XNnz7tnCBAgQIAAAQIECBAgQIAAgeYFrMk0b6yGfglIgOhXvPWWQCUBk20lJicRIECAAAECBAgQIECAAAECBAgQIECAAAECBDYkYE1mQ3xeTGAzAQkQLgoCBDYTMNm6KAgQIECAAAECBAgQIECAAAECBAgQIECAAAECzQtYk2neWA39EpAA0a946y2BSgIm20pMTiJAgAABAgQIECBAgAABAgQIECBAgAABAgQIbEjAmsyG+LyYwGYCEiBcFAQIbCZgsnVRECBAgAABAgQIECBAgAABAgQIECBAgAABAgSaF7Am07yxGvolIAGiX/HWWwKVBEy2lZicRIAAAQIECBAgQIAAAQIECBAgQIAAAQIECBDYkIA1mQ3xeTGBzQQkQLgoCBDYTMBk66IgQIAAAQIECBAgQIAAAQIECBAgQIAAAQIECDQvYE2meWM19EtAAkS/4q23BCoJmGwrMTmJAAECBAgQIECAAAECBAgQIECAAAECBAgQILAhAWsyG+LzYgKbCUiAcFEQILCZgMnWRUGAAAECBAgQIECAAAECBAgQIECAAAECBAgQaF7Amkzzxmrol4AEiH7FW28JVBIw2VZichIBAgQIECBAgAABAgQIECBAgAABAgQIECBAYEMC1mQ2xOfFBDYTkADhoiBAYDMBk62LggABAgQIECBAgAABAgQIECBAgAABAgQIECDQvIA1meaN1dAvAQkQ/Yq33hKoJGCyrcTkJAIECBAgQIAAAQIECBAgQIAAAQIECBAgQIDAhgSsyWyIz4sJbCYgAcJF0XmB5z434nnPGzXz0EMj3vSmzje76AaabIsOn8YTIECAAAECBAgQIECAAAECBAgQIECAAAEChQhYkykkUJpZjMBSJ0CccUbEnntGXHrp6ni86lURhx9eTIx631AJEO1fAibb9s3VSIAAAQIECBAgQIAAAQIECBAgQIAAAQIECPRPwJpM/2Kux80KLHUCxNFHRxxxxOaAN7lJxFe/2iys0hcnIAFicZZVSzLZVpVyHgECBAgQIECAAAECBAgQIECAAAECBAgQIEBgfgFrMvPbeSWBaQJLnQBx/etHnHTS9MCfeGLE/vu7KEoQkADRfpRMts2bP/jBET/+8aie3K3mNreJ+OlPRz/bY4+IRz1qdVte97rp5wx/fsIJEeefH7HDDhE3vnHEtDKa750a2hCYdS1Mq7vOuW20vQ91MO9DlPWxLwLGc18iXb+fro36Zl7RT4EcK8cdN7hP+fa3I373u4hddhncq+R90Fvfulwu0+71so83u1nEmWeO+rrrrhH77BPxla9E/Pa3g5+nzYEHDu7l8t4uj/zvPCbv7YbvQe97X8RPfjI4J+8Dd9wx4oADIn71q4F5HuecE3H1q4/K+vCHIy572VFbpsVhPG7Dsu9xj9E9ahPvgeP3td/5zqjfk+2f9z531n3z97+/2isdh31top8bueIX1Z7J+KbBJZcMrouzzhq08PKXH/x/XlP3vne3Pl9YhMP4WM3PYrbffjBOqnymkvXnDsPnnTewusxlIg46aP73s1nvG7N+PnkNTXqMX9PDz5mue93Rq2a9r4yXO6vu4bXzmc9E/OY3Eb///eBVf/RHEX/8xxG77RaRdWUd2Y69944Yvk/l+1IeW201OD9fm6/JY7vtIu50p80/GxuWMWxblfG/3vvXsKxZ19Gw72mX78/rjYH1yhnWN/7Z3+Tnd5P9XOt9Kcsbr3PafJHnTH7G+NnPbv5ZZM5PWdZTnxrx619H/OEPg7jkNZ3x+PrXIy68cNCD/Hf+buutR/PWNttEbLvt4Pf573z/zPPyvzP2eUy+h0/2LX+fx847D/6dZVzhCoP35ZwLco7LOGRdw+st35/yyJ/lfHrRRYPzcx7N/85/5zV2ucuNzsn3sTzyGhr6DOOQbcj689+nnTa4tvM6zZ3F89/Zn3w/zOs0/zvLzePsswflX+96g+t9/Of5njosM18z/Nsnfa5yldEcvdacs9b1P7zO0yh9MmY59sbnr/H3qaw3rcbf54bX5lp/d4z//ZLzQ7oO30OyzPwnY5RW2ef8d15H6Zb/ZDzyyP8eXicXXzys2b/HBazJuB4ILFZgaRMgcoeH/MNz1vHkJ0fkDhGO7gtIgGg/Ribb5s3zBu+CC0b15B/I++0Xcfzxo59N263mpjedfs7kz4el2PGm+VhuqRpmXQvT2lPn3C3Vn2Wrl/myRVR/+ixgPPc5+mv33bXh2iBQTWDWvUq+Ou+DcpFhmY5p93rZx1wwGi7cZH9zASEXXMfvC9dymLy3W891rXKHC4/D+qbFYVr5421o4j1wrT6N28x7nzur/Oz/pNewjib6uZHrfVHtqWq9CPeN9HfWaxfhMDlWp9U161qb5reR97NZ7xuzfj7Z1sn2TLum6/Qvz51Vd51rp2o7xt+LJj8bmyyjyvhf7/1rWN+s62jWtVH1ehieV+Wzv/G+T35OOOt9KV+zVhyy/jwmP2M8+eTNP4vM+alOTBcxnqtcF1XOmbct03zmLWue103OwVnGrDlnret/vc+CNxrXYZsm/34Z7/O0vlQxyQQJx+YC1mRcFQQWK7C0CRCHHx5xzDEjrMykG2a+508zGzW/fZ1v4A4CBFYLmGybvyKq3ARJgGg+DiXXUOcDnzrnlmzSpbYz71I0tIXAxgSM5435LfOrXRvLHF19W6TAegv1EiCqaUuAGDlVWQCdpioBYqQyz8LYvO7VrvB6Zy1iDpYAMVp0naYvAWJzFQkQ9cbprLOrJDdUOWfe1kiAqCYnAaKa0yLPsiazSE1lEYhYygSI3PJn990HWxYNj9e+NuKJT1yd5fjBD0bc/e4uAwIEJgVMts1fExIgmjde9hrqfOBT59xld2urf8zbklYPgeYFjOfmjUutwbVRauS0u20BCRCDXS7sALH+lVd1UX7ehXgJEKMYVLUej9q87utHvv4Zi5iDJUBIgLADxGB+muf9oP6oHb2iSnJDlXPmbYMEiGpyEiCqOS3yLGsyi9RUFoElTYB497sjDjlkFN7c/eGMMyIe+ciIt7999PP73jciz3UQILBawGTb/BUhAaJ542Wvoc4HPnXOXXa3tvrHvC1p9RBoXsB4bt641BpcG6VGTrvbFpAAIQGi6jVXdRFu3oV4CRCjSFS1Ho/dvO5V41/nvEXMwRIgJEBIgJAAUed9Z1HnegRGhEdgTL+arMksapQph8BAYCl3gMhdHT70oVGI//qvI974xoiPfjTi4INHP99uu4if/jRi551dDgQIjAuYbJu/HiRANG+87DXU+cCnzrnL7tZW/5i3Ja0eAs0LGM/NG5dag2uj1Mhpd9sCEiAkQFS95qouys+7EC8BYhSJqtbjsZvXvWr865y3iDlYAoQECAkQEiDqvO8s6lwJEBIgZl1L1mQWNcqUQ2AgsHQJELnTw557Rlx66SjEn/xkxO1vP/jZXntF/Oxno9+9+tURj3nM4i+H88+P+PznI773vYjzzovIbZv23jvi1reO2Gmn9ev7/e8jjj8+4pvfjPjFLyIuc5nBYz3y9dm/RR5nnhnx1a9G5L/POisiE0OucpWIffYZ/CGck3ITRxp96UsR3/9+xLnnRmy1VcSuu0Y8+MER227bRI2DMjP+aZt9Tdu03nHHiGteM+L61x9cI/Mcmbn4wx9GfPvbEaefPoh7/iwTbK50pcF2YvOWPU97NvIak+1G9Kq9VgJENSdnzRao84FPnXOZL0aA+WIclUKgCwLGcxei0M02uDa6GRet6p6ABAgJEFWvyqqL8vMuxEuAGEWiqvV47OZ1rxr/OuctYg6WACEBQgKEBIg67zuLOlcChASIWdeSNZlFjTLlEBgILF0CxNFHRxxxxCi8ueB82mmjRfwnPznin/5p9R/8X/lKvcvhuc+NeN7zRq859NCIN71p8P8/+EHEs54V8Z73RPz2t5uXu/32EbkjxZFHTt954oILIv75nyNe+crBYzsmj0wSuN3tIl7+8ogb3KBeu8fPvuiiiEz+eNvbIr7xjdmTzi67RNzvfoM+7bFH9fqyj29+8+j85zwnIt3y+PrXI17wgojjjou45JLNy/zlL1cniazlXbVFWWaa5SNPTj557Vdd61oRd7tbxMMeFnHggWufm+W+970RH/lIxKc/HXH22Wufn0kWj3hExOGHR1zhClVb3/55JtvmzSVANG+87DXU+cCnzrnL7tZW/5i3Ja0eAs0LGM/NG5dag2uj1Mhpd9sCEiAkQFS95qouys+7EC8BYhSJqtbjsZvXvWr865y3iDlYAoQECAkQEiDqvO8s6lwJEBIgZl1L1mQWNcqUQ2AgsHQJEPkN/pNOGoX3aU+LeNGLRv+fOyr8yZ+sDn+ev99+1S+JWQvyubieC/+ZxLDekQvhH/tYxLWvPTrzO9+J+Iu/iDjllPVePdgRIhfe//zP1z938oz/+I+Ixz8+4sc/rv7a3MEik0uq7pYxKwHihS+MePazV+/QMdmKRSdAvPSlEc9/fsSvflW9v8Mz83qZlWiS/g94wPQkjvVqysSSY4+NuOMd1ztzy/zeZNu8uwSI5o2XvYY6H/jUOXfZ3drqH/O2pNVDoHkB47l541JrcG2UGjntbltAAoQEiKrXXNVF+XkX4iVAjCJR1Xo8dvO6V41/nfMWMQdLgJAAIQFCAkSd951FnSsBQgLErGvJmsyiRplyCAwElioBIh/jcNBBq0M7LbkhEyByYXt4POUpEf/4j9UviWkJEJm4cJ/7DB6nUPW47nUjTjghIv/gzsdA3OpWg8dQVD3yURW5e8UBB1R9xaCfmRSSj2aY53jqUyOOOmr9V05LgMjdK4a7QKxVwqISIHKXi4c/POLtb1+/vbPOyN0qbnjD6b99zWsiDjts/rK32SbiXe+KuNe95i+jqVeabJuSHZUrAaJ542Wvoc4HPnXOXXa3tvrHvC1p9RBoXsB4bt641BpcG6VGTrvbFpAAIQGi6jVXdVF+3oV4CRCjSFS1Ho/dvO5V41/nvEXMwRIgJEBIgJAAUed9Z1HnSoCYf21qUTHoajnWZLoaGe0qVWCpEiDysQLHHDMKxY1vHHH88ZuHJh+BkY/CGB677x7xox9FbL11tTBOJkDkIykykeH88wevv/e9Ix70oIisf+edI845J+IznxnsRDG5u8MznjF4vET+wXXiiYPX3+hGEY9+dMRtbhOx224RuZCfj6nIRzjkoxbGj1vcIuLzn6/W7ny0xhOfuPrcTKJ44AMj7n73wUL/la40eHRHPjbkox8dPIrj5z9f/Zp8tMVDHrJ2nZMJELe9bcRnPzua3PIRE1nvzW4WceUrD3ZnyCSQ3BUh43P5y4/Kn/cRGIccMnjkxeRxl7sMYpR2V7lKRD6WJJMuvvvdQULJBz4Qkck0eVRJgMjdOG55y8FuDrkDSSa2XPGKgz5ceOHALxNu3v/+wa4dv/vdqEX5GIysI3cE6dJhsm0+GhIgmjde9hrqfOBT59xld2urf8zbklYPgeYFjOfmjUutwbVRauS0u20BCRASIKpec1UX5eddiJcAMYpEVevx2M3rXjX+dc5bxBwsAUIChAQICRB13ncWda4ECAkQs64lazKLGmXKITAQWJoEiFy0z0SGTDYYHrng/4QnbB7qn/0sYq+9Vj+G4b/+KyIX5asckwvyw9fssEPEe94Tcec7Ty8lF8Nz8f1//mf0+1wAf+hDI7KtuUNCPiIid1nI/552ZAJDnjt+5KJ9/sG21pEL+rlIf8klo7MyweItb4m42tVmvzKTOjKZ47jjRufkwv63vx2x556zXzeZADE8Mx+lkUkOdR7dMU8CxLRkj2xv7gZx61uvH+XvfW/wyI+//dvZj0f50IcGSRuZDLLTTuuXmWdkAkwmX6Tf8EirN76x2uvbOstk27y0BIjmjZe9hjof+NQ5d9nd2uof87ak1UOgeQHjuXnjUmtwbZQaOe1uW0AChASIqtdc1UX5eRfiJUCMIlHVejx287pXjX+d8xYxB0uAkAAhAUICRJ33nUWdKwFCAsSsa8mazKJGmXIIDASWJgEiv+mf3/gfHvl4gZ/8ZPAN/2nHwQcPdjgYHve73+BxBFWOaQkQOXF9/OMRt7/92iWcemrEvvuu3gVg+IrnPS/i2c9e+/WZwLDffoOF9+GRi/Qve9nar5v8gy53rcjdJHIHiPWO3LHgDndYnbiRO2hkgsCsY1oCRCZ1ZJ2zEkRmlVU3AeLssyOufvXBH3DDI///c59bO2ljPYdF/T4TcHKniGGyTsYgdyDJnTAWfeSkOc9x6qmnxsUXX7zy0v322y9OymfJOBYqIAFioZy9LKzOBz51zu0lZgOdZt4AqiIJbCEB43kLwRdQrWujgCBpYicEJEBIgKh6IVZdlJ93IV4CxCgSVa3HYzeve9X41zlvEXOwBAgJEBIgJEDUed9Z1LkSICRAzLqWJEAsapQph8BAYGkSIPIRDvmN/OGR///BD84O89veFvHgB49+n4vQuTCdjy5Y75iWAPGoR0W89rXrvXLw+9wF4r//e/W5mdSQj0mo8hiOI4+MeOYzR6+/+c0jvvCF2XV/6lODBIbhkX/gf+c7EVe9arX25lm5Y0Eu2v/+94PX5M4VZ545O4FiWgLEvDsd1E2AeM5zIp7//FHf8o+KT3+62s4P1UU2dubTnx5x1FGjMnJnigc8YGNlTnv1VrO2EqlRlQSIGlg1TpUAUQPLqVMF6nzgU+dc3IsRYL4YR6UQ6IKA8dyFKHSzDa6NbsZFq7onIAFCAkTVq7Lqovy8C/ESIEaRqGo9Hrt53avGv855i5iDJUBIgJAAIQGizvvOos6VACEBYta1JAFiUaNMOQQGAkuRAHHGGYNv9l966Sis73xnxP3vPzvMF1wQsdtuEfmIh+FxzDERhx22/qUxLQHixBMjqn7Z/gUviHjWs1bX8+pXRzzmMevXnWfkTgbjj3HIx0qM73YwWUourKfH8Dj88IhXvapaXeNn5e4WmUgwPPJRHre61fRypiVAfO1rEQceWL/eugkQ+UiP3FFheNzznhEf+ED9ept8xfvfH3Gve41qePzjI17+8sXXKAFi8aaLKlECxKIk+1tOnQ986pzbX9HF9pz5Yj2VRmBLChjPW1K/23W7NrodH63rjoAECAkQVa/Gqovy8y7ES4AYRaKq9Xjs5nWvGv865y1iDpYAIQFCAoQEiDrvO4s6VwKEBIhZ15IEiEWNMuUQGAgsRQJEPorhiCNGId1xx4hMirjsZdcO8+Qi/UEHRXz5y+tfGpML8nvsMXjcRtUjH7UxmZzx3e9G7LNPtRJ+/vOIXXddfW4mQGQixLRj990HHsPjk59c/1Ed08rJpI1M3hgeL3pRxNOeNr3OSdtMSvi//6vWv8mz6iRA5CNG9t57dQm5E0juCNLGcd55Ed/6VsQpp0Sce+4gweaiizav+fTTI97xjtHP73SnzXcFWUR7PQJjEYrNlCEBohnXPpVa5wOfOuf2ybDJvjJvUlfZBNoVMJ7b9S6pNtdGSdHS1i0pIAFCAkTV66/qovy8C/ESIEaRqGo9Hrt53avGv855i5iDJUBIgJAAIQGizvvOos6VACEBYta1JAFiUaNMOQQGAkuRAJGPZjjppFFIH/7wiNe/fv0QZyLAHe+4+ryTT4643vXWfu3kgnw+0uIjH1m/vuEZee5d7zo6f/vtIy68sPrrc0F9MrkjH9+RO1pMHt/7XsR1rrP6p+ecU+1RH5Nl5Q4ZuXvE8HjEIyL+9V+nt3syASJ3O3jf+6r3cfzMOgkQb35zRNY9PPIPil/+MiKTYpo6Lr444k1vinjLWwaPIvnDH+rXlH9wf+Ur9V/X1CtMtk3JjsqVANG88bLXUOcDnzrnLrtbW/1j3pa0egg0L2A8N29cag2ujVIjp91tC0iAkABR9Zqruig/70K8BIhRJKpaj8duXveq8a9z3iLmYAkQEiAkQEiAqPO+s6hzJUDMt36yKP8ul2NNpsvR0bYSBYpPgPjqVyNy54bxIx/TcNvbrh+O3/8+4hrXWP24hNxJ4sUvXvu1kwvy+YiJt799/fqGZ2T78nESwyN3aPjpT6u/Ps/caqvV5//wh4O+TB4f/WjEwQfXK7vq2fe+d8R73zv97MkEiMc+NuKVr6xa8urz6iRAHHlkxDOfOXp97gaRSSBNHZ/9bEQmgmy0jtz9I3cB6cphsm0+EhIgmjde9hrqfOBT59xld2urf8zbklYPgeYFjOfmjUutwbVRauS0u20BCRASIKpec1UX5eddiJcAMYpEVevx2M3rXjX+dc5bxBwsAUIChAQICRB13ncWda4ECAkQs64lazKLGmXKITAQKD4BInckyJ0JhsfVrx6RyQCTCQKzAv70p0ccddTot/k4i3w8wdZbz75E6izITytlMgEi23zaafUuyaoJEJmY8aAH1Su76tl3uEPEJz4x/ezJBIi///vVj8+oWkeeV8f77/4u4mUvG5V+s5tFfOlLdWqrfu7HPhZxz3tOf8RF9VIGZ85zDdSto875Jts6WvOdKwFiPjevGgnU+cCnzrmMFyPAfDGOSiHQBQHjuQtR6GYbXBvdjItWdU9AAoQEiKpXZdVF+XkX4iVAzL6frBKjed2rlF33nEXMwRIgJEBIgJAAUfe9ZxHnS4CQADHrOrIms4gRpgwCI4GiEyB++9uI3D0hH+kwPA44YPXjJdYLdiY7vOMdq8/60IfWLqPOgvy0+ttMgJh8bMV6HnV+n7tsZF+mHZMJEM95ziCRYZ6jjvcjH7n68Sf5iJOPf3yeWtd+TV5z+WiRs89efV4+PiUf93Hzmw925MjrMx9Xko85yT9uhsciroHF92pUosm2Sd1B2RIgmjde9hrqfOBT59xld2urf8zbklYPgeYFjOfmjUutwbVRauS0u20BCRASIKpecxIg1pda1NxT1Xq8RRIgRhrT/C53ucFYn+eY9hlRljXr55N1TLYn23LBBeu3ZK2Yzqq7zrVTtR3Dlub5++0Xcfzxo7ZPllHlOpzWxmmvkwAhAWL9UbL4MyRASICYdVVZk1n8eFNivwWKToB497sjDjlk8QHMMo89dna5dRbkp5WyiMXvqjtAvPGNEQ972KgVO+wQ8ZjHLMbsWteKeNSjppe1pRIgnvSkiJe+dNSmpnaAeNrTVj8qZZttBjuR5OMwquw+kkk2d7/7qJ12gFjMNVlSKRIgSopWN9ta54OvOud2s7fltYp5eTHTYgKzBIxn14ZrwzVAYGMCEiAkQFS9gqourFZZAJ1Wpx0gRipVrccd53WvGv865y3i7zM7QNgBQgKEBIg67zuLOlcChASIWdeSBIhFjTLlEBgIFJ0AkQvIuZC86GO77SLOOCNip52ml1xSAsRxxw0e0zA8LnOZiAsvXL0bwaL9srwtlQBx5JERz3zmqEd77x3xve8tvof77BPx/e+Pys06/+EfqtfztrdFPPjBo/MlQFS3W5YzJUAsSyS3XD/qfOBT59wt16Plqpn5csVTb/otYDz3O/5r9d614dogUE1AAoQEiGpXSkTVRfl5F+IlQIwiUdV6PHbzuleNf53zFjEHS4CQACEBQgJEnfedRZ0rAUICxKxrSQLEokaZcggMBIpNgMgEhT33jLj00mZCmd/mP+yw6WWXlABxwgmDP2bHj+9+NyIX8Js8tlQCxL//e8Shh456ln9Q/PKXETvuuLjennlmxG67rS7vJz+J2GOP6nVkwkQmawwPCRDV7ZblTAkQyxLJLdePOh/41Dl3y/VouWpmvlzx1Jt+CxjP/Y7/Wr13bbg2CFQTkAAhAaLalSIBoorTouYeCRCbP15imv+spI9pfh6BsbmgR2CsfhTJtEd8DNUmrabZjV+Pa43h4VrA+KNE8mcnn7x5e/JRK/O8H1R5v5p1TpXroso587Zhms+8Zc3zOgkQEiBmXTcSIOYZUV5DYLZAsQkQRx8dccQRo47lpHjWWRH573mORz864nWvG71yrUcnlJQA8bvfReyyS8R554369opXRDzucfMoVX/NlkqA+OEPI/LRHOPHBz+4+nET1Xsx/cz//d+IG95w9Ludd444++x6pd7udhGf+czoNRIg6vktw9kSIJYhilu2D3U++Kpz7pbt1fLUznx5YqknBIxn18AsAdeGa4NANQEJEBIgql0p1Rfh5t2JwA4Qo0jMs+A5r3vV+Nc5bxFzsB0g7ABhBwg7QNR531nUuRIgJEDMupYkQCxqlCmHwECg2ASI618/4qSTRmE85JCIY4+dP6yf/GTEHe+4+vXf/nbEvvtuXmZJCRDZ+nwERj4KY3gceGBE7gyx1Vbze633yi2VAJHtymSC008ftTD7/4EPrNfi6r//whcibnnL0fm77jp4ZErV49RTBztw/OEPo1dIgKiqtzznSYBYnlhuqZ7U+cCnzrlbqj/LVi/zZYuo/vRZwHjuc/TX7rtrjmZ2RgAAIABJREFUw7VBoJqABAgJENWuFAkQVZwWNfdIgLADRF5vayW1TPvcqu5uAXW/xT9th4TJMqok4ky7vqe9TgKEBIgq77uLPkcChASIWdeUBIhFjzbl9V2gyASIr3414qCDVofuve+NuPe95w9nPkrjqleNyMcbDI+nPjXiqKM2L7O0BIj3vz/iXvda3Y+3vjXiQQ+a32u9V27JBIjnPz/iOc8ZtTD/qMjdFm51q/VaXe33p5wScb3rrS7/F7+IuOIVq73+wQ+OeNvbVp8rAaKa3TKdJQFimaK5ZfpS54OvOudumd4sX63Mly+metRfAeO5v7Ffr+eujfWE/J7AQEAChASIqmOh6qJ8lQXQaXXaAWKkUtV63HFe96rxr3PeIuZgO0BIgJAAIQGizvvOos6VACEBYta1JAFiUaNMOQQGAkUmQBx+eMQxx4xCePnLR/z85xGXvezGwjpZ7h57DHYS2Hrr1eWWlgCROw3c6EYR3/jGqB/5R/5nPzv4+TxHel/lKrNfuSUTIM45Z7ALxK9/PWpf/v/nPhex557z9Hb1ay6+eJDscOGFo5+/9KURT3zi+mVn4kMmQEweEiDWt1u2MyRALFtE2+9PnQ986pzbfk+Ws0bmyxlXveqngPHcz7hX6bVro4qScwhIgMhvL+e3pvOzpd//fnRF5ALI9tuvfh77WtfL5OLzeoklF1wwu7TJxZdhG8dfsd43qJt4D6y6KD/vQrwEiFGEq1qPXxPzujfxPriI608ChAQICRASIJp4f1qvTAkQEiBmXSMSINYbPX5PoJ5AcQkQv/1txO67R+Qi9/B44AM3/0Z9PYbB2ZkQcNvbrn7lhz8ccfDBq39WWgJEtv7zn4+4/e0jLrlk1Jf8Q/+Vr4w49NCInHjXO373u4h8VEi+JnfK+MpXZr9iSyZAZKte8YqIJzxhdfsy+eEd76i2E8T3vx/xkpdEPP7xEfvtt3k/73a3iLw2hkd+WJD/f5vbTDfJJJTXvjbisY+NyN1GJg8JEOtdfcv3ewkQyxfTtntU5wOfOue23Y9lrY/5skZWv/ooYDz3MerV+uzaqObkLALrLdRncsAyHbO2jZcAsX6Uqy7Kz7sQLwFiFIOq1uNRm9d9/cjXP2MRc7AECAkQEiAkQNR/99n4KyRASICYdRVJgNj4+FICgXGB4hIg3v3uiEMOWR3ED3wg4p733HhgMxN/r70ifvrTUVn3v3/EO9+5uuwSEyCyB697XcSjH7250z77RPzVX0Xc+tYR17rWYHeDTJQ499yIH/94sHNEJjt86EMRv/zl4PU3vnHE8cfPNt/SCRDZsrxO8nqZPO5yl4j73CfiFreI2HXXiMtcZtDXTHrIx6vk9fSlLw0m4q9/PeKGN9y8jEwEueMdV/98m20iHvnIiAc8YPCIjG23jTjjjEFizRveEPHlL4/Of+hDI974xtH/S4DY+PgtrYTcCSTH1/DIBJ1MoBl//8ldaB71qNU9y3E87Zzhz084IeL88yN22GEwTqeVUZqV9k4XmHUtTDu7zrm8FyPAfDGOSiHQBQHjuQtR6GYbXBvdjItWdU8gx8pxxw3uU7797Yj8csUuuwzuVfI+KB/RuUzHtHu97OPNbrb6sav5eUR+HpOft+SXffJImwMPHNzL5b1dHvnfeUze2w3fg973voif/GRwTt4H7rhjxAEHRPzqVwPzPIY7ZQ7Lyi9wjO+iOi0O43Ebln2Pe4zuUZt4Dxy/r/3Od0b9nmz/vPe5s+6b8/Ogca90HPa1iX5u5HpfVHsm45sG+VlgXhdnnTVoYe64m/+f11Q+dnhe9430d9ZrF+EwPlbzc5bckSU/n6vymUrW/6pXRZx33qCF+dliPq553vezWe8bs34+6TLpMX5NDz9Duu51R6+a9b4yXu6suofXTj5uOBPYhjvb5KJuJpXstltE1pV1ZDv23jti+D6V4yyPrbYafBkvX5uvyWO77SLudKfNPxsbljFsW5XrcL33r2FZs66jYd/TLt+f1xsD65UzrG/8s7/Jz+8m+7nW+1KWN17ntPkiz5n8/DA/o578LDKv2SwrHwWeuynn5+EZl7ymMx752fhwF+T8d/4uE/qG81Z+Hp6fgeeR/873zzwv/ztjP20Omuzb8IuuO+88OD/LuMIVBu/LORfkHJf1ZV3D6y3fn/LIn+V8etFFg/NzHs3/zn/nNZZfWhyeM3x8el5DQ59hHLINWX/++7TTBtd2Xqf5Rcb8d/Yn3w/zOs3/znLzOPvsQfm5FpD9Gv95vqcOy8zXDP/2SZ/cWXs4R68156x1/Q+v8zRKn4xZjr3x+Wv8fSrrTavx97nhtbnW3x3jf7/k/JCuw/eQLDP/yRilVfY5/53XUbrlPxmP4bgfXie5w7ZjcwEJEK4KAosVKC4B4u53HyzED4/8AyQfx5CTzyKO3DUgdw8YHvnH789+FrHTTqOflZoAkT14zWsGOyMM/0iZ16yEBIicXDMR49hj5+3l7ASILPERjxgkNtQ9/uZvIjKxJnfkGB4SIOoqOp8AAQIECBAgQIAAAQIECBAgQIAAAQIECBAgUL6ABIjyY6gH3RIoKgEiv02fmZLjjxB4yEMi3vzmxaF+4QsRt7zl6vL+5V8ictF6eJScAJF9+OIXBztBfOtb87llUshhh0W89KWzX9+FHSCydZlteNRREUceOcjcrHuceGLE/vtPf1UmkWQ/87EaVY7MeHzSkyJe/OLBrhASIKqoOYcAAQIECBAgQIAAAQIECBAgQIAAAQIECBAgsLwCEiCWN7Z6tmUEikqAeMlLIp7ylNVQH/xgRO4KsagjF8zz2/g/+tGoxNzmJx+JMDxKT4DIfmQ/81EPuSPE5z63fnJAbtGUC/b5+Ij73nf1jhjT7LuSADFsW+4ScvTRgy3XfvCDta+W3IIyH6mSOzzsu+/6V1ZuFfaCFwy25Jp25LZQuWXYs541Sq759KclQKwv6wwCBAgQIECAAAECBAgQIECAAAECBAgQIECAwHILSIBY7vjqXfsCRSVAtM/Tjxrz2UzHHz94vlU+tyqfl5W7POTjRfbaa/AMq6tdbfDMpmU48tlZ3/zm4JmGw+d0ZV+vda3Bbg9Xvep8vTzllIgvf3lQbj7HKsvMZ51lAs3wGWbzldz+q0y27ZurkQABAgQIECBAgAABAgQIECBAgAABAgQIEOifgDWZ/sVcj5sVkADRrK/SCRQpYLItMmwaTYAAAQIECBAgQIAAAQIECBAgQIAAAQIECBQmYE2msIBpbucFJEB0PkQaSKB9AZNt++ZqJECAAAECBAgQIECAAAECBAgQIECAAAECBPonYE2mfzHX42YFJEA066t0AkUKmGyLDJtGEyBAgAABAgQIECBAgAABAgQIECBAgAABAoUJWJMpLGCa23kBCRCdD5EGEmhfwGTbvrkaCRAgQIAAAQIECBAgQIAAAQIECBAgQIAAgf4JWJPpX8z1uFkBCRDN+iqdQJECJtsiw6bRBAgQIECAAAECBAgQIECAAAECBAgQIECAQGEC1mQKC5jmdl5AAkTnQ6SBBNoXMNm2b65GAgQIECBAgAABAgQIECBAgAABAgQIECBAoH8C1mT6F3M9blZAAkSzvkonUKSAybbIsGk0AQIECBAgQIAAAQIECBAgQIAAAQIECBAgUJiANZnCAqa5nReQANH5EGkggfYFTLbtm6uRAAECBAgQIECAAAECBAgQIECAAAECBAgQ6J+ANZn+xVyPmxWQANGsr9IJFClgsi0ybBpNgAABAgQIECBAgAABAgQIECBAgAABAgQIFCZgTaawgGlu5wUkQHQ+RBpIoH0Bk2375mokQIAAAQIECBAgQIAAAQIECBAgQIAAAQIE+idgTaZ/MdfjZgUkQDTrq3QCRQqYbIsMm0YTIECAAAECBAgQIECAAAECBAgQIECAAAEChQlYkyksYJrbeQEJEJ0PkQYSaF/AZNu+uRoJECBAgAABAgQIECBAgAABAgQIECBAgACB/glYk+lfzPW4WQEJEM36Kp1AkQIm2yLDptEECBAgQIAAAQIECBAgQIAAAQIECBAgQIBAYQLWZAoLmOZ2XkACROdDpIEE2hcw2bZvrkYCBAgQIECAAAECBAgQIECAAAECBAgQIECgfwLWZPoXcz1uVkACRLO+SidQpIDJtsiwaTQBAgQIECBAgAABAgQIECBAgAABAgQIECBQmIA1mcICprmdF5AA0fkQaSCB9gVMtu2bq5EAAQIECBAgQIAAAQIECBAgQIAAAQIECBDon4A1mf7FXI+bFZAA0ayv0gkUKWCyLTJsGk2AAAECBAgQIECAAAECBAgQIECAAAECBAgUJmBNprCAaW7nBSRAdD5EGkigfQGTbfvmaiRAgAABAgQIECBAgAABAgQIECBAgAABAgT6J2BNpn8x1+NmBSRANOurdAJFCphsiwybRhMgQIAAAQIECBAgQIAAAQIECBAgQIAAAQKFCViTKSxgmtt5AQkQnQ+RBhJoX8Bk2765GgkQIECAAAECBAgQIECAAAECBAgQIECAAIH+CViT6V/M9bhZAQkQzfoqnUCRAibbIsOm0QQIECBAgAABAgQIECBAgAABAgQIECBAgEBhAtZkCguY5nZeQAJE50OkgQTaFzDZtm+uRgIECBAgQIAAAQIECBAgQIAAAQIECBAgQKB/AtZk+hdzPW5WQAJEs75KJ1CkgMm2yLBpNAECBAgQIECAAAECBAgQIECAAAECBAgQIFCYgDWZwgKmuZ0XkADR+RBpIIH2BUy27ZurkQABAgQIECBAgAABAgQIECBAgAABAgQIEOifgDWZ/sVcj5sVkADRrK/SCRQpYLItMmwaTYAAAQIECBAgQIAAAQIECBAgQIAAAQIECBQmYE2msIBpbucFJEB0PkQaSKB9AZNt++ZqJECAAAECBAgQIECAAAECBAgQIECAAAECBPonYE2mfzHX42YFJEA066t0AkUKmGyLDJtGEyBAgAABAgQIECBAgAABAgQIECBAgAABAoUJWJMpLGCa23kBCRCdD5EGEmhfwGTbvrkaCRAgQIAAAQIECBAgQIAAAQIECBAgQIAAgf4JWJPpX8z1uFkBCRDN+iqdQJECJtsiw6bRBAgQIECAAAECBAgQIECAAAECBAgQIECAQGEC1mQKC5jmdl5AAkTnQ6SBBNoXMNm2b65GAgQIECBAgAABAgQIECBAgAABAgQIECBAoH8C1mT6F3M9blZAAkSzvkonUKSAybbIsGk0AQIECBAgQIAAAQIECBAgQIAAAQIECBAgUJiANZnCAqa5nReQANH5EGkggfYFTLbtm6uRAAECBAgQIECAAAECBAgQIECAAAECBAgQ6J+ANZn+xVyPmxWQANGsr9IJFClgsi0ybBpNgAABAgQIECBAgAABAgQIECBAgAABAgQIFCZgTaawgGlu5wUkQHQ+RBpIoH0Bk2375mokQIAAAQIECBAgQIAAAQIECBAgQIAAAQIE+idgTaZ/MdfjZgUkQDTrq3QCRQqYbIsMm0YTIECAAAECBAgQIECAAAECBAgQIECAAAEChQlYkyksYJrbeQEJEJ0PkQYSaF/AZNu+uRoJECBAgAABAgQIECBAgAABAgQIECBAgACB/glYk+lfzPW4WQEJEM36Kp1AkQIm2yLDptEECBAgQIAAAQIECBAgQIAAAQIECBAgQIBAYQLWZAoLmOZ2XkACROdDpIEE2hcw2bZvrkYCBAgQIECAAAECBAgQIECAAAECBAgQIECgfwLWZPoXcz1uVkACRLO+SidQpIDJtsiwaTQBAgQIECBAgAABAgQIECBAgAABAgQIECBQmIA1mcICprmdF5AA0fkQaSCB9gVMtu2bq5EAAQIECBAgQIAAAQIECBAgQIAAAQIECBDon4A1mf7FXI+bFZAA0ayv0gkUKWCyLTJsGk2AAAECBAgQIECAAAECBAgQIECAAAECBAgUJmBNprCAaW7nBSRAdD5EGkigfQGTbfvmaiRAgAABAgQIECBAgAABAgQIECBAgAABAgT6J2BNpn8x1+NmBSRANOurdAJFCphsiwybRhMgQIAAAQIECBAgQIAAAQIECBAgQIAAAQKFCViTKSxgmtt5AQkQnQ+RBhJoX8Bk2765GgkQIECAAAECBAgQIECAAAECBAgQIECAAIH+CViT6V/M9bhZAQkQzfoqnUCRAibbIsOm0QQIECBAgAABAgQIECBAgAABAgQIECBAgEBhAtZkCguY5nZeQAJE50OkgQTaFzDZtm+uRgIECBAgQIAAAQIECBAgQIAAAQIECBAgQKB/AtZk+hdzPW5WQAJEs75KJ1CkgMm2yLBpNAECBAgQIECAAAECBAgQIECAAAECBAgQIFCYgDWZwgKmuZ0XkADR+RBpIIH2BUy27ZurkQABAgQIECBAgAABAgQIECBAgAABAgQIEOifgDWZ/sVcj5sVkADRrK/SCRQpYLItMmwaTYAAAQIECBAgQIAAAQIECBAgQIAAAQIECBQmYE2msIBpbucFJEB0PkQaSKB9AZNt++ZqJECAAAECBAgQIECAAAECBAgQIECAAAECBPonYE2mfzHX42YFJEA066t0AkUKmGyLDJtGEyBAgAABAgQIECBAgAABAgQIECBAgAABAoUJWJMpLGCa23kBCRCdD5EGEmhfwGTbvrkaCRAgQIAAAQIECBAgQIAAAQIECBAgQIAAgf4JWJPpX8z1uFkBCRDN+iqdQJECJtsiw6bRBAgQIECAAAECBAgQIECAAAECBAgQIECAQGEC1mQKC5jmdl5AAkTnQ6SBBNoXMNm2b65GAgQIECBAgAABAgQIECBAgAABAgQIECBAoH8C1mT6F3M9blZAAkSzvkonUKSAybbIsGk0AQIECBAgQIAAAQIECBAgQIAAAQIECBAgUJiANZnCAqa5nReQANH5EGkggfYFTLbtm6uRAAECBAgQIECAAAECBAgQIECAAAECBAgQ6J+ANZn+xVyPmxWQANGsr9IJFClgsi0ybBpNgAABAgQIECBAgAABAgQIECBAgAABAgQIFCZgTaawgGlu5wUkQHQ+RBpIoH0Bk2375mokQIAAAQIECBAgQIAAAQIECBAgQIAAAQIE+idgTaZ/MdfjZgUkQDTrq3QCRQqYbIsMm0YTIECAAAECBAgQIECAAAECBAgQIECAAAEChQlYkyksYJrbeQEJEJ0PkQYSaF/AZNu+uRoJECBAgAABAgQIECBAgAABAgQIECBAgACB/glYk+lfzPW4WQEJEM36Kp1AkQIm2yLDptEECBAgQIAAAQIECBAgQIAAAQIECBAgQIBAYQLWZAoLmOZ2XkACROdDpIEE2hcw2bZvrkYCBAgQIECAAAECBAgQIECAAAECBAgQIECgfwLWZPoXcz1uVkACRLO+SidQpIDJtsiwaTQBAgQIECBAgAABAgQIECBAgAABAgQIECBQmIA1mcICprmdF5AA0fkQaSCB9gVMtu2bq5EAAQIECBAgQIAAAQIECBAgQIAAAQIECBDon4A1mf7FXI+bFZAA0ayv0gkUKWCyLTJsGk2AAAECBAgQIECAAAECBAgQIECAAAECBAgUJmBNprCAaW7nBSRAdD5EGkigfQGTbfvmaiRAgAABAgQIECBAgAABAgQIECBAgAABAgT6J2BNpn8x1+NmBSRANOurdAJFCphsiwybRhMgQIAAAQIECBAgQIAAAQIECBAgQIAAAQKFCViTKSxgmtt5AQkQnQ+RBhJoX8Bk2765GgkQIECAAAECBAgQIECAAAECBAgQIECAAIH+CViT6V/M9bhZAQkQzfoqnUCRAibbIsOm0QQIECBAgAABAgQIECBAgAABAgQIECBAgEBhAtZkCguY5nZeQAJE50OkgQTaFzDZtm+uRgIECBAgQIAAAQIECBAgQIAAAQIECBAgQKB/AtZk+hdzPW5WQAJEs75KJ1CkgMm2yLBpNAECBAgQIECAAAECBAgQIECAAAECBAgQIFCYgDWZwgKmuZ0XkADR+RBpIIH2BUy27ZurkQABAgQIECBAgAABAgQIECBAgAABAgQIEOifgDWZ/sVcj5sVkADRrK/SCRQpYLItMmwaTYAAAQIECBAgQIAAAQIECBAgQIAAAQIECBQmYE2msIBpbucFJEB0PkQaSKB9AZNt++ZqJECAAAECBAgQIECAAAECBAgQIECAAAECBPonYE2mfzHX42YFJEA066t0AkUKmGyLDJtGEyBAgAABAgQIECBAgAABAgQIECBAgAABAoUJWJMpLGCa23kBCRCdD5EGEmhfwGTbvrkaCRAgQIAAAQIECBAgQIAAAQIECBAgQIAAgf4JWJPpX8z1uFkBCRDN+iqdQJECJtsiw6bRBAgQIECAAAECBAgQIECAAAECBAgQIECAQGEC1mQKC5jmdl5AAkTnQ6SBBNoXMNm2b65GAgQIECBAgAABAgQIECBAgAABAgQIECBAoH8C1mT6F3M9blZAAkSzvkonUKSAybbIsGk0AQIECBAgQIAAAQIECBAgQIAAAQIECBAgUJiANZnCAqa5nReQANH5EGkggfYFTLbtm6uRAAECBAgQIECAAAECBAgQIECAAAECBAgQ6J+ANZn+xVyPmxWQANGsr9IJFClgsi0ybBpNgAABAgQIECBAgAABAgQIECBAgAABAgQIFCZgTaawgGlu5wUkQHQ+RBpIoH0Bk2375mokQIAAAQIECBAgQIAAAQIECBAgQIAAAQIE+idgTaZ/MdfjZgUkQDTrq3QCRQqYbIsMm0YTIECAAAECBAgQIECAAAECBAgQIECAAAEChQlYkyksYJrbeQEJEJ0PkQYSaF/AZNu+uRoJECBAgAABAgQIECBAgAABAgQIECBAgACB/glYk+lfzPW4WQEJEM36Kp1AkQIm2yLDptEECBAgQIAAAQIECBAgQIAAAQIECBAgQIBAYQLWZAoLmOZ2XkACROdDpIEE2hcw2bZvrkYCBAgQIECAAAECBAgQIECAAAECBAgQIECgfwLWZPoXcz1uVkACRLO+SidQpIDJtsiwaTQBAgQIECBAgAABAgQIECBAgAABAgQIECBQmIA1mcICprmdF5AA0fkQaSCB9gVMtu2bq5EAAQIECBAgQIAAAQIECBAgQIAAAQIECBDon4A1mf7FXI+bFZAA0ayv0gkUKWCyLTJsGk2AAAECBAgQIECAAAECBAgQIECAAAECBAgUJmBNprCAaW7nBSRAdD5EGkigfQGTbfvmaiRAgAABAgQIECBAgAABAgQIECBAgAABAgT6J2BNpn8x1+NmBSRANOurdAJFCphsiwybRhMgQIAAAQIECBAgQIAAAQIECBAgQIAAAQKFCViTKSxgmtt5AQkQnQ+RBhJoX8Bk2765GgkQIECAAAECBAgQIECAAAECBAgQIECAAIH+CViT6V/M9bhZAQkQzfoqnUCRAibbIsOm0QQIECBAgAABAgQIECBAgAABAgQIECBAgEBhAtZkCguY5nZeQAJE50OkgQTaFzDZtm+uRgIECBAgQIAAAQIECBAgQIAAAQIECBAgQKB/AtZk+hdzPW5WQAJEs75KJ1CkgMm2yLBpNAECBAgQIECAAAECBAgQIECAAAECBAgQIFCYgDWZwgKmuZ0XkADR+RBpIIH2BUy27ZurkQABAgQIECBAgAABAgQIECBAgAABAgQIEOifgDWZ/sVcj5sVkADRrK/SCRQpYLItMmwaTYAAAQIECBAgQIAAAQIECBAgQIAAAQIECBQmYE2msIBpbucFJEB0PkQaSKB9AZNt++ZqJECAAAECBAgQIECAAAECBAgQIECAAAECBPonYE2mfzHX42YFJEA066t0AkUKmGyLDJtGEyBAgAABAgQIECBAgAABAgQIECBAgAABAoUJWJMpLGCa23kBCRCdD5EGEmhfwGTbvrkaCRAgQIAAAQIECBAgQIAAAQIECBAgQIAAgf4JWJPpX8z1uFkBCRDN+iqdQJECJtsiw6bRBAgQIECAAAECBAgQIECAAAECBAgQIECAQGEC1mQKC5jmdl5AAkTnQ6SBBNoXMNm2b65GAgQIECBAgAABAgQIECBAgAABAgQIECBAoH8C1mT6F3M9blZAAkSzvkonUKSAybbIsGk0AQIECBAgQIAAAQIECBAgQIAAAQIECBAgUJiANZnCAqa5nReQANH5EGkggfYFTLbtm6uRAAECBAgQIECAAAECBAgQIECAAAECBAgQ6J+ANZn+xVyPmxWQANGsr9IJFClgsi0ybBpNgAABAgQIECBAgAABAgQIECBAgAABAgQIFCZgTaawgGlu5wUkQHQ+RBpIoH0Bk2375mokQIAAAQIECBAgQIAAAQIECBAgQIAAAQIE+idgTaZ/MdfjZgUkQDTrq3QCRQqYbIsMm0YTIECAAAECBAgQIECAAAECBAgQIECAAAEChQlYkyksYJrbeQEJEJ0PkQYSaF/AZNu+uRoJECBAgAABAgQIECBAgAABAgQIECBAgACB/glYk+lfzPW4WQEJEM36Kp1AkQIm2yLDptEECBAgQIAAAQIECBAgQIAAAQIECBAgQIBAYQLWZAoLmOZ2XkACROdDpIEE2hcw2bZvrkYCBAgQIECAAAECBAgQIECAAAECBAgQIECgfwLWZPoXcz1uVkACRLO+SidQpIDJtsiwaTQBAgQIECBAgAABAgQIECBAgAABAgQIECBQmIA1mcICprmdF5AA0fkQaSCB9gVMtu2bq5EAAQIECBAgQIAAAQIECBAgQIAAAQIECBDon4A1mf7FXI+bFZAA0ayv0gkUKWCyLTJsGk2AAAECBAgQIECAAAECBAgQIECAAAECBAgUJmBNprCAaW7nBSRAdD5EGkigfQGTbfvmaiRAgAABAgQIECBAgAABAgQIECBAgAABAgT6J2BNpn8x1+NmBSRANOsI0ET+AAAgAElEQVSrdAJFCphsiwybRhMgQIAAAQIECBAgQIAAAQIECBAgQIAAAQKFCViTKSxgmtt5AQkQnQ+RBhJoX8Bk2765GgkQIECAAAECBAgQIECAAAECBAgQIECAAIH+CViT6V/M9bhZAQkQzfoqnUCRAibbIsOm0QQIECBAgAABAgQIECBAgAABAgQIECBAgEBhAtZkCguY5nZeQAJE50OkgQTaFzDZtm+uRgIECBAgQIAAAQIECBAgQIAAAQIECBAgQKB/AtZk+hdzPW5WQAJEs75KJ1CkgMm2yLBpNAECBAgQIECAAAECBAgQIECAAAECBAgQIFCYgDWZwgKmuZ0XkADR+RBpIIH2BUy27ZurkQABAgQIECBAgAABAgQIECBAgAABAgQIEOifgDWZ/sVcj5sVkADRrK/SCRQpYLItMmwaTYAAAQIECBAgQIAAAQIECBAgQIAAAQIECBQmYE2msIBpbucFJEB0PkQaSKB9AZNt++ZqJECAAAECBAgQIECAAAECBAgQIECAAAECBPonYE2mfzHX42YFJEA066t0AkUKmGyLDJtGEyBAgAABAgQIECBAgAABAgQIECBAgAABAoUJWJMpLGCa23kBCRCdD5EGEmhfwGTbvrkaCRAgQIAAAQIECBAgQIAAAQIECBAgQIAAgf4JWJPpX8z1uFkBCRDN+iqdQJECJtsiw6bRBAgQIECAAAECBAgQIECAAAECBAgQIECAQGEC1mQKC5jmdl5AAkTnQ6SBBNoXMNm2b65GAgQIECBAgAABAgQIECBAgAABAgQIECBAoH8C1mT6F3M9blZAAkSzvkonUKSAybbIsGk0AQIECBAgQIAAAQIECBAgQIAAAQIECBAgUJiANZnCAqa5nReQANH5EGkggfYFTLbtm6uRAAECBAgQIECAAAECBAgQIECAAAECBAgQ6J+ANZn+xVyPmxWQANGsr9IJFClgsi0ybBpNgAABAgQIECBAgAABAgQIECBAgAABAgQIFCZgTaawgGlu5wUkQHQ+RBpIoH0Bk2375mokQIAAAQIECBAgQIAAAQIECBAgQIAAAQIE+idgTaZ/MdfjZgUkQDTrq3QCRQqYbIsMm0YTIECAAAECBAgQIECAAAECBAgQIECAAAEChQlYkyksYJrbeQEJEJ0PkQYSaF/AZNu+uRoJECBAgAABAgQIECBAgAABAgQIECBAgACB/glYk+lfzPW4WQEJEM36Kp1AkQIm2yLDptEECBAgQIAAAQIECBAgQIAAAQIECBAgQIBAYQLWZAoLmOZ2XkACROdDpIEE2hcw2bZvrkYCBAgQIECAAAECBAgQIECAAAECBAgQIECgfwLWZPoXcz1uVkACRLO+SidQpIDJtsiwaTQBAgQIECBAgAABAgQIECBAgAABAgQIECBQmIA1mcICprmdF5AA0fkQaSCB9gVMtu2bq5EAAQIECBAgQIAAAQIECBAgQIAAAQIECBDon4A1mf7FXI+bFZAA0ayv0gkUKWCyLTJsGk2AAAECBAgQIECAAAECBAgQIECAAAECBAgUJmBNprCAaW7nBSRAdD5EGkigfQGTbfvmaiRAgAABAgQIECBAgAABAgQIECBAgAABAgT6J2BNpn8x1+NmBSRANOurdAJFCphsiwybRhMgQIAAAQIECBAgQIAAAQIECBAgQIAAAQKFCViTKSxgmtt5AQkQnQ+RBhJoX8Bk2765GgkQIECAAAECBAgQIECAAAECBAgQIECAAIH+CViT6V/M9bhZAQkQzfoqnUCRAibbIsOm0QQIECBAgAABAgQIECBAgAABAgQIECBAgEBhAtZkCguY5nZeQAJE50OkgQTaFzDZtm+uRgIECBAgQIAAAQIECBAgQIAAAQIECBAgQKB/AtZk+hdzPW5WQAJEs75KJ1CkgMm2yLBpNAECBAgQIECAAAECBAgQIECAAAECBAgQIFCYgDWZwgKmuZ0XkADR+RBpIIH2BUy27ZurkQABAgQIECBAgAABAgQIECBAgAABAgQIEOifgDWZ/sVcj5sVkADRrK/SCRQpYLItMmwaTYAAAQIECBAgQIAAAQIECBAgQIAAAQIECBQmYE2msIBpbucFJEB0PkQaSKB9AZNt++ZqJECAAAECBAgQIECAAAECBAgQIECAAAECBPonYE2mfzHX42YFJEA066t0AkUKmGyLDJtGEyBAgAABAgQIECBAgAABAgQIECBAgAABAoUJWJMpLGCa23kBCRCdD5EGEmhfwGTbvrkaCRAgQIAAAQIECBAgQIAAAQIECBAgQIAAgf4JWJPpX8z1uFkBCRDN+iqdQJECJtsiw6bRBAgQIECAAAECBAgQIECAAAECBAgQIECAQGEC1mQKC5jmdl5AAkTnQ6SBBNoXMNm2b65GAgQIECBAgAABAgQIECBAgAABAgQIECBAoH8C1mT6F3M9blZAAkSzvkonUKSAybbIsGk0AQIECBAgQIAAAQIECBAgQIAAAQIECBAgUJiANZnCAqa5nReQANH5EGkggfYFTLbtm6uRAAECBAgQIECAAAECBAgQIECAAAECBAgQ6J+ANZn+xVyPmxWQANGsr9IJFClgsi0ybBpNgAABAgQIECBAgAABAgQIECBAgAABAgQIFCZgTaawgGlu5wUkQHQ+RBpIoH0Bk2375mokQIAAAQIECBAgQIAAAQIECBAgQIAAAQIE+idgTaZ/MdfjZgUkQDTrq3QCRQqYbIsMm0YTIECAAAECBAgQIECAAAECBAgQIECAAAEChQlYkyksYJrbeQEJEJ0PkQYSaF/AZNu+uRoJECBAgAABAgQIECBAgAABAgQIECBAgACB/glYk+lfzPW4WQEJEM36Kp1AkQIm2yLDptEECBAgQIAAAQIECBAgQIAAAQIECBAgQIBAYQLWZAoLmOZ2XkACROdDpIEE2hcw2bZvrkYCBAgQIECAAAECBAgQIECAAAECBAgQIECgfwLWZPoXcz1uVkACRLO+SidQpIDJtsiwaTQBAgQIECBAgAABAgQIECBAgAABAgQIECBQmIA1mcICprmdF5AA0fkQaSCB9gVMtu2bq5EAAQIECBAgQIAAAQIECBAgQIAAAQIECBDon4A1mf7FXI+bFZAA0ayv0gkUKWCyLTJsGk2AAAECBAgQIECAAAECBAgQIECAAAECBAgUJmBNprCAaW7nBSRAdD5EGkigfQGTbfvmaiRAgAABAgQIECBAgAABAgQIECBAgAABAgT6J2BNpn8x1+NmBSRANOurdAJFCphsiwybRhMgQIAAAQIECBAgQIAAAQIECBAgQIAAAQKFCViTKSxgmtt5AQkQnQ+RBhJoX8Bk2765GgkQIECAAAECBAgQIECAAAECBAgQIECAAIH+CViT6V/M9bhZAQkQzfoqnUCRAibbIsOm0QQIECBAgAABAgQIECBAgAABAgQIECBAgEBhAtZkCguY5nZeQAJE50OkgQTaFzDZtm+uRgIECBAgQIAAAQIECBAgQIAAAQIECBAgQKB/AtZk+hdzPW5WQAJEs75KJ1CkgMm2yLBpNAECBAgQIECAAAECBAgQIECAAAECBAgQIFCYgDWZwgKmuZ0XkADR+RBpIIH2BUy27ZurkQABAgQIECBAgAABAgQIECBAgAABAgQIEOifgDWZ/sVcj5sVkADRrK/SCRQpYLItMmwaTYAAAQIECBAgQIAAAQIECBAgQIAAAQIECBQmYE2msIBpbucFJEB0PkQaSKB9AZNt++ZqJECAAAECBAgQIECAAAECBAgQIECAAAECBPonYE2mfzHX42YFJEA066t0AkUKmGyLDJtGEyBAgAABAgQIECBAgAABAgQIECBAgAABAoUJWJMpLGCa23kBCRCdD5EGEmhfwGTbvrkaCRAgQIAAAQIECBAgQIAAAQIECBAgQIAAgf4JWJPpX8z1uFkBCRDN+iqdQJECJtsiw6bRBAgQIECAAAECBAgQIECAAAECBAgQIECAQGEC1mQKC5jmdl5AAkTnQ6SBBNoXMNm2b65GAgQIECBAgAABAgQIECBAgAABAgQIECBAoH8C1mT6F3M9blZAAkSzvkonUKSAybbIsGk0AQIECBAgQIAAAQIECBAgQIAAAQIECBAgUJiANZnCAqa5nReQANH5EGkggfYFTLbtm6uRAAECBAgQIECAAAECBAgQIECAAAECBAgQ6J+ANZn+xVyPmxWQANGsr9IJFClgsi0ybBpNgAABAgQIECBAgAABAgQIECBAgAABAgQIFCZgTaawgGlu5wUkQHQ+RBpIoH0Bk2375mokQIAAAQIECBAgQIAAAQIECBAgQIAAAQIE+idgTaZ/MdfjZgUkQDTrq3QCRQqYbIsMm0YTIECAAAECBAgQIECAAAECBAgQIECAAAEChQlYkyksYJrbeQEJEJ0PkQYSaF/AZNu+uRoJECBAgAABAgQIECBAgAABAgQIECBAgACB/glYk+lfzPW4WQEJEM36Kp1AkQIm2yLDptEECBAgQIAAAQIECBAgQIAAAQIECBAgQIBAYQLWZAoLmOZ2XkACROdDpIEE2hcw2bZvrkYCBAgQIECAAAECBAgQIECAAAECBAgQIECgfwLWZPoXcz1uVkACRLO+SidQpIDJtsiwaTQBAgQIECBAgAABAgQIECBAgAABAgQIECBQmIA1mcICprmdF5AA0fkQaSCB9gV22GGH+PWvf71S8XbbbRfXvva122+EGgkQIECAAAECBAgQIECAAAECBAgQIECAAAECSy5w6qmnxsUXX7zSy8tf/vJx/vnnL3mPdY9AswISIJr1VTqBIgW23377TZNtkR3QaAIECBAgQIAAAQIECBAgQIAAAQIECBAgQIBAYQL5pdSLLrqosFZrLoFuCUiA6FY8tIZAJwQkQHQiDBpBgAABAgQIECBAgAABAgQIECBAgAABAgQI9EhAAkSPgq2rjQlIgGiMVsEEyhXYbbfd4txzz13pwLbbbhtXu9rVyu1MQy0f35LKY0IaQlZskQLGRpFh0+iGBYyLhoEVX6yAsVFs6DS8YQFjo2FgxRcrYGwUGzoNb1jA2GgYWPHFChgbxYaulw0//fTT45JLLlnp+0477RRnnHFGLx10msCiBCRALEpSOQQI9Epg//33j5NPPnmlz/vtt1+cdNJJveq/zhKYJWBsuDYIbC5gXLgqCEwXMDZcGQSMDdcAgToC5o06Ws7tk4Cx0ado62sdAWOjjpZzCRAgsFwCEiCWK556Q4BASwL+gG4JWjXFCRgbxYVMg1sQMC5aQFZFkQLGRpFh0+gWBIyNFpBVUaSAsVFk2DS6BQFjowVkVRQpYGwUGTaNJkCAwEIEJEAshFEhBAj0TcAf0H2LuP5WFTA2qko5r08CxkWfoq2vdQSMjTpazu2TgLHRp2jrax0BY6OOlnP7JGBs9Cna+lpHwNioo+VcAgQILJeABIjliqfeECDQkoA/oFuCVk1xAsZGcSHT4BYEjIsWkFVRpICxUWTYNLoFAWOjBWRVFClgbBQZNo1uQcDYaAFZFUUKGBtFhk2jCRAgsBABCRALYVQIAQJ9E/AHdN8irr9VBYyNqlLO65OAcdGnaOtrHQFjo46Wc/skYGz0Kdr6WkfA2Kij5dw+CRgbfYq2vtYRMDbqaDmXAAECyyUgAWK54qk3BAi0JOAP6JagVVOcgLFRXMg0uAUB46IFZFUUKWBsFBk2jW5BwNhoAVkVRQoYG0WGTaNbEDA2WkBWRZECxkaRYdNoAgQILERAAsRCGBVCgEDfBPwB3beI629VAWOjqpTz+iRgXPQp2vpaR8DYqKPl3D4JGBt9ira+1hEwNupoObdPAsZGn6Ktr3UEjI06Ws4lQIDAcglIgFiueOoNAQItCfgDuiVo1RQnYGwUFzINbkHAuGgBWRVFChgbRYZNo1sQMDZaQFZFkQLGRpFh0+gWBIyNFpBVUaSAsVFk2DSaAAECCxGQALEQRoUQINA3AX9A9y3i+ltVwNioKuW8PgkYF32Ktr7WETA26mg5t08Cxkafoq2vdQSMjTpazu2TgLHRp2jrax0BY6OOlnMJECCwXAISIJYrnnpDgEBLAv6AbglaNcUJGBvFhUyDWxAwLlpAVkWRAsZGkWHT6BYEjI0WkFVRpICxUWTYNLoFAWOjBWRVFClgbBQZNo0mQIDAQgQkQCyEUSEECPRNwB/QfYu4/lYVMDaqSjmvTwLGRZ+ira91BIyNOlrO7ZOAsdGnaOtrHQFjo46Wc/skYGz0Kdr6WkfA2Kij5VwCBAgsl4AEiOWKp94QINCSgD+gW4JWTXECxkZxIdPgFgSMixaQVVGkgLFRZNg0ugUBY6MFZFUUKWBsFBk2jW5BwNhoAVkVRQoYG0WGTaMJECCwEAEJEAthVAgBAn0T8Ad03yKuv1UFjI2qUs7rk4Bx0ado62sdAWOjjpZz+yRgbPQp2vpaR8DYqKPl3D4JGBt9ira+1hEwNupoOZcAAQLLJSABYrniqTcECLQk4A/olqBVU5yAsVFcyDS4BQHjogVkVRQpYGwUGTaNbkHA2GgBWRVFChgbRYZNo1sQMDZaQFZFkQLGRpFh02gCBAgsREACxEIYFUKAAAECBAgQIECAAAECBAgQIECAAAECBAgQIECAAAECBAhsSQEJEFtSX90ECBAgQIAAAQIECBAgQIAAAQIECBAgQIAAAQIECBAgQIDAQgQkQCyEUSEECBAgQIAAAQIECBAgQIAAAQIECBAgQIAAAQIECBAgQIDAlhSQALEl9dVNgAABAgQIECBAgAABAgQIECBAgAABAgQIECBAgAABAgQILERAAsRCGBVCgAABAgQIECBAgAABAgQIECBAgAABAgQIECBAgAABAgQIbEkBCRBbUl/dBAgQIECAAAECBAgQIECAAAECBAgQIECAAAECBAgQIECAwEIEJEAshFEhBAgQIECAAAECBAgQIECAAAECBAgQIECAAAECBAgQIECAwJYUkACxJfXVTYAAAQIECBAgQIAAAQIECBAgQIAAAQIECBAgQIAAAQIECCxEQALEQhgVQoAAAQIECBAgQIAAAQIECBAgQIAAAQIECBAgQIAAAQIECGxJAQkQW1Jf3QQIECBAgAABAgQIECBAgAABAgQIECBAgAABAgQIECBAgMBCBCRALIRRIQQIECBAgAABAgQIECBAgAABAgQIECBAgAABAgQIECBAgMCWFJAAsSX11U2AAAECBAgQIECAAAECBAgQIECAAAECBAgQIECAAAECBAgsREACxEIYFUKAAAECBAgQIECAAAECBAgQIECAAAECBAgQIECAAAECBAhsSQEJEFtSX90ECBAgQIAAAQIECBAgQIAAAQIECBAgQIAAAQIECBAgQIDAQgQkQCyEUSEECBAgQIAAAQIECBAgQIAAAQIECBAgQIAAAQIECBAgQIDAlhSQALEl9dVNgEBxAj/72c/iy1/+cvzwhz+M3/zmN3HZy142rna1q8VNbnKTuOY1r1lcfzS4OYEf//jHceKJJ8bpp58ev/zlL1cquuIVrxi77bZb3PSmN43dd9+9kcp//etfxxe/+MX47ne/G+eee25su+22seuuu8YBBxwQN7zhDWOrrbZaeL0XX3xxfOlLX4pTTjklzjnnnJU6rnzlK8f++++/0tett9564XX+7ne/i+OPP37F+Be/+EX84Q9/iJ133jn23Xff+NM//dPYbrvtFl5n1vGNb3wjvvnNb8aZZ54Zl1xySey0005xnetcJ25+85vH5S9/+YXXqcDFCeS1mWPj1FNPjfPPP3/lGtljjz3iwAMPjOtd73qLq2isJOOxufHYSMA6VuivfvWrlfe573//+yvzyO9///uV95m99tor9tlnn9hvv/3ij/7ojzbcamNjueaqDV8QHS0g59ycf08++eSV8ZDv45e73OVW5uEcDze60Y1W/n+Rh7FhbCzyeupiWa7x5brG3atsfJT9/Oc/j29961srn/fkXJP3nHkPn/e2N77xjeMa17jGxiuZUYJ76mbvqb/97W/H1772tcjP9NJ6hx12iGtf+9or9/H5OYKjuwLuqZu7pzZvdPe61zICBBYjIAFiMY5KIUBgyQWOO+64ePGLXxxf+MIXVhZapx1/8id/En/3d38Xf/VXf9XIIvOSExffvVwQ/8///M/4xCc+EZ/61KciPzxZ68ib7Yc//OHxqEc9KnbZZZcN9z8/qHnBC14Q73//++O3v/3t1PJysffRj350POlJT4o//uM/3nCdp512Whx55JHxjne8YyUhaNqRHxg99KEPjac//elxpStdacN1nnXWWXHUUUfFG9/4xk2JJZOFZt8e8IAHxN///d8v5EOqvOF+6UtfGq95zWtWPjCZdlzmMpeJv/iLv4hnPvOZcYMb3GDD/exjAZ/85Cfjjne842Zdv+1tbxuf/vSn5yb53Oc+t3KdfuxjH4tLL710ajl77713PO5xj4vDDjtsJWloo4fxOBJc9HjcaGy6/vr8G+Pd7373yvvNZz/72ZnXbPYjkyFuectbxt3vfveVuaRu4pexMboalmGu6vq1PW/7chwcc8wx8YEPfCAuuuiimcVksuXtb3/7lbFw3/ved0N/ixsbxsa812vd15199tkriW5f/epX4ytf+crKv88444xVxTznOc+J5z73uXWLXvN81/hyXePLeK/S1tjILwz813/9V3z84x9fuY//0Y9+tObYyfvphzzkIXH44YfHnnvuuZBx6Z56xLjoe+pMnvyXf/mXeMUrXrGSBD/tyL8f7nznO8cznvGMuNWtbrWQmDZZSFtjo2of8ksw+Vno5GdQV7/61SOv7Y0c7qmbu6dexnljI9ea1xIgsLwCEiCWN7Z6RoDAAgTyj8K//uu/jve+972VS8vFumOPPXblW/eO5RfIDy2POOKI+MxnPrPy7dy6x4477rhyQ37ooYfWfenK+blYlou7z3ve81a+oVLlyF1LcoHtoIMOqnL61HPe8IY3rCwYX3jhhZXKyG9VvOUtb4m73e1ulc6fdlJ+OJUfOOW31aoc+U3QV77ylfGwhz2syulTz8kdX+53v/ut+2HY8MXbbLPNyofUmXzhqC6Qi1qZOJLfdJ885k2AyA+8nvjEJ8arX/3qyg3JNuT7fX6beJ7DeJyttojxOE9MSnpNfrs9/+b4+te/XrvZ+YF91Q/ijY3ZvKXOVbUvmAJekN+8fexjHxtvf/vba7c2E4MyUbLue7mxYWzUvtjmeEEm1WaiQ/4za0FuvNhFJkC4xpfvGl+me5U2x8YPfvCDeMITnhD//d//PfPLA2sN71yozy8f5BcLNrIbl3vq6cqLuKf+3ve+F/e+971XdoyseuTfHXkdLiIhvmqdVc5rc2xUac/wnLz3zXv1//mf/9nsZRtJgHBP3ew99TLNG3WuV+cSINBPAQkQ/Yy7XhMgUEEgkx/+7M/+bOWRF3WP/DZx3gTk4w4cyy2Q39LNb41v9MhvkbzqVa+qXUy+Lr8ZWffIx7d85CMfidvc5jZ1XxpHH330StJH3SM/HMqFjPvf//51XxrvfOc740EPetBcSSbZ3ic/+cm168xvnR588MGVkzzGK5g3nrUbuSQvyB1CcmePacc8CRCZDJTfAM5vDNc9covbTGia57EYxuP62vOOx/VLLvuMTErLHaRyS955jqoJEMbG+rqlzVXr96i8MzLRMXdzyKSgeY98L8/dg/JRMVUOY2N9JWNjfaMqZ9R9HN2iEiBc4+tHp7RrfNnuVdocG3kffNe73nX9i2KdM/7f//t/8Z73vCdywb7u4Z56fbF576nzcRf5OUc+KrPusZGY1q2r6vltjo2qbcrzXvva18bf/M3fTH3JRhIg3FOvH4V576mXbd5YX8oZBAj0XUACRN+vAP0nQGCmwCGHHLLyLfnxI785n4+5yG3a85uWuR3+5z//+ZUs8bzJGj9ucYtbrCyizXMzLCzlCExLgMgEmDvd6U5xu9vdbmUR9SpXuUpsv/32K1va5mNUXve618WXvvSlzTqZOwfkh5xVj/xme35LYfzILdHzMReZZHCta11r5RnZuXVg7oSQjwAYP/LRG/lN43yefNXjgx/8YNzznvdc9SiY/AZM7syQ31zOb1vm9oe5FWLeEOe36ccfG5NbtKdBPqu76pHP6szxNL4wmB9Q3uc+91np67777rsyzvJbHvmNz7e+9a2rvsmTHxjkY2xym/iqRy4m3vCGN9xst4ncHjN3vsidAnJr//z2UCZn/Ou//mtk0tT4kfF5zGMeU7XK3p6XC1z5TN1ZO5jMkwDxlKc8JV7ykpesMs1HsGTs8kOtfC8fbh/6spe9bGXb6fEjx/AJJ5wQuUNL1cN4bG48Vo1Bqee9613vWnlsz+QuQre+9a1XEnlyO95MqMxnFedWzblTSu4+9OEPf3gl2TLHTtUECGNjueaqUq/59dqdc+3k3yz5d1Q+UisfN3X9619/5f055938+zt3iMp5+LzzzltV9DWvec046aSTIpM+1zuMDWNjvWtkUb/fUgtZrvHlusaX8V6lzbExLQHiqle96sqjEPIePrf0z3v4vN/LRfT8Usyb3/zm+OhHP7rZW0HeA+c9aJ3DPXVz99T5t0B+1jC5w87Nbnazld0B874zd/w6/fTTVx4fml9CyfvC8SPfL//xH/+xTkgbPbfNsVG1I/lZaCaZ5r3JtGPeBAj31M3dUy/jvFH1enUeAQL9FZAA0d/Y6zkBAmsI5GJpLvKOH7kIl98mvsIVrrDZK3NhNr+5OZkwkYvOkwvU4JdLYJgAkQvwmTSTz57Oa2W9I5MDcjE2t6IdHlnG//7v/1b6tuKZZ565kuBwwQUXbHp9fmiTH8rsv//+U6v/p3/6p8ib+fGEhEwiyG+tVDnyMQW5MPyTn/xk0+k5HnJczOpzJgfk4z3Gnwl5k5vcZGXb36pHnp+L0VODkVMAACAASURBVMMjEy7ycRrpPe3Ib3zmAsmvfvWrVTa5aJgLKFWOdHnf+9636dT80CH98kOTaUcmmeS3iMZtcsv/TJDwOJzZ4rnge/Ob33xTAkJ+0JgLvePf+q2bAJGvzeSV8es8x0SOjRwjk0eel4lt//zP/7zqV7ml7WQSxayeGI/NjscqY7bUc3JxNj+IHU/wyus0n1d8j3vcY91u5bWX80kmW2WSz1qHsbF8c9W6F0iBJ+RixL3uda9VLc+ktUz4WWs3h1zI+PM///OVpM/xI7coX++xVMaGsdHmUJlcyMrk5Vysu+lNb7ryz1/+5V+uas4idoBwjS/fNb6M9yptjo1hAkTWmUnymVSf93Jbb731mm8Hed+bn/vklwzGj3yURn4BosrhnrrZe+q8h8svKI0feQ+f9/LTEgl+/OMfr+z6mH+TD4887xvf+EYccMABVULa+Dltjo2qnckk7eGjgvMzlvzM5nOf+9yml8+TAOGeutl76mWcN6per84jQKC/AhIg+ht7PSdAYIZALoYdeOCBKwvRwyM/eM0bovyAatZx6aWXRmaVjy/U5kJeZp7nQqhjOQVyN4dPfepT8fznP7/2s6bzmyIPe9jDVsHkzg2ZNLDe8fjHP35lV4fhkR/W5LfY19tZ4W//9m/j5S9/+aqb+/wm8XqvyxfkBwn5gcL4kR8CTSYLTbY9F5YnEwcyuWBygWNan/O8vFEbP7L92f+1jmkLKNn+WQkM42XlGM4b+PEjXzf5Qcpk/en4p3/6p5HvBcMj2znuvV5c+/b7tMlrcnhkYsvrX//6ld1zhkfdBIi8HjOJbXjkt+ZPPvnklV171joyaWb8kRn5jeFMmtljjz3WDYvx2Nx4XBe/4BMyASh3d/jiF7+4qReZ/JBbk2aC26IPY2N1Ymvpc9Wir4+ulDf5Xpw7PuX8mn+br3fkN9ty563f/OY3m07NXaImd2mbLMfYMDbWu7YW+fuDDjpoU7JDJjzkNZvX+fCYXOhaRAKEa3y5rvFlvVdpc2xkYnTuAvfCF76w0n3w+HvAxz/+8bjLXe6yaueu/Bxo2g6P09473FOvTk5Y5D31T3/607j2ta8dmWQyPPLviv/4j/9Y8208/37IhPnxxJZ835zncYqLnC+GZbU5Nqq0/z//8z9XdlUcHv/wD/+wct+cu6QMj3kSINxTN3dPvazzRpXr1TkECPRbQAJEv+Ov9wQITBGYtnCaN0x547TekY8TmFxIzsXfJzzhCeu91O8LFcjF7vW+KbJW13KLzfHF3lyszW02c5eDWUdmxmdSzviuCnmNTX6Dfdrrc1HgOte5TuSHA3U+FMidKnJh7qyzztr0urzpzfGy3pGLfJlQkONjeOQ39Mf/f1YZed54MlKOr9w9YvyD4lmvnVxEyd0F8hse22677ZpNnnxdLoDn4zWqJDJNJpjkIz/yW6lZt2O1QH7QlN/mHT465A53uEN84hOfWNl2dt4EiPymzuQiWX64OZ5kMSsOuY1nfmB24YUXbjolX5evX+swHpsdj8s8bia3eM33tfzwPBfEFn0YG8s3Vy36GulKefl30Pgjpe52t7utPOKi6pG7oeQOKuNHvk/PmoeNDWOj6rXV1nmLToBwjS/fNd7Xe5VFjo2N3sPnYy/GF3uzbXmfuV7itHvqZu+pJ+/FM6E9v5C0++67r/sWPu1LG/n+mY9D6fqxyLGxXl8zSSTv4fN6zyMTTfPzmtwJdSMJEO6pm72n7uu8sd717PcECCy/gASI5Y+xHhIgUFPggQ98YLzjHe/Y9KprXOMaKzdNVRZc80X5zO7xrd9uectbrvr/ms1x+pILTNsFIhf4J3cgGGfIXSdym87hkTe8uUCfi7dVjmc961mRW0IPj1ykz6SLtXY4yW0985su48cnP/nJuP3tb1+lynjDG94Qj3jEI1adm23OR2rMOvL3mawxfvzbv/3byjPAqxy5mP5nf/Znq07NZ4pP/mz8hLyhv/KVr7xqO/pnP/vZ8bznPa9KlSvffMg2jz9+IZ9LPtn3SoUt+Um5vX8+/zaPvAZze+a020gCxDOe8Yx40YtetEkun9ubiQ25oFblyC1t3/rWt246NXeNyESNtQ7jsbnxWCVmpZ6TH7zn3xfDDw+zH/nBYT7OoonD2FiuuaqJa6QLZeajq3baaadVTTnqqKPiqU99auXm5S5aD3jAA1adnwmXmVA57TA2jI3KF1dLJy56Ics1vlzXeJ/vVRY9NjYypHMHyEzeHj/ycaj5WIC1DvfUzd1T5/33XnvtteqRlA95yENWLcqvFZscW5koMb6LVD5Ca/xzk41cM02+ts2xkY/4zSTu4ZFjIe/fJ5OC6u4A4Z66uXvqPs8bTY47ZRMgUIaABIgy4qSVBAi0JJAZ+fkNsXPPPXdTjblYnI83qHpMLvRm4kQuwPkGeFXBfp33ta99beX57+NHbim41rPf8zmlH/rQhza9JJNucsv0qkcm9EwmHrznPe/Z7FET4+Udfvjhccwxx2z6Ue5Acdppp019jua0duQHCfl8+vHtKF/ykpds9kiN8dceffTRccQRR2z6UT5bMhM1clG7ypEfguSN9/gCdt6wjz86ZLKc/ODqkEMOWfXj9KqzHf1kElQ+k3z8kQxV2r7s57zrXe+KfNzL8Bjf3nkjCRC5dWk+7mJ4ZELDv//7v1fmnJY0k1uvT47R8QKNx+bGY+XAFXhifqM93xvGj/WSwjbSTWNjq0p8pcxVlTpT4Em5O1XuNjV+5Afij3zkIyv3JhMd73znO686Px8zk4+omnYYG8ZG5YurpRMXvZDlGl+ua7zP9yqLHhsbGdLnnHNO7LLLLquKeMUrXhGPe9zj1izWPXX1R7zVvafOL5HkoyLGj7y3m0xUWStAk8nw17/+9eNb3/rWRi6VVl7b1tjIneryC165w2cehx56aLzpTW9a+e+NJkC4p27unrrP80YrA1AlBAh0WkACRKfDo3EECLQtkIvI+bz5jdw0TVtczq3gMvvcQWBSIJ9LnVsIjh+5A8lf/uVfTsXKx17suOOOq3YoqJukkwXntyPGv3mcuyrk7gqzjkwA+OEPf7jp13UXlvOFkx9i5O4RuYvErCM/rMhvFAyPuoke+brJDzGuec1rxg9+8IOZdT7sYQ+L3JVjeKRTPsKizjG5w0YmbuS3Wtd6rEmd8ks/NxPM8nnXZ5xxxkpX9tlnn5UPlnIXiDzmTYDIOGXCy/iRCWkZ06pHPv7iCle4QmQy3PDI3T9yF5Bph/FYPfFqnvFYNW4lnneve91r1SOEmtwtytiongRVylxV4jVfpc0XX3xx5HbV47sovfjFL16VDLleOccee+xmf0Nlwubk/JDlGBvGxnrX05b4/SIXslzjy3eN9/leZZFjY6NjO+8ZJh+PmLvQPe1pT1uzaPfU1eXr3lPnl5YyqX545L133oPnvXjVY9qulf/3f/+38vjRLh9tjI28P87HkZ544okrFDvvvHOccsopK7tn5rGRBAj31M3eU/d53ujyuNU2AgTaEZAA0Y6zWggQKETgVa961aqs/a233nrlpqnqN86H3dxtt90in2E3PJ785CdHfpvdQWBS4KMf/WgcfPDBq3681jcV8obzBje4warzP/KRj2z2eIr1pDPBIhcJhkc+ciO/NTHtyGdxTz5C4DWvec2qx3CsV1/+Pj8QyoWM4ZE7Qpx11lkzX5q/P/vsszf9Pl8//niDKnVmOw877LBNp+aHA+edd97Mx32kwwknnLDp/HQafyROlTozHne9611XnZpxy2/gOWLlcSD54dLwmHwsybwJEPk4jcmdU/JDmete97q12PNbwl/+8pc3vSa3ss1vTUw7jMfR40aqINcdj1XKLPGc/NZUbvOf25EOjxe+8IXx9Kc/vZHuGBujR0ZVAS5hrqrSj1LPyWdt5yORhke+r+fOWFWP/PZt/j0/PHJHifGEz/FyjA1jo+p11eZ5i1zIco0v3zXe53uVRY6NjY7p73znO7HvvvuuKma9xGv31KPHzFbxr3tPnfds733vezcVnfd0uQNUnSPvHTNRf/JvhdydoMtHG2MjHwWSSSnD4/Wvf308/OEP3/T/G0mAcE/d7D11n+eNLo9bbSNAoB0BCRDtOKuFAIFCBCafZ7fet8VndSu/2f7pT396069tgV/IBbAFmpkLXvl86/FjrW8Z5KMq7ne/+1U+f1aX8lvtz33uczf9OhMcMjFg2pGPALjpTW+66lef+cxn4ja3uU0tsdwJJW+Mx498pMXk9qH5+/z58NsEw/Pn2Ukl25kL6uPHWo80SIf8cGp4rPXt/1mdz/hd4xrXWPXr9R4xUguy4JMzHvn+OPx27wMf+MB429vetqpH8yZA5CNVnvKUp2wqa5tttlnZKSUfQ1TnyN1Qhlt55uvW2vrUeKy3s1Hd8VgnbiWdO23nn8nEt5////buBNym8v3/+FORKZkqUyVJSDRIQtKoERkaZKoMlWgSGlSGNGjSREgDFQ1SSEQoZCjzUJpoIJIkUyr5X5/1+6/9XWvtaa199j7n7L3fz3X9rt83+1nD81rrOeesve7nvn/91cjr22+/NVplqFVWKqWl1L7eEkbxxs7cyLzfVfGueTp/rr+JnMFACkZeunRpWPBnpDGq5JyC3pzBRcrgo9/lkRpzg7mRH+dKMl9kcY9n3j2ezc8qyZwbOZ37w4cPNzfeeGOg52OeqSNn1EvWM7We2VavXh3aXbwMl5GOu2/fPitjxL///hv6OF7ZzpzeS8nYPtVz4+uvvzYKULXLmSpz3Zw5c1zlUHMSAMEzdWqfqbP590Yy5hf7QACB9BYgACK9rx9njwACSRY477zzXCn5VQ7DGcjg93AqdzFmzJhQd72sUG1vGgJOAT1gK8jmp59+Cv1zvDqTAwcOdKXj14sBveTV/w/SVO7CGbGvbbVC0lt7W/+ue9lbwkXlMLwv+eMdX+UuNMecbe7cuVYdSW/TA7U3wELlMLzBDPGOqXIXVapUcXV77bXXTNu2bcM21XXwprdUOQxv0Ea8Y+oLE5VzsGtjqr9WTNx7773xNs3oz3Wf1q5d2+gLFDWtgNcqm7Jly7rGnWgAhO5nZxkXpTtX2vOgTS/LNM/spmu5a9euiHOM+egOLopnHWQ+xttXOn8+evRoq2aus6k0jMqvaE707t3bfPDBB66fIc6+Sp+sGtLdunXzldaXueEOSIt37+T331Xxzj/dP1cwpv4Wcv5tpHteGbNiBf8o+EEBx0uWLAkR6O8UZZPwZrGyOzA3mBv5cb4k80UW93hm3ePZ/qySzLmR07nfoEEDV3YBPdcos6ECsKM1nqndCyHiXYMgz9T6XkUlSVRKwW4qh+Fc8BHvePbn+j7A+TeIsheOHDnS7+Z50i/Vc8O5wEv3uAJT9beas+UkAIJn6tQ9U2f77408mZAcFAEE8pUAARD56nJwMgggkNcCSnenlw92a9eunSuQwe/59e3b1wwaNCjUXfWMd+/e7Xdz+mWJQKSVI/FelKucg9LI2+3II490PaD7pZsxY4a54IILXN2V9l+ri71NZSuc9Uz1gK2X2QULFvR7OKufVjJXrVrVtY3KcFx55ZVh+4lUw1vbe4MZ4p2AalXqBbafeuIav1JlOpucvEEb8Y6pz3VdNmzYEOqq6zZ06FA/m2ZsH28d12HDhoWtnNLgEw2AUNkRpUq125lnnmmtTAnalM6zS5curs1U0kir772N+egOLopnHWQ+xttXOn/uzfxz6KGHWuW2nn/+eSuLiTI++Gn6gnbChAlWPd5YjbmRWb+r/Nwb6d5Hv4/PP/98V0YmlaPr2rWradGihfWlu4IaFJymv9uV5l+/Y3///ffQ0FWOTsEs3lTWThvmBnMjP86VZL7I4h7PrHs8259Vkjk3cjL3I5Ww9POSnGdq90IIP9fA7zO1ntX0e9/ZvCUa/BxPffQMOW/evFB3/RydMmWK383zpF8q54ZKu+j+tlufPn3CMpjqs5wEQPBMnbpn6mz/vZEnE5KDIoBAvhIgACJfXQ5OBgEE8lrgqKOOctUJ1upKvZAI2gYPHmz0YOBsikoPmoo96HHpnz4CyragL/D10stuSnH+3XffWSvjo7X27dsbZTCw2wknnOBK9ehXYNGiRaZevXqu7t4U7PaH3hfXWl2hlw5Bm1K6e1f7R6uV6n3Q1rG0vbcshp9z0Pk6XyhqPAMGDAjbVOPXCxdnk5O3/IefY+q6KM293XTdtOo7W5vSkZ5yyilGL8DVdO999tlnEX8mJhoA0ahRI6OMIna75JJLrFX0Qdtbb71lrrrqKtdmmpdagextzMfDg/Jaq7P8zMfAO06jDW644QYzYsSI0BmrhrRKcOn/gja9FFYQhDegzbkf5kYw1fz+uyrYaNK39/Lly61sTc501n5Go5cArVq1Ms8991zY3xze7ZkbfkT/14e5Ecwr0d7JfJHFPR7sKuT3ezzbn1WSOTeC3Rn/660SS8po58wyd/DBB1u/q+KVKOOZ2l1S08818PtMrWc1r7+e6bylQ/0cU8+QH374Yairfo5++umnfjbNsz6pmhsKLFEg6bZt26yxKcPimjVrrOc5b8tJAATP1Kl7ps723xt5Nik5MAII5BsBAiDyzaXgRBBAID8IlCpVyigNtd169uxpVPMvaHv22WfNLbfc4tpML7q1ypOGgNI5nnvuuWGr0/VCzLvy3KullY/vvfde6J/r1KljVE80aFu5cqX15Y2zvf/++6ZZs2Zhu7r99tvNkCFDQv9epkwZ89tvvwU9pFWT2zsHnn766bC5oh3r32+77TbXMbT9IYccEvi4Ol/nqlCN58knnwzbj8Z/+eWXu/5dTt70jn5OQNfFmYZb1+3dd9/1s2nG9VEpEK2kmT9/vjU2lWvRPXvyySdHHGuiARAKsFi2bFlon3oBpnqiQdukSZPC5oFexHnni/bLfEzdfAx63dKpvwJs9KWs3fS3h9L+K1BSTbWHFQzRunVrU61aNSuLjYLmPvroI/PEE08YlSByNgXPKRWtt4SP3Ye5EezuyO+/q4KNJr17a06MGzfOqByVvsCN15SxSX8/1KxZM15X63Pmhi+mUCfmRjCvRHsn80UW93iwq5Df7/Fsf1ZJ5twIdmf8r/c111xjxo4d69r8nnvucWX/jLZvnqndJRP8XAO/z9R6VvM+W+qZTqWxgjY9Qzqf2/Vz1PlcH3R/udE/VXPD+8yijFuXXnppxCHlJACCZ+rUPVNn+++N3Jh/HAMBBPK3AAEQ+fv6cHYIIJDLAoret1co69D33nuvUUmCoC1SCnWlw69QoULQXdE/AwX0YsubWcRvasUmTZqY6dOnh1QaNmzoWvXulytSOYrXX3/d6Esdb1PKaWfdy4oVK7oypfg9pgI/vGUzVCpGXxp520MPPWTNP2fT3IxVVzXaeXhTZyrIxLn62t7ujTfesFabOts333wTdzVPpON6U2dqdbZeXmZj073uXNl+xx13WC9xo7VEAyCOP/54o+tlN11LZ7YUv/aRysMoDapq/Xob8zF6neOczke/1ysd+1100UVG6ZMjNa2s0s94b7kgu6+yZ2iV1Pjx412ba5/O1WrOD5kbwe6S/P67Ktho0ru3MikpEFmBn85AxlijUqYp/Z5RILKCiWI15kaw+4O5Ecwr0d7JfJHFPR7sKuT3ezzbn1WSOTeC3Rn/11u/j1SqzNlOOukko4yB+h4pXuOZ+rh4RGGf+32mVmZBfS/ibPp72pvd0c8JqAyuvhexm/4m//rrr/1smmd9UjE3lEnRGUDSsmXLsOcP54BzEgDBM3Xqnqmz/fdGnk1KDowAAvlGgACIfHMpOBEEEMgPAt4AiL59+5qBAwcGPjW9LNYDrrNt3LjRlC9fPvC+2CCzBCJlB9ELeq3ePeyww+IOVi/S9YLWbvpSYM6cOXG383bQi2J9Kepsejhq06ZN2L4UMKCgHrvpfH/66afAx4z0paICHe6+++6wfSkwQvPP2RINgFDAhuaf3TQ3hw8fHnZMfdGhLzycTYEiVaoEq8mo7fUFjL6IsZse6qO98AwMmUYbKPBLqUu1ul1NZYaUNjNWJo9EAyD05ZSul910LceMGRNYS1+W6Xo5m65l/fr1w/bFfAz+ZY3f+Rj4wqXRBt77xj51pZNVFpNowQ92P62K18/+BQsWuEat1WlapeZtzI1gN0d+/10VbDTp2VvXQKnCVVJOWYTspiDK0047zfq9UqJECSuzlP6e0Vz466+/XIOtVauWVR4m1u9w5kaw+4O5Ecwr0d7JfJHFPR7sKuT3ezzbn1WSOTeC3RnGCsRTZgDn7yRlNvz888/Dnqmj7Ztn6tQ9UytYXX8bO5u+M1FmqKBNQfT6XsRu+s5k7dq1QXeTq/2TPTd27txpZdP68ccfrXEUL17ceobX90DRWk4CIHimTt0zdbb/3sjVicjBEEAgXwoQAJEvLwsnhQACeSVACYy8ks+O47755ptWhgXnFyf6Al81JSOl14+kQnpA0gOm02xRSRGlXbSbXkZ5y4x4x5NoAARpnoPdGfk9zXOw0aRXb+/Pcfvs+/fvb+6//35fg1GghDfY4aabbjJDhw4N25654Ys01Im5Ecwr2b0V4KNgzLfffju0a32x36NHDytgsly5cmGHVPk6lepS8KReYNpNZWEUwKbAq0iNuRHs6jE3gnkl2juZL7K4x4Ndhfx+j2d7KvNkzo0gd4ae1S+88EJXoJ0WzqgcgF7c+m2UwKAEht97JWi/ZM8NlSJVSTG7PfXUU2HlSb3nmJMACL7j4juuoPc8/RFAAAG/AgRA+JWiHwIIZIWAVierzrbdunXrFlaqwA+EVqz16dPH1VVf6B544IF+NqdPBgpMnTrVNGvWzFVipUiRIlZWgEaNGvkesVKfO9P6axXk6tWrfW9vd1Sqznr16rm2U33tc889N2xfWoXpLAWjVcq7du0KfMxff/3VKDW1s40aNcpcf/31YfvSv3fu3Nn179r+8MMPD3xcna/SxttN4xkwYEDYfjR+b5pMOdWtWzfwMXVdlLrbbrpuo0ePDryfdN5AKfpbt24dGkLTpk3NxIkT4w4p0QAIzaO5c+eG9n/JJZcYpe4M2t566y2jeqfO9t1335ljjz02bFfMx9TNx6DXLZ36e+8bnbv+PlDGlEgvd6ONTWVZ5s+fH/o42u8D5kawuyO//64KNpr06/3www+7SmPpS31l8/GWqIo0Mq32VG3qv//+O/RxrPIwzI1g9wdzI5hXor2T+SKLezzYVcjv93i2P6skc274vTOUpfGcc84x27dvD22iv9mUIcD7vBBvnzxTp+6ZWs9qxx3nLrGhZ7orrrgi3mUJ+1zPkM6ycvo5qiCY/NySOTf0/YcyH9qLdhRIp0wnBx10UEyCnARA8EydumfqbP+9kZ/nLeeGAAK5I0AARO44cxQEEEgTgRo1apivvvoqdLaJplBX6n6tQrObXnTv3r07TRQ4zWQL6KWsVo047wGlcdZqeH1RH6Rphe8LL7wQ2iTRchR6SeBdsbJw4UJz+umnh53Oo48+au66667Qv+sBWy8XChQIlqpP5Qm8qd2VFePKK68MO6b+/eqrr3b9eyLlKFQ2o1ChQmb//v2hfWk8vXv3Djumxn/GGWe4/j3R1Jm6LnqZabdoK7ODXPt06qsvCfXz9JdffrFOu1ixYlagTqVKleIOI9EAiIsvvtgo0MhuiZaHUbkXpah1ts2bN5sjjjgi7NyZj8FS2QaZj3FvlDTu4L1vNJQTTzzRrFy5MtCo7r33XqMyQnbTz2athFdKZmdjbmTW76pAN0madd66datVKskZtNi9e3ej8mF+W6QgZL24iBRsytxgbvi9r3KzXzJfZHGPZ9Y9nu3PKsmcG37mtMoe6HfHli1bXN31LH7DDTf42YWrD8/UwctR+H2m1rOaN4hYz3SdOnUKfJ30DKmSGnbTz9EpU6YE3k9ubpCsuaEsWnXq1DErVqywTl/BPgq2jvQdkXd8OQmA4Jk6dc/U2f57IzfnIcdCAIH8KUAARP68LpwVAgjkkYBqBM6cOTN09MaNG5vZs2cHPpuOHTu6Vnur/rCzNn3gHbJB2gqoJruyKnhXjagWn/cFv59BDhw40JUiXZH4e/fujRuR7933yy+/HJZ54aeffopY11ErLzt06ODaxbp168wxxxzj55RDfWbNmhWWYWLOnDlh9Tq1gf79rLPOcu1f2+vleJCm8/Su3Nd4FNzkbRq/0mU7m5z0MB+k6YuDwoULG2V9sZuumwKjsqUpe86wYcNCw9ULqV69evkafqIBEPqC66WXXgodQ8EW69ev93VMZ6cHHnjAlSFEATTKeBJp1QvzMXXzMfCFS6MNFCDp/XmgVYTjxo0LNIqxY8daZZWc7ZtvvglbAcfcyKzfVYFukjTrrDIWShFuN32hr8xsFSpU8D0SBU+UL1/e9XeX5oBehHgbc4O54fvGysWOyXqRpVPmHs+sezzbn1WSOTfiTWk9Qyj4wZkdVNtEC6SPtz99zjN16p6p9dytrI/ODFB6puvXr5+fS+Pqo2fIH3/8MfRv0f6GCLzjFG6QrLnhDSINkhE3JwEQPFOn7pk6239vpHDasWsEEEgTAQIg0uRCcZoIIJA7AjfffLOrfnblypXN999/H/jgSpPoDJy47LLLzKRJkwLvhw3SW0Ar3hVEoxWNzjZixIiwFeZ+R6qa2N6MCT/88EPYi/t4+1OteecXAsWLFzd//vlnxM2U8tAb9f/JJ5+EBSjEO+arr74aFkzw22+/mTJlyoRtqpU23hX32t4biBHvmDpPb9DEF198Ya1siNTksHPnztBHcrr//vvjHcb1ua6HNzjknXfeMa1atQq0n3TufPLJJ5vly5dbQ1CmkFtvvdV3xhCllNWDut20Gtj7klelSrzlSh577DFXZg8dV8FBQUsPXXfddeaVV14JHT/WynzmA56o9wAAIABJREFUozswKt49G3Q+xttfun7+7rvvhv08uPHGG11BQ37GpownWpXmbJEy+TA33MF08WzT4XdVvDGk6+eXX365UY17u+l3idKPB23Nmzd3lVxSRqI1a9aE7Ya5wdwIem/lRv9kvcjSuXKPZ949ns3PKsmcG7Hm8saNG63nXJVVcDZl3nKWhQz684Bn6tQ+U9esWdP1u17PdM7geD/XS4EUWsigBQ12e/zxx03Pnj39bJ5nfZI1N7x/h+n5pESJEr7GpdKTq1atCvVVRjpldnA2fQcTqSwJz9SpfabO5t8bvm5eOiGAQEYLEACR0ZeXwSGAQFCB5557zvTo0SO0mVb8auW+0rcHaVp5tmnTptAmd955p/UFFC17BPSFiVaN2CUAkvUArYfKWrVquSD1EkwlNoK0Nm3auFYbn3baaVZtx0hNAQF6aHK2RFJ/3n333eaRRx4J7eawww4LSynqPIY+dwaPqAyHaoMHacOHDzd6cHe2HTt2mEMOOSTibuSwePHi0GfK0qFV1kHatGnTjGqOO5uum76UyZbmDIBIxZgjreiZPHmyadq0qetwKmlUrVq1QKegmqcLFiwIbdO6dWujL2UiNeZjaudjoAuXRp11X+qFrLMplbKzvJGf4ag+seoUO5vq9tat666xzNwIlqY6HX5X+bk/0rGP93dHixYtjAKGgrbbbrvNPP3006HN9CW8MxOX/QFzg7kR9N7Kjf7JepGlc+Uez7x7PJufVZI5N6LNZQXnawGDN2hO3xE988wzOfoRwDN1ap+p9cw2fvz40DVSaUuVbwjSVPakevXqrk30czRo2dIgx0xG32TNDW8ARDLOzbkPZcp1LjSwP+OZOrXP1Nn8eyPZ9zD7QwCB9BMgACL9rhlnjAACKRRQjWA98DqbSmIoo4Pfphffxx13nKt7IivX/R6PfvlPQKvXFfygTADOpowLenGbk6a0jvoiXyvb7aYMBcpUEKSp1INzlX28FRIqI6FyEnZTJgbd10GaTObOnRvaRPPKWXLGuy+VDlHZC7tpJY5WkAdp7du3N6+99lpok3hZXa6//nqjshd2k5P3OsY7/n333edaHaRVJHrxcvDBB8fbNGM+z4sACKUqVcpSZ9OqH93bfttff/1lrXJxpk+NlQWE+Zja+ej3uqVbP60q0322e/fu0Kkrs8+bb74ZaCjKltK2bVvXNspapZ9zzsbcyLzfVYFulDTqfPzxxxuVcbGbsv+oZFjQds8997gCJlXKSD/fvY25wdwIem/lRv9kvcjSuXKPZ949ns3PKsmcG5Hmsp7X9HzqzTykZ4lRo0YZ7/ET+XnAM7V/taDP1AMGDHB916Jnb11TPYv7bbrOnTt3dnVPJNum3+Mlq1+y5kZeBUDwTJ3aZ+ps/r2RrDnGfhBAIH0FCIBI32vHmSOAQAoE/vnnHyvt/h9//BHae9CXy3rhpjqBdlP6dWUB8KbzT8Hps8t8ILB582Yr+MH5Bb5O64477jBPPPFEUs5QKxCmTJkS2lfQwAC9IKtSpYrrXOKVaPCWh9GLZtVG9dv0ok+lLpwvIOKlk/Sm7S1SpIjRqhzV9/TT9u/fb5WicNbw7N69u3n22Wejbh4p/WKkF4qxjq/rMWfOnFCXbCyBkxcBEAL3pj4NGqijgJzzzjvPdXljlUxRR+Zj6uajn3mern1atmxpJkyYEDr9E044wahsUpDmzVSgrFUqZRTpZyRzw59suvyu8jea9OtVr149oywmdmvSpIlRVqWgrUuXLubFF18MbVahQgWzYcOGiLthbvjTZW74c0pGr2S9yLLPhXvc31VJl3s8m59Vkj03nHfGrl27zAUXXBCWMUABqgo41d9YyWg8U7uDdJP5TB2pxEjQxUx6dhwzZkzotGKVQkzG/ZCsfSRrbuRVAATP1HzHlay5wH4QQAABrwABENwTCCCAgEdAq82cKe+1klJZHfxG/CuDhDJJ2K1hw4auVe+AZ67Atm3brAwiK1eudA0ykdTmsZRGjBhhtE+76d789ttvjVaU+GnKQqEVEnbTykgFFkQrC6F+H330UViZDWVnOPvss/0c0sqqoMhzZ1OQiDdbivPzr7/+Oqx8gfZz7bXX+jqmzk9ZJJxt+vTp5vzzz4+6vcpjHH744a4MG5HKLUTbgYIlNCYFX9ht5MiRYStJfA0gSzvpnnJm+tCcmj17ti8N76pf3dMKQIt1bzt3rLSco0ePDv3TkUce6cqUEukkmI+pm4++LnqadtKXq/qS1flzXFl5Klas6HtE3pfFsUoZMTcy63eV75skzTo2b97cTJw4MXTWpUuXtkplKZg4SFOpMGcdatWcVjBbpMbcYG4Eubdyo2+yXmTZ58o9nln3eDY/qyR7bthzRJkVFdD88ccfu6a4gthVhqlgwYJJm/o8U/fzZZnIM7Wev4866ihXwGO0kguRTkJzSwGTKlVit3vvvdeV2dHXyedBp1TNjSBD0Xc0zgyhQRfM8EydumfqbP69EeQepi8CCGSmAAEQmXldGRUCCORA4L333jOqOexs77//vmnWrFncvS5fvtxo5bOzDRkyxNx6661xt6VDegvoQVkrx50rFzWidu3aWQ+CQb+8j6WhLBMqzeBM03/77bebJ598Mi6iVjcpxbRzJaQi/Z0rkSPtRNlR9GJOLyLs5rc293///WdOP/10s3jx4tC2mife9KKRjuvNJKCXGFrd4ScgybvCWoENGne8L7G8Kx80bgVrKANFvKZMH0899VSom4JLlIGCDDDx5P73eU4CIHRPnXrqqa6DqQ78LbfcEvcENm3aZAUR7dmzJ9RXdeSd1zPSTpiPqZ2PcS9cmnZQpikF2GjFod369u1rBg4c6GtEeplbt25dV9+77rrLlfbf+SFz4924run2uyrugNKww6OPPmp0Hzub37/B7W30t4aCgZwt1t9IzA3mRn6bKsl+kcU9nnn3eLY+qyR7bmjuqyxZq1atXMF3+ncF0X/wwQeByif4+VnCM3Vqn6n17KZnP7spK5oWM5UrVy7u5XnmmWfCvrfTz0/v93txd5QHHVIxN4IOI6cBEDxTp/aZOlt/bwS9j+mPAAKZJ0AAROZdU0aEAAI5FFDk+CmnnGIUzGA3RS9rJVmsVcT79u0z9evXt17O2k0PWnrg8puyP4enzuZ5JKCyDhdffHHYKnW9gH/rrbeSljLTObwePXqY5557LvRPBQoUsIIvdO/Gat4X9HpY1os070vjSPtQCY8777zT9dGkSZOMVsfEapG+TNBqGm+gUaR9jB8/3rRu3dr1kUpYqJRFrKbz8gYtKUBEL0HitUgvT3r27GlUsiNWW7JkidGKbH2RZje9eHd+CRPv2HxurKwiiWaAkF/Tpk3N5MmTQ5QlSpSwSgvEW1mvLz91X9pN9WL181srgeI15mPq5mM8+3T+XAEPgwYNct1z+jlSo0aNmMPSl+f6e8MZVKbALmUCUnBctMbcyKzfVel870c7d2XQql27tutjBW3q7xv9LI/XtIpXWYMWLlzo6hov+xNzg7kR797Kzc9T8SKLezyz7vFsfVZJ9txQ4GP79u2tEhfO1qBBAyv7YbFixVIy9XmmTt0ztRY7KBujs+ymnvFU7jNW+/nnn61SiiolZzd9l6AgzHRoyZ4biYw5pwEQOibP1Kl7ps7W3xuJ3MtsgwACmSVAAERmXU9GgwACSRKI9PL0nHPOMcoOceihh4YdRSvxlV5v3Lhxrs/8vKhN0imzmzwS0Mtuvch3vnDVqSggQvfLwQcfnJIzU4S8Vqsro4PdlPJx6tSpRrXkIzWtZNeLfGd5Bj9fCNj70hcJ+kLBmT2iZMmS1oqZRo0aRTymAkCU5l0vJewWK017pJ2ov/NFn7IqvPbaa2GBEfa2enmuCHetsLabXn7r5aBeavtp3pfh+lJBftGyuegF+0UXXWT05YndFPik9J1ly5b1c0j6/H+BnAZAKHhNgUDO+1zp0DU3IgUzqF+vXr2Mvox0Nj9BL3Z/5mNq52OmTg59yaqf41u3bg0NUVkhpk2bFvXnuDJGtGnTxujvFGfzU2qJuZF5v6sycW5ccskl5sMPP3QNTQE/enkRKyDt999/N23btrV+1jubMlB5AyK8bswN5kZ+mkupeJHFPZ5593g2Pqske27cdNNN5oUXXnBNfy0KmDlzpq+gu0R/bvBMndpnaj3DeTNjahHH4MGDI2aR1Hcb+u7GWcZU99qyZcvCgjITveap3i7ZcyOR801GAATP1Kl9ps7G3xuJ3MtsgwACmSVAAERmXU9GgwACSRTQqnOtPnc2ZYLQA5VKHehLWP2BPm/ePOvF2Zo1a8K+rP3000+NVubTMldAdSEfeugh1wB1zbt16+arZEIkGZV5uOKKK+KiKQOEouSdrXjx4ubGG280V111lalcubJVw3LFihVGwThayeJsqq2ttI6xVgx7TyJScJCCPPTAqyCgqlWrGq1O/vLLL43qOL799tuuF9EKXvjss898ZZywj63gB63EcZb8UEkRGemlX/Xq1a0sGypT8corr5jRo0e7+uoLAQVpxMtU4RyrylYo3eW2bdtcBApyUPYJvVDXqqB169ZZgU/Dhw931QvVRro+N998c9zrSAe3QE4DILQ3fcnlDWhQCRRl5NBqHgUL6doq+4m+IPO+HKtSpYrRSvxIAW/RrhfzMXXzMZPniH5GXnnlla4h6meqfrbpZ5xWv+vnpr6cVWCEArGcgVbaUBkjtEI+VpYq+wDMjcz6XZWJc0MBhcqm5CwPo3Hq/u7UqZP1u1z3vDJCqKaxfvcrYEK/h72/szV3Zs+ebc4444y4VMwN5kbcmyRJHfR3rX72R2sqBeNsDRs2NGeeeWbE7qVKlTJ9+vTxdWbc45l1j2fis0puzo2RI0earl27hs2dzp07mzJlyviaU95OCmqNtM9IO+OZOnXP1AowVjC8FiI4m/4WUDZMfdein52aQ8rwoO9JfvvtN1df/bx87LHHEroPUrFRbs6NRM8/GQEQ9ncofMfFd1yJ3odshwACCHgFCIDgnkAAAQSiCOhL1fPPP996qRC06eXZnDlzTPny5YNuSv80E/A+6CXj9BVIoBf5fpoCLYYNG+anq6tPkSJFrBcGShUdtEWq0e1nHwpaeP31183VV1/tp7urz9ixY027du2MUpUGbTrf3r17B93Memmilah79uwJvK2uy/PPPx94OzbIeQkMGSozi0rQeFfJ+/E97LDDrBIc0TKpxNoH8zG+cKLzMf6e07fHww8/bO65556EBnDMMcdYgREKlPDTmBvxldLtd1X8EaVfD/190rx5cyugMtGmwEj9zaGAUD+NuRFfibkR38hPD/2Nf9111/npGrePgvPXr18ftx9/G/kiMul2j2fas0puzo1+/fqZ/v37+7sxfPbSc7Wuid/GM3V8qUSfqRVMqevhzLIW/2j/10PB8loIlZ8WMuXm3PDr5O2XrAAI7Zdn6vhXIdFn6kz7vRFfih4IIJDtAgRAZPsdwPgRQCCmgIIg9DJ6woQJvqVUCkBp/8uVK+d7Gzqmr0BeB0Aoff/AgQPNgAEDzL59+3xBavW7Vp5phWWi7cUXX7RW0/sNDtAqC2VmCJKFwXtuepmt+ehd4RltDAry0IoOrRhNtC1YsMBahe1dcR1tf3rh8sADD5i+fftGTLGZ6Hlk03bJyAAhL704U8mSIAFCqv367rvv+n6Z7L0uzMfod2oy5mMmz4OXX37ZyujjXfUea8wqzfXmm28aZTcJ0pgb0bXS9XdVkOufLn2VoUeBj2vXrg18ygoMUqksrZwP0pgbzI0g90uiffPyRRb3eObd45n0rJKbcyM/BEDobuSZOvKcTMYztf5+UMp/BUP4bXrxPmTIEFOwYEG/m+RKv9ycG4kOKJkBEDxTp/aZOpN+byR6v7IdAghkjwABENlzrRkpAgjkQEDp8xVhq9T90Vrt2rWtlHodOnTgxWcOrNNt07wOgLC9VObiwQcftNI4OktFOD2VkURp1VXGxU+q9HjXQivOdExlZ9i9e3fE7nqZJKO777478Eu6SDvcsmWL0WppvSz8448/Ih6zaNGipk2bNlYQgl6C5LSpjIjKKahG7KZNmyLuTinrtVr1vvvus8pj0BIXSFYAhH0GysYzaNAgM3369KgZRJSyVgE9+tIrGV94MR//d/2TPR8Tv7Py/5YKtNLfGmPGjDHbt2+PeMJajaaSQMpqc+mll+ZoUMyN//Flwu+qHN0M+XRj/T2joGKVt9CXtcrSEK1p5bbSWuvvnGuuuSbhMmTaP3ODuZHKKZEfXmRxj2fWPZ4pzyq5OTfySwCE7kSeqf83H5P9TK2gr6FDh5pnnnkmrCSGfVT9/dCkSRMrG5sWM+XHlptzI9HxJzMAwj4HnqlT90ydKb83Er1f2Q4BBLJHgACI7LnWjBQBBJIgsHHjRusLWD2kapWmVrRqNX3dunWNXqDREMhrAWUtUaCOamLrBZpWT5QtW9acdNJJVi3MAw44IOmn+Ndff1nz4ssvv7SyM+gYKiNw4oknWnMjFekj9RLk888/N6tWrbJqdmqVgF5gqS646nsWLlw46ePUMZYuXWqWL19uNm/ebGXcUA1ypZ6vX7++KV68eNKPyQ6TJ6AUqPPnzzffffedVTdeX7BVqFDBnHrqqQmVu/BzZszH1M1HP/7p2sf++aYVawr6sn+mVqxY0VrRfuihhyZ1aMyNzPpdldSbIx/tTIGWqoGtn+EKgNQXt8WKFTMlS5Y0KgOgvzeS/XuYucHcyEdTICWnwj2eWfc4zyopmSa5tlOeqVP7TK2/q/Usr+/0FGCpvxlUulbP8WXKlMm168yBggvwTJ26Z2p+bwS/H9kCAQTSS4AAiPS6XpwtAggggAACCCCAAAIIIIAAAggggAACCCCAAAIIIIAAAggggAACCEQQIACC2wIBBBBAAAEEEEAAAQQQQAABBBBAAAEEEEAAAQQQQAABBBBAAAEE0l6AAIi0v4QMAAEEEEAAAQQQQAABBBBAAAEEEEAAAQQQQAABBBBAAAEEEEAAAQQIgOAeQAABBBBAAAEEEEAAAQQQQAABBBBAAAEEEEAAAQQQQAABBBBAAIG0FyAAIu0vIQNAAAEEEEAAAQQQQAABBBBAAAEEEEAAAQQQQAABBBBAAAEEEEAAAQIguAcQQAABBBBAAAEEEEAAAQQQQAABBBBAAAEEEEAAAQQQQAABBBBAIO0FCIBI+0vIABBAAAEEEEAAAQQQQAABBBBAAAEEEEAAAQQQQAABBBBAAAEEEECAAAjuAQQQQAABBBBAAAEEEEAAAQQQQAABBBBAAAEEEEAAAQQQQAABBBBIewECINL+EjIABBBAAAEEEEAAAQQQQAABBBBAAAEEEEAAAQQQQAABBBBAAAEEECAAgnsAAQQQQAABBBBAAAEEEEAAAQQQQAABBBBAAAEEEEAAAQQQQAABBNJegACItL+EDAABBBBAAAEEEEAAAQQQQAABBBBAAAEEEEAAAQQQQAABBBBAAAEECIDgHkAAAQQQQAABBBBAAAEEEEAAAQQQQAABBBBAAAEEEEAAAQQQQACBtBcgACLtLyEDQAABBBBAAAEEEEAAAQQQQAABBBBAAAEEEEAAAQQQQAABBBBAAAECILgHEEAAAQQQQAABBBBAAAEEEEAAAQQQQAABBBBAAAEEEEAAAQQQQCDtBQiASPtLyAAQQAABBBBAAAEEEEAAAQQQQAABBBBAAAEEEEAAAQQQQAABBBBAgAAI7gEEEEAAAQQQQAABBBBAAAEEEEAAAQQQQAABBBBAAAEEEEAAAQQQSHsBAiDS/hIyAAQQQAABBBBAAAEEEEAAAQQQQAABBBBAAAEEEEAAAQQQQAABBBAgAIJ7AAEEEEAAAQQQQAABBBBAAAEEEEAAAQQQQAABBBBAAAEEEEAAAQTSXoAAiLS/hAwAAQQQQAABBBBAAAEEEEAAAQQQQAABBBBAAAEEEEAAAQQQQAABBAiA4B5AAAEEEEAAAQQQQAABBBBAAAEEEEAAAQQQQAABBBBAAAEEEEAAgbQXIAAi7S8hA0AAAQQQQAABBBBAAAEEEEAAAQQQQAABBBBAAAEEEEAAAQQQQAABAiC4BxBAAAEEEEAAAQQQQAABBBBAAAEEEEAAAQQQQAABBBBAAAEEEEAg7QUIgEj7S8gAEEAAAQQQQAABBBBAAAEEEEAAAQQQQAABBBBAAAEEEEAAAQQQQIAACO4BBBBAAAEEEEAAAQQQQAABBBBAAAEEEEAAAQQQQAABBBBAAAEEEEh7AQIg0v4SMgAEEEAAAQQQQAABBBBAAAEEEEAAAQQQQAABBBBAAAEEEEAAAQQQIACCewABBBBAAAEEEEAAAQQQQAABBBBAAAEEEEAAAQQQQAABBBBAAAEE0l6AAIi0v4QMAAEEEEAAAQQQQAABBBBAAAEEEEAAAQQQQAABBBBAAAEEEEAAAQQIgOAeQAABBBBAAAEEEEAAAQQQQAABBBBAAAEEEEAAAQQQQAABBBBAAIG0FyAAIu0vIQNAAAEEEEAAAQQQQAABBBBAAAEEEEAAAQQQQAABBBBAAAEEEEAAAQIguAcQQAABBBBAAAEEEEAAAQQQQCBXBP766y9TpEgR17F++eUXU65cuVw5fqSD7N+/36xZs8asXbvW/Pzzz2bnzp3mgAMOMIceeqipVKmSOeGEE8yxxx6bkvP78ccfzYsvvmjmzJljHf+PP/4we/bsCR2rbNmyZtOmTVGPvWXLFvPSSy+ZWbNmmdWrV5tt27aZXbt2ufprf4ULF07J+bNTBBBAAAEEEEAAAQQQQAABBPKbAAEQ+e2KcD4IIIAAAggggAACCCCAAAIxBcaMGWM6dOjg6rNw4UJz+umnB5Lbu3evKVGihNH/d7bx48ebli1bBtqXOh911FHWC3S7XXbZZWbSpEmB95PJG+SnAIhPPvnEjBo1ykyePNkKHIjVKlasaN0TXbp0MbVq1crxJVLQxYMPPmj69+9v9u3bF3V/sQIgFDhxyy23uAImIu2IAIgcXy52gAACCCCAAAIIIIAAAgggkEYCBECk0cXiVBFAAAEEEEAAAQQQQAABBIz56aefzNFHH+2iGDx4sOnVq1cgnk8//dQ0btw4bBu9VH766acD7ev77783VapUcW3z2GOPmTvvvDPQfjK9c34IgFixYoW5+eabzdy5cwNzKzNE69atzZAhQ0yFChUCb29voMCHfv36xd0+WgDE6NGjTceOHeNurw6ZHADxxRdfWAEsdjvuuONMu3btfLnQCQEEEEAAAQQQQAABBBBAIDMFCIDIzOvKqBBAAAEEEEAAAQQQQACBjBZQSYJ169aFxphItoWBAwea+++/P8zppJNOMsuWLQvk98orr5jrrrvOtc2iRYtM3bp1A+0n0zvndQDEU089ZXr37m3+/fffHFErc8hrr71mdN8FbevXrzd6Ue/M/KCyIE2aNDHHHHOMq1xF8eLFzb333us6hEp0HHnkkWb79u2hfy9YsKA599xzTbVq1cJKjCjTRIECBYKeZlr0f+GFF8xNN90UOtcLL7zQTJ06NS3OnZNEAAEEEEAAAQQQQAABBBBIjQABEKlxZa8IIIAAAggggAACCCCAAAIpFFCwgYIO7FayZEmzdetWc+CBB/o+6gUXXGBmzJgR1l/7+O2330ypUqV878t7PnpxrbIKBx10kO99ZEPHvAyAuPXWW80zzzwTxqxr1axZM6vEhQITVO7in3/+MRs3bjRr1qwxb7/9tpk2bVpYqRTdJyNGjDCdOnUKdOkU0PDQQw+FtlHmEJXj0HH9tJEjR5quXbuGuuo+nTdvnqlRo4afzTOqDwEQGXU5GQwCCCCAAAIIIIAAAgggkBQBAiCSwshOEEAAAQQQQAABBBBAAAEEclMgUsaFJUuWmFNOOcXXaSgDgIImdu3aZfXX//7jjz9C206cONE0bdrU177USS+xVQbDbhdffLGZMmWK7+2zpWNeBUAo04cyfnhbhw4djLJClC5dOuYlUNYGBR1Mnz7d1U8lMRQg0apVK9+XsFGjRq7yGwpo6Ny5s+/t27dvb2WfsJsCKpTlIRsbARDZeNUZMwIIIIAAAggggAACCCAQW4AACO4QBBBAAAEEEEAAAQQQQACBtBNQ+QuVwXC2IUOGGK3y99MWLFhg6tevH+pqr8rfv3+/9W89e/Y0jz/+uJ9dmQ0bNlglCZztkUceMX369PG1fTZ1yosAiMmTJ1sZHuxrK29lb3j55ZeNAiCCNG/2Bm17yCGHGAXfVK1a1deuDjvsMCtbid1WrFhhatWq5WtbdTrttNPM4sWLQ/2DBuv4PlAadCQAIg0uEqeIAAIIIIAAAggggAACCOSyAAEQuQzO4RBAAAEEEEAAAQQQQAABBJIjcPTRR5uffvoptDOVMBg/fryvnT/66KPmrrvuCvX94osvrJfhKnmgVrduXbNo0SJf+3rjjTdM27ZtXX3nz59vzjjjDF/bZ1On3A6A2LFjh1UaQkEqzjZ8+HBXGYkg1+CWW24xzz77rGuTxo0bm9mzZ/vaTYECBcy+fftCfXVuFSpU8LWtOnmzjaj8RYMGDXxvn0kdCYDIpKvJWBBAAAEEEEAAAQQQQACB5AgQAJEcR/aCAAIIIIAAAggggAACCCCQywLeUgBaWf/rr78alSWI1y699NJQiYrixYubbdu2me7duxu9UFU76KCDrH/TZ/HajTfeaPRC3W7FihWzymnoRTfNLZDbARD9+vUz/fv3d52EylW88847CV+af/75xyq1snr1atc+3n//fSvTRKy2d+9eU7hwYVeXX375xZQrV873+ZQvX95s2rQp1D+bg20IgPB929ARAQQQQAABBBBAAAEEEMgaAQIgsuZSM1AEEEAAAQQQQAABBBBAILMEXnzxRdOlSxfXoFatWmVq1qwZc6D//fefKV26tNmPvWFqAAAgAElEQVS+fbvV78ILLzRTp0413kwOH374obnoooviop1wwgnmyy+/DPVr0qSJmTZtWtztvB1UomHZsmXm66+/tgI5du7cacqUKWPKli1rlT2oWLFi4H363WDPnj1m4cKF1rF///13I6MjjjjCXH311VaJh3hNmTNUykHZDBQgcPjhh5vatWubOnXqWOUm7JabARAak8wUyGI3jeWrr77KseWcOXPMWWed5WJRSZXPPvssJlUyxq9gic2bN4eOk5MACGXIWLlypVm7dq0VtLNr1y5TqFAh65rLTmVmqlevnpRgHt1Xusd07rq/FWSke0zHqFevXkLHIAAi3szkcwQQQAABBBBAAAEEEEAg+wQIgMi+a86IEUAAAQQQQAABBBBAAIGMEPjmm2/M8ccf7xrL0KFDzU033RRzfEuWLLFezNtt0KBB5p577rHKaaisht3uvvtu89BDD8Xc15YtW6yXuM5m788vsoIGtM2ECRNcK/u92yug4Prrr7fGd/DBB/vdvVXqQyU/7HbDDTeEMl0o4GHgwIFWRgS9nPc2BXboBXi09vLLL5vHH388VDrE208v62+77TZz++23W+ecjAAAvwN//fXXTbt27Vzdla1j2LBhfncRs58CHhYsWODqo6wQCoixW6Tx+j14tWrVrGANb8CD3+0VyBDpmmp7Bfc899xz5qOPPjL//vtvzF0WKVLECsBRdotrrrkmULkO7XvUqFFG98nnn39uBdZEaiVKlLD2/8ADD1glPmI1b9CDXw+7X04CRoIei/4IIIAAAggggAACCCCAAAK5L0AARO6bc0QEEEAAAQQQQAABBBBAAIEkCWiV+saNG0N7U8aCsWPHxtz7U089Ze64445QH63mP/PMM63/PuaYY8wPP/xg/e8GDRqYefPmxdzX+PHjTevWrV195s6daxo2bOhrhIMHDzYq06BsBX6bXhC/+uqrvo8RLQBixIgRpkePHubvv/+OeuhoARBazX/FFVeYmTNn+jptBW988MEHRmVK9ELd2YKWgPB1QGOs66Lr42zKQHD66af73UXMfvJTMImzeYNf8lsAxO7du41Kx7z77rsJGShAQfern6Z7QwEnClTy2woWLGjuu+8+6/+iNQIg/GrSDwEEEEAAAQQQQAABBBDITgECILLzujNqBBBAAAEEEEAAAQQQQCAjBNq0aWPGjRsXGkv58uVdARGRBtmiRQvz3nvvWR8VLlzYSv2v1fJqHTp0MGPGjLH+tzIW6DPvC3vnPm+55Rbz7LPPhv6paNGi1jZ6kRuraSV8t27dzPDhwxO6DjonBXo0b9487vaRAiBOOeUU6+V0vBYpAEIlJc477zyzdOnSeJu7Pq9ataqZPXt2WPmJVARAqJyIypzoWtjtyCOPtLJ8JKtt3brVCuhwtnPOOccVFJKfAiB0z11wwQW+g1YiOfkNgFDGBwWHqBxKIu26666zMkcccMABYZsTAJGIKNsggAACCCCAAAIIIIAAAtkjQABE9lxrRooAAggggAACCCCAAAIIZJxApJehKuugl+2Rml6MH3744UYvr9XOOuss88knn4S6jhw50nTt2jX03x9//LE599xzo7qdfPLJZvny5aHPFRgwY8aMuM79+/cPW0mvl73KYNG2bVtz4oknmpIlS5rNmzebTz/91CpZsXjxYtd+FaChjAY6h1jNGwChzBYqR2C/nG7cuLEV+KGsFWXLljW7du0y69ats8piqHRFpUqVXLu/9NJLzZQpU1z/VqpUKdO9e3erjIGyaOzbt898//33VlkPlSXRPtX0+cSJE13bpiIA4rvvvjPHHXec6ziXX365dT7JbM6MIdqvSjk4gy5UAqJv376hQ8pFJUOcTW7FihULOy2VVlGmEmWV2LFjR+hzla6wPfWPyuhQoUKFsO0VhKPyJnZTsI036EUlX7p06WJ0Dxx77LHm0EMPta6djrd+/Xqjkh6zZs2ySmVoXH4CIBSYo1IZzlagQAHTqlUro2tw6qmnWnNQARkKSNF8eeaZZ8KCU1S2pXfv3mHj0j1vX8dly5aZadOmhfpUrlzZXHnllTEv8c0332yOOuqoZN4G7AsBBBBAAAEEEEAAAQQQQCAfCRAAkY8uBqeCAAIIIIAAAggggAACCCAQTEAZCk444QTXRi+++KLp1KlTxB2tWrXK1KpVK/SZXk47XxJ/9dVXpkaNGqHP77//fqNghUhNL4TLlCljvci124ABA2Km71e/RYsWWcEGejluNwU76KXu2WefHfFYein94IMPhgVN6FyXLFliZbKI1rwBEHY/vSBXwEfHjh19o7/++uumXbt2rv7169e3SiqUK1cu4n4UTKHAB9lHaqkIgJg8ebJp2rSp63C6zs5gBN+DjtFRL/W95SR+/vnnsCwX9i4iZYQIOn45KzDGbvPnzzdnnHFG3OHUqVPHulfspkCWt99+O2aGE7uvgmXeeustK7NJrAADlbvQcZwBG8o28sYbb5jq1atHPce9e/daGSNU2sV5fyroxzlfvTvwBkBdeOGFZurUqXEt6IAAAggggAACCCCAAAIIIJC5AgRAZO61ZWQIIIAAAggggAACCCCAQFYIKGvBr7/+GhqrVsSPHj064tiff/55K1OB3bR6vEmTJq6+zv0pIEEr4CO1SZMmWS/2nU3ZGho1ahTTXcebPn16qI9eKms7Py+x+/TpYwYPHuzav1b2O7NWeA8eLQBCRrLy2xToUaVKFSszgN2UaUMBHQrgiNX0kv+0006LWJ4kaACAn/MdNmyYVWLE2YKO189xlKHhqaeecnVdsGCBqVevXsTN8yoAYs+ePUblWex20EEHGQVqRAta8TP2SH0UdKLgE7spO4kyrCizhJ/WsmVLV5YOBdvYJWkibU8AhB9V+iCAAAIIIIAAAggggAAC2SVAAER2XW9GiwACCCCAAAIIIIAAAghknMAVV1xhlWuwm0o2OF/SOwd81VVXWSvZ1ZSWf9u2beaQQw5xmThX9SuzgjI9FCpUKMytV69ernIGsfraGyvDhDJWqBSH3ZTmX+n+/bS///7bWhGvMh92q1mzZtTsCuoTKQAikZXyWll/8cUXu05TpREuuOACP6duIpVG0IapCIBQ2Qhvtof3338/LGDF14nH6BSplMkHH3xgLrnkkohb5VUAhOaDykPYTaU7lJkjmW3NmjVW6Rb73tb8Wrp0qfVvftumTZus85STmoKDNmzYYJXMiNQIgPArSz8EEEAAAQQQQAABBBBAIHsECIDInmvNSBFAAAEEEEAAAQQQQACBjBR47rnnTI8ePVxj0wtfBUJ4W/ny5Y1esqrVrVvXyl7gbUOGDDG333576J+jZXXQKn/n9rGyRdg7UxkGldWwm17wbty40Rx22GG+r41KfHTp0sXVf+XKlVFfNEcKgJgyZUpYMEO8E7j22mtdJQq0ul8vuP02vRjXy+0ffvjBtUkqAiAU/KAgCGebPXu2ady4sd/T9dXPe69oIwXjKIgmUsurAAjdYxUrVgydUvHixc3WrVutAINkNc0ZedhNBs7AJL/HadOmjRk3blyou8p0tG7dOuLmBED4VaUfAggggAACCCCAAAIIIJA9AgRAZM+1ZqQIIIAAAggggAACCCCAQEYK6OV/7dq1XWOLVO5AWROqVasW6qfyBU888USYyeLFi61yDXZ78MEHzb333uvqt3PnTlOqVCnz77//hv69X79+5oEHHohpfNFFFxmV3bCbMgUoY0CQ9ueff1or4pUNwm6xymB4AyCKFCliduzYYVQGIUirXr26Wbt2bWiTRx55xKgkR5AWqYRHbgVAqBTDWWedFeR04/Z9+umnzW233ebqlx8DIFS+pEyZMlY2E7spSEQBOclqCohZvnx5aHdvvPGGUTBD0OYtU3Prrbe6Aiuc+yMAIqgu/RFAAAEEEEAAAQQQQACBzBcgACLzrzEjRAABBBBAAAEEEEAAAQQyWkCZBRQQoBXtduvUqZNRpgRnGzlypOnatWvon9577z3TvHnzMJt9+/ZZwQ0KElBTiQeVenA2/bfKSDjbrFmzjLJAxGqlS5e2ym7YLVJwhZ+Ldeqpp7qyL0Qar70fbwBE/fr1zWeffebnMKE+CrooWbKkq3SHn/F6D/Luu++GZUdIRQBEpBIYEydONE2bNg007nidBwwYEBb0kh9LYGgc3gwe+jfdr927d7eygRQtWjTecKN+vn37dqN7W4EWdlNJjBo1agTep/ceueyyy8ykSZMi7ocAiMC8bIAAAggggAACCCCAAAIIZLwAARAZf4kZIAIIIIAAAggggAACCCCQ+QItW7Y0EyZMCA20atWqRhkfnK19+/bmtddes/7pgAMOMFu2bLFWxUdqzkwNxYoVs1bOFyhQINTVW2KhUKFCVp/ChQtHxVbGBvVztmhBGPGuWMeOHY2yXNgtViYJbwCEygmorECQ9tVXX4W9zN68ebM54ogjguzGyiChTBLOlooAiGHDhplu3bq5jjNmzBjTrl27QOcbr3PPnj3Nk08+6eq2YMECo/IokVpelcDQuXz//femTp06riwQ9jnqvj3jjDPMmWeeaRQg07BhQ1OiRIl4ww99rswPygCRitagQQMzb968iLsmACIV4uwTAQQQQAABBBBAAAEEEEhvAQIg0vv6cfYIIIAAAggggAACCCCAAALGmEilCDZu3GjKly8f8qlUqZL58ccfrf+uWbOmWbVqVVQ7bwYB70vtRo0amblz54a2139/+umnMa+FAgbKlSvn6pNoWYbbb7/dVRYgVlYHbwBErGwR0Qag8esYzqaAjoIFCwa6/yIZpCIAQhkDmjVr5jq3RLNtxBqggknGjx/v6vLzzz+bihUrRtwsLwMgdELK/NGqVSuzadOmmNdN5VFOOeUU06JFC9O2bVujuROrzZw505x33nmB7gW/nU844QSzevXqiN0JgPCrSD8EEEAAAQQQQAABBBBAIHsECIDInmvNSBFAAAEEEEAAAQQQQACBjBVYtmyZ9cLW2caNG2euuuoq65/Wr19vKleuHPr4pptuMkOHDo3qoWCGxo0bhz5/9NFHTe/eva3/1ktslYPYu3dv6PP77rvPqBxCrPbtt98aZaZwti+++MJalR+0eTNQnHjiiWblypURd+MNgLjhhhuMXhwHaTNmzLBKgdhN2TD++eefILuw+u7cudMUL17ctV0qAiAiWetlvsorJLPpntK9ZTdlTVCJE2UYidTyOgBC5/T777+bwYMHWyVinGVjorkoGEKZM7RNtIwfkUqbJMu5WrVqRhlIIjUCIJKlzH4QQAABBBBAAAEEEEAAgcwRIAAic64lI0EAAQQQQAABBBBAAAEEslbgv//+s8pZqAyF3ZxBDq+++qq59tprQ5+NHTvWXH311VG9vEEOzhITs2fPNuecc45rWwUIxFsBn18yQCQSAJFuGSD2799vSpUqZbZv3x66TkcddVQoA0gyJoqCBw477DDXrs4++2wza9asmPdVkSJFXJ8HDQBRFhHdS3abP3++Vb4iaFMGj48//tgoe4MCfpYuXRozqEXH1X2u7Cne9uGHHxrNEbsdeOCBplevXkFPKWJ/BV3ccccdET8jACIpxOwEAQQQQAABBBBAAAEEEMgoAQIgMupyMhgEEEAAAQQQQAABBBBAIHsFVPJApQ/s5ixzobIPL730UuizWGUK7E7OMhda2a+V83qxq0wPDzzwQGhfKgOhwIuiRYvGxNcL50KFCrn6vPfee6Z58+aBL1rHjh3N6NGjQ9s5AzS8O0tGBgitwK9Ro4Zr13oJHy0jQLQBrV271lSvXt31cdAAAL9YLVu2NBMmTHB1X7Rokalbt67fXcTsN3LkSNO1a1dXn3hlNvJDBohog9qzZ49ZuHChUVkWzaPFixeHdT322GPNmjVrwu7jzz//3Jx++umu/lu2bAkLEEkKvGMnBEAkW5T9IYAAAggggAACCCCAAALpL0AARPpfQ0aAAAIIIIAAAggggAACCCBgjHniiSfMnXfeGbJQGYJff/3Vegl73HHHme+++876TC9x7f8dC+6ee+4xDz/8cKiLXgifeuqp5vzzz7dWztutYcOGZu7cub6uQenSpa0SCXaL98I82k51HlqxbzcFeKikQaSWjACIP//80yr7ocwKdlOmA2U8CNIilUpIVQDEmDFjTIcOHVynF6/0SZCxNGjQwCj7grOtWrUqYoYEu09+DoDwjn358uWmR48eZs6cOa6PFPjRuXNn179t2LDBHHnkka5/U1YJBRGlshEAkUpd9o0AAggggAACCCCAAAIIpKcAARDped04awQQQAABBBBAAAEEEEAAAY/AF198Eba6Xy/c69WrZypWrBjqrVIYL7/8clw/b1r/J5980nTv3t0KBNi9e3doewVKDBo0KO7+1OGiiy4y06ZNC/W97LLLXFkr/Oxkx44dVlCHMkrYbfjw4WHZCOzPkhEAoX0pc4MyONjtkUceMX369PFzyqE+3nPRB6kKgNA1qlChgqsMRvHixY2yWejfc9LmzZtnzjzzTNcuVIbCGxDhPUY6BUDo3Pfu3WtOOukk13Vv1aqVeeedd8L4FFi0bt26hOZFotdC9/2NN94Y2vzCCy80U6dOTXR3bIcAAggggAACCCCAAAIIIJABAgRAZMBFZAgIIIAAAggggAACCCCAAALG7Nu3zyjDgrIV2O3WW2+1AiCuueaa0L+NGjXKXH/99XHJtJ9SpUqZ//77z+p7+eWXm969exut/Hc2BTQ0adIk7v7UYeDAgeb+++8P9T344IPNxo0bTZkyZXxtr04q5aGMD862cuVKc+KJJ0bcR7ICIBQ48uqrr4aOoSwUkcokRBuIskfoJfn69etdXVIVAKGD9O3bNyw45YorrjBvvfWWb29vx3///dfKBCJzZ/NTziTdAiA0vv79+5t+/fqFhnraaacZlbzwNpUDUXYIux199NHmm2++MbrHU9VeeeUVc91114V2f84555iZM2em6nDsFwEEEEAAAQQQQAABBBBAIA0ECIBIg4vEKSKAAAIIIIAAAggggAACCPgTuOSSS4wyN9jtlFNOsQIglCrfbnopq5IYfpqz1ISCFFRi4+677w5tWqBAAaukxSGHHOJnd9ZK+ho1arhKSWh/Dz30kK/t//nnH1O7dm0ri4HdFPjgfRnv3FmyAiC0sv7iiy92neeMGTPMeeed5+vcFXRw1VVXhfVNZQDEH3/8YXlv2rTJdVyVC/EGkfgahDHmjjvuME899ZSru0o9qORDvJaOARDKfNKzZ8/Q0KIFQCxYsMDUr1/fRfD444+7to3nE/Rzb0mVWrVqmRUrVgTdDf0RQAABBBBAAAEEEEAAAQQySIAAiAy6mAwFAQQQQAABBBBAAAEEEMh2gUcffdTohb/dDjzwQHPkkUeaH3/80fqn8uXLWxkX/DZlkHjmmWdC3StXruxK8++n7IH3WErT/9FHH4X+WSvk586dG1a+I9I5qtzGww8/7PooVvkLdUxWAIQyYVSpUsWVwaFatWpm4cKFpkSJEjFJN2/ebOrUqWM2bNgQ1i+VARA62IQJE0zLli1dx9V9MXr0aNO2bVu/t4LVT9k7lMXD2YoVK2ZlwpBFvJZXARDyV/mPokWLxjvFsM9btGhhlN3CbrIcP358xP147+2CBQtaAUl+g2S8O/3111/NEUccEfWc5a6ADLsVKlTI/Pbbb74DkgJjsAECCCCAAAIIIIAAAggggEC+FyAAIt9fIk4QAQQQQAABBBBAAAEEEEDAr0CkVejOba+88krz5ptv+t2deeedd4xKJkRrffr0MY888ojv/anjokWLTMOGDY1KKdhN2SXef/99698jNQUfKEvEfffd5/pY2Q2WLFliChcuHPUckhUAoQO8/vrrpl27dq5j6Zz1Qrxs2bIRz+GHH34wzZo1i7oyP9UBEDopXafBgweHnZ/KJzzxxBNWqZNYTWO44YYbjMqdONsBBxxgxo0bZ3Rf+Wl5FQChc7z55pvNjTfeaJWM8JsBRcE12sbZVILFWXbC+dmaNWusjCs7d+4M/bMCfDRHevToYZQxJV7Tva6AoKFDh1rBNevWrYu6yd69e82hhx5q/v7771CfXr16GQVC6drQEEAAAQQQQAABBBBAAAEEsk+AAIjsu+aMGAEEEEAAAQQQQAABBBDIWAEFFZQsWdLs2rUr4hife+4560Ww36aV8+XKlYvafcqUKWFlIfzsu3///qZfv36urspKcM0111j/p7IWyqqg48+ZM8cMGzbMfPHFF67+erGsgA+V+YjVkhkAoeNceumlRuN2ttKlS1svuBXoUKlSJbNv3z7rxbWyLzz//POhF+L6fOLEia5tcyMAYv/+/daL/BEjRoRR6QV68+bNrSwRCgyoUKGCFZyiTCF6of/2229bWQz0st3Z9IJd10WBEX5bXgZAtGnTJnSaKqOibA0q8aJ7TQE4ctAYlaXj888/N2PGjDGzZ892De3YY4+1yq3EyiShbBGylLmzKRNLx44dTePGjU3VqlWN7hndJ9u3b7esly9fbh33gw8+MMr8oFaxYkXz888/x+RVgJIClZxN56nAHGWP8AZdaP4fddRRfi8Z/RBAAAEEEEAAAQQQQAABBNJMgACINLtgnC4CCCCAAAIIIIAAAggggEBsgSZNmpjp06dH7LRixQpTq1atQIQqbfD111+HbXPQQQeZbdu2WaUFgjatcu/WrZvRCvtEmjI+jB071lx++eVxN092AITGrJIGS5cujXtsZwcFF+iFul6EO1tuBEDYx1Mmgr59+1ov3nPSdM1VQsOPv/M4+SUAIpGxKyBHpVtOP/30uJu/9dZb5vrrr48aiBR3B/+/g58ACAVOKOuEN0Al2jHmz59vVLqGhgACCCCAAAIIIIAAAgggkJkCBEBk5nVlVAgggAACCCCAAAIIIIBA1goMGjTIesntbSpzsHXr1sCp8Tt37mxGjRoVtr+6deta5Sxy0pSqX9kg9uzZ43s3Wt3+6quvmjPPPNPXNskOgNBB5aiV97NmzfJ1DsoyoKwRhx9+uClSpIhrm9wMgNCBlUmje/fuVnmFoE1ZH1q0aGGGDBmSUBaBvAqAUImS1q1bBx1uqL+ChlT+JEjw0KpVq0yXLl2sLCWJNGVuUNYKBZrEa8oace2115rffvstXldDAERcIjoggAACCCCAAAIIIIAAAmktQABEWl8+Th4BBBBAAAEEEEAAAQQQQMArMHfuXNOoUaMwmKZNm4aVX/Cjp2ADvVz1tjvvvNM89thjfnYRs49KDjz44INWuQiVvIjWFETQqVMnK3OEyl/4bakIgLCP/dJLL5knnnjCKhURqakEgUpj9OrVyxQqVMgkIwDA77jj9fv444+Nzl+BGX/88UfM7iqLocCHrl27GpWPSLQlY/wqyeK8T/y+0P/222/N5MmTzcyZM60ggHjBAgr2OOuss6x7v3379kYZTxJpM2bMMCo9o+wfKncRq6kMx9lnn22UxeXKK6+0Amb8tj///NMo84Syv6hMh4x27Nhh/vnnH9cu/Hr5PS79EEAAAQQQQAABBBBAAAEE8pcAARD563pwNggggAACCCCAAAIIIIAAAlkqsH//fqusxNq1a82WLVvMzp07TZkyZYyCCJRtwls6Ij8xabW/yots3LjReuGsF9fKFnDaaacl/OI8t8anciSrV682X331lVEwyq5du6wsISpzUalSJVOzZk1TpUqV3DqdXDvODz/8YJV2Wb9+vRWYoOCMokWLmpIlS5qqVauak046ySggIVlNZUd0f3/33XdWBhGVUlEgj46hUhc1atQwlStXNgceeGCyDsl+EEAAAQQQQAABBBBAAAEEslCAAIgsvOgMGQEEEEAAAQQQQAABBBBAAAEEEEAAAQQQQAABBBBAAAEEEEAAgUwTIAAi064o40EAAQQQQAABBBBAAAEEEEAAAQQQQAABBBBAAAEEEEAAAQQQQCALBQiAyMKLzpARQAABBBBAAAEEEEAAAQQQQAABBBBAAAEEEEAAAQQQQAABBBDINAECIDLtijIeBBBAAAEEEEAAAQQQQAABBBBAAAEEEEAAAQQQQAABBBBAAAEEslCAAIgsvOgMGQEEEEAAAQQQQAABBBBAAAEEEEAAAQQQQAABBBBAAAEEEEAAgUwTIAAi064o40EAAQQQQAABBBBAAAEEEEAAAQQQQAABBBBAAAEEEEAAAQQQQCALBQiAyMKLzpARQAABBBBAAAEEEEAAAQQQQAABBBBAAAEEEEAAAQQQQAABBBDINAECIDLtijIeBBBAAAEEEEAAAQQQQAABBBBAAAEEEEAAAQQQQAABBBBAAAEEslCAAIgsvOgMGQEEEEAAAQQQQAABBBBAAAEEEEAAAQQQQAABBBBAAAEEEEAAgUwTIAAi064o40EAAQQQQAABBBBAAAEEEEAAAQQQQAABBBBAAAEEEEAAAQQQQCALBQiAyMKLzpARQAABBBBAAAEEEEAAAQQQQAABBBBAAAEEEEAAAQQQQAABBBDINAECIDLtijIeBBBAAAEEEEAAAQQQQAABBBBAAAEEEEAAAQQQQAABBBBAAAEEslCAAIgsvOgMGQEEEEAAAQQQQAABBBBAAAEEEEAAAQQQQAABBBBAAAEEEEAAgUwTIAAi064o40EAAQQQQAABBBBAAAEEEEAAAQQQQAABBBBAAAEEEEAAAQQQQCALBQiAyMKLzpARQAABBBBAAAEEEEAAAQQQQAABBBBAAAEEEEAAAQQQQAABBBDINAECIDLtijIeBBBAAAEEEEAAAQQQQAABBBBAAAEEEEAAAQQQQAABBBBAAAEEslCAAIgsvOgMGQEEEEAAAQQQQAABBBBAAAEEEEAAAQQQQAABBBBAAAEEEEAAgUwTIAAi064o40EAAQQQQAABBBBAAAEEEEAAAQQQQAABBBBAAAEEEEAAAQQQQCALBWW2ZGYAAARQSURBVAiAyMKLzpARQAABBBBAAAEEEEAAAQQQQAABBBBAAAEEEEAAAQQQQAABBBDINAECIDLtijIeBBBAAAEEEEAAAQQQQAABBBBAAAEEEEAAAQQQQAABBBBAAAEEslCAAIgsvOgMGQEEEEAAAQQQQAABBBBAAAEEEEAAAQQQQAABBBBAAAEEEEAAgUwTIAAi064o40EAAQQQQAABBBBAAAEEEEAAAQQQQAABBBBAAAEEEEAAAQQQQCALBQiAyMKLzpARQAABBBBAAAEEEEAAAQQQQAABBBBAAAEEEEAAAQQQQAABBBDINAECIDLtijIeBBBAAAEEEEAAAQQQQAABBBBAAAEEEEAAAQQQQAABBBBAAAEEslCAAIgsvOgMGQEEEEAAAQQQQAABBBBAAAEEEEAAAQQQQAABBBBAAAEEEEAAgUwTIAAi064o40EAAQQQQAABBBBAAAEEEEAAAQQQQAABBBBAAAEEEEAAAQQQQCALBQiAyMKLzpARQAABBBBAAAEEEEAAAQQQQAABBBBAAAEEEEAAAQQQQAABBBDINAECIDLtijIeBBBAAAEEEEAAAQQQQAABBBBAAAEEEEAAAQQQQAABBBBAAAEEslCAAIgsvOgMGQEEEEAAAQQQQAABBBBAAAEEEEAAAQQQQAABBBBAAAEEEEAAgUwTIAAi064o40EAAQQQQAABBBBAAAEEEEAAAQQQQAABBBBAAAEEEEAAAQQQQCALBQiAyMKLzpARQAABBBBAAAEEEEAAAQQQQAABBBBAAAEEEEAAAQQQQAABBBDINAECIDLtijIeBBBAAAEEEEAAAQQQQAABBBBAAAEEEEAAAQQQQAABBBBAAAEEslCAAIgsvOgMGQEEEEAAAQQQQAABBBBAAAEEEEAAAQQQQAABBBBAAAEEEEAAgUwTIAAi064o40EAAQQQQAABBBBAAAEEEEAAAQQQQAABBBBAAAEEEEAAAQQQQCALBQiAyMKLzpARQAABBBBAAAEEEEAAAQQQQAABBBBAAAEEEEAAAQQQQAABBBDINAECIDLtijIeBBBAAAEEEEAAAQQQQAABBBBAAAEEEEAAAQQQQAABBBBAAAEEslCAAIgsvOgMGQEEEEAAAQQQQAABBBBAAAEEEEAAAQQQQAABBBBAAAEEEEAAgUwTIAAi064o40EAAQQQQAABBBBAAAEEEEAAAQQQQAABBBBAAAEEEEAAAQQQQCALBQiAyMKLzpARQAABBBBAAAEEEEAAAQQQQAABBBBAAAEEEEAAAQQQQAABBBDINAECIDLtijIeBBBAAAEEEEAAAQQQQAABBBBAAAEEEEAAAQQQQAABBBBAAAEEslCAAIgsvOgMGQEEEEAAAQQQQAABBBBAAAEEEEAAAQQQQAABBBBAAAEEEEAAgUwTIAAi064o40EAAQQQQAABBBBAAAEEEEAAAQQQQAABBBBAAAEEEEAAAQQQQCALBf4fKfJCLq+Od6UAAAAASUVORK5CYII=\" width=\"639.9999630089984\">"
      ],
      "text/plain": [
       "<IPython.core.display.HTML object>"
      ]
     },
     "metadata": {},
     "output_type": "display_data"
    }
   ],
   "source": [
    "# Dispersion plot\n",
    "\n",
    "# source: Inaugural Address Corpus\n",
    "text4.dispersion_plot([\"citizens\", \"democracy\", \"duty\", \"freedom\", \"America\"])"
   ]
  },
  {
   "cell_type": "code",
   "execution_count": 26,
   "metadata": {
    "scrolled": true
   },
   "outputs": [
    {
     "name": "stdout",
     "output_type": "stream",
     "text": [
      "Help on method dispersion_plot in module nltk.text:\n",
      "\n",
      "dispersion_plot(words) method of nltk.text.Text instance\n",
      "    Produce a plot showing the distribution of the words through the text.\n",
      "    Requires pylab to be installed.\n",
      "    \n",
      "    :param words: The words to be plotted\n",
      "    :type words: list(str)\n",
      "    :seealso: nltk.draw.dispersion_plot()\n",
      "\n"
     ]
    }
   ],
   "source": [
    "help(text4.dispersion_plot)"
   ]
  },
  {
   "cell_type": "markdown",
   "metadata": {},
   "source": [
    "### Generating text\n",
    "\n",
    "Note: depending on your version of NLTK `generate()` functionality may or may not work (NLTK version 3.7.4 or newer is required).\n",
    "* In case it does not work, please see subsection \"Saved version of generate() results\".\n",
    "\n"
   ]
  },
  {
   "cell_type": "code",
   "execution_count": 34,
   "metadata": {},
   "outputs": [
    {
     "ename": "TypeError",
     "evalue": "generate() got an unexpected keyword argument 'text_seed'",
     "output_type": "error",
     "traceback": [
      "\u001b[1;31m---------------------------------------------------------------------------\u001b[0m",
      "\u001b[1;31mTypeError\u001b[0m                                 Traceback (most recent call last)",
      "\u001b[1;32m<ipython-input-34-6b4ed3c2d701>\u001b[0m in \u001b[0;36m<module>\u001b[1;34m\u001b[0m\n\u001b[0;32m      3\u001b[0m \u001b[1;33m\u001b[0m\u001b[0m\n\u001b[0;32m      4\u001b[0m \u001b[1;31m# we need to supply seed words\u001b[0m\u001b[1;33m\u001b[0m\u001b[1;33m\u001b[0m\u001b[1;33m\u001b[0m\u001b[0m\n\u001b[1;32m----> 5\u001b[1;33m \u001b[0mtext1\u001b[0m\u001b[1;33m.\u001b[0m\u001b[0mgenerate\u001b[0m\u001b[1;33m(\u001b[0m\u001b[0mtext_seed\u001b[0m \u001b[1;33m=\u001b[0m \u001b[1;33m[\u001b[0m\u001b[1;34m\"Why\"\u001b[0m\u001b[1;33m,\u001b[0m \u001b[1;34m\"is\"\u001b[0m\u001b[1;33m,\u001b[0m \u001b[1;34m\"it\"\u001b[0m\u001b[1;33m]\u001b[0m\u001b[1;33m)\u001b[0m\u001b[1;33m\u001b[0m\u001b[1;33m\u001b[0m\u001b[0m\n\u001b[0m",
      "\u001b[1;31mTypeError\u001b[0m: generate() got an unexpected keyword argument 'text_seed'"
     ]
    }
   ],
   "source": [
    "# Generate text (based on example)\n",
    "# https://www.nltk.org/api/nltk.html#nltk.text.Text.generate\n",
    "\n",
    "# we need to supply seed words\n",
    "text1.generate(text_seed = [\"Why\", \"is\", \"it\"])"
   ]
  },
  {
   "cell_type": "markdown",
   "metadata": {},
   "source": [
    "---\n",
    "\n",
    "**NLTK `generate()` builds a [trigram] language model from the supplied text** (words are generated based on previous two words).\n",
    "\n",
    "For more information see nltk.lm: https://www.nltk.org/api/nltk.lm.html"
   ]
  },
  {
   "cell_type": "markdown",
   "metadata": {},
   "source": [
    "**Saved version of `generate()` results:**\n",
    "    \n",
    "`text1.generate(text_seed = [\"Why\", \"is\", \"it\"])`\n",
    "\n",
    "*Building ngram index...*\n",
    "\n",
    "```\n",
    "Why is it stripped off from some mountain torrent we had flip ? , so as to\n",
    "preserve all his might had in former years abounding with them , they\n",
    "toil with their lances , strange tales of Southern whaling .\n",
    "conceivable that this fine old Dutch Fishery , a most wealthy example\n",
    "of the sea - captain orders me to admire the magnanimity of the whole\n",
    ", and many whalemen , but dumplings ; good white cedar of the ship\n",
    "casts off her cables ; and chewed it noiselessly ; and though there\n",
    "are birds called grey albatrosses ; and yet faster\n",
    "```\n"
   ]
  },
  {
   "cell_type": "code",
   "execution_count": 28,
   "metadata": {},
   "outputs": [
    {
     "name": "stdout",
     "output_type": "stream",
     "text": [
      "Help on method generate in module nltk.text:\n",
      "\n",
      "generate(length=100, text_seed=None, random_seed=42) method of nltk.text.Text instance\n",
      "    Print random text, generated using a trigram language model.\n",
      "    See also `help(nltk.lm)`.\n",
      "    \n",
      "    :param length: The length of text to generate (default=100)\n",
      "    :type length: int\n",
      "    \n",
      "    :param text_seed: Generation can be conditioned on preceding context.\n",
      "    :type text_seed: list(str)\n",
      "    \n",
      "    :param random_seed: A random seed or an instance of `random.Random`. If provided,\n",
      "    makes the random sampling part of generation reproducible. (default=42)\n",
      "    :type random_seed: int\n",
      "\n"
     ]
    }
   ],
   "source": [
    "help(text1.generate)"
   ]
  },
  {
   "cell_type": "markdown",
   "metadata": {},
   "source": [
    "---\n",
    "\n",
    "## Your turn!\n",
    "\n",
    "Choose some text and **explore it using NLTK** (following the examples in this notebook).\n",
    "\n",
    "**Write code in notebook cells below**.\n",
    "* add more cells (use \"+\" icon) if necessary\n",
    "\n",
    "You may use NLTK text corpora or load your own text."
   ]
  },
  {
   "cell_type": "code",
   "execution_count": null,
   "metadata": {},
   "outputs": [],
   "source": []
  },
  {
   "cell_type": "code",
   "execution_count": null,
   "metadata": {},
   "outputs": [],
   "source": []
  },
  {
   "cell_type": "code",
   "execution_count": null,
   "metadata": {},
   "outputs": [],
   "source": []
  }
 ],
 "metadata": {
  "kernelspec": {
   "display_name": "Python 3",
   "language": "python",
   "name": "python3"
  },
  "language_info": {
   "codemirror_mode": {
    "name": "ipython",
    "version": 3
   },
   "file_extension": ".py",
   "mimetype": "text/x-python",
   "name": "python",
   "nbconvert_exporter": "python",
   "pygments_lexer": "ipython3",
   "version": "3.7.3"
  }
 },
 "nbformat": 4,
 "nbformat_minor": 2
}
