{
 "cells": [
  {
   "cell_type": "markdown",
   "metadata": {},
   "source": [
    "## Natural Language Toolkit (NLTK)\n",
    "\n",
    "**NLTK** is a leading platform for building Python programs to work with human language data. It provides easy-to-use interfaces to [over 50 corpora and lexical resources](http://www.nltk.org/nltk_data/) such as WordNet, along with a suite of text processing libraries for classification, tokenization, stemming, tagging, parsing, and semantic reasoning, wrappers for industrial-strength NLP libraries, and an active discussion forum.\n",
    "\n",
    "http://www.nltk.org/\n",
    "\n",
    "NLTK library documentation (reference) = *Use it to look up how to use a particular NLTK library function*\n",
    "* https://www.nltk.org/api/nltk.html\n",
    "\n",
    "---\n",
    "\n",
    "NLTK wiki (collaboratively edited documentation):\n",
    "* https://github.com/nltk/nltk/wiki"
   ]
  },
  {
   "cell_type": "markdown",
   "metadata": {},
   "source": [
    "### Book: Natural Language Processing with Python \n",
    "\n",
    "NLTK book provides a practical introduction to programming for language processing.\n",
    "\n",
    "Written by the creators of NLTK, it guides the reader through the fundamentals of writing Python programs, working with corpora, categorizing text, analyzing linguistic structure, and more.\n",
    "\n",
    "Online: http://www.nltk.org/book/\n",
    "\n",
    "* we will start with Chapter 1: [\"Language Processing and Python\"](http://www.nltk.org/book/ch01.html)\n",
    "\n",
    "---"
   ]
  },
  {
   "cell_type": "code",
   "execution_count": 3,
   "metadata": {},
   "outputs": [],
   "source": [
    "# configuration for the notebook \n",
    "%matplotlib notebook"
   ]
  },
  {
   "cell_type": "markdown",
   "metadata": {},
   "source": [
    "## 1) Getting started\n",
    "\n",
    "NLTK book: http://www.nltk.org/book/ch01.html#getting-started-with-nltk\n",
    "\n",
    "* Loading NLTK (Python module)\n",
    "* Downloading NLTK language resources (corpora, ...)\n"
   ]
  },
  {
   "cell_type": "code",
   "execution_count": 4,
   "metadata": {},
   "outputs": [],
   "source": [
    "# In order to use a Python library, we need to import (load) it\n",
    "\n",
    "import nltk\n"
   ]
  },
  {
   "cell_type": "code",
   "execution_count": 5,
   "metadata": {},
   "outputs": [
    {
     "data": {
      "text/plain": [
       "'3.4'"
      ]
     },
     "execution_count": 5,
     "metadata": {},
     "output_type": "execute_result"
    }
   ],
   "source": [
    "# Let's check what NLTK version we have (for easier troubleshooting and reproducibility)\n",
    "nltk.__version__"
   ]
  },
  {
   "cell_type": "code",
   "execution_count": null,
   "metadata": {},
   "outputs": [],
   "source": [
    "# If your NLTK version is lower than 3.4.3 please update if possible.\n",
    "\n",
    "# Updating in Anaconde can be done using this command: \n",
    "# conda update nltk"
   ]
  },
  {
   "cell_type": "markdown",
   "metadata": {},
   "source": [
    "### nltk.Text\n",
    "\n",
    "**`ntlk.Text` is a simple NLTK helper for loading and exploring textual content (a sequence of words / string tokens):**\n",
    "\n",
    "... intended to support initial exploration of texts (via the interactive console). It can perform a variety of analyses on the text’s contexts (e.g., counting, concordancing, collocation discovery), and display the results.\n",
    "\n",
    "Documentation: [nltk.Text](https://www.nltk.org/api/nltk.html#nltk.text.Text)\n",
    "* lists what we can do with text once it is loaded into nltk.Text(...)"
   ]
  },
  {
   "cell_type": "code",
   "execution_count": 6,
   "metadata": {},
   "outputs": [
    {
     "data": {
      "text/plain": [
       "<Text: This is just an example Another example here...>"
      ]
     },
     "execution_count": 6,
     "metadata": {},
     "output_type": "execute_result"
    }
   ],
   "source": [
    "# Now we can try a simple example:\n",
    "\n",
    "my_word_list = [\"This\", \"is\", \"just\", \"an\", \"example\", \"Another\", \"example\", \"here\"]\n",
    "my_text = nltk.Text(my_word_list)\n",
    "\n",
    "my_text"
   ]
  },
  {
   "cell_type": "code",
   "execution_count": 7,
   "metadata": {},
   "outputs": [
    {
     "data": {
      "text/plain": [
       "nltk.text.Text"
      ]
     },
     "execution_count": 7,
     "metadata": {},
     "output_type": "execute_result"
    }
   ],
   "source": [
    "type(my_text)"
   ]
  },
  {
   "cell_type": "code",
   "execution_count": 8,
   "metadata": {},
   "outputs": [
    {
     "data": {
      "text/plain": [
       "2"
      ]
     },
     "execution_count": 8,
     "metadata": {},
     "output_type": "execute_result"
    }
   ],
   "source": [
    "# How many times does the word \"example\" appear?\n",
    "my_text.count(\"example\")\n",
    "\n",
    "# Notes:\n",
    "#  - my_text = our text, processed (loaded) by NLTK\n",
    "#     - technically: a Python object\n",
    "#  - my_text.count(...) = requesting the object to perform a .count(...) function and return the result\n",
    "#     - technically: calling a .count() method"
   ]
  },
  {
   "cell_type": "code",
   "execution_count": 9,
   "metadata": {},
   "outputs": [
    {
     "data": {
      "text/plain": [
       "0"
      ]
     },
     "execution_count": 9,
     "metadata": {},
     "output_type": "execute_result"
    }
   ],
   "source": [
    "# count works on tokens (full words in this case)\n",
    "my_text.count('exam')"
   ]
  },
  {
   "cell_type": "code",
   "execution_count": 10,
   "metadata": {},
   "outputs": [
    {
     "data": {
      "text/plain": [
       "False"
      ]
     },
     "execution_count": 10,
     "metadata": {},
     "output_type": "execute_result"
    }
   ],
   "source": [
    "'exam' in my_text"
   ]
  },
  {
   "cell_type": "code",
   "execution_count": 11,
   "metadata": {},
   "outputs": [
    {
     "data": {
      "text/plain": [
       "True"
      ]
     },
     "execution_count": 11,
     "metadata": {},
     "output_type": "execute_result"
    }
   ],
   "source": [
    "'example' in my_text"
   ]
  },
  {
   "cell_type": "markdown",
   "metadata": {},
   "source": [
    "### Tokenizing\n",
    "\n",
    "Let's convert a text string into nltk.Text.\n",
    "First, we need to split it into tokens (to *tokenize* it). "
   ]
  },
  {
   "cell_type": "code",
   "execution_count": null,
   "metadata": {},
   "outputs": [],
   "source": [
    "# We need to download a package containing punctuation before we can tokenize\n",
    "import nltk\n",
    "nltk.download('punkt')"
   ]
  },
  {
   "cell_type": "code",
   "execution_count": 12,
   "metadata": {},
   "outputs": [
    {
     "data": {
      "text/plain": [
       "['NLTK', 'has', 'been', 'called', '“', 'a']"
      ]
     },
     "execution_count": 12,
     "metadata": {},
     "output_type": "execute_result"
    }
   ],
   "source": [
    "# Splitting text into tokens (words, ...) = tokenizing\n",
    "\n",
    "from nltk.tokenize import word_tokenize\n",
    "\n",
    "excerpt = \"NLTK has been called “a wonderful tool for teaching, and working in, computational linguistics using Python,” and “an amazing library to play with natural language.”\"\n",
    "tokens = word_tokenize(excerpt)\n",
    "\n",
    "tokens[:6]"
   ]
  },
  {
   "cell_type": "code",
   "execution_count": 13,
   "metadata": {},
   "outputs": [
    {
     "name": "stdout",
     "output_type": "stream",
     "text": [
      "1\n"
     ]
    }
   ],
   "source": [
    "my_text2 = nltk.Text(tokens)\n",
    "\n",
    "print(my_text2.count(\"NLTK\"))"
   ]
  },
  {
   "cell_type": "code",
   "execution_count": 15,
   "metadata": {},
   "outputs": [
    {
     "name": "stdout",
     "output_type": "stream",
     "text": [
      "Displaying 1 of 1 matches:\n",
      "nguistics using Python , ” and “ an amazing library to play with natural langua\n"
     ]
    }
   ],
   "source": [
    "my_text2.concordance('amazing')"
   ]
  },
  {
   "cell_type": "markdown",
   "metadata": {},
   "source": [
    "### Downloading NLTK language resources\n",
    "\n",
    "NLTK also contains many language resources (corpora, ...) but you have select and download them separately (in order to save disk space and only download what is needed).\n",
    "\n",
    "Let's download text collections used in the NLTK book: \n",
    "* `nltk.download(\"book\")`\n",
    "\n",
    "Note: you can also download resources interactively:\n",
    "* `nltk.download()`"
   ]
  },
  {
   "cell_type": "code",
   "execution_count": 16,
   "metadata": {},
   "outputs": [
    {
     "name": "stderr",
     "output_type": "stream",
     "text": [
      "[nltk_data] Downloading collection 'book'\n",
      "[nltk_data]    | \n",
      "[nltk_data]    | Downloading package abc to\n",
      "[nltk_data]    |     C:\\Users\\val-p1\\AppData\\Roaming\\nltk_data...\n",
      "[nltk_data]    |   Package abc is already up-to-date!\n",
      "[nltk_data]    | Downloading package brown to\n",
      "[nltk_data]    |     C:\\Users\\val-p1\\AppData\\Roaming\\nltk_data...\n",
      "[nltk_data]    |   Package brown is already up-to-date!\n",
      "[nltk_data]    | Downloading package chat80 to\n",
      "[nltk_data]    |     C:\\Users\\val-p1\\AppData\\Roaming\\nltk_data...\n",
      "[nltk_data]    |   Package chat80 is already up-to-date!\n",
      "[nltk_data]    | Downloading package cmudict to\n",
      "[nltk_data]    |     C:\\Users\\val-p1\\AppData\\Roaming\\nltk_data...\n",
      "[nltk_data]    |   Package cmudict is already up-to-date!\n",
      "[nltk_data]    | Downloading package conll2000 to\n",
      "[nltk_data]    |     C:\\Users\\val-p1\\AppData\\Roaming\\nltk_data...\n",
      "[nltk_data]    |   Package conll2000 is already up-to-date!\n",
      "[nltk_data]    | Downloading package conll2002 to\n",
      "[nltk_data]    |     C:\\Users\\val-p1\\AppData\\Roaming\\nltk_data...\n",
      "[nltk_data]    |   Package conll2002 is already up-to-date!\n",
      "[nltk_data]    | Downloading package dependency_treebank to\n",
      "[nltk_data]    |     C:\\Users\\val-p1\\AppData\\Roaming\\nltk_data...\n",
      "[nltk_data]    |   Package dependency_treebank is already up-to-date!\n",
      "[nltk_data]    | Downloading package genesis to\n",
      "[nltk_data]    |     C:\\Users\\val-p1\\AppData\\Roaming\\nltk_data...\n",
      "[nltk_data]    |   Package genesis is already up-to-date!\n",
      "[nltk_data]    | Downloading package gutenberg to\n",
      "[nltk_data]    |     C:\\Users\\val-p1\\AppData\\Roaming\\nltk_data...\n",
      "[nltk_data]    |   Package gutenberg is already up-to-date!\n",
      "[nltk_data]    | Downloading package ieer to\n",
      "[nltk_data]    |     C:\\Users\\val-p1\\AppData\\Roaming\\nltk_data...\n",
      "[nltk_data]    |   Package ieer is already up-to-date!\n",
      "[nltk_data]    | Downloading package inaugural to\n",
      "[nltk_data]    |     C:\\Users\\val-p1\\AppData\\Roaming\\nltk_data...\n",
      "[nltk_data]    |   Package inaugural is already up-to-date!\n",
      "[nltk_data]    | Downloading package movie_reviews to\n",
      "[nltk_data]    |     C:\\Users\\val-p1\\AppData\\Roaming\\nltk_data...\n",
      "[nltk_data]    |   Package movie_reviews is already up-to-date!\n",
      "[nltk_data]    | Downloading package nps_chat to\n",
      "[nltk_data]    |     C:\\Users\\val-p1\\AppData\\Roaming\\nltk_data...\n",
      "[nltk_data]    |   Package nps_chat is already up-to-date!\n",
      "[nltk_data]    | Downloading package names to\n",
      "[nltk_data]    |     C:\\Users\\val-p1\\AppData\\Roaming\\nltk_data...\n",
      "[nltk_data]    |   Package names is already up-to-date!\n",
      "[nltk_data]    | Downloading package ppattach to\n",
      "[nltk_data]    |     C:\\Users\\val-p1\\AppData\\Roaming\\nltk_data...\n",
      "[nltk_data]    |   Package ppattach is already up-to-date!\n",
      "[nltk_data]    | Downloading package reuters to\n",
      "[nltk_data]    |     C:\\Users\\val-p1\\AppData\\Roaming\\nltk_data...\n",
      "[nltk_data]    |   Package reuters is already up-to-date!\n",
      "[nltk_data]    | Downloading package senseval to\n",
      "[nltk_data]    |     C:\\Users\\val-p1\\AppData\\Roaming\\nltk_data...\n",
      "[nltk_data]    |   Package senseval is already up-to-date!\n",
      "[nltk_data]    | Downloading package state_union to\n",
      "[nltk_data]    |     C:\\Users\\val-p1\\AppData\\Roaming\\nltk_data...\n",
      "[nltk_data]    |   Package state_union is already up-to-date!\n",
      "[nltk_data]    | Downloading package stopwords to\n",
      "[nltk_data]    |     C:\\Users\\val-p1\\AppData\\Roaming\\nltk_data...\n",
      "[nltk_data]    |   Package stopwords is already up-to-date!\n",
      "[nltk_data]    | Downloading package swadesh to\n",
      "[nltk_data]    |     C:\\Users\\val-p1\\AppData\\Roaming\\nltk_data...\n",
      "[nltk_data]    |   Package swadesh is already up-to-date!\n",
      "[nltk_data]    | Downloading package timit to\n",
      "[nltk_data]    |     C:\\Users\\val-p1\\AppData\\Roaming\\nltk_data...\n",
      "[nltk_data]    |   Package timit is already up-to-date!\n",
      "[nltk_data]    | Downloading package treebank to\n",
      "[nltk_data]    |     C:\\Users\\val-p1\\AppData\\Roaming\\nltk_data...\n",
      "[nltk_data]    |   Package treebank is already up-to-date!\n",
      "[nltk_data]    | Downloading package toolbox to\n",
      "[nltk_data]    |     C:\\Users\\val-p1\\AppData\\Roaming\\nltk_data...\n",
      "[nltk_data]    |   Package toolbox is already up-to-date!\n",
      "[nltk_data]    | Downloading package udhr to\n",
      "[nltk_data]    |     C:\\Users\\val-p1\\AppData\\Roaming\\nltk_data...\n",
      "[nltk_data]    |   Package udhr is already up-to-date!\n",
      "[nltk_data]    | Downloading package udhr2 to\n",
      "[nltk_data]    |     C:\\Users\\val-p1\\AppData\\Roaming\\nltk_data...\n",
      "[nltk_data]    |   Package udhr2 is already up-to-date!\n",
      "[nltk_data]    | Downloading package unicode_samples to\n",
      "[nltk_data]    |     C:\\Users\\val-p1\\AppData\\Roaming\\nltk_data...\n",
      "[nltk_data]    |   Package unicode_samples is already up-to-date!\n",
      "[nltk_data]    | Downloading package webtext to\n",
      "[nltk_data]    |     C:\\Users\\val-p1\\AppData\\Roaming\\nltk_data...\n",
      "[nltk_data]    |   Package webtext is already up-to-date!\n",
      "[nltk_data]    | Downloading package wordnet to\n",
      "[nltk_data]    |     C:\\Users\\val-p1\\AppData\\Roaming\\nltk_data...\n",
      "[nltk_data]    |   Package wordnet is already up-to-date!\n",
      "[nltk_data]    | Downloading package wordnet_ic to\n",
      "[nltk_data]    |     C:\\Users\\val-p1\\AppData\\Roaming\\nltk_data...\n",
      "[nltk_data]    |   Package wordnet_ic is already up-to-date!\n",
      "[nltk_data]    | Downloading package words to\n",
      "[nltk_data]    |     C:\\Users\\val-p1\\AppData\\Roaming\\nltk_data...\n",
      "[nltk_data]    |   Package words is already up-to-date!\n",
      "[nltk_data]    | Downloading package maxent_treebank_pos_tagger to\n",
      "[nltk_data]    |     C:\\Users\\val-p1\\AppData\\Roaming\\nltk_data...\n",
      "[nltk_data]    |   Package maxent_treebank_pos_tagger is already up-\n",
      "[nltk_data]    |       to-date!\n",
      "[nltk_data]    | Downloading package maxent_ne_chunker to\n",
      "[nltk_data]    |     C:\\Users\\val-p1\\AppData\\Roaming\\nltk_data...\n",
      "[nltk_data]    |   Package maxent_ne_chunker is already up-to-date!\n",
      "[nltk_data]    | Downloading package universal_tagset to\n",
      "[nltk_data]    |     C:\\Users\\val-p1\\AppData\\Roaming\\nltk_data...\n",
      "[nltk_data]    |   Package universal_tagset is already up-to-date!\n",
      "[nltk_data]    | Downloading package punkt to\n",
      "[nltk_data]    |     C:\\Users\\val-p1\\AppData\\Roaming\\nltk_data...\n",
      "[nltk_data]    |   Package punkt is already up-to-date!\n",
      "[nltk_data]    | Downloading package book_grammars to\n",
      "[nltk_data]    |     C:\\Users\\val-p1\\AppData\\Roaming\\nltk_data...\n",
      "[nltk_data]    |   Package book_grammars is already up-to-date!\n",
      "[nltk_data]    | Downloading package city_database to\n",
      "[nltk_data]    |     C:\\Users\\val-p1\\AppData\\Roaming\\nltk_data...\n",
      "[nltk_data]    |   Package city_database is already up-to-date!\n",
      "[nltk_data]    | Downloading package tagsets to\n",
      "[nltk_data]    |     C:\\Users\\val-p1\\AppData\\Roaming\\nltk_data...\n",
      "[nltk_data]    |   Package tagsets is already up-to-date!\n",
      "[nltk_data]    | Downloading package panlex_swadesh to\n",
      "[nltk_data]    |     C:\\Users\\val-p1\\AppData\\Roaming\\nltk_data...\n",
      "[nltk_data]    |   Package panlex_swadesh is already up-to-date!\n",
      "[nltk_data]    | Downloading package averaged_perceptron_tagger to\n",
      "[nltk_data]    |     C:\\Users\\val-p1\\AppData\\Roaming\\nltk_data...\n",
      "[nltk_data]    |   Package averaged_perceptron_tagger is already up-\n",
      "[nltk_data]    |       to-date!\n",
      "[nltk_data]    | \n",
      "[nltk_data]  Done downloading collection book\n"
     ]
    },
    {
     "data": {
      "text/plain": [
       "True"
      ]
     },
     "execution_count": 16,
     "metadata": {},
     "output_type": "execute_result"
    }
   ],
   "source": [
    "# this is a big download of all book packages\n",
    "nltk.download(\"book\")"
   ]
  },
  {
   "cell_type": "code",
   "execution_count": 17,
   "metadata": {},
   "outputs": [
    {
     "name": "stdout",
     "output_type": "stream",
     "text": [
      "*** Introductory Examples for the NLTK Book ***\n",
      "Loading text1, ..., text9 and sent1, ..., sent9\n",
      "Type the name of the text or sentence to view it.\n",
      "Type: 'texts()' or 'sents()' to list the materials.\n",
      "text1: Moby Dick by Herman Melville 1851\n",
      "text2: Sense and Sensibility by Jane Austen 1811\n",
      "text3: The Book of Genesis\n",
      "text4: Inaugural Address Corpus\n",
      "text5: Chat Corpus\n",
      "text6: Monty Python and the Holy Grail\n",
      "text7: Wall Street Journal\n",
      "text8: Personals Corpus\n",
      "text9: The Man Who Was Thursday by G . K . Chesterton 1908\n"
     ]
    }
   ],
   "source": [
    "# After downloading the reources we still need to import them\n",
    "\n",
    "# Let's import all NLTK book resource (*)\n",
    "from nltk.book import *"
   ]
  },
  {
   "cell_type": "markdown",
   "metadata": {},
   "source": [
    "## 2) Exploring textual content"
   ]
  },
  {
   "cell_type": "code",
   "execution_count": 19,
   "metadata": {},
   "outputs": [
    {
     "data": {
      "text/plain": [
       "1"
      ]
     },
     "execution_count": 19,
     "metadata": {},
     "output_type": "execute_result"
    }
   ],
   "source": [
    "text6.count(\"spam\")"
   ]
  },
  {
   "cell_type": "code",
   "execution_count": 20,
   "metadata": {},
   "outputs": [
    {
     "data": {
      "text/plain": [
       "nltk.text.Text"
      ]
     },
     "execution_count": 20,
     "metadata": {},
     "output_type": "execute_result"
    }
   ],
   "source": [
    "# text1, ... resources are of type nltk.Text (same as in the earlier example):\n",
    "\n",
    "type(text1)"
   ]
  },
  {
   "cell_type": "code",
   "execution_count": 21,
   "metadata": {},
   "outputs": [
    {
     "name": "stdout",
     "output_type": "stream",
     "text": [
      "906\n"
     ]
    }
   ],
   "source": [
    "# We can run all methods that nltk.Text has.\n",
    "\n",
    "# Count words:\n",
    "print(text1.count(\"whale\"))"
   ]
  },
  {
   "cell_type": "code",
   "execution_count": 34,
   "metadata": {},
   "outputs": [],
   "source": [
    "mlist = text1.concordance_list(\"Ishmael\")"
   ]
  },
  {
   "cell_type": "code",
   "execution_count": 36,
   "metadata": {},
   "outputs": [
    {
     "data": {
      "text/plain": [
       "20"
      ]
     },
     "execution_count": 36,
     "metadata": {},
     "output_type": "execute_result"
    }
   ],
   "source": [
    "len(mlist)"
   ]
  },
  {
   "cell_type": "code",
   "execution_count": 37,
   "metadata": {},
   "outputs": [
    {
     "name": "stdout",
     "output_type": "stream",
     "text": [
      "ConcordanceLine(left=['right', ',', 'And', 'King', 'of', 'the', 'boundless', 'sea', '.\"', '--', 'WHALE', 'SONG', '.', 'CHAPTER', '1', 'Loomings', '.', 'Call', 'me'], query='Ishmael', right=['.', 'Some', 'years', 'ago', '--', 'never', 'mind', 'how', 'long', 'precisely', '--', 'having', 'little', 'or', 'no', 'money', 'in', 'my'], offset=4714, left_print='SONG . CHAPTER 1 Loomings . Call me', right_print='. Some years ago -- never mind how ', line='SONG . CHAPTER 1 Loomings . Call me Ishmael . Some years ago -- never mind how ')\n"
     ]
    }
   ],
   "source": [
    "print(mlist[0])"
   ]
  },
  {
   "cell_type": "code",
   "execution_count": 38,
   "metadata": {},
   "outputs": [
    {
     "data": {
      "text/plain": [
       "nltk.text.ConcordanceLine"
      ]
     },
     "execution_count": 38,
     "metadata": {},
     "output_type": "execute_result"
    }
   ],
   "source": [
    "type(mlist[0])"
   ]
  },
  {
   "cell_type": "code",
   "execution_count": 39,
   "metadata": {},
   "outputs": [
    {
     "data": {
      "text/plain": [
       "[['right',\n",
       "  ',',\n",
       "  'And',\n",
       "  'King',\n",
       "  'of',\n",
       "  'the',\n",
       "  'boundless',\n",
       "  'sea',\n",
       "  '.\"',\n",
       "  '--',\n",
       "  'WHALE',\n",
       "  'SONG',\n",
       "  '.',\n",
       "  'CHAPTER',\n",
       "  '1',\n",
       "  'Loomings',\n",
       "  '.',\n",
       "  'Call',\n",
       "  'me'],\n",
       " 'Ishmael',\n",
       " ['.',\n",
       "  'Some',\n",
       "  'years',\n",
       "  'ago',\n",
       "  '--',\n",
       "  'never',\n",
       "  'mind',\n",
       "  'how',\n",
       "  'long',\n",
       "  'precisely',\n",
       "  '--',\n",
       "  'having',\n",
       "  'little',\n",
       "  'or',\n",
       "  'no',\n",
       "  'money',\n",
       "  'in',\n",
       "  'my'],\n",
       " 4714,\n",
       " 'SONG . CHAPTER 1 Loomings . Call me',\n",
       " '. Some years ago -- never mind how ',\n",
       " 'SONG . CHAPTER 1 Loomings . Call me Ishmael . Some years ago -- never mind how ']"
      ]
     },
     "execution_count": 39,
     "metadata": {},
     "output_type": "execute_result"
    }
   ],
   "source": [
    "list(mlist[0])"
   ]
  },
  {
   "cell_type": "code",
   "execution_count": null,
   "metadata": {},
   "outputs": [],
   "source": [
    "mlist[0]"
   ]
  },
  {
   "cell_type": "code",
   "execution_count": 23,
   "metadata": {},
   "outputs": [
    {
     "name": "stdout",
     "output_type": "stream",
     "text": [
      "Displaying 7 of 7 matches:\n",
      "r , if possible , to discover a passage through it\n",
      "whales , in order to discover when they were nigh \n",
      " new distances , and discover sights more sweet an\n",
      "ain , you will often discover images as of the pet\n",
      "ss unknown worlds to discover his one superficial \n",
      "or hours , and never discover that organ . The ear\n",
      "man ' s ; Ahab could discover no sign in the sea .\n"
     ]
    }
   ],
   "source": [
    "# https://www.nltk.org/api/nltk.html#nltk.text.Text.concordance\n",
    "\n",
    "# Print concordance view (occurences of a word, in context):\n",
    "text1.concordance(\"discover\", width=50)"
   ]
  },
  {
   "cell_type": "code",
   "execution_count": 24,
   "metadata": {},
   "outputs": [
    {
     "name": "stdout",
     "output_type": "stream",
     "text": [
      "Displaying 25 of 316 matches:\n",
      " to the character of an independent nation seems to have been distinguished by\n",
      "f Heaven can never be expected on a nation that disregards the eternal rules o\n",
      "first , the representatives of this nation , then consisting of little more th\n",
      ", situation , and relations of this nation and country than any which had ever\n",
      ", prosperity , and happiness of the nation I have acquired an habitual attachm\n",
      "an be no spectacle presented by any nation more pleasing , more noble , majest\n",
      "party for its own ends , not of the nation for the national good . If that sol\n",
      "tures and the people throughout the nation . On this subject it might become m\n",
      "if a personal esteem for the French nation , formed in a residence of seven ye\n",
      "f our fellow - citizens by whatever nation , and if success can not be obtaine\n",
      "y , continue His blessing upon this nation and its Government and give it all \n",
      "powers so justly inspire . A rising nation , spread over a wide and fruitful l\n",
      "ing now decided by the voice of the nation , announced according to the rules \n",
      "ars witness to the fact that a just nation is trusted on its word when recours\n",
      "e union of opinion which gives to a nation the blessing of harmony and the ben\n",
      "uil suffrage of a free and virtuous nation , would under any circumstances hav\n",
      "d spirit and united councils of the nation will be safeguards to its honor and\n",
      "iction that the war with a powerful nation , which forms so prominent a featur\n",
      "out breaking down the spirit of the nation , destroying all confidence in itse\n",
      "ed on the military resources of the nation . These resources are amply suffici\n",
      "the war to an honorable issue . Our nation is in number more than half that of\n",
      "ndividually have been happy and the nation prosperous . Under this Constitutio\n",
      "rights , and is able to protect the nation against injustice from foreign powe\n",
      " great agricultural interest of the nation prospers under its protection . Loc\n",
      "ak our Union , and demolish us as a nation . Our distance from Europe and the \n"
     ]
    }
   ],
   "source": [
    "text4.concordance(\"nation\")"
   ]
  },
  {
   "cell_type": "code",
   "execution_count": 25,
   "metadata": {
    "scrolled": true
   },
   "outputs": [
    {
     "name": "stdout",
     "output_type": "stream",
     "text": [
      "country people government world union time constitution states\n",
      "republic land law party earth other future president war executive\n",
      "congress peace\n"
     ]
    }
   ],
   "source": [
    "# https://www.nltk.org/api/nltk.html#nltk.text.Text.similar\n",
    "\n",
    "# Print words that appear in similar context as \"nation\".\n",
    "text4.similar(\"nation\")"
   ]
  },
  {
   "cell_type": "code",
   "execution_count": 26,
   "metadata": {},
   "outputs": [
    {
     "name": "stdout",
     "output_type": "stream",
     "text": [
      "that_, a_, every_, by_or that_; of_; the_previous by_, -_, of_. the_,\n",
      "one_, all_. the_. this_in all_in the_before after_, the_wore\n",
      "through_into\n"
     ]
    }
   ],
   "source": [
    "# https://www.nltk.org/api/nltk.html#nltk.text.Text.common_contexts\n",
    "\n",
    "# Find contexts common to all given words\n",
    "text1.common_contexts([\"day\", \"night\"])\n"
   ]
  },
  {
   "cell_type": "markdown",
   "metadata": {},
   "source": [
    "### Side note: Python lists\n",
    "\n",
    "A *list* contains multiple values in an ordered sequence.\n",
    "\n",
    "More about Python lists:\n",
    "* https://automatetheboringstuff.com/chapter4/"
   ]
  },
  {
   "cell_type": "code",
   "execution_count": 27,
   "metadata": {},
   "outputs": [
    {
     "name": "stdout",
     "output_type": "stream",
     "text": [
      "42\n"
     ]
    }
   ],
   "source": [
    "# nltk.Text is also a list - can do everything we can do with lists (access parts of it, ...)\n",
    "\n",
    "# What's the 1st occurence of \"He\" in the text?\n",
    "#  - note: Python is case sensitive (unless you take care of it - e.g. convert all text to lowercase)\n",
    "\n",
    "print(text1.index(\"He\"))"
   ]
  },
  {
   "cell_type": "code",
   "execution_count": 28,
   "metadata": {},
   "outputs": [
    {
     "data": {
      "text/plain": [
       "19"
      ]
     },
     "execution_count": 28,
     "metadata": {},
     "output_type": "execute_result"
    }
   ],
   "source": [
    "text1.count(\"Ishmael\")"
   ]
  },
  {
   "cell_type": "code",
   "execution_count": 29,
   "metadata": {},
   "outputs": [
    {
     "name": "stdout",
     "output_type": "stream",
     "text": [
      "He\n"
     ]
    }
   ],
   "source": [
    "# The word at position #42\n",
    "#  - note: list indexes start from 0\n",
    "\n",
    "print(text1[42])"
   ]
  },
  {
   "cell_type": "code",
   "execution_count": 30,
   "metadata": {},
   "outputs": [
    {
     "name": "stdout",
     "output_type": "stream",
     "text": [
      "['He', 'was', 'ever', 'dusting', 'his', 'old', 'lexicons', 'and', 'grammars', ',']\n"
     ]
    }
   ],
   "source": [
    "print(text1[42:52])"
   ]
  },
  {
   "cell_type": "code",
   "execution_count": null,
   "metadata": {},
   "outputs": [],
   "source": [
    "from"
   ]
  },
  {
   "cell_type": "markdown",
   "metadata": {},
   "source": [
    "## Further exploration\n",
    "\n",
    "* Dispersion plots (distribution of words throughout the text)\n",
    "* Generating text (based on example)\n",
    "\n",
    "### Visualizing the corpus"
   ]
  },
  {
   "cell_type": "code",
   "execution_count": 31,
   "metadata": {
    "scrolled": true
   },
   "outputs": [
    {
     "data": {
      "application/javascript": [
       "/* Put everything inside the global mpl namespace */\n",
       "window.mpl = {};\n",
       "\n",
       "\n",
       "mpl.get_websocket_type = function() {\n",
       "    if (typeof(WebSocket) !== 'undefined') {\n",
       "        return WebSocket;\n",
       "    } else if (typeof(MozWebSocket) !== 'undefined') {\n",
       "        return MozWebSocket;\n",
       "    } else {\n",
       "        alert('Your browser does not have WebSocket support.' +\n",
       "              'Please try Chrome, Safari or Firefox ≥ 6. ' +\n",
       "              'Firefox 4 and 5 are also supported but you ' +\n",
       "              'have to enable WebSockets in about:config.');\n",
       "    };\n",
       "}\n",
       "\n",
       "mpl.figure = function(figure_id, websocket, ondownload, parent_element) {\n",
       "    this.id = figure_id;\n",
       "\n",
       "    this.ws = websocket;\n",
       "\n",
       "    this.supports_binary = (this.ws.binaryType != undefined);\n",
       "\n",
       "    if (!this.supports_binary) {\n",
       "        var warnings = document.getElementById(\"mpl-warnings\");\n",
       "        if (warnings) {\n",
       "            warnings.style.display = 'block';\n",
       "            warnings.textContent = (\n",
       "                \"This browser does not support binary websocket messages. \" +\n",
       "                    \"Performance may be slow.\");\n",
       "        }\n",
       "    }\n",
       "\n",
       "    this.imageObj = new Image();\n",
       "\n",
       "    this.context = undefined;\n",
       "    this.message = undefined;\n",
       "    this.canvas = undefined;\n",
       "    this.rubberband_canvas = undefined;\n",
       "    this.rubberband_context = undefined;\n",
       "    this.format_dropdown = undefined;\n",
       "\n",
       "    this.image_mode = 'full';\n",
       "\n",
       "    this.root = $('<div/>');\n",
       "    this._root_extra_style(this.root)\n",
       "    this.root.attr('style', 'display: inline-block');\n",
       "\n",
       "    $(parent_element).append(this.root);\n",
       "\n",
       "    this._init_header(this);\n",
       "    this._init_canvas(this);\n",
       "    this._init_toolbar(this);\n",
       "\n",
       "    var fig = this;\n",
       "\n",
       "    this.waiting = false;\n",
       "\n",
       "    this.ws.onopen =  function () {\n",
       "            fig.send_message(\"supports_binary\", {value: fig.supports_binary});\n",
       "            fig.send_message(\"send_image_mode\", {});\n",
       "            if (mpl.ratio != 1) {\n",
       "                fig.send_message(\"set_dpi_ratio\", {'dpi_ratio': mpl.ratio});\n",
       "            }\n",
       "            fig.send_message(\"refresh\", {});\n",
       "        }\n",
       "\n",
       "    this.imageObj.onload = function() {\n",
       "            if (fig.image_mode == 'full') {\n",
       "                // Full images could contain transparency (where diff images\n",
       "                // almost always do), so we need to clear the canvas so that\n",
       "                // there is no ghosting.\n",
       "                fig.context.clearRect(0, 0, fig.canvas.width, fig.canvas.height);\n",
       "            }\n",
       "            fig.context.drawImage(fig.imageObj, 0, 0);\n",
       "        };\n",
       "\n",
       "    this.imageObj.onunload = function() {\n",
       "        fig.ws.close();\n",
       "    }\n",
       "\n",
       "    this.ws.onmessage = this._make_on_message_function(this);\n",
       "\n",
       "    this.ondownload = ondownload;\n",
       "}\n",
       "\n",
       "mpl.figure.prototype._init_header = function() {\n",
       "    var titlebar = $(\n",
       "        '<div class=\"ui-dialog-titlebar ui-widget-header ui-corner-all ' +\n",
       "        'ui-helper-clearfix\"/>');\n",
       "    var titletext = $(\n",
       "        '<div class=\"ui-dialog-title\" style=\"width: 100%; ' +\n",
       "        'text-align: center; padding: 3px;\"/>');\n",
       "    titlebar.append(titletext)\n",
       "    this.root.append(titlebar);\n",
       "    this.header = titletext[0];\n",
       "}\n",
       "\n",
       "\n",
       "\n",
       "mpl.figure.prototype._canvas_extra_style = function(canvas_div) {\n",
       "\n",
       "}\n",
       "\n",
       "\n",
       "mpl.figure.prototype._root_extra_style = function(canvas_div) {\n",
       "\n",
       "}\n",
       "\n",
       "mpl.figure.prototype._init_canvas = function() {\n",
       "    var fig = this;\n",
       "\n",
       "    var canvas_div = $('<div/>');\n",
       "\n",
       "    canvas_div.attr('style', 'position: relative; clear: both; outline: 0');\n",
       "\n",
       "    function canvas_keyboard_event(event) {\n",
       "        return fig.key_event(event, event['data']);\n",
       "    }\n",
       "\n",
       "    canvas_div.keydown('key_press', canvas_keyboard_event);\n",
       "    canvas_div.keyup('key_release', canvas_keyboard_event);\n",
       "    this.canvas_div = canvas_div\n",
       "    this._canvas_extra_style(canvas_div)\n",
       "    this.root.append(canvas_div);\n",
       "\n",
       "    var canvas = $('<canvas/>');\n",
       "    canvas.addClass('mpl-canvas');\n",
       "    canvas.attr('style', \"left: 0; top: 0; z-index: 0; outline: 0\")\n",
       "\n",
       "    this.canvas = canvas[0];\n",
       "    this.context = canvas[0].getContext(\"2d\");\n",
       "\n",
       "    var backingStore = this.context.backingStorePixelRatio ||\n",
       "\tthis.context.webkitBackingStorePixelRatio ||\n",
       "\tthis.context.mozBackingStorePixelRatio ||\n",
       "\tthis.context.msBackingStorePixelRatio ||\n",
       "\tthis.context.oBackingStorePixelRatio ||\n",
       "\tthis.context.backingStorePixelRatio || 1;\n",
       "\n",
       "    mpl.ratio = (window.devicePixelRatio || 1) / backingStore;\n",
       "\n",
       "    var rubberband = $('<canvas/>');\n",
       "    rubberband.attr('style', \"position: absolute; left: 0; top: 0; z-index: 1;\")\n",
       "\n",
       "    var pass_mouse_events = true;\n",
       "\n",
       "    canvas_div.resizable({\n",
       "        start: function(event, ui) {\n",
       "            pass_mouse_events = false;\n",
       "        },\n",
       "        resize: function(event, ui) {\n",
       "            fig.request_resize(ui.size.width, ui.size.height);\n",
       "        },\n",
       "        stop: function(event, ui) {\n",
       "            pass_mouse_events = true;\n",
       "            fig.request_resize(ui.size.width, ui.size.height);\n",
       "        },\n",
       "    });\n",
       "\n",
       "    function mouse_event_fn(event) {\n",
       "        if (pass_mouse_events)\n",
       "            return fig.mouse_event(event, event['data']);\n",
       "    }\n",
       "\n",
       "    rubberband.mousedown('button_press', mouse_event_fn);\n",
       "    rubberband.mouseup('button_release', mouse_event_fn);\n",
       "    // Throttle sequential mouse events to 1 every 20ms.\n",
       "    rubberband.mousemove('motion_notify', mouse_event_fn);\n",
       "\n",
       "    rubberband.mouseenter('figure_enter', mouse_event_fn);\n",
       "    rubberband.mouseleave('figure_leave', mouse_event_fn);\n",
       "\n",
       "    canvas_div.on(\"wheel\", function (event) {\n",
       "        event = event.originalEvent;\n",
       "        event['data'] = 'scroll'\n",
       "        if (event.deltaY < 0) {\n",
       "            event.step = 1;\n",
       "        } else {\n",
       "            event.step = -1;\n",
       "        }\n",
       "        mouse_event_fn(event);\n",
       "    });\n",
       "\n",
       "    canvas_div.append(canvas);\n",
       "    canvas_div.append(rubberband);\n",
       "\n",
       "    this.rubberband = rubberband;\n",
       "    this.rubberband_canvas = rubberband[0];\n",
       "    this.rubberband_context = rubberband[0].getContext(\"2d\");\n",
       "    this.rubberband_context.strokeStyle = \"#000000\";\n",
       "\n",
       "    this._resize_canvas = function(width, height) {\n",
       "        // Keep the size of the canvas, canvas container, and rubber band\n",
       "        // canvas in synch.\n",
       "        canvas_div.css('width', width)\n",
       "        canvas_div.css('height', height)\n",
       "\n",
       "        canvas.attr('width', width * mpl.ratio);\n",
       "        canvas.attr('height', height * mpl.ratio);\n",
       "        canvas.attr('style', 'width: ' + width + 'px; height: ' + height + 'px;');\n",
       "\n",
       "        rubberband.attr('width', width);\n",
       "        rubberband.attr('height', height);\n",
       "    }\n",
       "\n",
       "    // Set the figure to an initial 600x600px, this will subsequently be updated\n",
       "    // upon first draw.\n",
       "    this._resize_canvas(600, 600);\n",
       "\n",
       "    // Disable right mouse context menu.\n",
       "    $(this.rubberband_canvas).bind(\"contextmenu\",function(e){\n",
       "        return false;\n",
       "    });\n",
       "\n",
       "    function set_focus () {\n",
       "        canvas.focus();\n",
       "        canvas_div.focus();\n",
       "    }\n",
       "\n",
       "    window.setTimeout(set_focus, 100);\n",
       "}\n",
       "\n",
       "mpl.figure.prototype._init_toolbar = function() {\n",
       "    var fig = this;\n",
       "\n",
       "    var nav_element = $('<div/>')\n",
       "    nav_element.attr('style', 'width: 100%');\n",
       "    this.root.append(nav_element);\n",
       "\n",
       "    // Define a callback function for later on.\n",
       "    function toolbar_event(event) {\n",
       "        return fig.toolbar_button_onclick(event['data']);\n",
       "    }\n",
       "    function toolbar_mouse_event(event) {\n",
       "        return fig.toolbar_button_onmouseover(event['data']);\n",
       "    }\n",
       "\n",
       "    for(var toolbar_ind in mpl.toolbar_items) {\n",
       "        var name = mpl.toolbar_items[toolbar_ind][0];\n",
       "        var tooltip = mpl.toolbar_items[toolbar_ind][1];\n",
       "        var image = mpl.toolbar_items[toolbar_ind][2];\n",
       "        var method_name = mpl.toolbar_items[toolbar_ind][3];\n",
       "\n",
       "        if (!name) {\n",
       "            // put a spacer in here.\n",
       "            continue;\n",
       "        }\n",
       "        var button = $('<button/>');\n",
       "        button.addClass('ui-button ui-widget ui-state-default ui-corner-all ' +\n",
       "                        'ui-button-icon-only');\n",
       "        button.attr('role', 'button');\n",
       "        button.attr('aria-disabled', 'false');\n",
       "        button.click(method_name, toolbar_event);\n",
       "        button.mouseover(tooltip, toolbar_mouse_event);\n",
       "\n",
       "        var icon_img = $('<span/>');\n",
       "        icon_img.addClass('ui-button-icon-primary ui-icon');\n",
       "        icon_img.addClass(image);\n",
       "        icon_img.addClass('ui-corner-all');\n",
       "\n",
       "        var tooltip_span = $('<span/>');\n",
       "        tooltip_span.addClass('ui-button-text');\n",
       "        tooltip_span.html(tooltip);\n",
       "\n",
       "        button.append(icon_img);\n",
       "        button.append(tooltip_span);\n",
       "\n",
       "        nav_element.append(button);\n",
       "    }\n",
       "\n",
       "    var fmt_picker_span = $('<span/>');\n",
       "\n",
       "    var fmt_picker = $('<select/>');\n",
       "    fmt_picker.addClass('mpl-toolbar-option ui-widget ui-widget-content');\n",
       "    fmt_picker_span.append(fmt_picker);\n",
       "    nav_element.append(fmt_picker_span);\n",
       "    this.format_dropdown = fmt_picker[0];\n",
       "\n",
       "    for (var ind in mpl.extensions) {\n",
       "        var fmt = mpl.extensions[ind];\n",
       "        var option = $(\n",
       "            '<option/>', {selected: fmt === mpl.default_extension}).html(fmt);\n",
       "        fmt_picker.append(option)\n",
       "    }\n",
       "\n",
       "    // Add hover states to the ui-buttons\n",
       "    $( \".ui-button\" ).hover(\n",
       "        function() { $(this).addClass(\"ui-state-hover\");},\n",
       "        function() { $(this).removeClass(\"ui-state-hover\");}\n",
       "    );\n",
       "\n",
       "    var status_bar = $('<span class=\"mpl-message\"/>');\n",
       "    nav_element.append(status_bar);\n",
       "    this.message = status_bar[0];\n",
       "}\n",
       "\n",
       "mpl.figure.prototype.request_resize = function(x_pixels, y_pixels) {\n",
       "    // Request matplotlib to resize the figure. Matplotlib will then trigger a resize in the client,\n",
       "    // which will in turn request a refresh of the image.\n",
       "    this.send_message('resize', {'width': x_pixels, 'height': y_pixels});\n",
       "}\n",
       "\n",
       "mpl.figure.prototype.send_message = function(type, properties) {\n",
       "    properties['type'] = type;\n",
       "    properties['figure_id'] = this.id;\n",
       "    this.ws.send(JSON.stringify(properties));\n",
       "}\n",
       "\n",
       "mpl.figure.prototype.send_draw_message = function() {\n",
       "    if (!this.waiting) {\n",
       "        this.waiting = true;\n",
       "        this.ws.send(JSON.stringify({type: \"draw\", figure_id: this.id}));\n",
       "    }\n",
       "}\n",
       "\n",
       "\n",
       "mpl.figure.prototype.handle_save = function(fig, msg) {\n",
       "    var format_dropdown = fig.format_dropdown;\n",
       "    var format = format_dropdown.options[format_dropdown.selectedIndex].value;\n",
       "    fig.ondownload(fig, format);\n",
       "}\n",
       "\n",
       "\n",
       "mpl.figure.prototype.handle_resize = function(fig, msg) {\n",
       "    var size = msg['size'];\n",
       "    if (size[0] != fig.canvas.width || size[1] != fig.canvas.height) {\n",
       "        fig._resize_canvas(size[0], size[1]);\n",
       "        fig.send_message(\"refresh\", {});\n",
       "    };\n",
       "}\n",
       "\n",
       "mpl.figure.prototype.handle_rubberband = function(fig, msg) {\n",
       "    var x0 = msg['x0'] / mpl.ratio;\n",
       "    var y0 = (fig.canvas.height - msg['y0']) / mpl.ratio;\n",
       "    var x1 = msg['x1'] / mpl.ratio;\n",
       "    var y1 = (fig.canvas.height - msg['y1']) / mpl.ratio;\n",
       "    x0 = Math.floor(x0) + 0.5;\n",
       "    y0 = Math.floor(y0) + 0.5;\n",
       "    x1 = Math.floor(x1) + 0.5;\n",
       "    y1 = Math.floor(y1) + 0.5;\n",
       "    var min_x = Math.min(x0, x1);\n",
       "    var min_y = Math.min(y0, y1);\n",
       "    var width = Math.abs(x1 - x0);\n",
       "    var height = Math.abs(y1 - y0);\n",
       "\n",
       "    fig.rubberband_context.clearRect(\n",
       "        0, 0, fig.canvas.width, fig.canvas.height);\n",
       "\n",
       "    fig.rubberband_context.strokeRect(min_x, min_y, width, height);\n",
       "}\n",
       "\n",
       "mpl.figure.prototype.handle_figure_label = function(fig, msg) {\n",
       "    // Updates the figure title.\n",
       "    fig.header.textContent = msg['label'];\n",
       "}\n",
       "\n",
       "mpl.figure.prototype.handle_cursor = function(fig, msg) {\n",
       "    var cursor = msg['cursor'];\n",
       "    switch(cursor)\n",
       "    {\n",
       "    case 0:\n",
       "        cursor = 'pointer';\n",
       "        break;\n",
       "    case 1:\n",
       "        cursor = 'default';\n",
       "        break;\n",
       "    case 2:\n",
       "        cursor = 'crosshair';\n",
       "        break;\n",
       "    case 3:\n",
       "        cursor = 'move';\n",
       "        break;\n",
       "    }\n",
       "    fig.rubberband_canvas.style.cursor = cursor;\n",
       "}\n",
       "\n",
       "mpl.figure.prototype.handle_message = function(fig, msg) {\n",
       "    fig.message.textContent = msg['message'];\n",
       "}\n",
       "\n",
       "mpl.figure.prototype.handle_draw = function(fig, msg) {\n",
       "    // Request the server to send over a new figure.\n",
       "    fig.send_draw_message();\n",
       "}\n",
       "\n",
       "mpl.figure.prototype.handle_image_mode = function(fig, msg) {\n",
       "    fig.image_mode = msg['mode'];\n",
       "}\n",
       "\n",
       "mpl.figure.prototype.updated_canvas_event = function() {\n",
       "    // Called whenever the canvas gets updated.\n",
       "    this.send_message(\"ack\", {});\n",
       "}\n",
       "\n",
       "// A function to construct a web socket function for onmessage handling.\n",
       "// Called in the figure constructor.\n",
       "mpl.figure.prototype._make_on_message_function = function(fig) {\n",
       "    return function socket_on_message(evt) {\n",
       "        if (evt.data instanceof Blob) {\n",
       "            /* FIXME: We get \"Resource interpreted as Image but\n",
       "             * transferred with MIME type text/plain:\" errors on\n",
       "             * Chrome.  But how to set the MIME type?  It doesn't seem\n",
       "             * to be part of the websocket stream */\n",
       "            evt.data.type = \"image/png\";\n",
       "\n",
       "            /* Free the memory for the previous frames */\n",
       "            if (fig.imageObj.src) {\n",
       "                (window.URL || window.webkitURL).revokeObjectURL(\n",
       "                    fig.imageObj.src);\n",
       "            }\n",
       "\n",
       "            fig.imageObj.src = (window.URL || window.webkitURL).createObjectURL(\n",
       "                evt.data);\n",
       "            fig.updated_canvas_event();\n",
       "            fig.waiting = false;\n",
       "            return;\n",
       "        }\n",
       "        else if (typeof evt.data === 'string' && evt.data.slice(0, 21) == \"data:image/png;base64\") {\n",
       "            fig.imageObj.src = evt.data;\n",
       "            fig.updated_canvas_event();\n",
       "            fig.waiting = false;\n",
       "            return;\n",
       "        }\n",
       "\n",
       "        var msg = JSON.parse(evt.data);\n",
       "        var msg_type = msg['type'];\n",
       "\n",
       "        // Call the  \"handle_{type}\" callback, which takes\n",
       "        // the figure and JSON message as its only arguments.\n",
       "        try {\n",
       "            var callback = fig[\"handle_\" + msg_type];\n",
       "        } catch (e) {\n",
       "            console.log(\"No handler for the '\" + msg_type + \"' message type: \", msg);\n",
       "            return;\n",
       "        }\n",
       "\n",
       "        if (callback) {\n",
       "            try {\n",
       "                // console.log(\"Handling '\" + msg_type + \"' message: \", msg);\n",
       "                callback(fig, msg);\n",
       "            } catch (e) {\n",
       "                console.log(\"Exception inside the 'handler_\" + msg_type + \"' callback:\", e, e.stack, msg);\n",
       "            }\n",
       "        }\n",
       "    };\n",
       "}\n",
       "\n",
       "// from http://stackoverflow.com/questions/1114465/getting-mouse-location-in-canvas\n",
       "mpl.findpos = function(e) {\n",
       "    //this section is from http://www.quirksmode.org/js/events_properties.html\n",
       "    var targ;\n",
       "    if (!e)\n",
       "        e = window.event;\n",
       "    if (e.target)\n",
       "        targ = e.target;\n",
       "    else if (e.srcElement)\n",
       "        targ = e.srcElement;\n",
       "    if (targ.nodeType == 3) // defeat Safari bug\n",
       "        targ = targ.parentNode;\n",
       "\n",
       "    // jQuery normalizes the pageX and pageY\n",
       "    // pageX,Y are the mouse positions relative to the document\n",
       "    // offset() returns the position of the element relative to the document\n",
       "    var x = e.pageX - $(targ).offset().left;\n",
       "    var y = e.pageY - $(targ).offset().top;\n",
       "\n",
       "    return {\"x\": x, \"y\": y};\n",
       "};\n",
       "\n",
       "/*\n",
       " * return a copy of an object with only non-object keys\n",
       " * we need this to avoid circular references\n",
       " * http://stackoverflow.com/a/24161582/3208463\n",
       " */\n",
       "function simpleKeys (original) {\n",
       "  return Object.keys(original).reduce(function (obj, key) {\n",
       "    if (typeof original[key] !== 'object')\n",
       "        obj[key] = original[key]\n",
       "    return obj;\n",
       "  }, {});\n",
       "}\n",
       "\n",
       "mpl.figure.prototype.mouse_event = function(event, name) {\n",
       "    var canvas_pos = mpl.findpos(event)\n",
       "\n",
       "    if (name === 'button_press')\n",
       "    {\n",
       "        this.canvas.focus();\n",
       "        this.canvas_div.focus();\n",
       "    }\n",
       "\n",
       "    var x = canvas_pos.x * mpl.ratio;\n",
       "    var y = canvas_pos.y * mpl.ratio;\n",
       "\n",
       "    this.send_message(name, {x: x, y: y, button: event.button,\n",
       "                             step: event.step,\n",
       "                             guiEvent: simpleKeys(event)});\n",
       "\n",
       "    /* This prevents the web browser from automatically changing to\n",
       "     * the text insertion cursor when the button is pressed.  We want\n",
       "     * to control all of the cursor setting manually through the\n",
       "     * 'cursor' event from matplotlib */\n",
       "    event.preventDefault();\n",
       "    return false;\n",
       "}\n",
       "\n",
       "mpl.figure.prototype._key_event_extra = function(event, name) {\n",
       "    // Handle any extra behaviour associated with a key event\n",
       "}\n",
       "\n",
       "mpl.figure.prototype.key_event = function(event, name) {\n",
       "\n",
       "    // Prevent repeat events\n",
       "    if (name == 'key_press')\n",
       "    {\n",
       "        if (event.which === this._key)\n",
       "            return;\n",
       "        else\n",
       "            this._key = event.which;\n",
       "    }\n",
       "    if (name == 'key_release')\n",
       "        this._key = null;\n",
       "\n",
       "    var value = '';\n",
       "    if (event.ctrlKey && event.which != 17)\n",
       "        value += \"ctrl+\";\n",
       "    if (event.altKey && event.which != 18)\n",
       "        value += \"alt+\";\n",
       "    if (event.shiftKey && event.which != 16)\n",
       "        value += \"shift+\";\n",
       "\n",
       "    value += 'k';\n",
       "    value += event.which.toString();\n",
       "\n",
       "    this._key_event_extra(event, name);\n",
       "\n",
       "    this.send_message(name, {key: value,\n",
       "                             guiEvent: simpleKeys(event)});\n",
       "    return false;\n",
       "}\n",
       "\n",
       "mpl.figure.prototype.toolbar_button_onclick = function(name) {\n",
       "    if (name == 'download') {\n",
       "        this.handle_save(this, null);\n",
       "    } else {\n",
       "        this.send_message(\"toolbar_button\", {name: name});\n",
       "    }\n",
       "};\n",
       "\n",
       "mpl.figure.prototype.toolbar_button_onmouseover = function(tooltip) {\n",
       "    this.message.textContent = tooltip;\n",
       "};\n",
       "mpl.toolbar_items = [[\"Home\", \"Reset original view\", \"fa fa-home icon-home\", \"home\"], [\"Back\", \"Back to previous view\", \"fa fa-arrow-left icon-arrow-left\", \"back\"], [\"Forward\", \"Forward to next view\", \"fa fa-arrow-right icon-arrow-right\", \"forward\"], [\"\", \"\", \"\", \"\"], [\"Pan\", \"Pan axes with left mouse, zoom with right\", \"fa fa-arrows icon-move\", \"pan\"], [\"Zoom\", \"Zoom to rectangle\", \"fa fa-square-o icon-check-empty\", \"zoom\"], [\"\", \"\", \"\", \"\"], [\"Download\", \"Download plot\", \"fa fa-floppy-o icon-save\", \"download\"]];\n",
       "\n",
       "mpl.extensions = [\"eps\", \"jpeg\", \"pdf\", \"png\", \"ps\", \"raw\", \"svg\", \"tif\"];\n",
       "\n",
       "mpl.default_extension = \"png\";var comm_websocket_adapter = function(comm) {\n",
       "    // Create a \"websocket\"-like object which calls the given IPython comm\n",
       "    // object with the appropriate methods. Currently this is a non binary\n",
       "    // socket, so there is still some room for performance tuning.\n",
       "    var ws = {};\n",
       "\n",
       "    ws.close = function() {\n",
       "        comm.close()\n",
       "    };\n",
       "    ws.send = function(m) {\n",
       "        //console.log('sending', m);\n",
       "        comm.send(m);\n",
       "    };\n",
       "    // Register the callback with on_msg.\n",
       "    comm.on_msg(function(msg) {\n",
       "        //console.log('receiving', msg['content']['data'], msg);\n",
       "        // Pass the mpl event to the overridden (by mpl) onmessage function.\n",
       "        ws.onmessage(msg['content']['data'])\n",
       "    });\n",
       "    return ws;\n",
       "}\n",
       "\n",
       "mpl.mpl_figure_comm = function(comm, msg) {\n",
       "    // This is the function which gets called when the mpl process\n",
       "    // starts-up an IPython Comm through the \"matplotlib\" channel.\n",
       "\n",
       "    var id = msg.content.data.id;\n",
       "    // Get hold of the div created by the display call when the Comm\n",
       "    // socket was opened in Python.\n",
       "    var element = $(\"#\" + id);\n",
       "    var ws_proxy = comm_websocket_adapter(comm)\n",
       "\n",
       "    function ondownload(figure, format) {\n",
       "        window.open(figure.imageObj.src);\n",
       "    }\n",
       "\n",
       "    var fig = new mpl.figure(id, ws_proxy,\n",
       "                           ondownload,\n",
       "                           element.get(0));\n",
       "\n",
       "    // Call onopen now - mpl needs it, as it is assuming we've passed it a real\n",
       "    // web socket which is closed, not our websocket->open comm proxy.\n",
       "    ws_proxy.onopen();\n",
       "\n",
       "    fig.parent_element = element.get(0);\n",
       "    fig.cell_info = mpl.find_output_cell(\"<div id='\" + id + \"'></div>\");\n",
       "    if (!fig.cell_info) {\n",
       "        console.error(\"Failed to find cell for figure\", id, fig);\n",
       "        return;\n",
       "    }\n",
       "\n",
       "    var output_index = fig.cell_info[2]\n",
       "    var cell = fig.cell_info[0];\n",
       "\n",
       "};\n",
       "\n",
       "mpl.figure.prototype.handle_close = function(fig, msg) {\n",
       "    var width = fig.canvas.width/mpl.ratio\n",
       "    fig.root.unbind('remove')\n",
       "\n",
       "    // Update the output cell to use the data from the current canvas.\n",
       "    fig.push_to_output();\n",
       "    var dataURL = fig.canvas.toDataURL();\n",
       "    // Re-enable the keyboard manager in IPython - without this line, in FF,\n",
       "    // the notebook keyboard shortcuts fail.\n",
       "    IPython.keyboard_manager.enable()\n",
       "    $(fig.parent_element).html('<img src=\"' + dataURL + '\" width=\"' + width + '\">');\n",
       "    fig.close_ws(fig, msg);\n",
       "}\n",
       "\n",
       "mpl.figure.prototype.close_ws = function(fig, msg){\n",
       "    fig.send_message('closing', msg);\n",
       "    // fig.ws.close()\n",
       "}\n",
       "\n",
       "mpl.figure.prototype.push_to_output = function(remove_interactive) {\n",
       "    // Turn the data on the canvas into data in the output cell.\n",
       "    var width = this.canvas.width/mpl.ratio\n",
       "    var dataURL = this.canvas.toDataURL();\n",
       "    this.cell_info[1]['text/html'] = '<img src=\"' + dataURL + '\" width=\"' + width + '\">';\n",
       "}\n",
       "\n",
       "mpl.figure.prototype.updated_canvas_event = function() {\n",
       "    // Tell IPython that the notebook contents must change.\n",
       "    IPython.notebook.set_dirty(true);\n",
       "    this.send_message(\"ack\", {});\n",
       "    var fig = this;\n",
       "    // Wait a second, then push the new image to the DOM so\n",
       "    // that it is saved nicely (might be nice to debounce this).\n",
       "    setTimeout(function () { fig.push_to_output() }, 1000);\n",
       "}\n",
       "\n",
       "mpl.figure.prototype._init_toolbar = function() {\n",
       "    var fig = this;\n",
       "\n",
       "    var nav_element = $('<div/>')\n",
       "    nav_element.attr('style', 'width: 100%');\n",
       "    this.root.append(nav_element);\n",
       "\n",
       "    // Define a callback function for later on.\n",
       "    function toolbar_event(event) {\n",
       "        return fig.toolbar_button_onclick(event['data']);\n",
       "    }\n",
       "    function toolbar_mouse_event(event) {\n",
       "        return fig.toolbar_button_onmouseover(event['data']);\n",
       "    }\n",
       "\n",
       "    for(var toolbar_ind in mpl.toolbar_items){\n",
       "        var name = mpl.toolbar_items[toolbar_ind][0];\n",
       "        var tooltip = mpl.toolbar_items[toolbar_ind][1];\n",
       "        var image = mpl.toolbar_items[toolbar_ind][2];\n",
       "        var method_name = mpl.toolbar_items[toolbar_ind][3];\n",
       "\n",
       "        if (!name) { continue; };\n",
       "\n",
       "        var button = $('<button class=\"btn btn-default\" href=\"#\" title=\"' + name + '\"><i class=\"fa ' + image + ' fa-lg\"></i></button>');\n",
       "        button.click(method_name, toolbar_event);\n",
       "        button.mouseover(tooltip, toolbar_mouse_event);\n",
       "        nav_element.append(button);\n",
       "    }\n",
       "\n",
       "    // Add the status bar.\n",
       "    var status_bar = $('<span class=\"mpl-message\" style=\"text-align:right; float: right;\"/>');\n",
       "    nav_element.append(status_bar);\n",
       "    this.message = status_bar[0];\n",
       "\n",
       "    // Add the close button to the window.\n",
       "    var buttongrp = $('<div class=\"btn-group inline pull-right\"></div>');\n",
       "    var button = $('<button class=\"btn btn-mini btn-primary\" href=\"#\" title=\"Stop Interaction\"><i class=\"fa fa-power-off icon-remove icon-large\"></i></button>');\n",
       "    button.click(function (evt) { fig.handle_close(fig, {}); } );\n",
       "    button.mouseover('Stop Interaction', toolbar_mouse_event);\n",
       "    buttongrp.append(button);\n",
       "    var titlebar = this.root.find($('.ui-dialog-titlebar'));\n",
       "    titlebar.prepend(buttongrp);\n",
       "}\n",
       "\n",
       "mpl.figure.prototype._root_extra_style = function(el){\n",
       "    var fig = this\n",
       "    el.on(\"remove\", function(){\n",
       "\tfig.close_ws(fig, {});\n",
       "    });\n",
       "}\n",
       "\n",
       "mpl.figure.prototype._canvas_extra_style = function(el){\n",
       "    // this is important to make the div 'focusable\n",
       "    el.attr('tabindex', 0)\n",
       "    // reach out to IPython and tell the keyboard manager to turn it's self\n",
       "    // off when our div gets focus\n",
       "\n",
       "    // location in version 3\n",
       "    if (IPython.notebook.keyboard_manager) {\n",
       "        IPython.notebook.keyboard_manager.register_events(el);\n",
       "    }\n",
       "    else {\n",
       "        // location in version 2\n",
       "        IPython.keyboard_manager.register_events(el);\n",
       "    }\n",
       "\n",
       "}\n",
       "\n",
       "mpl.figure.prototype._key_event_extra = function(event, name) {\n",
       "    var manager = IPython.notebook.keyboard_manager;\n",
       "    if (!manager)\n",
       "        manager = IPython.keyboard_manager;\n",
       "\n",
       "    // Check for shift+enter\n",
       "    if (event.shiftKey && event.which == 13) {\n",
       "        this.canvas_div.blur();\n",
       "        event.shiftKey = false;\n",
       "        // Send a \"J\" for go to next cell\n",
       "        event.which = 74;\n",
       "        event.keyCode = 74;\n",
       "        manager.command_mode();\n",
       "        manager.handle_keydown(event);\n",
       "    }\n",
       "}\n",
       "\n",
       "mpl.figure.prototype.handle_save = function(fig, msg) {\n",
       "    fig.ondownload(fig, null);\n",
       "}\n",
       "\n",
       "\n",
       "mpl.find_output_cell = function(html_output) {\n",
       "    // Return the cell and output element which can be found *uniquely* in the notebook.\n",
       "    // Note - this is a bit hacky, but it is done because the \"notebook_saving.Notebook\"\n",
       "    // IPython event is triggered only after the cells have been serialised, which for\n",
       "    // our purposes (turning an active figure into a static one), is too late.\n",
       "    var cells = IPython.notebook.get_cells();\n",
       "    var ncells = cells.length;\n",
       "    for (var i=0; i<ncells; i++) {\n",
       "        var cell = cells[i];\n",
       "        if (cell.cell_type === 'code'){\n",
       "            for (var j=0; j<cell.output_area.outputs.length; j++) {\n",
       "                var data = cell.output_area.outputs[j];\n",
       "                if (data.data) {\n",
       "                    // IPython >= 3 moved mimebundle to data attribute of output\n",
       "                    data = data.data;\n",
       "                }\n",
       "                if (data['text/html'] == html_output) {\n",
       "                    return [cell, data, j];\n",
       "                }\n",
       "            }\n",
       "        }\n",
       "    }\n",
       "}\n",
       "\n",
       "// Register the function which deals with the matplotlib target/channel.\n",
       "// The kernel may be null if the page has been refreshed.\n",
       "if (IPython.notebook.kernel != null) {\n",
       "    IPython.notebook.kernel.comm_manager.register_target('matplotlib', mpl.mpl_figure_comm);\n",
       "}\n"
      ],
      "text/plain": [
       "<IPython.core.display.Javascript object>"
      ]
     },
     "metadata": {},
     "output_type": "display_data"
    },
    {
     "data": {
      "text/html": [
       "<img src=\"data:image/png;base64,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\" width=\"640\">"
      ],
      "text/plain": [
       "<IPython.core.display.HTML object>"
      ]
     },
     "metadata": {},
     "output_type": "display_data"
    }
   ],
   "source": [
    "# Dispersion plot\n",
    "\n",
    "# source: Inaugural Address Corpus\n",
    "text4.dispersion_plot([\"citizens\", \"democracy\", \"duty\", \"freedom\", \"America\"])"
   ]
  },
  {
   "cell_type": "code",
   "execution_count": 32,
   "metadata": {
    "scrolled": true
   },
   "outputs": [
    {
     "name": "stdout",
     "output_type": "stream",
     "text": [
      "Help on method dispersion_plot in module nltk.text:\n",
      "\n",
      "dispersion_plot(words) method of nltk.text.Text instance\n",
      "    Produce a plot showing the distribution of the words through the text.\n",
      "    Requires pylab to be installed.\n",
      "    \n",
      "    :param words: The words to be plotted\n",
      "    :type words: list(str)\n",
      "    :seealso: nltk.draw.dispersion_plot()\n",
      "\n"
     ]
    }
   ],
   "source": [
    "help(text4.dispersion_plot)"
   ]
  },
  {
   "cell_type": "markdown",
   "metadata": {},
   "source": [
    "### Generating text\n",
    "\n",
    "Note: depending on your version of NLTK `generate()` functionality may or may not work (NLTK version 3.7.4 or newer is required).\n",
    "* In case it does not work, please see subsection \"Saved version of generate() results\".\n",
    "\n"
   ]
  },
  {
   "cell_type": "code",
   "execution_count": 33,
   "metadata": {},
   "outputs": [
    {
     "ename": "TypeError",
     "evalue": "generate() got an unexpected keyword argument 'text_seed'",
     "output_type": "error",
     "traceback": [
      "\u001b[1;31m---------------------------------------------------------------------------\u001b[0m",
      "\u001b[1;31mTypeError\u001b[0m                                 Traceback (most recent call last)",
      "\u001b[1;32m<ipython-input-33-6b4ed3c2d701>\u001b[0m in \u001b[0;36m<module>\u001b[1;34m\u001b[0m\n\u001b[0;32m      3\u001b[0m \u001b[1;33m\u001b[0m\u001b[0m\n\u001b[0;32m      4\u001b[0m \u001b[1;31m# we need to supply seed words\u001b[0m\u001b[1;33m\u001b[0m\u001b[1;33m\u001b[0m\u001b[1;33m\u001b[0m\u001b[0m\n\u001b[1;32m----> 5\u001b[1;33m \u001b[0mtext1\u001b[0m\u001b[1;33m.\u001b[0m\u001b[0mgenerate\u001b[0m\u001b[1;33m(\u001b[0m\u001b[0mtext_seed\u001b[0m \u001b[1;33m=\u001b[0m \u001b[1;33m[\u001b[0m\u001b[1;34m\"Why\"\u001b[0m\u001b[1;33m,\u001b[0m \u001b[1;34m\"is\"\u001b[0m\u001b[1;33m,\u001b[0m \u001b[1;34m\"it\"\u001b[0m\u001b[1;33m]\u001b[0m\u001b[1;33m)\u001b[0m\u001b[1;33m\u001b[0m\u001b[1;33m\u001b[0m\u001b[0m\n\u001b[0m",
      "\u001b[1;31mTypeError\u001b[0m: generate() got an unexpected keyword argument 'text_seed'"
     ]
    }
   ],
   "source": [
    "# Generate text (based on example)\n",
    "# https://www.nltk.org/api/nltk.html#nltk.text.Text.generate\n",
    "\n",
    "# we need to supply seed words\n",
    "text1.generate(text_seed = [\"Why\", \"is\", \"it\"])"
   ]
  },
  {
   "cell_type": "markdown",
   "metadata": {},
   "source": [
    "---\n",
    "\n",
    "**NLTK `generate()` builds a [trigram] language model from the supplied text** (words are generated based on previous two words).\n",
    "\n",
    "For more information see nltk.lm: https://www.nltk.org/api/nltk.lm.html"
   ]
  },
  {
   "cell_type": "markdown",
   "metadata": {},
   "source": [
    "**Saved version of `generate()` results:**\n",
    "    \n",
    "`text1.generate(text_seed = [\"Why\", \"is\", \"it\"])`\n",
    "\n",
    "*Building ngram index...*\n",
    "\n",
    "```\n",
    "Why is it stripped off from some mountain torrent we had flip ? , so as to\n",
    "preserve all his might had in former years abounding with them , they\n",
    "toil with their lances , strange tales of Southern whaling .\n",
    "conceivable that this fine old Dutch Fishery , a most wealthy example\n",
    "of the sea - captain orders me to admire the magnanimity of the whole\n",
    ", and many whalemen , but dumplings ; good white cedar of the ship\n",
    "casts off her cables ; and chewed it noiselessly ; and though there\n",
    "are birds called grey albatrosses ; and yet faster\n",
    "```\n"
   ]
  },
  {
   "cell_type": "code",
   "execution_count": null,
   "metadata": {},
   "outputs": [],
   "source": [
    "help(text1.generate)"
   ]
  },
  {
   "cell_type": "markdown",
   "metadata": {},
   "source": [
    "---\n",
    "\n",
    "## Your turn!\n",
    "\n",
    "Choose some text and **explore it using NLTK** (following the examples in this notebook).\n",
    "\n",
    "**Write code in notebook cells below**.\n",
    "* add more cells (use \"+\" icon) if necessary\n",
    "\n",
    "You may use NLTK text corpora or load your own text."
   ]
  },
  {
   "cell_type": "code",
   "execution_count": 40,
   "metadata": {},
   "outputs": [
    {
     "data": {
      "text/plain": [
       "260819"
      ]
     },
     "execution_count": 40,
     "metadata": {},
     "output_type": "execute_result"
    }
   ],
   "source": [
    "len(text1)"
   ]
  },
  {
   "cell_type": "code",
   "execution_count": 41,
   "metadata": {},
   "outputs": [
    {
     "name": "stdout",
     "output_type": "stream",
     "text": [
      "shmae; shmae; shmae; shmae; shmae; shmae; shmae; shmae; shmae; shmae;\n",
      "shmae; shmae; shmae; shmae; shmae; shmae; shmae; shmae; shmae\n"
     ]
    }
   ],
   "source": [
    "text1.findall('Ishmael')"
   ]
  },
  {
   "cell_type": "code",
   "execution_count": 42,
   "metadata": {},
   "outputs": [
    {
     "data": {
      "text/plain": [
       "19"
      ]
     },
     "execution_count": 42,
     "metadata": {},
     "output_type": "execute_result"
    }
   ],
   "source": [
    "text1.count('Ishmael')"
   ]
  },
  {
   "cell_type": "code",
   "execution_count": 43,
   "metadata": {},
   "outputs": [
    {
     "data": {
      "text/plain": [
       "4714"
      ]
     },
     "execution_count": 43,
     "metadata": {},
     "output_type": "execute_result"
    }
   ],
   "source": [
    "text1.index('Ishmael')"
   ]
  },
  {
   "cell_type": "code",
   "execution_count": 44,
   "metadata": {},
   "outputs": [
    {
     "data": {
      "text/plain": [
       "['Ishmael',\n",
       " '.',\n",
       " 'Some',\n",
       " 'years',\n",
       " 'ago',\n",
       " '--',\n",
       " 'never',\n",
       " 'mind',\n",
       " 'how',\n",
       " 'long',\n",
       " 'precisely',\n",
       " '--',\n",
       " 'having',\n",
       " 'little',\n",
       " 'or',\n",
       " 'no',\n",
       " 'money',\n",
       " 'in',\n",
       " 'my',\n",
       " 'purse']"
      ]
     },
     "execution_count": 44,
     "metadata": {},
     "output_type": "execute_result"
    }
   ],
   "source": [
    "text1[4714:4734]"
   ]
  },
  {
   "cell_type": "code",
   "execution_count": null,
   "metadata": {},
   "outputs": [],
   "source": [
    "text1.index()"
   ]
  }
 ],
 "metadata": {
  "kernelspec": {
   "display_name": "Python 3",
   "language": "python",
   "name": "python3"
  },
  "language_info": {
   "codemirror_mode": {
    "name": "ipython",
    "version": 3
   },
   "file_extension": ".py",
   "mimetype": "text/x-python",
   "name": "python",
   "nbconvert_exporter": "python",
   "pygments_lexer": "ipython3",
   "version": "3.7.3"
  }
 },
 "nbformat": 4,
 "nbformat_minor": 2
}
