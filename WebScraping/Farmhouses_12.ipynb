{
 "cells": [
  {
   "cell_type": "code",
   "execution_count": 1,
   "metadata": {},
   "outputs": [],
   "source": [
    "# get list of urls for all regions\n",
    "# for each url\n",
    "# get list of rows\n",
    "# for each row process row\n",
    "# turn each processsed list of rows into dataframe\n",
    "# concatanate dataframes together\n",
    "# perform post processing cleanup"
   ]
  },
  {
   "cell_type": "code",
   "execution_count": 18,
   "metadata": {},
   "outputs": [],
   "source": [
    "import requests\n",
    "import pandas as pd\n",
    "from bs4 import BeautifulSoup\n",
    "import time\n",
    "import re\n",
    "import os"
   ]
  },
  {
   "cell_type": "code",
   "execution_count": 3,
   "metadata": {},
   "outputs": [],
   "source": [
    "url = \"https://www.ss.com/lv/real-estate/farms-estates/\""
   ]
  },
  {
   "cell_type": "code",
   "execution_count": 4,
   "metadata": {},
   "outputs": [],
   "source": [
    "def getUrlList(url, prefix='https://www.ss.com', postfix='sell/', tag='a', class_='a_category'):\n",
    "    \"\"\"\n",
    "    Returns a list of href links from a url\n",
    "    \"\"\"\n",
    "    req = requests.get(url)\n",
    "    if req.status_code != 200:\n",
    "        print(f'Unexpected status code {req.status_code}. Stopping parse')\n",
    "        return [] #return early and often principle\n",
    "    soup = BeautifulSoup(req.text, 'lxml') # could skip soup variable as well but keeping for readability\n",
    "    return [ prefix + el['href'] + postfix for el in soup.find_all(tag, class_) ]\n",
    "    # What else could we pass as argument? How could our return fail?"
   ]
  },
  {
   "cell_type": "code",
   "execution_count": 15,
   "metadata": {},
   "outputs": [],
   "source": [
    "def getRowData(row, baseurl=\"https://www.ss.com\"):\n",
    "    return [el.text for el in row.find_all('td')[2:]] + [baseurl + row.find('a')['href']]"
   ]
  },
  {
   "cell_type": "code",
   "execution_count": 25,
   "metadata": {},
   "outputs": [],
   "source": [
    "def getDFfromUrl(url, region = None):\n",
    "    \"\"\"\n",
    "    # get list of rows\n",
    "    # for each row process row\n",
    "    # turn each processsed list of rows into dataframe\n",
    "    \"\"\"\n",
    "    print(f'Going to gather data from URL:{url}')\n",
    "    req = requests.get(url)\n",
    "    if req.status_code != 200:\n",
    "        print(f'Unexpected status code {req.status_code}. Stopping parse')\n",
    "        return [] #return early and often principle\n",
    "    soup = BeautifulSoup(req.text, 'lxml') # could skip soup variable as well but keeping for readability\n",
    "        \n",
    "    headline = soup.find('tr', id = \"head_line\")\n",
    "    cindex = [el.text for el in headline.find_all('td')]\n",
    "    cindex[0] = cindex[0].split()[0]\n",
    "    cindex += ['URL'] #TODO add argument for this\n",
    "    cindex += ['Region']\n",
    "    \n",
    "    # TODO move it somewhere else\n",
    "    if len([el for el in soup.find_all('option') if 'Pārdod' in el.text]) == 0:\n",
    "        print(\"Oops nothing for sale\")\n",
    "        return pd.DataFrame({}, columns=cindex)\n",
    "    \n",
    "    rows = soup.find_all('tr',id = re.compile(r'tr_[0-9]+'))\n",
    "    rowsdata = [getRowData(el) for el in rows] \n",
    "    # finally we add the region if we did not have one\n",
    "    if region == None:\n",
    "        region = url.split(\"/\")[-3]\n",
    "    # we add region information at the end of our list\n",
    "    rowsdata = [el + [region] for el in rowsdata]\n",
    "    return pd.DataFrame(rowsdata, columns=cindex)"
   ]
  },
  {
   "cell_type": "code",
   "execution_count": 6,
   "metadata": {},
   "outputs": [],
   "source": [
    "# with this recipe we can append a big list of dataframes into one\n",
    "def getDFfromUrlList(urlist, delay=0.5):\n",
    "    dflist = []\n",
    "    for ur in urlist:\n",
    "        dflist.append(getDFfromUrl(ur))\n",
    "        time.sleep(delay)\n",
    "    return pd.concat(dflist)"
   ]
  },
  {
   "cell_type": "code",
   "execution_count": 8,
   "metadata": {},
   "outputs": [],
   "source": [
    "def cleanDF(df):\n",
    "    # for each price element, i split by empty space, get begging, get rid of comma, then cast to int\n",
    "    df[['Stāvi', 'm2']] = df[['Stāvi', 'm2']].apply(pd.to_numeric, errors='coerce', axis=1)\n",
    "    df['Price'] = df['Cena'].apply(lambda el: int(el.split(\" \")[0].replace(',','')))\n",
    "    # bonus, create currency column\n",
    "    df['Currency'] = df['Cena'].apply(lambda el: el.split(\" \")[-1])\n",
    "    return df"
   ]
  },
  {
   "cell_type": "code",
   "execution_count": 22,
   "metadata": {},
   "outputs": [
    {
     "data": {
      "text/plain": [
       "'C:\\\\mansprojekts\\\\mansfails.txt'"
      ]
     },
     "execution_count": 22,
     "metadata": {},
     "output_type": "execute_result"
    }
   ],
   "source": [
    "os.path.join(\"C:\\\\mansprojekts\\\\\", \"mansfails.txt\")"
   ]
  },
  {
   "cell_type": "code",
   "execution_count": 23,
   "metadata": {},
   "outputs": [],
   "source": [
    "def saveDF(df, path=None, name=\"Farmhouses\", my_sheet_name=\"Sheet_1\"):\n",
    "    # https://stackoverflow.com/questions/10607688/how-to-create-a-file-name-with-the-current-date-time-in-python\n",
    "    timestr = time.strftime(\"%Y%m%d-%H%M%S\")\n",
    "    # full way of writing to excel, could just do the short df.to_excel(filename)\n",
    "    fname = f'{name}_{timestr}.xlsx'\n",
    "    if path:\n",
    "        fullpath = os.path.join(path, fname)\n",
    "    else:\n",
    "        fullpath = fname\n",
    "        \n",
    "    with pd.ExcelWriter(fullpath) as writer:\n",
    "        df.to_excel(writer, sheet_name=my_sheet_name)"
   ]
  },
  {
   "cell_type": "code",
   "execution_count": 31,
   "metadata": {},
   "outputs": [
    {
     "name": "stdout",
     "output_type": "stream",
     "text": [
      "Going to gather data from URL:https://www.ss.com/lv/real-estate/farms-estates/riga-region/sell/\n",
      "Going to gather data from URL:https://www.ss.com/lv/real-estate/farms-estates/aizkraukle-and-reg/sell/\n",
      "Going to gather data from URL:https://www.ss.com/lv/real-estate/farms-estates/aluksne-and-reg/sell/\n",
      "Going to gather data from URL:https://www.ss.com/lv/real-estate/farms-estates/balvi-and-reg/sell/\n",
      "Going to gather data from URL:https://www.ss.com/lv/real-estate/farms-estates/bauska-and-reg/sell/\n",
      "Going to gather data from URL:https://www.ss.com/lv/real-estate/farms-estates/cesis-and-reg/sell/\n",
      "Going to gather data from URL:https://www.ss.com/lv/real-estate/farms-estates/daugavpils-and-reg/sell/\n",
      "Going to gather data from URL:https://www.ss.com/lv/real-estate/farms-estates/dobele-and-reg/sell/\n",
      "Going to gather data from URL:https://www.ss.com/lv/real-estate/farms-estates/gulbene-and-reg/sell/\n",
      "Going to gather data from URL:https://www.ss.com/lv/real-estate/farms-estates/jekabpils-and-reg/sell/\n",
      "Going to gather data from URL:https://www.ss.com/lv/real-estate/farms-estates/jelgava-and-reg/sell/\n",
      "Going to gather data from URL:https://www.ss.com/lv/real-estate/farms-estates/kraslava-and-reg/sell/\n",
      "Going to gather data from URL:https://www.ss.com/lv/real-estate/farms-estates/kuldiga-and-reg/sell/\n",
      "Going to gather data from URL:https://www.ss.com/lv/real-estate/farms-estates/liepaja-and-reg/sell/\n",
      "Going to gather data from URL:https://www.ss.com/lv/real-estate/farms-estates/limbadzi-and-reg/sell/\n",
      "Going to gather data from URL:https://www.ss.com/lv/real-estate/farms-estates/ludza-and-reg/sell/\n",
      "Going to gather data from URL:https://www.ss.com/lv/real-estate/farms-estates/madona-and-reg/sell/\n",
      "Going to gather data from URL:https://www.ss.com/lv/real-estate/farms-estates/ogre-and-reg/sell/\n",
      "Going to gather data from URL:https://www.ss.com/lv/real-estate/farms-estates/preili-and-reg/sell/\n",
      "Going to gather data from URL:https://www.ss.com/lv/real-estate/farms-estates/rezekne-and-reg/sell/\n",
      "Going to gather data from URL:https://www.ss.com/lv/real-estate/farms-estates/saldus-and-reg/sell/\n",
      "Going to gather data from URL:https://www.ss.com/lv/real-estate/farms-estates/talsi-and-reg/sell/\n",
      "Going to gather data from URL:https://www.ss.com/lv/real-estate/farms-estates/tukums-and-reg/sell/\n",
      "Going to gather data from URL:https://www.ss.com/lv/real-estate/farms-estates/valka-and-reg/sell/\n",
      "Going to gather data from URL:https://www.ss.com/lv/real-estate/farms-estates/valmiera-and-reg/sell/\n",
      "Going to gather data from URL:https://www.ss.com/lv/real-estate/farms-estates/ventspils-and-reg/sell/\n"
     ]
    }
   ],
   "source": [
    "farmurls = getUrlList(url)\n",
    "#df = getDFfromUrlList(farmurls)\n",
    "df = getDFfromUrlList(farmurls[:-1]) # we do not reallyneed the Cits region\n",
    "df = cleanDF(df)\n",
    "saveDF(df)"
   ]
  },
  {
   "cell_type": "code",
   "execution_count": 33,
   "metadata": {},
   "outputs": [
    {
     "data": {
      "text/plain": [
       "(275, 10)"
      ]
     },
     "execution_count": 33,
     "metadata": {},
     "output_type": "execute_result"
    }
   ],
   "source": [
    "df.shape"
   ]
  },
  {
   "cell_type": "code",
   "execution_count": 28,
   "metadata": {},
   "outputs": [
    {
     "data": {
      "text/plain": [
       "'C:\\\\Users\\\\val-p1\\\\Github\\\\RCS_Data_Analysis_Python_11_2019\\\\WebScraping'"
      ]
     },
     "execution_count": 28,
     "metadata": {},
     "output_type": "execute_result"
    }
   ],
   "source": [
    "os.getcwd()"
   ]
  },
  {
   "cell_type": "code",
   "execution_count": 30,
   "metadata": {},
   "outputs": [],
   "source": [
    "saveDF(df, \"..\") # this will save one map above current map "
   ]
  },
  {
   "cell_type": "code",
   "execution_count": 36,
   "metadata": {},
   "outputs": [
    {
     "data": {
      "text/plain": [
       "['https://www.ss.com/msg/lv/real-estate/farms-estates/riga-region/kekavas-pag/kgkjg.html',\n",
       " 'https://www.ss.com/msg/lv/real-estate/farms-estates/riga-region/ropazu-nov/lpfmi.html',\n",
       " 'https://www.ss.com/msg/lv/real-estate/farms-estates/riga-region/babites-pag/jkdnx.html',\n",
       " 'https://www.ss.com/msg/lv/real-estate/farms-estates/riga-region/kekavas-pag/bocdf.html',\n",
       " 'https://www.ss.com/msg/lv/real-estate/farms-estates/riga-region/kekavas-pag/dbgbj.html']"
      ]
     },
     "execution_count": 36,
     "metadata": {},
     "output_type": "execute_result"
    }
   ],
   "source": [
    "list(df.head()['URL'])"
   ]
  },
  {
   "cell_type": "code",
   "execution_count": null,
   "metadata": {},
   "outputs": [],
   "source": [
    "for index, row in df.head().iterrows():\n",
    "    print(row)"
   ]
  },
  {
   "cell_type": "code",
   "execution_count": 43,
   "metadata": {},
   "outputs": [],
   "source": [
    "def getDateFromUrl(url):\n",
    "    mydate = None\n",
    "    req = requests.get(adurl)\n",
    "    if req.status_code != 200:\n",
    "        print(f'Unexpected status code {req.status_code}. Stopping parse')\n",
    "        return None\n",
    "    soup = BeautifulSoup(req.text, 'lxml')\n",
    "    alltds = soup.find_all('td', {'class':'msg_footer'})\n",
    "    mydates = [el for el in alltds if \"Datums:\" in el.text]\n",
    "    if len(mydates) > 0:\n",
    "        mydate = mydates[0]\n",
    "    else:\n",
    "        return None\n",
    "    cleandate = mydate.text.split(\" \")[1:]\n",
    "    mydate = \"_\".join(cleandate)\n",
    "    return mydate"
   ]
  },
  {
   "cell_type": "code",
   "execution_count": 44,
   "metadata": {},
   "outputs": [
    {
     "data": {
      "text/plain": [
       "'07.12.2019_10:11'"
      ]
     },
     "execution_count": 44,
     "metadata": {},
     "output_type": "execute_result"
    }
   ],
   "source": [
    "mydate = getDateFromUrl(adurl)\n",
    "mydate"
   ]
  },
  {
   "cell_type": "code",
   "execution_count": 39,
   "metadata": {},
   "outputs": [
    {
     "data": {
      "text/plain": [
       "6"
      ]
     },
     "execution_count": 39,
     "metadata": {},
     "output_type": "execute_result"
    }
   ],
   "source": [
    "adurl = 'https://www.ss.com/msg/lv/real-estate/farms-estates/riga-region/kekavas-pag/kgkjg.html'\n",
    "req = requests.get(adurl)\n",
    "if req.status_code != 200:\n",
    "    print(f'Unexpected status code {req.status_code}. Stopping parse')\n",
    "soup = BeautifulSoup(req.text, 'lxml')\n",
    "alltds = soup.find_all('td', {'class':'msg_footer'})\n",
    "len(alltds)"
   ]
  },
  {
   "cell_type": "code",
   "execution_count": 40,
   "metadata": {},
   "outputs": [
    {
     "data": {
      "text/plain": [
       "[<td align=\"right\" class=\"msg_footer\">Datums: 07.12.2019 10:11</td>]"
      ]
     },
     "execution_count": 40,
     "metadata": {},
     "output_type": "execute_result"
    }
   ],
   "source": [
    "mydates = [el for el in alltds if \"Datums:\" in el.text]\n",
    "mydates"
   ]
  },
  {
   "cell_type": "code",
   "execution_count": 41,
   "metadata": {},
   "outputs": [
    {
     "data": {
      "text/plain": [
       "['07.12.2019', '10:11']"
      ]
     },
     "execution_count": 41,
     "metadata": {},
     "output_type": "execute_result"
    }
   ],
   "source": [
    "mydate = mydates[0]\n",
    "cleandate = mydate.text.split(\" \")[1:]\n",
    "cleandate"
   ]
  },
  {
   "cell_type": "code",
   "execution_count": 42,
   "metadata": {},
   "outputs": [
    {
     "data": {
      "text/plain": [
       "'07.12.2019_10:11'"
      ]
     },
     "execution_count": 42,
     "metadata": {},
     "output_type": "execute_result"
    }
   ],
   "source": [
    "\"_\".join(cleandate)"
   ]
  },
  {
   "cell_type": "code",
   "execution_count": 50,
   "metadata": {},
   "outputs": [
    {
     "data": {
      "text/html": [
       "<div>\n",
       "<style scoped>\n",
       "    .dataframe tbody tr th:only-of-type {\n",
       "        vertical-align: middle;\n",
       "    }\n",
       "\n",
       "    .dataframe tbody tr th {\n",
       "        vertical-align: top;\n",
       "    }\n",
       "\n",
       "    .dataframe thead th {\n",
       "        text-align: right;\n",
       "    }\n",
       "</style>\n",
       "<table border=\"1\" class=\"dataframe\">\n",
       "  <thead>\n",
       "    <tr style=\"text-align: right;\">\n",
       "      <th></th>\n",
       "      <th>Sludinājumi</th>\n",
       "      <th>Pagasts</th>\n",
       "      <th>Stāvi</th>\n",
       "      <th>m2</th>\n",
       "      <th>Zem. pl.</th>\n",
       "      <th>Cena</th>\n",
       "      <th>URL</th>\n",
       "      <th>Region</th>\n",
       "      <th>Price</th>\n",
       "      <th>Currency</th>\n",
       "    </tr>\n",
       "  </thead>\n",
       "  <tbody>\n",
       "    <tr>\n",
       "      <th>0</th>\n",
       "      <td>Продает хозяин - в тихом спокойном месте Кекав...</td>\n",
       "      <td>Ķekavas pag.Katrīnmuiža</td>\n",
       "      <td>2.0</td>\n",
       "      <td>280.0</td>\n",
       "      <td>7000 m²</td>\n",
       "      <td>139,000  €</td>\n",
       "      <td>https://www.ss.com/msg/lv/real-estate/farms-es...</td>\n",
       "      <td>riga-region</td>\n",
       "      <td>139000</td>\n",
       "      <td>€</td>\n",
       "    </tr>\n",
       "    <tr>\n",
       "      <th>1</th>\n",
       "      <td>Pārdod īpašumu 19, 20 ha ar nepabeiktu jaunbūv...</td>\n",
       "      <td>Ropažu nov.Kākciems</td>\n",
       "      <td>2.0</td>\n",
       "      <td>150.0</td>\n",
       "      <td>19.20 ha.</td>\n",
       "      <td>80,000  €</td>\n",
       "      <td>https://www.ss.com/msg/lv/real-estate/farms-es...</td>\n",
       "      <td>riga-region</td>\n",
       "      <td>80000</td>\n",
       "      <td>€</td>\n",
       "    </tr>\n",
       "    <tr>\n",
       "      <th>2</th>\n",
       "      <td>Рай для души и сердца всего в 20 км от Риги - ...</td>\n",
       "      <td>Babītes pag.Trenči</td>\n",
       "      <td>2.0</td>\n",
       "      <td>175.0</td>\n",
       "      <td>17000 m²</td>\n",
       "      <td>229,000  €</td>\n",
       "      <td>https://www.ss.com/msg/lv/real-estate/farms-es...</td>\n",
       "      <td>riga-region</td>\n",
       "      <td>229000</td>\n",
       "      <td>€</td>\n",
       "    </tr>\n",
       "    <tr>\n",
       "      <th>3</th>\n",
       "      <td>Pārdodas Labi saglabājusies sena lauku viensēt...</td>\n",
       "      <td>Ķekavas pag.Lielvārži</td>\n",
       "      <td>1.0</td>\n",
       "      <td>120.0</td>\n",
       "      <td>20000 m²</td>\n",
       "      <td>70,000  €</td>\n",
       "      <td>https://www.ss.com/msg/lv/real-estate/farms-es...</td>\n",
       "      <td>riga-region</td>\n",
       "      <td>70000</td>\n",
       "      <td>€</td>\n",
       "    </tr>\n",
       "    <tr>\n",
       "      <th>4</th>\n",
       "      <td>Lauku viensēta. Īpašums sastāv no diviem īpašu...</td>\n",
       "      <td>Ķekavas pag.Plakanciems</td>\n",
       "      <td>1.0</td>\n",
       "      <td>5.0</td>\n",
       "      <td>4.50 ha.</td>\n",
       "      <td>55,000  €</td>\n",
       "      <td>https://www.ss.com/msg/lv/real-estate/farms-es...</td>\n",
       "      <td>riga-region</td>\n",
       "      <td>55000</td>\n",
       "      <td>€</td>\n",
       "    </tr>\n",
       "  </tbody>\n",
       "</table>\n",
       "</div>"
      ],
      "text/plain": [
       "                                         Sludinājumi                  Pagasts  \\\n",
       "0  Продает хозяин - в тихом спокойном месте Кекав...  Ķekavas pag.Katrīnmuiža   \n",
       "1  Pārdod īpašumu 19, 20 ha ar nepabeiktu jaunbūv...      Ropažu nov.Kākciems   \n",
       "2  Рай для души и сердца всего в 20 км от Риги - ...       Babītes pag.Trenči   \n",
       "3  Pārdodas Labi saglabājusies sena lauku viensēt...    Ķekavas pag.Lielvārži   \n",
       "4  Lauku viensēta. Īpašums sastāv no diviem īpašu...  Ķekavas pag.Plakanciems   \n",
       "\n",
       "   Stāvi     m2   Zem. pl.        Cena  \\\n",
       "0    2.0  280.0    7000 m²  139,000  €   \n",
       "1    2.0  150.0  19.20 ha.   80,000  €   \n",
       "2    2.0  175.0   17000 m²  229,000  €   \n",
       "3    1.0  120.0   20000 m²   70,000  €   \n",
       "4    1.0    5.0   4.50 ha.   55,000  €   \n",
       "\n",
       "                                                 URL       Region   Price  \\\n",
       "0  https://www.ss.com/msg/lv/real-estate/farms-es...  riga-region  139000   \n",
       "1  https://www.ss.com/msg/lv/real-estate/farms-es...  riga-region   80000   \n",
       "2  https://www.ss.com/msg/lv/real-estate/farms-es...  riga-region  229000   \n",
       "3  https://www.ss.com/msg/lv/real-estate/farms-es...  riga-region   70000   \n",
       "4  https://www.ss.com/msg/lv/real-estate/farms-es...  riga-region   55000   \n",
       "\n",
       "  Currency  \n",
       "0        €  \n",
       "1        €  \n",
       "2        €  \n",
       "3        €  \n",
       "4        €  "
      ]
     },
     "execution_count": 50,
     "metadata": {},
     "output_type": "execute_result"
    }
   ],
   "source": [
    "minidf = df.head().copy(deep=True)\n",
    "minidf"
   ]
  },
  {
   "cell_type": "code",
   "execution_count": 52,
   "metadata": {},
   "outputs": [
    {
     "data": {
      "text/html": [
       "<div>\n",
       "<style scoped>\n",
       "    .dataframe tbody tr th:only-of-type {\n",
       "        vertical-align: middle;\n",
       "    }\n",
       "\n",
       "    .dataframe tbody tr th {\n",
       "        vertical-align: top;\n",
       "    }\n",
       "\n",
       "    .dataframe thead th {\n",
       "        text-align: right;\n",
       "    }\n",
       "</style>\n",
       "<table border=\"1\" class=\"dataframe\">\n",
       "  <thead>\n",
       "    <tr style=\"text-align: right;\">\n",
       "      <th></th>\n",
       "      <th>Sludinājumi</th>\n",
       "      <th>Pagasts</th>\n",
       "      <th>Stāvi</th>\n",
       "      <th>m2</th>\n",
       "      <th>Zem. pl.</th>\n",
       "      <th>Cena</th>\n",
       "      <th>URL</th>\n",
       "      <th>Region</th>\n",
       "      <th>Price</th>\n",
       "      <th>Currency</th>\n",
       "      <th>Date</th>\n",
       "    </tr>\n",
       "  </thead>\n",
       "  <tbody>\n",
       "    <tr>\n",
       "      <th>0</th>\n",
       "      <td>Продает хозяин - в тихом спокойном месте Кекав...</td>\n",
       "      <td>Ķekavas pag.Katrīnmuiža</td>\n",
       "      <td>2.0</td>\n",
       "      <td>280.0</td>\n",
       "      <td>7000 m²</td>\n",
       "      <td>139,000  €</td>\n",
       "      <td>https://www.ss.com/msg/lv/real-estate/farms-es...</td>\n",
       "      <td>riga-region</td>\n",
       "      <td>139000</td>\n",
       "      <td>€</td>\n",
       "      <td>https</td>\n",
       "    </tr>\n",
       "    <tr>\n",
       "      <th>1</th>\n",
       "      <td>Pārdod īpašumu 19, 20 ha ar nepabeiktu jaunbūv...</td>\n",
       "      <td>Ropažu nov.Kākciems</td>\n",
       "      <td>2.0</td>\n",
       "      <td>150.0</td>\n",
       "      <td>19.20 ha.</td>\n",
       "      <td>80,000  €</td>\n",
       "      <td>https://www.ss.com/msg/lv/real-estate/farms-es...</td>\n",
       "      <td>riga-region</td>\n",
       "      <td>80000</td>\n",
       "      <td>€</td>\n",
       "      <td>https</td>\n",
       "    </tr>\n",
       "    <tr>\n",
       "      <th>2</th>\n",
       "      <td>Рай для души и сердца всего в 20 км от Риги - ...</td>\n",
       "      <td>Babītes pag.Trenči</td>\n",
       "      <td>2.0</td>\n",
       "      <td>175.0</td>\n",
       "      <td>17000 m²</td>\n",
       "      <td>229,000  €</td>\n",
       "      <td>https://www.ss.com/msg/lv/real-estate/farms-es...</td>\n",
       "      <td>riga-region</td>\n",
       "      <td>229000</td>\n",
       "      <td>€</td>\n",
       "      <td>https</td>\n",
       "    </tr>\n",
       "    <tr>\n",
       "      <th>3</th>\n",
       "      <td>Pārdodas Labi saglabājusies sena lauku viensēt...</td>\n",
       "      <td>Ķekavas pag.Lielvārži</td>\n",
       "      <td>1.0</td>\n",
       "      <td>120.0</td>\n",
       "      <td>20000 m²</td>\n",
       "      <td>70,000  €</td>\n",
       "      <td>https://www.ss.com/msg/lv/real-estate/farms-es...</td>\n",
       "      <td>riga-region</td>\n",
       "      <td>70000</td>\n",
       "      <td>€</td>\n",
       "      <td>https</td>\n",
       "    </tr>\n",
       "    <tr>\n",
       "      <th>4</th>\n",
       "      <td>Lauku viensēta. Īpašums sastāv no diviem īpašu...</td>\n",
       "      <td>Ķekavas pag.Plakanciems</td>\n",
       "      <td>1.0</td>\n",
       "      <td>5.0</td>\n",
       "      <td>4.50 ha.</td>\n",
       "      <td>55,000  €</td>\n",
       "      <td>https://www.ss.com/msg/lv/real-estate/farms-es...</td>\n",
       "      <td>riga-region</td>\n",
       "      <td>55000</td>\n",
       "      <td>€</td>\n",
       "      <td>https</td>\n",
       "    </tr>\n",
       "  </tbody>\n",
       "</table>\n",
       "</div>"
      ],
      "text/plain": [
       "                                         Sludinājumi                  Pagasts  \\\n",
       "0  Продает хозяин - в тихом спокойном месте Кекав...  Ķekavas pag.Katrīnmuiža   \n",
       "1  Pārdod īpašumu 19, 20 ha ar nepabeiktu jaunbūv...      Ropažu nov.Kākciems   \n",
       "2  Рай для души и сердца всего в 20 км от Риги - ...       Babītes pag.Trenči   \n",
       "3  Pārdodas Labi saglabājusies sena lauku viensēt...    Ķekavas pag.Lielvārži   \n",
       "4  Lauku viensēta. Īpašums sastāv no diviem īpašu...  Ķekavas pag.Plakanciems   \n",
       "\n",
       "   Stāvi     m2   Zem. pl.        Cena  \\\n",
       "0    2.0  280.0    7000 m²  139,000  €   \n",
       "1    2.0  150.0  19.20 ha.   80,000  €   \n",
       "2    2.0  175.0   17000 m²  229,000  €   \n",
       "3    1.0  120.0   20000 m²   70,000  €   \n",
       "4    1.0    5.0   4.50 ha.   55,000  €   \n",
       "\n",
       "                                                 URL       Region   Price  \\\n",
       "0  https://www.ss.com/msg/lv/real-estate/farms-es...  riga-region  139000   \n",
       "1  https://www.ss.com/msg/lv/real-estate/farms-es...  riga-region   80000   \n",
       "2  https://www.ss.com/msg/lv/real-estate/farms-es...  riga-region  229000   \n",
       "3  https://www.ss.com/msg/lv/real-estate/farms-es...  riga-region   70000   \n",
       "4  https://www.ss.com/msg/lv/real-estate/farms-es...  riga-region   55000   \n",
       "\n",
       "  Currency   Date  \n",
       "0        €  https  \n",
       "1        €  https  \n",
       "2        €  https  \n",
       "3        €  https  \n",
       "4        €  https  "
      ]
     },
     "execution_count": 52,
     "metadata": {},
     "output_type": "execute_result"
    }
   ],
   "source": [
    "minidf['Date'] = minidf['URL'].apply(lambda el: el[:5])\n",
    "minidf"
   ]
  },
  {
   "cell_type": "code",
   "execution_count": 53,
   "metadata": {},
   "outputs": [
    {
     "data": {
      "text/html": [
       "<div>\n",
       "<style scoped>\n",
       "    .dataframe tbody tr th:only-of-type {\n",
       "        vertical-align: middle;\n",
       "    }\n",
       "\n",
       "    .dataframe tbody tr th {\n",
       "        vertical-align: top;\n",
       "    }\n",
       "\n",
       "    .dataframe thead th {\n",
       "        text-align: right;\n",
       "    }\n",
       "</style>\n",
       "<table border=\"1\" class=\"dataframe\">\n",
       "  <thead>\n",
       "    <tr style=\"text-align: right;\">\n",
       "      <th></th>\n",
       "      <th>Sludinājumi</th>\n",
       "      <th>Pagasts</th>\n",
       "      <th>Stāvi</th>\n",
       "      <th>m2</th>\n",
       "      <th>Zem. pl.</th>\n",
       "      <th>Cena</th>\n",
       "      <th>URL</th>\n",
       "      <th>Region</th>\n",
       "      <th>Price</th>\n",
       "      <th>Currency</th>\n",
       "      <th>Date</th>\n",
       "    </tr>\n",
       "  </thead>\n",
       "  <tbody>\n",
       "    <tr>\n",
       "      <th>0</th>\n",
       "      <td>Продает хозяин - в тихом спокойном месте Кекав...</td>\n",
       "      <td>Ķekavas pag.Katrīnmuiža</td>\n",
       "      <td>2.0</td>\n",
       "      <td>280.0</td>\n",
       "      <td>7000 m²</td>\n",
       "      <td>139,000  €</td>\n",
       "      <td>https://www.ss.com/msg/lv/real-estate/farms-es...</td>\n",
       "      <td>riga-region</td>\n",
       "      <td>139000</td>\n",
       "      <td>€</td>\n",
       "      <td>07.12.2019_10:11</td>\n",
       "    </tr>\n",
       "    <tr>\n",
       "      <th>1</th>\n",
       "      <td>Pārdod īpašumu 19, 20 ha ar nepabeiktu jaunbūv...</td>\n",
       "      <td>Ropažu nov.Kākciems</td>\n",
       "      <td>2.0</td>\n",
       "      <td>150.0</td>\n",
       "      <td>19.20 ha.</td>\n",
       "      <td>80,000  €</td>\n",
       "      <td>https://www.ss.com/msg/lv/real-estate/farms-es...</td>\n",
       "      <td>riga-region</td>\n",
       "      <td>80000</td>\n",
       "      <td>€</td>\n",
       "      <td>07.12.2019_10:11</td>\n",
       "    </tr>\n",
       "    <tr>\n",
       "      <th>2</th>\n",
       "      <td>Рай для души и сердца всего в 20 км от Риги - ...</td>\n",
       "      <td>Babītes pag.Trenči</td>\n",
       "      <td>2.0</td>\n",
       "      <td>175.0</td>\n",
       "      <td>17000 m²</td>\n",
       "      <td>229,000  €</td>\n",
       "      <td>https://www.ss.com/msg/lv/real-estate/farms-es...</td>\n",
       "      <td>riga-region</td>\n",
       "      <td>229000</td>\n",
       "      <td>€</td>\n",
       "      <td>07.12.2019_10:11</td>\n",
       "    </tr>\n",
       "    <tr>\n",
       "      <th>3</th>\n",
       "      <td>Pārdodas Labi saglabājusies sena lauku viensēt...</td>\n",
       "      <td>Ķekavas pag.Lielvārži</td>\n",
       "      <td>1.0</td>\n",
       "      <td>120.0</td>\n",
       "      <td>20000 m²</td>\n",
       "      <td>70,000  €</td>\n",
       "      <td>https://www.ss.com/msg/lv/real-estate/farms-es...</td>\n",
       "      <td>riga-region</td>\n",
       "      <td>70000</td>\n",
       "      <td>€</td>\n",
       "      <td>07.12.2019_10:11</td>\n",
       "    </tr>\n",
       "    <tr>\n",
       "      <th>4</th>\n",
       "      <td>Lauku viensēta. Īpašums sastāv no diviem īpašu...</td>\n",
       "      <td>Ķekavas pag.Plakanciems</td>\n",
       "      <td>1.0</td>\n",
       "      <td>5.0</td>\n",
       "      <td>4.50 ha.</td>\n",
       "      <td>55,000  €</td>\n",
       "      <td>https://www.ss.com/msg/lv/real-estate/farms-es...</td>\n",
       "      <td>riga-region</td>\n",
       "      <td>55000</td>\n",
       "      <td>€</td>\n",
       "      <td>07.12.2019_10:11</td>\n",
       "    </tr>\n",
       "  </tbody>\n",
       "</table>\n",
       "</div>"
      ],
      "text/plain": [
       "                                         Sludinājumi                  Pagasts  \\\n",
       "0  Продает хозяин - в тихом спокойном месте Кекав...  Ķekavas pag.Katrīnmuiža   \n",
       "1  Pārdod īpašumu 19, 20 ha ar nepabeiktu jaunbūv...      Ropažu nov.Kākciems   \n",
       "2  Рай для души и сердца всего в 20 км от Риги - ...       Babītes pag.Trenči   \n",
       "3  Pārdodas Labi saglabājusies sena lauku viensēt...    Ķekavas pag.Lielvārži   \n",
       "4  Lauku viensēta. Īpašums sastāv no diviem īpašu...  Ķekavas pag.Plakanciems   \n",
       "\n",
       "   Stāvi     m2   Zem. pl.        Cena  \\\n",
       "0    2.0  280.0    7000 m²  139,000  €   \n",
       "1    2.0  150.0  19.20 ha.   80,000  €   \n",
       "2    2.0  175.0   17000 m²  229,000  €   \n",
       "3    1.0  120.0   20000 m²   70,000  €   \n",
       "4    1.0    5.0   4.50 ha.   55,000  €   \n",
       "\n",
       "                                                 URL       Region   Price  \\\n",
       "0  https://www.ss.com/msg/lv/real-estate/farms-es...  riga-region  139000   \n",
       "1  https://www.ss.com/msg/lv/real-estate/farms-es...  riga-region   80000   \n",
       "2  https://www.ss.com/msg/lv/real-estate/farms-es...  riga-region  229000   \n",
       "3  https://www.ss.com/msg/lv/real-estate/farms-es...  riga-region   70000   \n",
       "4  https://www.ss.com/msg/lv/real-estate/farms-es...  riga-region   55000   \n",
       "\n",
       "  Currency              Date  \n",
       "0        €  07.12.2019_10:11  \n",
       "1        €  07.12.2019_10:11  \n",
       "2        €  07.12.2019_10:11  \n",
       "3        €  07.12.2019_10:11  \n",
       "4        €  07.12.2019_10:11  "
      ]
     },
     "execution_count": 53,
     "metadata": {},
     "output_type": "execute_result"
    }
   ],
   "source": [
    "minidf['Date'] = minidf['URL'].apply(getDateFromUrl)\n",
    "minidf"
   ]
  }
 ],
 "metadata": {
  "kernelspec": {
   "display_name": "Python 3",
   "language": "python",
   "name": "python3"
  },
  "language_info": {
   "codemirror_mode": {
    "name": "ipython",
    "version": 3
   },
   "file_extension": ".py",
   "mimetype": "text/x-python",
   "name": "python",
   "nbconvert_exporter": "python",
   "pygments_lexer": "ipython3",
   "version": "3.7.3"
  }
 },
 "nbformat": 4,
 "nbformat_minor": 2
}
