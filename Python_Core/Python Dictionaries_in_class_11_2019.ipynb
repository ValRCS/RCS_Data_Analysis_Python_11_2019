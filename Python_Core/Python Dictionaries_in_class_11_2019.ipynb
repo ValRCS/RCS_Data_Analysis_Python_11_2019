{
 "cells": [
  {
   "cell_type": "markdown",
   "metadata": {},
   "source": [
    "# Python Dictionaries\n"
   ]
  },
  {
   "cell_type": "markdown",
   "metadata": {},
   "source": [
    "## Dictionaries\n",
    "\n",
    "* Collection of Key - Value pairs\n",
    "* also known as associative array\n",
    "* unordered\n",
    "* keys unique in one dictionary\n",
    "* storing, extracting\n"
   ]
  },
  {
   "cell_type": "code",
   "execution_count": 1,
   "metadata": {},
   "outputs": [
    {
     "data": {
      "text/plain": [
       "0"
      ]
     },
     "execution_count": 1,
     "metadata": {},
     "output_type": "execute_result"
    }
   ],
   "source": [
    "emptyd = {}\n",
    "len(emptyd)"
   ]
  },
  {
   "cell_type": "code",
   "execution_count": 2,
   "metadata": {},
   "outputs": [
    {
     "data": {
      "text/plain": [
       "dict"
      ]
     },
     "execution_count": 2,
     "metadata": {},
     "output_type": "execute_result"
    }
   ],
   "source": [
    "type(emptyd)"
   ]
  },
  {
   "cell_type": "code",
   "execution_count": 3,
   "metadata": {},
   "outputs": [
    {
     "name": "stdout",
     "output_type": "stream",
     "text": [
      "{'jack': 4098, 'sape': 4139}\n"
     ]
    }
   ],
   "source": [
    "tel = {'jack': 4098, 'sape': 4139}\n",
    "print(tel)"
   ]
  },
  {
   "cell_type": "code",
   "execution_count": 4,
   "metadata": {},
   "outputs": [
    {
     "name": "stdout",
     "output_type": "stream",
     "text": [
      "dict_keys(['jack', 'sape', 'guido'])\n",
      "dict_values([4098, 4139, 4127])\n"
     ]
    }
   ],
   "source": [
    "# add a new key-value pair\n",
    "tel['guido'] = 4127\n",
    "print(tel.keys())\n",
    "print(tel.values())"
   ]
  },
  {
   "cell_type": "code",
   "execution_count": 5,
   "metadata": {},
   "outputs": [
    {
     "data": {
      "text/plain": [
       "{'jack': 4098, 'sape': 4139, 'guido': 4127, 'valdis': 4127}"
      ]
     },
     "execution_count": 5,
     "metadata": {},
     "output_type": "execute_result"
    }
   ],
   "source": [
    "# add key 'valdis' with value 4127 to our tel dictionary\n",
    "tel['valdis'] = 4127\n",
    "tel"
   ]
  },
  {
   "cell_type": "code",
   "execution_count": 6,
   "metadata": {},
   "outputs": [
    {
     "data": {
      "text/plain": [
       "4098"
      ]
     },
     "execution_count": 6,
     "metadata": {},
     "output_type": "execute_result"
    }
   ],
   "source": [
    "#get value from key in dictionary\n",
    "# very fast even in large dictionaries! O(1)\n",
    "tel['jack']"
   ]
  },
  {
   "cell_type": "code",
   "execution_count": 7,
   "metadata": {},
   "outputs": [],
   "source": [
    "tel['sape'] = 54545"
   ]
  },
  {
   "cell_type": "code",
   "execution_count": 8,
   "metadata": {},
   "outputs": [
    {
     "data": {
      "text/plain": [
       "4127"
      ]
     },
     "execution_count": 8,
     "metadata": {},
     "output_type": "execute_result"
    }
   ],
   "source": [
    "tel['valdis']"
   ]
  },
  {
   "cell_type": "code",
   "execution_count": 9,
   "metadata": {},
   "outputs": [
    {
     "ename": "KeyError",
     "evalue": "'peteris'",
     "output_type": "error",
     "traceback": [
      "\u001b[1;31m---------------------------------------------------------------------------\u001b[0m",
      "\u001b[1;31mKeyError\u001b[0m                                  Traceback (most recent call last)",
      "\u001b[1;32m<ipython-input-9-8c2d30cd0140>\u001b[0m in \u001b[0;36m<module>\u001b[1;34m\u001b[0m\n\u001b[1;32m----> 1\u001b[1;33m \u001b[0mtel\u001b[0m\u001b[1;33m[\u001b[0m\u001b[1;34m'peteris'\u001b[0m\u001b[1;33m]\u001b[0m\u001b[1;33m\u001b[0m\u001b[1;33m\u001b[0m\u001b[0m\n\u001b[0m",
      "\u001b[1;31mKeyError\u001b[0m: 'peteris'"
     ]
    }
   ],
   "source": [
    "tel['peteris']"
   ]
  },
  {
   "cell_type": "code",
   "execution_count": 11,
   "metadata": {},
   "outputs": [
    {
     "data": {
      "text/plain": [
       "True"
      ]
     },
     "execution_count": 11,
     "metadata": {},
     "output_type": "execute_result"
    }
   ],
   "source": [
    "# check for key in our dictionary\n",
    "'valdis' in tel"
   ]
  },
  {
   "cell_type": "code",
   "execution_count": 12,
   "metadata": {},
   "outputs": [
    {
     "data": {
      "text/plain": [
       "False"
      ]
     },
     "execution_count": 12,
     "metadata": {},
     "output_type": "execute_result"
    }
   ],
   "source": [
    "'peteris' in tel"
   ]
  },
  {
   "cell_type": "code",
   "execution_count": 14,
   "metadata": {},
   "outputs": [
    {
     "name": "stdout",
     "output_type": "stream",
     "text": [
      "No such key\n"
     ]
    }
   ],
   "source": [
    "key = 'nevaldis'\n",
    "if key in tel:\n",
    "    print(tel[key])\n",
    "else:\n",
    "    print(\"No such key\")"
   ]
  },
  {
   "cell_type": "code",
   "execution_count": 15,
   "metadata": {},
   "outputs": [],
   "source": [
    "# remove key value pair\n",
    "del tel['sape']"
   ]
  },
  {
   "cell_type": "code",
   "execution_count": 16,
   "metadata": {},
   "outputs": [
    {
     "ename": "KeyError",
     "evalue": "'sape'",
     "output_type": "error",
     "traceback": [
      "\u001b[1;31m---------------------------------------------------------------------------\u001b[0m",
      "\u001b[1;31mKeyError\u001b[0m                                  Traceback (most recent call last)",
      "\u001b[1;32m<ipython-input-16-275c97422568>\u001b[0m in \u001b[0;36m<module>\u001b[1;34m\u001b[0m\n\u001b[1;32m----> 1\u001b[1;33m \u001b[0mtel\u001b[0m\u001b[1;33m[\u001b[0m\u001b[1;34m'sape'\u001b[0m\u001b[1;33m]\u001b[0m\u001b[1;33m\u001b[0m\u001b[1;33m\u001b[0m\u001b[0m\n\u001b[0m",
      "\u001b[1;31mKeyError\u001b[0m: 'sape'"
     ]
    }
   ],
   "source": [
    "tel['sape']"
   ]
  },
  {
   "cell_type": "code",
   "execution_count": 17,
   "metadata": {},
   "outputs": [
    {
     "data": {
      "text/plain": [
       "True"
      ]
     },
     "execution_count": 17,
     "metadata": {},
     "output_type": "execute_result"
    }
   ],
   "source": [
    "'valdis' in tel.keys()"
   ]
  },
  {
   "cell_type": "code",
   "execution_count": 18,
   "metadata": {},
   "outputs": [
    {
     "data": {
      "text/plain": [
       "False"
      ]
     },
     "execution_count": 18,
     "metadata": {},
     "output_type": "execute_result"
    }
   ],
   "source": [
    "'karlis' in tel.keys()"
   ]
  },
  {
   "cell_type": "code",
   "execution_count": 19,
   "metadata": {},
   "outputs": [
    {
     "data": {
      "text/plain": [
       "True"
      ]
     },
     "execution_count": 19,
     "metadata": {},
     "output_type": "execute_result"
    }
   ],
   "source": [
    "# this will be slower going through all the key:value pairs\n",
    "4127 in tel.values()"
   ]
  },
  {
   "cell_type": "code",
   "execution_count": 20,
   "metadata": {},
   "outputs": [
    {
     "data": {
      "text/plain": [
       "False"
      ]
     },
     "execution_count": 20,
     "metadata": {},
     "output_type": "execute_result"
    }
   ],
   "source": [
    "112 in tel.values()"
   ]
  },
  {
   "cell_type": "code",
   "execution_count": 21,
   "metadata": {},
   "outputs": [
    {
     "data": {
      "text/plain": [
       "dict_values"
      ]
     },
     "execution_count": 21,
     "metadata": {},
     "output_type": "execute_result"
    }
   ],
   "source": [
    "type(tel.values())"
   ]
  },
  {
   "cell_type": "code",
   "execution_count": 16,
   "metadata": {},
   "outputs": [
    {
     "data": {
      "text/plain": [
       "['__class__',\n",
       " '__delattr__',\n",
       " '__dir__',\n",
       " '__doc__',\n",
       " '__eq__',\n",
       " '__format__',\n",
       " '__ge__',\n",
       " '__getattribute__',\n",
       " '__gt__',\n",
       " '__hash__',\n",
       " '__init__',\n",
       " '__init_subclass__',\n",
       " '__iter__',\n",
       " '__le__',\n",
       " '__len__',\n",
       " '__lt__',\n",
       " '__ne__',\n",
       " '__new__',\n",
       " '__reduce__',\n",
       " '__reduce_ex__',\n",
       " '__repr__',\n",
       " '__setattr__',\n",
       " '__sizeof__',\n",
       " '__str__',\n",
       " '__subclasshook__']"
      ]
     },
     "execution_count": 16,
     "metadata": {},
     "output_type": "execute_result"
    }
   ],
   "source": [
    "dir(tel.values())"
   ]
  },
  {
   "cell_type": "code",
   "execution_count": null,
   "metadata": {},
   "outputs": [],
   "source": []
  },
  {
   "cell_type": "code",
   "execution_count": 22,
   "metadata": {},
   "outputs": [],
   "source": [
    "tel['irv'] = 4127"
   ]
  },
  {
   "cell_type": "code",
   "execution_count": 23,
   "metadata": {},
   "outputs": [
    {
     "data": {
      "text/plain": [
       "{'jack': 4098, 'guido': 4127, 'valdis': 4127, 'irv': 4127}"
      ]
     },
     "execution_count": 23,
     "metadata": {},
     "output_type": "execute_result"
    }
   ],
   "source": [
    "tel"
   ]
  },
  {
   "cell_type": "code",
   "execution_count": 24,
   "metadata": {},
   "outputs": [],
   "source": [
    "tel['jack'] = 9999"
   ]
  },
  {
   "cell_type": "code",
   "execution_count": 32,
   "metadata": {},
   "outputs": [
    {
     "name": "stdout",
     "output_type": "stream",
     "text": [
      "You already have key minipolice value 91100\n"
     ]
    }
   ],
   "source": [
    "key = 'minipolice'\n",
    "value = 91100\n",
    "if key not in tel:\n",
    "    tel[key] = value\n",
    "    print(f\"Added new key {key} value {value} pair\")\n",
    "else:\n",
    "    print(\"You already have key\", key, \"value\", tel[key])"
   ]
  },
  {
   "cell_type": "code",
   "execution_count": 33,
   "metadata": {},
   "outputs": [
    {
     "data": {
      "text/plain": [
       "['jack', 'guido', 'valdis', 'irv', 'Police', 'minipolice']"
      ]
     },
     "execution_count": 33,
     "metadata": {},
     "output_type": "execute_result"
    }
   ],
   "source": [
    "list(tel.keys())"
   ]
  },
  {
   "cell_type": "code",
   "execution_count": 34,
   "metadata": {},
   "outputs": [
    {
     "data": {
      "text/plain": [
       "[9999, 4127, 4127, 4127, 911, 91100]"
      ]
     },
     "execution_count": 34,
     "metadata": {},
     "output_type": "execute_result"
    }
   ],
   "source": [
    "list(tel.values())"
   ]
  },
  {
   "cell_type": "code",
   "execution_count": 35,
   "metadata": {},
   "outputs": [
    {
     "data": {
      "text/plain": [
       "[66, 7, 5, 1]"
      ]
     },
     "execution_count": 35,
     "metadata": {},
     "output_type": "execute_result"
    }
   ],
   "source": [
    "sorted([5,7,1,66], reverse=True)"
   ]
  },
  {
   "cell_type": "code",
   "execution_count": 36,
   "metadata": {},
   "outputs": [
    {
     "data": {
      "text/plain": [
       "dict_keys(['jack', 'guido', 'valdis', 'Police', 'minipolice'])"
      ]
     },
     "execution_count": 36,
     "metadata": {},
     "output_type": "execute_result"
    }
   ],
   "source": [
    "# delete irv key\n",
    "# add irv key with new value\n",
    "del tel['irv']\n",
    "tel.keys()"
   ]
  },
  {
   "cell_type": "code",
   "execution_count": 37,
   "metadata": {},
   "outputs": [
    {
     "data": {
      "text/plain": [
       "dict_keys(['jack', 'guido', 'valdis', 'Police', 'minipolice', 'irv'])"
      ]
     },
     "execution_count": 37,
     "metadata": {},
     "output_type": "execute_result"
    }
   ],
   "source": [
    "tel['irv'] = [333, 333,13214141]\n",
    "tel.keys()"
   ]
  },
  {
   "cell_type": "code",
   "execution_count": 38,
   "metadata": {},
   "outputs": [
    {
     "data": {
      "text/plain": [
       "{'jack': 9999,\n",
       " 'guido': 4127,\n",
       " 'valdis': 4127,\n",
       " 'Police': 911,\n",
       " 'minipolice': 91100,\n",
       " 'irv': [333, 333, 13214141]}"
      ]
     },
     "execution_count": 38,
     "metadata": {},
     "output_type": "execute_result"
    }
   ],
   "source": [
    "tel"
   ]
  },
  {
   "cell_type": "code",
   "execution_count": 39,
   "metadata": {},
   "outputs": [
    {
     "data": {
      "text/plain": [
       "6"
      ]
     },
     "execution_count": 39,
     "metadata": {},
     "output_type": "execute_result"
    }
   ],
   "source": [
    "len(tel)"
   ]
  },
  {
   "cell_type": "code",
   "execution_count": null,
   "metadata": {},
   "outputs": [],
   "source": [
    "?sorted"
   ]
  },
  {
   "cell_type": "code",
   "execution_count": 22,
   "metadata": {},
   "outputs": [
    {
     "data": {
      "text/plain": [
       "dict_keys(['jack', 'guido', 'valdis', 'irv'])"
      ]
     },
     "execution_count": 22,
     "metadata": {},
     "output_type": "execute_result"
    }
   ],
   "source": [
    "tel.keys()"
   ]
  },
  {
   "cell_type": "code",
   "execution_count": 23,
   "metadata": {},
   "outputs": [
    {
     "data": {
      "text/plain": [
       "['guido', 'irv', 'jack', 'valdis']"
      ]
     },
     "execution_count": 23,
     "metadata": {},
     "output_type": "execute_result"
    }
   ],
   "source": [
    "sorted(tel.keys())"
   ]
  },
  {
   "cell_type": "code",
   "execution_count": 24,
   "metadata": {},
   "outputs": [
    {
     "data": {
      "text/plain": [
       "True"
      ]
     },
     "execution_count": 24,
     "metadata": {},
     "output_type": "execute_result"
    }
   ],
   "source": [
    "'guido' in tel"
   ]
  },
  {
   "cell_type": "code",
   "execution_count": 25,
   "metadata": {},
   "outputs": [
    {
     "data": {
      "text/plain": [
       "False"
      ]
     },
     "execution_count": 25,
     "metadata": {},
     "output_type": "execute_result"
    }
   ],
   "source": [
    "'Valdis' in tel"
   ]
  },
  {
   "cell_type": "code",
   "execution_count": 26,
   "metadata": {},
   "outputs": [
    {
     "data": {
      "text/plain": [
       "True"
      ]
     },
     "execution_count": 26,
     "metadata": {},
     "output_type": "execute_result"
    }
   ],
   "source": [
    "'valdis' in tel"
   ]
  },
  {
   "cell_type": "code",
   "execution_count": 46,
   "metadata": {},
   "outputs": [],
   "source": [
    "t3 = dict([['a', 1],['b',2],[3, 'c'], ['3', '3c']])"
   ]
  },
  {
   "cell_type": "code",
   "execution_count": 47,
   "metadata": {},
   "outputs": [
    {
     "data": {
      "text/plain": [
       "{'a': 1, 'b': 2, 3: 'c', '3': '3c'}"
      ]
     },
     "execution_count": 47,
     "metadata": {},
     "output_type": "execute_result"
    }
   ],
   "source": [
    "t3"
   ]
  },
  {
   "cell_type": "code",
   "execution_count": 48,
   "metadata": {},
   "outputs": [
    {
     "data": {
      "text/plain": [
       "('c', '3c')"
      ]
     },
     "execution_count": 48,
     "metadata": {},
     "output_type": "execute_result"
    }
   ],
   "source": [
    "t3[3],t3['3']"
   ]
  },
  {
   "cell_type": "code",
   "execution_count": 40,
   "metadata": {
    "scrolled": true
   },
   "outputs": [
    {
     "name": "stdout",
     "output_type": "stream",
     "text": [
      "{'sape': 4139, 'guido': 4127, 'jack': 4098}\n"
     ]
    }
   ],
   "source": [
    "# alternative way of creating a dictionary using tuples ()\n",
    "t2=dict([('sape', 4139), ('guido', 4127), ('jack', 4098)])\n",
    "print(t2)"
   ]
  },
  {
   "cell_type": "code",
   "execution_count": 29,
   "metadata": {},
   "outputs": [
    {
     "data": {
      "text/plain": [
       "['Valdis', 'valdis', 'Antons', 'Anna', 'Kārlis', 'karlis']"
      ]
     },
     "execution_count": 29,
     "metadata": {},
     "output_type": "execute_result"
    }
   ],
   "source": [
    "names = ['Valdis', 'valdis', 'Antons', 'Anna', 'Kārlis', 'karlis']\n",
    "names"
   ]
  },
  {
   "cell_type": "code",
   "execution_count": null,
   "metadata": {},
   "outputs": [],
   "source": [
    "sorted(names)"
   ]
  },
  {
   "cell_type": "markdown",
   "metadata": {},
   "source": [
    "* `globals()` always returns the dictionary of the module namespace\n",
    "* `locals()` always returns a dictionary of the current namespace\n",
    "* `vars()` returns either a dictionary of the current namespace (if called with no argument) or the dictionary of the argument."
   ]
  },
  {
   "cell_type": "code",
   "execution_count": 49,
   "metadata": {},
   "outputs": [
    {
     "data": {
      "text/plain": [
       "{'__name__': '__main__',\n",
       " '__doc__': 'Automatically created module for IPython interactive environment',\n",
       " '__package__': None,\n",
       " '__loader__': None,\n",
       " '__spec__': None,\n",
       " '__builtin__': <module 'builtins' (built-in)>,\n",
       " '__builtins__': <module 'builtins' (built-in)>,\n",
       " '_ih': ['',\n",
       "  'emptyd = {}\\nlen(emptyd)',\n",
       "  'type(emptyd)',\n",
       "  \"tel = {'jack': 4098, 'sape': 4139}\\nprint(tel)\",\n",
       "  \"# add a new key-value pair\\ntel['guido'] = 4127\\nprint(tel.keys())\\nprint(tel.values())\",\n",
       "  \"# add key 'valdis' with value 4127 to our tel dictionary\\ntel['valdis'] = 4127\\ntel\",\n",
       "  \"#get value from key in dictionary\\n# very fast even in large dictionaries! O(1)\\ntel['jack']\",\n",
       "  \"tel['sape'] = 54545\",\n",
       "  \"tel['valdis']\",\n",
       "  \"tel['peteris']\",\n",
       "  \"'valdis' in tel\",\n",
       "  \"# check for key in our dictionary\\n'valdis' in tel\",\n",
       "  \"'peteris' in tel\",\n",
       "  \"key = 'valdis'\\nif key in tel:\\n    print(tel[key])\",\n",
       "  'key = \\'nevaldis\\'\\nif key in tel:\\n    print(tel[key])\\nelse:\\n    print(\"No such key\")',\n",
       "  \"# remove key value pair\\ndel tel['sape']\",\n",
       "  \"tel['sape']\",\n",
       "  \"'valdis' in tel.keys()\",\n",
       "  \"'karlis' in tel.keys()\",\n",
       "  '# this will be slower going through all the key:value pairs\\n4127 in tel.values()',\n",
       "  '112 in tel.values()',\n",
       "  'type(tel.values())',\n",
       "  \"tel['irv'] = 4127\",\n",
       "  'tel',\n",
       "  \"tel['jack'] = 9999\",\n",
       "  'key = \\'Police\\'\\nvalue = 911\\nif key not in tel:\\n    tel[key] = value\\n    print(f\"Added new key {key} value {value} pair\")\\nelse:\\n    print(\"You already have key\", key, \"value\", value)',\n",
       "  'key = \\'Police\\'\\nvalue = 91100\\nif key not in tel:\\n    tel[key] = value\\n    print(f\"Added new key {key} value {value} pair\")\\nelse:\\n    print(\"You already have key\", key, \"value\", value)',\n",
       "  'key = \\'Police\\'\\nvalue = 91100\\nif key not in tel:\\n    tel[key] = value\\n    print(f\"Added new key {key} value {value} pair\")\\nelse:\\n    print(\"You already have key\", key, \"value\", value)',\n",
       "  'key = \\'Police\\'\\nvalue = 91100\\nif key not in tel:\\n    tel[key] = value\\n    print(f\"Added new key {key} value {value} pair\")\\nelse:\\n    print(\"You already have key\", key, \"value\", tel[key])',\n",
       "  'key = \\'minipolice\\'\\nvalue = 91100\\nif key not in tel:\\n    tel[key] = value\\n    print(f\"Added new key {key} value {value} pair\")\\nelse:\\n    print(\"You already have key\", key, \"value\", tel[key])',\n",
       "  'key = \\'minipolice\\'\\nvalue = 91100\\nif key not in tel:\\n    tel[key] = value\\n    print(f\"Added new key {key} value {value} pair\")\\nelse:\\n    print(\"You already have key\", key, \"value\", tel[key])',\n",
       "  'key = \\'minipolice\\'\\nvalue = 91100\\nif key not in tel:\\n    tel[key] = value\\n    print(f\"Added new key {key} value {value} pair\")\\nelse:\\n    print(\"You already have key\", key, \"value\", tel[key])',\n",
       "  'key = \\'minipolice\\'\\nvalue = 91100\\nif key not in tel:\\n    tel[key] = value\\n    print(f\"Added new key {key} value {value} pair\")\\nelse:\\n    print(\"You already have key\", key, \"value\", tel[key])',\n",
       "  'list(tel.keys())',\n",
       "  'list(tel.values())',\n",
       "  'sorted([5,7,1,66], reverse=True)',\n",
       "  \"# delete irv key\\n# add irv key with new value\\ndel tel['irv']\\ntel.keys()\",\n",
       "  \"tel['irv'] = [333, 333,13214141]\\ntel.keys()\",\n",
       "  'tel',\n",
       "  'len(tel)',\n",
       "  \"# alternative way of creating a dictionary using tuples ()\\nt2=dict([('sape', 4139), ('guido', 4127), ('jack', 4098)])\\nprint(t2)\",\n",
       "  \"t3 = dict([['a', 1],['b',2]])\",\n",
       "  't3',\n",
       "  \"t3 = dict([['a', 1],['b',2],[3, 'c']])\",\n",
       "  't3',\n",
       "  't3[3]',\n",
       "  \"t3 = dict([['a', 1],['b',2],[3, 'c'], ['3', '3c']])\",\n",
       "  't3',\n",
       "  \"t3[3],t3['3']\",\n",
       "  'globals()'],\n",
       " '_oh': {1: 0,\n",
       "  2: dict,\n",
       "  5: {'jack': 9999,\n",
       "   'guido': 4127,\n",
       "   'valdis': 4127,\n",
       "   'Police': 911,\n",
       "   'minipolice': 91100,\n",
       "   'irv': [333, 333, 13214141]},\n",
       "  6: 4098,\n",
       "  8: 4127,\n",
       "  10: True,\n",
       "  11: True,\n",
       "  12: False,\n",
       "  17: True,\n",
       "  18: False,\n",
       "  19: True,\n",
       "  20: False,\n",
       "  21: dict_values,\n",
       "  23: {'jack': 9999,\n",
       "   'guido': 4127,\n",
       "   'valdis': 4127,\n",
       "   'Police': 911,\n",
       "   'minipolice': 91100,\n",
       "   'irv': [333, 333, 13214141]},\n",
       "  33: ['jack', 'guido', 'valdis', 'irv', 'Police', 'minipolice'],\n",
       "  34: [9999, 4127, 4127, 4127, 911, 91100],\n",
       "  35: [66, 7, 5, 1],\n",
       "  36: dict_keys(['jack', 'guido', 'valdis', 'Police', 'minipolice', 'irv']),\n",
       "  37: dict_keys(['jack', 'guido', 'valdis', 'Police', 'minipolice', 'irv']),\n",
       "  38: {'jack': 9999,\n",
       "   'guido': 4127,\n",
       "   'valdis': 4127,\n",
       "   'Police': 911,\n",
       "   'minipolice': 91100,\n",
       "   'irv': [333, 333, 13214141]},\n",
       "  39: 6,\n",
       "  42: {'a': 1, 'b': 2},\n",
       "  44: {'a': 1, 'b': 2, 3: 'c'},\n",
       "  45: 'c',\n",
       "  47: {'a': 1, 'b': 2, 3: 'c', '3': '3c'},\n",
       "  48: ('c', '3c')},\n",
       " '_dh': ['C:\\\\Users\\\\val-p1\\\\Github\\\\RCS_Data_Analysis_Python_11_2019\\\\Python_Core'],\n",
       " 'In': ['',\n",
       "  'emptyd = {}\\nlen(emptyd)',\n",
       "  'type(emptyd)',\n",
       "  \"tel = {'jack': 4098, 'sape': 4139}\\nprint(tel)\",\n",
       "  \"# add a new key-value pair\\ntel['guido'] = 4127\\nprint(tel.keys())\\nprint(tel.values())\",\n",
       "  \"# add key 'valdis' with value 4127 to our tel dictionary\\ntel['valdis'] = 4127\\ntel\",\n",
       "  \"#get value from key in dictionary\\n# very fast even in large dictionaries! O(1)\\ntel['jack']\",\n",
       "  \"tel['sape'] = 54545\",\n",
       "  \"tel['valdis']\",\n",
       "  \"tel['peteris']\",\n",
       "  \"'valdis' in tel\",\n",
       "  \"# check for key in our dictionary\\n'valdis' in tel\",\n",
       "  \"'peteris' in tel\",\n",
       "  \"key = 'valdis'\\nif key in tel:\\n    print(tel[key])\",\n",
       "  'key = \\'nevaldis\\'\\nif key in tel:\\n    print(tel[key])\\nelse:\\n    print(\"No such key\")',\n",
       "  \"# remove key value pair\\ndel tel['sape']\",\n",
       "  \"tel['sape']\",\n",
       "  \"'valdis' in tel.keys()\",\n",
       "  \"'karlis' in tel.keys()\",\n",
       "  '# this will be slower going through all the key:value pairs\\n4127 in tel.values()',\n",
       "  '112 in tel.values()',\n",
       "  'type(tel.values())',\n",
       "  \"tel['irv'] = 4127\",\n",
       "  'tel',\n",
       "  \"tel['jack'] = 9999\",\n",
       "  'key = \\'Police\\'\\nvalue = 911\\nif key not in tel:\\n    tel[key] = value\\n    print(f\"Added new key {key} value {value} pair\")\\nelse:\\n    print(\"You already have key\", key, \"value\", value)',\n",
       "  'key = \\'Police\\'\\nvalue = 91100\\nif key not in tel:\\n    tel[key] = value\\n    print(f\"Added new key {key} value {value} pair\")\\nelse:\\n    print(\"You already have key\", key, \"value\", value)',\n",
       "  'key = \\'Police\\'\\nvalue = 91100\\nif key not in tel:\\n    tel[key] = value\\n    print(f\"Added new key {key} value {value} pair\")\\nelse:\\n    print(\"You already have key\", key, \"value\", value)',\n",
       "  'key = \\'Police\\'\\nvalue = 91100\\nif key not in tel:\\n    tel[key] = value\\n    print(f\"Added new key {key} value {value} pair\")\\nelse:\\n    print(\"You already have key\", key, \"value\", tel[key])',\n",
       "  'key = \\'minipolice\\'\\nvalue = 91100\\nif key not in tel:\\n    tel[key] = value\\n    print(f\"Added new key {key} value {value} pair\")\\nelse:\\n    print(\"You already have key\", key, \"value\", tel[key])',\n",
       "  'key = \\'minipolice\\'\\nvalue = 91100\\nif key not in tel:\\n    tel[key] = value\\n    print(f\"Added new key {key} value {value} pair\")\\nelse:\\n    print(\"You already have key\", key, \"value\", tel[key])',\n",
       "  'key = \\'minipolice\\'\\nvalue = 91100\\nif key not in tel:\\n    tel[key] = value\\n    print(f\"Added new key {key} value {value} pair\")\\nelse:\\n    print(\"You already have key\", key, \"value\", tel[key])',\n",
       "  'key = \\'minipolice\\'\\nvalue = 91100\\nif key not in tel:\\n    tel[key] = value\\n    print(f\"Added new key {key} value {value} pair\")\\nelse:\\n    print(\"You already have key\", key, \"value\", tel[key])',\n",
       "  'list(tel.keys())',\n",
       "  'list(tel.values())',\n",
       "  'sorted([5,7,1,66], reverse=True)',\n",
       "  \"# delete irv key\\n# add irv key with new value\\ndel tel['irv']\\ntel.keys()\",\n",
       "  \"tel['irv'] = [333, 333,13214141]\\ntel.keys()\",\n",
       "  'tel',\n",
       "  'len(tel)',\n",
       "  \"# alternative way of creating a dictionary using tuples ()\\nt2=dict([('sape', 4139), ('guido', 4127), ('jack', 4098)])\\nprint(t2)\",\n",
       "  \"t3 = dict([['a', 1],['b',2]])\",\n",
       "  't3',\n",
       "  \"t3 = dict([['a', 1],['b',2],[3, 'c']])\",\n",
       "  't3',\n",
       "  't3[3]',\n",
       "  \"t3 = dict([['a', 1],['b',2],[3, 'c'], ['3', '3c']])\",\n",
       "  't3',\n",
       "  \"t3[3],t3['3']\",\n",
       "  'globals()'],\n",
       " 'Out': {1: 0,\n",
       "  2: dict,\n",
       "  5: {'jack': 9999,\n",
       "   'guido': 4127,\n",
       "   'valdis': 4127,\n",
       "   'Police': 911,\n",
       "   'minipolice': 91100,\n",
       "   'irv': [333, 333, 13214141]},\n",
       "  6: 4098,\n",
       "  8: 4127,\n",
       "  10: True,\n",
       "  11: True,\n",
       "  12: False,\n",
       "  17: True,\n",
       "  18: False,\n",
       "  19: True,\n",
       "  20: False,\n",
       "  21: dict_values,\n",
       "  23: {'jack': 9999,\n",
       "   'guido': 4127,\n",
       "   'valdis': 4127,\n",
       "   'Police': 911,\n",
       "   'minipolice': 91100,\n",
       "   'irv': [333, 333, 13214141]},\n",
       "  33: ['jack', 'guido', 'valdis', 'irv', 'Police', 'minipolice'],\n",
       "  34: [9999, 4127, 4127, 4127, 911, 91100],\n",
       "  35: [66, 7, 5, 1],\n",
       "  36: dict_keys(['jack', 'guido', 'valdis', 'Police', 'minipolice', 'irv']),\n",
       "  37: dict_keys(['jack', 'guido', 'valdis', 'Police', 'minipolice', 'irv']),\n",
       "  38: {'jack': 9999,\n",
       "   'guido': 4127,\n",
       "   'valdis': 4127,\n",
       "   'Police': 911,\n",
       "   'minipolice': 91100,\n",
       "   'irv': [333, 333, 13214141]},\n",
       "  39: 6,\n",
       "  42: {'a': 1, 'b': 2},\n",
       "  44: {'a': 1, 'b': 2, 3: 'c'},\n",
       "  45: 'c',\n",
       "  47: {'a': 1, 'b': 2, 3: 'c', '3': '3c'},\n",
       "  48: ('c', '3c')},\n",
       " 'get_ipython': <bound method InteractiveShell.get_ipython of <ipykernel.zmqshell.ZMQInteractiveShell object at 0x00000202659A0C18>>,\n",
       " 'exit': <IPython.core.autocall.ZMQExitAutocall at 0x202682a5fd0>,\n",
       " 'quit': <IPython.core.autocall.ZMQExitAutocall at 0x202682a5fd0>,\n",
       " '_': ('c', '3c'),\n",
       " '__': {'a': 1, 'b': 2, 3: 'c', '3': '3c'},\n",
       " '___': 'c',\n",
       " '_i': \"t3[3],t3['3']\",\n",
       " '_ii': 't3',\n",
       " '_iii': \"t3 = dict([['a', 1],['b',2],[3, 'c'], ['3', '3c']])\",\n",
       " '_i1': 'emptyd = {}\\nlen(emptyd)',\n",
       " 'emptyd': {},\n",
       " '_1': 0,\n",
       " '_i2': 'type(emptyd)',\n",
       " '_2': dict,\n",
       " '_i3': \"tel = {'jack': 4098, 'sape': 4139}\\nprint(tel)\",\n",
       " 'tel': {'jack': 9999,\n",
       "  'guido': 4127,\n",
       "  'valdis': 4127,\n",
       "  'Police': 911,\n",
       "  'minipolice': 91100,\n",
       "  'irv': [333, 333, 13214141]},\n",
       " '_i4': \"# add a new key-value pair\\ntel['guido'] = 4127\\nprint(tel.keys())\\nprint(tel.values())\",\n",
       " '_i5': \"# add key 'valdis' with value 4127 to our tel dictionary\\ntel['valdis'] = 4127\\ntel\",\n",
       " '_5': {'jack': 9999,\n",
       "  'guido': 4127,\n",
       "  'valdis': 4127,\n",
       "  'Police': 911,\n",
       "  'minipolice': 91100,\n",
       "  'irv': [333, 333, 13214141]},\n",
       " '_i6': \"#get value from key in dictionary\\n# very fast even in large dictionaries! O(1)\\ntel['jack']\",\n",
       " '_6': 4098,\n",
       " '_i7': \"tel['sape'] = 54545\",\n",
       " '_i8': \"tel['valdis']\",\n",
       " '_8': 4127,\n",
       " '_i9': \"tel['peteris']\",\n",
       " '_i10': \"'valdis' in tel\",\n",
       " '_10': True,\n",
       " '_i11': \"# check for key in our dictionary\\n'valdis' in tel\",\n",
       " '_11': True,\n",
       " '_i12': \"'peteris' in tel\",\n",
       " '_12': False,\n",
       " '_i13': \"key = 'valdis'\\nif key in tel:\\n    print(tel[key])\",\n",
       " 'key': 'minipolice',\n",
       " '_i14': 'key = \\'nevaldis\\'\\nif key in tel:\\n    print(tel[key])\\nelse:\\n    print(\"No such key\")',\n",
       " '_i15': \"# remove key value pair\\ndel tel['sape']\",\n",
       " '_i16': \"tel['sape']\",\n",
       " '_i17': \"'valdis' in tel.keys()\",\n",
       " '_17': True,\n",
       " '_i18': \"'karlis' in tel.keys()\",\n",
       " '_18': False,\n",
       " '_i19': '# this will be slower going through all the key:value pairs\\n4127 in tel.values()',\n",
       " '_19': True,\n",
       " '_i20': '112 in tel.values()',\n",
       " '_20': False,\n",
       " '_i21': 'type(tel.values())',\n",
       " '_21': dict_values,\n",
       " '_i22': \"tel['irv'] = 4127\",\n",
       " '_i23': 'tel',\n",
       " '_23': {'jack': 9999,\n",
       "  'guido': 4127,\n",
       "  'valdis': 4127,\n",
       "  'Police': 911,\n",
       "  'minipolice': 91100,\n",
       "  'irv': [333, 333, 13214141]},\n",
       " '_i24': \"tel['jack'] = 9999\",\n",
       " '_i25': 'key = \\'Police\\'\\nvalue = 911\\nif key not in tel:\\n    tel[key] = value\\n    print(f\"Added new key {key} value {value} pair\")\\nelse:\\n    print(\"You already have key\", key, \"value\", value)',\n",
       " 'value': 91100,\n",
       " '_i26': 'key = \\'Police\\'\\nvalue = 91100\\nif key not in tel:\\n    tel[key] = value\\n    print(f\"Added new key {key} value {value} pair\")\\nelse:\\n    print(\"You already have key\", key, \"value\", value)',\n",
       " '_i27': 'key = \\'Police\\'\\nvalue = 91100\\nif key not in tel:\\n    tel[key] = value\\n    print(f\"Added new key {key} value {value} pair\")\\nelse:\\n    print(\"You already have key\", key, \"value\", value)',\n",
       " '_i28': 'key = \\'Police\\'\\nvalue = 91100\\nif key not in tel:\\n    tel[key] = value\\n    print(f\"Added new key {key} value {value} pair\")\\nelse:\\n    print(\"You already have key\", key, \"value\", tel[key])',\n",
       " '_i29': 'key = \\'minipolice\\'\\nvalue = 91100\\nif key not in tel:\\n    tel[key] = value\\n    print(f\"Added new key {key} value {value} pair\")\\nelse:\\n    print(\"You already have key\", key, \"value\", tel[key])',\n",
       " '_i30': 'key = \\'minipolice\\'\\nvalue = 91100\\nif key not in tel:\\n    tel[key] = value\\n    print(f\"Added new key {key} value {value} pair\")\\nelse:\\n    print(\"You already have key\", key, \"value\", tel[key])',\n",
       " '_i31': 'key = \\'minipolice\\'\\nvalue = 91100\\nif key not in tel:\\n    tel[key] = value\\n    print(f\"Added new key {key} value {value} pair\")\\nelse:\\n    print(\"You already have key\", key, \"value\", tel[key])',\n",
       " '_i32': 'key = \\'minipolice\\'\\nvalue = 91100\\nif key not in tel:\\n    tel[key] = value\\n    print(f\"Added new key {key} value {value} pair\")\\nelse:\\n    print(\"You already have key\", key, \"value\", tel[key])',\n",
       " '_i33': 'list(tel.keys())',\n",
       " '_33': ['jack', 'guido', 'valdis', 'irv', 'Police', 'minipolice'],\n",
       " '_i34': 'list(tel.values())',\n",
       " '_34': [9999, 4127, 4127, 4127, 911, 91100],\n",
       " '_i35': 'sorted([5,7,1,66], reverse=True)',\n",
       " '_35': [66, 7, 5, 1],\n",
       " '_i36': \"# delete irv key\\n# add irv key with new value\\ndel tel['irv']\\ntel.keys()\",\n",
       " '_36': dict_keys(['jack', 'guido', 'valdis', 'Police', 'minipolice', 'irv']),\n",
       " '_i37': \"tel['irv'] = [333, 333,13214141]\\ntel.keys()\",\n",
       " '_37': dict_keys(['jack', 'guido', 'valdis', 'Police', 'minipolice', 'irv']),\n",
       " '_i38': 'tel',\n",
       " '_38': {'jack': 9999,\n",
       "  'guido': 4127,\n",
       "  'valdis': 4127,\n",
       "  'Police': 911,\n",
       "  'minipolice': 91100,\n",
       "  'irv': [333, 333, 13214141]},\n",
       " '_i39': 'len(tel)',\n",
       " '_39': 6,\n",
       " '_i40': \"# alternative way of creating a dictionary using tuples ()\\nt2=dict([('sape', 4139), ('guido', 4127), ('jack', 4098)])\\nprint(t2)\",\n",
       " 't2': {'sape': 4139, 'guido': 4127, 'jack': 4098},\n",
       " '_i41': \"t3 = dict([['a', 1],['b',2]])\",\n",
       " 't3': {'a': 1, 'b': 2, 3: 'c', '3': '3c'},\n",
       " '_i42': 't3',\n",
       " '_42': {'a': 1, 'b': 2},\n",
       " '_i43': \"t3 = dict([['a', 1],['b',2],[3, 'c']])\",\n",
       " '_i44': 't3',\n",
       " '_44': {'a': 1, 'b': 2, 3: 'c'},\n",
       " '_i45': 't3[3]',\n",
       " '_45': 'c',\n",
       " '_i46': \"t3 = dict([['a', 1],['b',2],[3, 'c'], ['3', '3c']])\",\n",
       " '_i47': 't3',\n",
       " '_47': {'a': 1, 'b': 2, 3: 'c', '3': '3c'},\n",
       " '_i48': \"t3[3],t3['3']\",\n",
       " '_48': ('c', '3c'),\n",
       " '_i49': 'globals()'}"
      ]
     },
     "execution_count": 49,
     "metadata": {},
     "output_type": "execute_result"
    }
   ],
   "source": [
    "globals()"
   ]
  },
  {
   "cell_type": "code",
   "execution_count": 31,
   "metadata": {},
   "outputs": [
    {
     "data": {
      "text/plain": [
       "False"
      ]
     },
     "execution_count": 31,
     "metadata": {},
     "output_type": "execute_result"
    }
   ],
   "source": [
    "'print(a,b)' in globals()['In']"
   ]
  },
  {
   "cell_type": "code",
   "execution_count": 50,
   "metadata": {},
   "outputs": [
    {
     "data": {
      "text/plain": [
       "dict_keys(['__name__', '__doc__', '__package__', '__loader__', '__spec__', '__builtin__', '__builtins__', '_ih', '_oh', '_dh', 'In', 'Out', 'get_ipython', 'exit', 'quit', '_', '__', '___', '_i', '_ii', '_iii', '_i1', 'emptyd', '_1', '_i2', '_2', '_i3', 'tel', '_i4', '_i5', '_5', '_i6', '_6', '_i7', '_i8', '_8', '_i9', '_i10', '_10', '_i11', '_11', '_i12', '_12', '_i13', 'key', '_i14', '_i15', '_i16', '_i17', '_17', '_i18', '_18', '_i19', '_19', '_i20', '_20', '_i21', '_21', '_i22', '_i23', '_23', '_i24', '_i25', 'value', '_i26', '_i27', '_i28', '_i29', '_i30', '_i31', '_i32', '_i33', '_33', '_i34', '_34', '_i35', '_35', '_i36', '_36', '_i37', '_37', '_i38', '_38', '_i39', '_39', '_i40', 't2', '_i41', 't3', '_i42', '_42', '_i43', '_i44', '_44', '_i45', '_45', '_i46', '_i47', '_47', '_i48', '_48', '_i49', '_49', '_i50'])"
      ]
     },
     "execution_count": 50,
     "metadata": {},
     "output_type": "execute_result"
    }
   ],
   "source": [
    "vars().keys()"
   ]
  },
  {
   "cell_type": "code",
   "execution_count": null,
   "metadata": {},
   "outputs": [],
   "source": []
  },
  {
   "cell_type": "code",
   "execution_count": 33,
   "metadata": {},
   "outputs": [
    {
     "data": {
      "text/plain": [
       "['In',\n",
       " 'Out',\n",
       " '_',\n",
       " '_1',\n",
       " '_12',\n",
       " '_13',\n",
       " '_14',\n",
       " '_15',\n",
       " '_16',\n",
       " '_18',\n",
       " '_19',\n",
       " '_2',\n",
       " '_20',\n",
       " '_21',\n",
       " '_22',\n",
       " '_23',\n",
       " '_24',\n",
       " '_25',\n",
       " '_26',\n",
       " '_29',\n",
       " '_30',\n",
       " '_31',\n",
       " '_32',\n",
       " '_4',\n",
       " '_5',\n",
       " '_6',\n",
       " '__',\n",
       " '___',\n",
       " '__builtin__',\n",
       " '__builtins__',\n",
       " '__doc__',\n",
       " '__loader__',\n",
       " '__name__',\n",
       " '__package__',\n",
       " '__spec__',\n",
       " '_dh',\n",
       " '_i',\n",
       " '_i1',\n",
       " '_i10',\n",
       " '_i11',\n",
       " '_i12',\n",
       " '_i13',\n",
       " '_i14',\n",
       " '_i15',\n",
       " '_i16',\n",
       " '_i17',\n",
       " '_i18',\n",
       " '_i19',\n",
       " '_i2',\n",
       " '_i20',\n",
       " '_i21',\n",
       " '_i22',\n",
       " '_i23',\n",
       " '_i24',\n",
       " '_i25',\n",
       " '_i26',\n",
       " '_i27',\n",
       " '_i28',\n",
       " '_i29',\n",
       " '_i3',\n",
       " '_i30',\n",
       " '_i31',\n",
       " '_i32',\n",
       " '_i33',\n",
       " '_i4',\n",
       " '_i5',\n",
       " '_i6',\n",
       " '_i7',\n",
       " '_i8',\n",
       " '_i9',\n",
       " '_ih',\n",
       " '_ii',\n",
       " '_iii',\n",
       " '_oh',\n",
       " 'emptyd',\n",
       " 'exit',\n",
       " 'get_ipython',\n",
       " 'names',\n",
       " 'quit',\n",
       " 't2',\n",
       " 'tel']"
      ]
     },
     "execution_count": 33,
     "metadata": {},
     "output_type": "execute_result"
    }
   ],
   "source": [
    "sorted(vars().keys())"
   ]
  },
  {
   "cell_type": "code",
   "execution_count": 34,
   "metadata": {},
   "outputs": [
    {
     "data": {
      "text/plain": [
       "4127"
      ]
     },
     "execution_count": 34,
     "metadata": {},
     "output_type": "execute_result"
    }
   ],
   "source": [
    "# return value of the key AND destroy the key:value\n",
    "# if key does not exist, then KeyError will appear\n",
    "tel.pop('valdis')"
   ]
  },
  {
   "cell_type": "code",
   "execution_count": 51,
   "metadata": {},
   "outputs": [
    {
     "data": {
      "text/plain": [
       "dict"
      ]
     },
     "execution_count": 51,
     "metadata": {},
     "output_type": "execute_result"
    }
   ],
   "source": [
    "type(tel)"
   ]
  },
  {
   "cell_type": "code",
   "execution_count": null,
   "metadata": {},
   "outputs": [],
   "source": [
    "tel."
   ]
  },
  {
   "cell_type": "code",
   "execution_count": 52,
   "metadata": {},
   "outputs": [
    {
     "data": {
      "text/plain": [
       "4127"
      ]
     },
     "execution_count": 52,
     "metadata": {},
     "output_type": "execute_result"
    }
   ],
   "source": [
    "# return value of the key AND destroy the key:value\n",
    "# if key does not exist, then KeyError will appear\n",
    "tel.pop('valdis')"
   ]
  },
  {
   "cell_type": "code",
   "execution_count": 54,
   "metadata": {},
   "outputs": [
    {
     "data": {
      "text/plain": [
       "4127"
      ]
     },
     "execution_count": 54,
     "metadata": {},
     "output_type": "execute_result"
    }
   ],
   "source": [
    "# this does not destroy the key:value, just returns\n",
    "tel['guido']"
   ]
  },
  {
   "cell_type": "code",
   "execution_count": 53,
   "metadata": {},
   "outputs": [
    {
     "ename": "KeyError",
     "evalue": "'valdis'",
     "output_type": "error",
     "traceback": [
      "\u001b[1;31m---------------------------------------------------------------------------\u001b[0m",
      "\u001b[1;31mKeyError\u001b[0m                                  Traceback (most recent call last)",
      "\u001b[1;32m<ipython-input-53-630cbb6bf204>\u001b[0m in \u001b[0;36m<module>\u001b[1;34m\u001b[0m\n\u001b[1;32m----> 1\u001b[1;33m \u001b[0mtel\u001b[0m\u001b[1;33m.\u001b[0m\u001b[0mpop\u001b[0m\u001b[1;33m(\u001b[0m\u001b[1;34m'valdis'\u001b[0m\u001b[1;33m)\u001b[0m\u001b[1;33m\u001b[0m\u001b[1;33m\u001b[0m\u001b[0m\n\u001b[0m",
      "\u001b[1;31mKeyError\u001b[0m: 'valdis'"
     ]
    }
   ],
   "source": [
    "tel.pop('valdis')"
   ]
  },
  {
   "cell_type": "code",
   "execution_count": 55,
   "metadata": {},
   "outputs": [
    {
     "data": {
      "text/plain": [
       "{'mylist': [1, 2, 6, 6, 'Badac'],\n",
       " 55: 165,\n",
       " 'innerd': {'a': 100, 'b': [1, 2, 6]}}"
      ]
     },
     "execution_count": 55,
     "metadata": {},
     "output_type": "execute_result"
    }
   ],
   "source": [
    "# we can store anything in dictionaries \n",
    "# including other dictionaries and lists\n",
    "mydict = {'mylist':[1,2,6,6,\"Badac\"], 55:165, 'innerd':{'a':100,'b':[1,2,6]}}\n",
    "mydict"
   ]
  },
  {
   "cell_type": "code",
   "execution_count": 56,
   "metadata": {},
   "outputs": [
    {
     "data": {
      "text/plain": [
       "{'a': 100, 'b': [1, 2, 6]}"
      ]
     },
     "execution_count": 56,
     "metadata": {},
     "output_type": "execute_result"
    }
   ],
   "source": [
    "# get 6 out of mydict\n",
    "mydict['innerd']"
   ]
  },
  {
   "cell_type": "code",
   "execution_count": 58,
   "metadata": {},
   "outputs": [
    {
     "data": {
      "text/plain": [
       "6"
      ]
     },
     "execution_count": 58,
     "metadata": {},
     "output_type": "execute_result"
    }
   ],
   "source": [
    "# get 6 out of mydict\n",
    "mydict['innerd']['b'][-1]"
   ]
  },
  {
   "cell_type": "code",
   "execution_count": null,
   "metadata": {},
   "outputs": [],
   "source": []
  },
  {
   "cell_type": "code",
   "execution_count": 59,
   "metadata": {},
   "outputs": [
    {
     "data": {
      "text/plain": [
       "dict_keys(['mylist', 55, 'innerd'])"
      ]
     },
     "execution_count": 59,
     "metadata": {},
     "output_type": "execute_result"
    }
   ],
   "source": [
    "mydict.keys()"
   ]
  },
  {
   "cell_type": "code",
   "execution_count": 60,
   "metadata": {},
   "outputs": [
    {
     "data": {
      "text/plain": [
       "165"
      ]
     },
     "execution_count": 60,
     "metadata": {},
     "output_type": "execute_result"
    }
   ],
   "source": [
    "# we can use numeric keys as well!\n",
    "mydict[55]"
   ]
  },
  {
   "cell_type": "code",
   "execution_count": 61,
   "metadata": {},
   "outputs": [],
   "source": [
    "mydict['55'] = 330"
   ]
  },
  {
   "cell_type": "code",
   "execution_count": 62,
   "metadata": {},
   "outputs": [
    {
     "data": {
      "text/plain": [
       "{'mylist': [1, 2, 6, 6, 'Badac'],\n",
       " 55: 165,\n",
       " 'innerd': {'a': 100, 'b': [1, 2, 6]},\n",
       " '55': 330}"
      ]
     },
     "execution_count": 62,
     "metadata": {},
     "output_type": "execute_result"
    }
   ],
   "source": [
    "mydict"
   ]
  },
  {
   "cell_type": "code",
   "execution_count": 63,
   "metadata": {},
   "outputs": [
    {
     "data": {
      "text/plain": [
       "[1, 2, 6, 6, 'Badac']"
      ]
     },
     "execution_count": 63,
     "metadata": {},
     "output_type": "execute_result"
    }
   ],
   "source": [
    "mlist = mydict['mylist']\n",
    "mlist"
   ]
  },
  {
   "cell_type": "code",
   "execution_count": 64,
   "metadata": {},
   "outputs": [
    {
     "data": {
      "text/plain": [
       "'Badac'"
      ]
     },
     "execution_count": 64,
     "metadata": {},
     "output_type": "execute_result"
    }
   ],
   "source": [
    "mytext = mlist[-1]\n",
    "mytext"
   ]
  },
  {
   "cell_type": "code",
   "execution_count": 65,
   "metadata": {},
   "outputs": [
    {
     "data": {
      "text/plain": [
       "'d'"
      ]
     },
     "execution_count": 65,
     "metadata": {},
     "output_type": "execute_result"
    }
   ],
   "source": [
    "mychar = mytext[-3]\n",
    "mychar"
   ]
  },
  {
   "cell_type": "code",
   "execution_count": 66,
   "metadata": {},
   "outputs": [
    {
     "data": {
      "text/plain": [
       "'d'"
      ]
     },
     "execution_count": 66,
     "metadata": {},
     "output_type": "execute_result"
    }
   ],
   "source": [
    "# get letter d\n",
    "mydict['mylist'][-1][-3]"
   ]
  },
  {
   "cell_type": "code",
   "execution_count": 68,
   "metadata": {},
   "outputs": [
    {
     "data": {
      "text/plain": [
       "'d'"
      ]
     },
     "execution_count": 68,
     "metadata": {},
     "output_type": "execute_result"
    }
   ],
   "source": [
    "# get letter d\n",
    "mydict['mylist'][-1][2]"
   ]
  },
  {
   "cell_type": "code",
   "execution_count": 67,
   "metadata": {},
   "outputs": [
    {
     "data": {
      "text/plain": [
       "{'mylist': [1, 2, 6, 6, 'Badac'],\n",
       " 55: 165,\n",
       " 'innerd': {'a': 100, 'b': [1, 2, 6]},\n",
       " '55': 330}"
      ]
     },
     "execution_count": 67,
     "metadata": {},
     "output_type": "execute_result"
    }
   ],
   "source": [
    "mydict"
   ]
  },
  {
   "cell_type": "code",
   "execution_count": 47,
   "metadata": {},
   "outputs": [
    {
     "data": {
      "text/plain": [
       "'d'"
      ]
     },
     "execution_count": 47,
     "metadata": {},
     "output_type": "execute_result"
    }
   ],
   "source": [
    "mydict['mylist'][-1][2]"
   ]
  },
  {
   "cell_type": "code",
   "execution_count": 48,
   "metadata": {},
   "outputs": [
    {
     "data": {
      "text/plain": [
       "'d'"
      ]
     },
     "execution_count": 48,
     "metadata": {},
     "output_type": "execute_result"
    }
   ],
   "source": [
    "mlist[-1][2]"
   ]
  },
  {
   "cell_type": "code",
   "execution_count": 51,
   "metadata": {},
   "outputs": [],
   "source": [
    "mydict['real55'] = mydict[55]"
   ]
  },
  {
   "cell_type": "code",
   "execution_count": 52,
   "metadata": {},
   "outputs": [],
   "source": [
    "del mydict[55]"
   ]
  },
  {
   "cell_type": "code",
   "execution_count": 53,
   "metadata": {},
   "outputs": [
    {
     "data": {
      "text/plain": [
       "{'mylist': [1, 2, 6, 6, 'Badac'],\n",
       " 'innerd': {'a': 100, 'b': [1, 2, 6]},\n",
       " '55': 330,\n",
       " 'real55': 165}"
      ]
     },
     "execution_count": 53,
     "metadata": {},
     "output_type": "execute_result"
    }
   ],
   "source": [
    "mydict"
   ]
  },
  {
   "cell_type": "code",
   "execution_count": 54,
   "metadata": {
    "scrolled": true
   },
   "outputs": [
    {
     "data": {
      "text/plain": [
       "['55', 'innerd', 'mylist', 'real55']"
      ]
     },
     "execution_count": 54,
     "metadata": {},
     "output_type": "execute_result"
    }
   ],
   "source": [
    "sorted(mydict.keys())"
   ]
  },
  {
   "cell_type": "code",
   "execution_count": 70,
   "metadata": {},
   "outputs": [],
   "source": [
    "myresult = mydict.get('Vadfadfafd')"
   ]
  },
  {
   "cell_type": "code",
   "execution_count": 71,
   "metadata": {},
   "outputs": [
    {
     "data": {
      "text/plain": [
       "NoneType"
      ]
     },
     "execution_count": 71,
     "metadata": {},
     "output_type": "execute_result"
    }
   ],
   "source": [
    "type(myresult)"
   ]
  },
  {
   "cell_type": "code",
   "execution_count": 73,
   "metadata": {},
   "outputs": [
    {
     "data": {
      "text/plain": [
       "dict_keys(['mylist', 55, 'innerd', '55'])"
      ]
     },
     "execution_count": 73,
     "metadata": {},
     "output_type": "execute_result"
    }
   ],
   "source": [
    "mydict.keys()"
   ]
  },
  {
   "cell_type": "code",
   "execution_count": 72,
   "metadata": {},
   "outputs": [
    {
     "data": {
      "text/plain": [
       "165"
      ]
     },
     "execution_count": 72,
     "metadata": {},
     "output_type": "execute_result"
    }
   ],
   "source": [
    "mydict.get(55)"
   ]
  },
  {
   "cell_type": "code",
   "execution_count": 74,
   "metadata": {},
   "outputs": [
    {
     "data": {
      "text/plain": [
       "{'a': 100, 'b': [1, 2, 6]}"
      ]
     },
     "execution_count": 74,
     "metadata": {},
     "output_type": "execute_result"
    }
   ],
   "source": [
    "mydict.get('innerd')"
   ]
  },
  {
   "cell_type": "code",
   "execution_count": 55,
   "metadata": {},
   "outputs": [
    {
     "data": {
      "text/plain": [
       "330"
      ]
     },
     "execution_count": 55,
     "metadata": {},
     "output_type": "execute_result"
    }
   ],
   "source": [
    "mydict.get('55')"
   ]
  },
  {
   "cell_type": "code",
   "execution_count": 75,
   "metadata": {},
   "outputs": [],
   "source": [
    "# we get None on nonexisting key instead of KeyError\n",
    "mydict.get('53253242452')"
   ]
  },
  {
   "cell_type": "code",
   "execution_count": 76,
   "metadata": {},
   "outputs": [
    {
     "ename": "KeyError",
     "evalue": "'53253242452'",
     "output_type": "error",
     "traceback": [
      "\u001b[1;31m---------------------------------------------------------------------------\u001b[0m",
      "\u001b[1;31mKeyError\u001b[0m                                  Traceback (most recent call last)",
      "\u001b[1;32m<ipython-input-76-7dda91fe1ff5>\u001b[0m in \u001b[0;36m<module>\u001b[1;34m\u001b[0m\n\u001b[0;32m      1\u001b[0m \u001b[1;31m# here we will get KeyError on nonexisting key\u001b[0m\u001b[1;33m\u001b[0m\u001b[1;33m\u001b[0m\u001b[1;33m\u001b[0m\u001b[0m\n\u001b[1;32m----> 2\u001b[1;33m \u001b[0mmydict\u001b[0m\u001b[1;33m[\u001b[0m\u001b[1;34m'53253242452'\u001b[0m\u001b[1;33m]\u001b[0m\u001b[1;33m\u001b[0m\u001b[1;33m\u001b[0m\u001b[0m\n\u001b[0m",
      "\u001b[1;31mKeyError\u001b[0m: '53253242452'"
     ]
    }
   ],
   "source": [
    "# here we will get KeyError on nonexisting key\n",
    "mydict['53253242452']"
   ]
  },
  {
   "cell_type": "code",
   "execution_count": 77,
   "metadata": {},
   "outputs": [
    {
     "data": {
      "text/plain": [
       "True"
      ]
     },
     "execution_count": 77,
     "metadata": {},
     "output_type": "execute_result"
    }
   ],
   "source": [
    "mydict.get(\"badkey\") == None"
   ]
  },
  {
   "cell_type": "code",
   "execution_count": 81,
   "metadata": {},
   "outputs": [
    {
     "data": {
      "text/plain": [
       "{'mylist': [1, 2, 6, 6, 'Badac'], 55: 165}"
      ]
     },
     "execution_count": 81,
     "metadata": {},
     "output_type": "execute_result"
    }
   ],
   "source": [
    "mydict"
   ]
  },
  {
   "cell_type": "code",
   "execution_count": 85,
   "metadata": {},
   "outputs": [],
   "source": [
    "# we can check if dictionary has any items without checking len(mydict)\n",
    "if mydict:\n",
    "    print(mydict)"
   ]
  },
  {
   "cell_type": "code",
   "execution_count": 86,
   "metadata": {},
   "outputs": [
    {
     "name": "stdout",
     "output_type": "stream",
     "text": [
      "{}\n"
     ]
    }
   ],
   "source": [
    "print(mydict)"
   ]
  },
  {
   "cell_type": "code",
   "execution_count": 84,
   "metadata": {},
   "outputs": [
    {
     "ename": "KeyError",
     "evalue": "'popitem(): dictionary is empty'",
     "output_type": "error",
     "traceback": [
      "\u001b[1;31m---------------------------------------------------------------------------\u001b[0m",
      "\u001b[1;31mKeyError\u001b[0m                                  Traceback (most recent call last)",
      "\u001b[1;32m<ipython-input-84-d6bf7ca8ccf1>\u001b[0m in \u001b[0;36m<module>\u001b[1;34m\u001b[0m\n\u001b[1;32m----> 1\u001b[1;33m \u001b[0mkey\u001b[0m\u001b[1;33m,\u001b[0m\u001b[0mvalue\u001b[0m \u001b[1;33m=\u001b[0m \u001b[0mmydict\u001b[0m\u001b[1;33m.\u001b[0m\u001b[0mpopitem\u001b[0m\u001b[1;33m(\u001b[0m\u001b[1;33m)\u001b[0m\u001b[1;33m\u001b[0m\u001b[1;33m\u001b[0m\u001b[0m\n\u001b[0m\u001b[0;32m      2\u001b[0m \u001b[0mkey\u001b[0m\u001b[1;33m,\u001b[0m \u001b[0mvalue\u001b[0m\u001b[1;33m\u001b[0m\u001b[1;33m\u001b[0m\u001b[0m\n",
      "\u001b[1;31mKeyError\u001b[0m: 'popitem(): dictionary is empty'"
     ]
    }
   ],
   "source": [
    "key,value = mydict.popitem()\n",
    "key, value"
   ]
  },
  {
   "cell_type": "code",
   "execution_count": 87,
   "metadata": {},
   "outputs": [
    {
     "data": {
      "text/plain": [
       "{'mykey': 'myvalue'}"
      ]
     },
     "execution_count": 87,
     "metadata": {},
     "output_type": "execute_result"
    }
   ],
   "source": [
    "mydict['mykey'] ='myvalue'\n",
    "mydict"
   ]
  },
  {
   "cell_type": "code",
   "execution_count": 88,
   "metadata": {},
   "outputs": [
    {
     "data": {
      "text/plain": [
       "{'mykey': 34342342, 'a': [1, 3, 'valdis', 5], 'anotherkey': 567}"
      ]
     },
     "execution_count": 88,
     "metadata": {},
     "output_type": "execute_result"
    }
   ],
   "source": [
    "# update for updating multiple dictionary values at once\n",
    "mydict.update({'a':[1,3,'valdis',5],'anotherkey':567, 'mykey': 34342342})\n",
    "mydict"
   ]
  },
  {
   "cell_type": "code",
   "execution_count": null,
   "metadata": {},
   "outputs": [],
   "source": []
  },
  {
   "cell_type": "code",
   "execution_count": 91,
   "metadata": {},
   "outputs": [
    {
     "data": {
      "text/plain": [
       "{'mykey': 34342342,\n",
       " 'a': [1, 3, 'valdis', 5],\n",
       " 'anotherkey': 567,\n",
       " 'b': 3333,\n",
       " 'keyb': 53543543333}"
      ]
     },
     "execution_count": 91,
     "metadata": {},
     "output_type": "execute_result"
    }
   ],
   "source": [
    "# same as\n",
    "# if not 'b' in mydict:\n",
    "#     mydict['b'] = 3333\n",
    "mydict.setdefault('keyb', 53543543333)\n",
    "mydict"
   ]
  },
  {
   "cell_type": "code",
   "execution_count": 92,
   "metadata": {},
   "outputs": [
    {
     "data": {
      "text/plain": [
       "{'mykey': 34342342,\n",
       " 'a': [1, 3, 'valdis', 5],\n",
       " 'anotherkey': 567,\n",
       " 'b': 3333,\n",
       " 'keyb': 53543543333,\n",
       " 'emptykey': None}"
      ]
     },
     "execution_count": 92,
     "metadata": {},
     "output_type": "execute_result"
    }
   ],
   "source": [
    "mydict.setdefault('emptykey')\n",
    "mydict"
   ]
  },
  {
   "cell_type": "code",
   "execution_count": 69,
   "metadata": {},
   "outputs": [
    {
     "data": {
      "text/plain": [
       "{'a': [1, 3, 'valdis', 5], 'anotherkey': 567, 'b': 3333}"
      ]
     },
     "execution_count": 69,
     "metadata": {},
     "output_type": "execute_result"
    }
   ],
   "source": [
    "# change dictionary key value pair ONLY if key does not exist\n",
    "mydict.setdefault('a', 'aaaaaaaa')\n",
    "mydict"
   ]
  },
  {
   "cell_type": "code",
   "execution_count": 70,
   "metadata": {},
   "outputs": [
    {
     "data": {
      "text/plain": [
       "{'a': 'changed a value', 'anotherkey': 567, 'b': 3333}"
      ]
     },
     "execution_count": 70,
     "metadata": {},
     "output_type": "execute_result"
    }
   ],
   "source": [
    "# here we overwite no matter what\n",
    "mydict['a'] = 'changed a value'\n",
    "mydict"
   ]
  },
  {
   "cell_type": "code",
   "execution_count": 93,
   "metadata": {},
   "outputs": [
    {
     "data": {
      "text/plain": [
       "{}"
      ]
     },
     "execution_count": 93,
     "metadata": {},
     "output_type": "execute_result"
    }
   ],
   "source": [
    "# and we clear our dictionary\n",
    "mydict.clear()\n",
    "mydict"
   ]
  },
  {
   "cell_type": "code",
   "execution_count": 94,
   "metadata": {},
   "outputs": [
    {
     "data": {
      "text/plain": [
       "dict"
      ]
     },
     "execution_count": 94,
     "metadata": {},
     "output_type": "execute_result"
    }
   ],
   "source": [
    "type(mydict)"
   ]
  },
  {
   "cell_type": "code",
   "execution_count": 95,
   "metadata": {},
   "outputs": [
    {
     "data": {
      "text/plain": [
       "int"
      ]
     },
     "execution_count": 95,
     "metadata": {},
     "output_type": "execute_result"
    }
   ],
   "source": [
    "# better not change mydict to int but you could do it\n",
    "mydict = 5\n",
    "type(mydict)"
   ]
  },
  {
   "cell_type": "code",
   "execution_count": 96,
   "metadata": {},
   "outputs": [],
   "source": [
    "import random"
   ]
  },
  {
   "cell_type": "code",
   "execution_count": 100,
   "metadata": {},
   "outputs": [
    {
     "data": {
      "text/plain": [
       "4"
      ]
     },
     "execution_count": 100,
     "metadata": {},
     "output_type": "execute_result"
    }
   ],
   "source": [
    "random.randint(1,6)"
   ]
  },
  {
   "cell_type": "code",
   "execution_count": 101,
   "metadata": {},
   "outputs": [],
   "source": []
  },
  {
   "cell_type": "code",
   "execution_count": 103,
   "metadata": {},
   "outputs": [
    {
     "data": {
      "text/plain": [
       "[6,\n",
       " 1,\n",
       " 1,\n",
       " 6,\n",
       " 3,\n",
       " 2,\n",
       " 2,\n",
       " 2,\n",
       " 6,\n",
       " 1,\n",
       " 6,\n",
       " 6,\n",
       " 5,\n",
       " 1,\n",
       " 5,\n",
       " 4,\n",
       " 1,\n",
       " 1,\n",
       " 1,\n",
       " 2,\n",
       " 2,\n",
       " 5,\n",
       " 5,\n",
       " 1,\n",
       " 5,\n",
       " 2,\n",
       " 6,\n",
       " 6,\n",
       " 6,\n",
       " 5,\n",
       " 4,\n",
       " 2,\n",
       " 4,\n",
       " 5,\n",
       " 3,\n",
       " 1,\n",
       " 2,\n",
       " 6,\n",
       " 4,\n",
       " 3,\n",
       " 3,\n",
       " 2,\n",
       " 2,\n",
       " 3,\n",
       " 1,\n",
       " 1,\n",
       " 4,\n",
       " 1,\n",
       " 3,\n",
       " 3,\n",
       " 5,\n",
       " 3,\n",
       " 1,\n",
       " 6,\n",
       " 4,\n",
       " 5,\n",
       " 1,\n",
       " 4,\n",
       " 1,\n",
       " 5,\n",
       " 3,\n",
       " 6,\n",
       " 5,\n",
       " 3,\n",
       " 5,\n",
       " 2,\n",
       " 6,\n",
       " 1,\n",
       " 1,\n",
       " 6,\n",
       " 2,\n",
       " 3,\n",
       " 1,\n",
       " 2,\n",
       " 1,\n",
       " 4,\n",
       " 3,\n",
       " 4,\n",
       " 6,\n",
       " 3,\n",
       " 2,\n",
       " 3,\n",
       " 3,\n",
       " 2,\n",
       " 6,\n",
       " 3,\n",
       " 6,\n",
       " 6,\n",
       " 6,\n",
       " 1,\n",
       " 5,\n",
       " 6,\n",
       " 2,\n",
       " 5,\n",
       " 6,\n",
       " 2,\n",
       " 2,\n",
       " 4,\n",
       " 4,\n",
       " 3]"
      ]
     },
     "execution_count": 103,
     "metadata": {},
     "output_type": "execute_result"
    }
   ],
   "source": [
    "# generate 100 random dice throws and save in myrandoms\n",
    "random.seed(42)\n",
    "# myrandoms = []\n",
    "# for _ in range(100):\n",
    "#     myrandoms.append(random.randint(1,6))\n",
    "# list comprehension same as above\n",
    "myrandoms = [random.randint(1,6) for _ in range(100)]\n",
    "myrandoms"
   ]
  },
  {
   "cell_type": "code",
   "execution_count": 105,
   "metadata": {},
   "outputs": [
    {
     "data": {
      "text/plain": [
       "{6: 20, 1: 20, 3: 17, 2: 18, 5: 14, 4: 11}"
      ]
     },
     "execution_count": 105,
     "metadata": {},
     "output_type": "execute_result"
    }
   ],
   "source": [
    "mycounter = {}\n",
    "# count how many time each digit appears in myrandoms\n",
    "# loop through all myrandoms and count\n",
    "for num in myrandoms:\n",
    "    # print(num)\n",
    "    # check key for existance\n",
    "    if num in mycounter:\n",
    "        mycounter[num] += 1 # mycounter[num] = mycounter[num]+1\n",
    "    else: \n",
    "        mycounter[num] = 1\n",
    "mycounter"
   ]
  },
  {
   "cell_type": "code",
   "execution_count": 106,
   "metadata": {},
   "outputs": [],
   "source": [
    "from collections import Counter"
   ]
  },
  {
   "cell_type": "code",
   "execution_count": 107,
   "metadata": {},
   "outputs": [
    {
     "data": {
      "text/plain": [
       "Counter({6: 20, 1: 20, 3: 17, 2: 18, 5: 14, 4: 11})"
      ]
     },
     "execution_count": 107,
     "metadata": {},
     "output_type": "execute_result"
    }
   ],
   "source": [
    "# https://docs.python.org/3/library/collections.html#collections.Counter\n",
    "pycounter = Counter(myrandoms)\n",
    "pycounter"
   ]
  },
  {
   "cell_type": "code",
   "execution_count": 108,
   "metadata": {},
   "outputs": [
    {
     "data": {
      "text/plain": [
       "collections.Counter"
      ]
     },
     "execution_count": 108,
     "metadata": {},
     "output_type": "execute_result"
    }
   ],
   "source": [
    "type(pycounter)"
   ]
  },
  {
   "cell_type": "code",
   "execution_count": 110,
   "metadata": {},
   "outputs": [
    {
     "data": {
      "text/plain": [
       "[(6, 20), (1, 20), (2, 18)]"
      ]
     },
     "execution_count": 110,
     "metadata": {},
     "output_type": "execute_result"
    }
   ],
   "source": [
    "pycounter.most_common(3)"
   ]
  },
  {
   "cell_type": "code",
   "execution_count": null,
   "metadata": {},
   "outputs": [],
   "source": []
  },
  {
   "cell_type": "code",
   "execution_count": 109,
   "metadata": {},
   "outputs": [
    {
     "data": {
      "text/plain": [
       "{6: 20, 1: 20, 3: 17, 2: 18, 5: 14, 4: 11}"
      ]
     },
     "execution_count": 109,
     "metadata": {},
     "output_type": "execute_result"
    }
   ],
   "source": [
    "dicounter = dict(pycounter)\n",
    "dicounter"
   ]
  },
  {
   "cell_type": "code",
   "execution_count": 111,
   "metadata": {},
   "outputs": [
    {
     "data": {
      "text/plain": [
       "dict"
      ]
     },
     "execution_count": 111,
     "metadata": {},
     "output_type": "execute_result"
    }
   ],
   "source": [
    "type(mycounter)"
   ]
  },
  {
   "cell_type": "code",
   "execution_count": 113,
   "metadata": {},
   "outputs": [
    {
     "name": "stdout",
     "output_type": "stream",
     "text": [
      "key 6 value 20\n",
      "key 1 value 20\n",
      "key 3 value 17\n",
      "key 2 value 18\n",
      "key 5 value 14\n",
      "key 4 value 11\n"
     ]
    }
   ],
   "source": [
    "# idiom for looping through dictionary each key - value pair\n",
    "for key, value in mycounter.items():\n",
    "    print(\"key\", key, \"value\", value)"
   ]
  }
 ],
 "metadata": {
  "kernelspec": {
   "display_name": "Python 3",
   "language": "python",
   "name": "python3"
  },
  "language_info": {
   "codemirror_mode": {
    "name": "ipython",
    "version": 3
   },
   "file_extension": ".py",
   "mimetype": "text/x-python",
   "name": "python",
   "nbconvert_exporter": "python",
   "pygments_lexer": "ipython3",
   "version": "3.7.3"
  }
 },
 "nbformat": 4,
 "nbformat_minor": 2
}
